{
  "cells": [
    {
      "cell_type": "markdown",
      "metadata": {
        "id": "view-in-github",
        "colab_type": "text"
      },
      "source": [
        "<a href=\"https://colab.research.google.com/github/DDDS18-GTFS/ddds.18.capstone/blob/dev.Andrew/ABQ_trial_RT_Static_route_anomaly_visualize_pre_cleaned_v4.ipynb\" target=\"_parent\"><img src=\"https://colab.research.google.com/assets/colab-badge.svg\" alt=\"Open In Colab\"/></a>"
      ]
    },
    {
      "cell_type": "markdown",
      "metadata": {
        "id": "x6VmDFXPlbnk"
      },
      "source": [
        "#Capture the ABQ Data"
      ]
    },
    {
      "cell_type": "code",
      "execution_count": null,
      "metadata": {
        "colab": {
          "base_uri": "https://localhost:8080/",
          "height": 1000
        },
        "id": "REj7uZMhc_mm",
        "outputId": "bf63e5cb-72c3-4039-a50c-671d8b1c41b4"
      },
      "outputs": [
        {
          "output_type": "stream",
          "name": "stdout",
          "text": [
            "🚍 Starting Albuquerque data collection (10 snapshots)...\n",
            "\n",
            "📸 Snapshot 1/10 at 21:11:10\n",
            "✅ Collected 340 vehicles\n"
          ]
        },
        {
          "output_type": "stream",
          "name": "stderr",
          "text": [
            "ERROR:root:Internal Python error in the inspect module.\n",
            "Below is the traceback from this internal error.\n",
            "\n"
          ]
        },
        {
          "output_type": "stream",
          "name": "stdout",
          "text": [
            "Traceback (most recent call last):\n",
            "  File \"/usr/local/lib/python3.11/dist-packages/IPython/core/interactiveshell.py\", line 3553, in run_code\n",
            "    exec(code_obj, self.user_global_ns, self.user_ns)\n",
            "  File \"/tmp/ipython-input-1-4081979907.py\", line 59, in <cell line: 0>\n",
            "    time.sleep(SLEEP_SECONDS)\n",
            "KeyboardInterrupt\n",
            "\n",
            "During handling of the above exception, another exception occurred:\n",
            "\n",
            "Traceback (most recent call last):\n",
            "  File \"/usr/local/lib/python3.11/dist-packages/IPython/core/interactiveshell.py\", line 2099, in showtraceback\n",
            "    stb = value._render_traceback_()\n",
            "          ^^^^^^^^^^^^^^^^^^^^^^^^\n",
            "AttributeError: 'KeyboardInterrupt' object has no attribute '_render_traceback_'\n",
            "\n",
            "During handling of the above exception, another exception occurred:\n",
            "\n",
            "Traceback (most recent call last):\n",
            "  File \"/usr/local/lib/python3.11/dist-packages/IPython/core/ultratb.py\", line 1101, in get_records\n",
            "    return _fixed_getinnerframes(etb, number_of_lines_of_context, tb_offset)\n",
            "           ^^^^^^^^^^^^^^^^^^^^^^^^^^^^^^^^^^^^^^^^^^^^^^^^^^^^^^^^^^^^^^^^^\n",
            "  File \"/usr/local/lib/python3.11/dist-packages/IPython/core/ultratb.py\", line 248, in wrapped\n",
            "    return f(*args, **kwargs)\n",
            "           ^^^^^^^^^^^^^^^^^^\n",
            "  File \"/usr/local/lib/python3.11/dist-packages/IPython/core/ultratb.py\", line 281, in _fixed_getinnerframes\n",
            "    records = fix_frame_records_filenames(inspect.getinnerframes(etb, context))\n",
            "                                          ^^^^^^^^^^^^^^^^^^^^^^^^^^^^^^^^^^^^\n",
            "  File \"/usr/lib/python3.11/inspect.py\", line 1739, in getinnerframes\n",
            "    traceback_info = getframeinfo(tb, context)\n",
            "                     ^^^^^^^^^^^^^^^^^^^^^^^^^\n",
            "  File \"/usr/lib/python3.11/inspect.py\", line 1688, in getframeinfo\n",
            "    lines, lnum = findsource(frame)\n",
            "                  ^^^^^^^^^^^^^^^^^\n",
            "  File \"/usr/local/lib/python3.11/dist-packages/IPython/core/ultratb.py\", line 182, in findsource\n",
            "    lines = linecache.getlines(file, globals_dict)\n",
            "            ^^^^^^^^^^^^^^^^^^^^^^^^^^^^^^^^^^^^^^\n",
            "  File \"/usr/lib/python3.11/linecache.py\", line 46, in getlines\n",
            "    return updatecache(filename, module_globals)\n",
            "           ^^^^^^^^^^^^^^^^^^^^^^^^^^^^^^^^^^^^^\n",
            "  File \"/usr/lib/python3.11/linecache.py\", line 137, in updatecache\n",
            "    lines = fp.readlines()\n",
            "            ^^^^^^^^^^^^^^\n",
            "  File \"<frozen codecs>\", line 319, in decode\n",
            "KeyboardInterrupt\n"
          ]
        },
        {
          "output_type": "error",
          "ename": "TypeError",
          "evalue": "object of type 'NoneType' has no len()",
          "traceback": [
            "\u001b[0;31m---------------------------------------------------------------------------\u001b[0m",
            "\u001b[0;31mKeyboardInterrupt\u001b[0m                         Traceback (most recent call last)",
            "    \u001b[0;31m[... skipping hidden 1 frame]\u001b[0m\n",
            "\u001b[0;32m/tmp/ipython-input-1-4081979907.py\u001b[0m in \u001b[0;36m<cell line: 0>\u001b[0;34m()\u001b[0m\n\u001b[1;32m     58\u001b[0m         \u001b[0;32mif\u001b[0m \u001b[0mi\u001b[0m \u001b[0;34m<\u001b[0m \u001b[0mNUM_SNAPSHOTS\u001b[0m \u001b[0;34m-\u001b[0m \u001b[0;36m1\u001b[0m\u001b[0;34m:\u001b[0m\u001b[0;34m\u001b[0m\u001b[0;34m\u001b[0m\u001b[0m\n\u001b[0;32m---> 59\u001b[0;31m             \u001b[0mtime\u001b[0m\u001b[0;34m.\u001b[0m\u001b[0msleep\u001b[0m\u001b[0;34m(\u001b[0m\u001b[0mSLEEP_SECONDS\u001b[0m\u001b[0;34m)\u001b[0m\u001b[0;34m\u001b[0m\u001b[0;34m\u001b[0m\u001b[0m\n\u001b[0m\u001b[1;32m     60\u001b[0m \u001b[0;34m\u001b[0m\u001b[0m\n",
            "\u001b[0;31mKeyboardInterrupt\u001b[0m: ",
            "\nDuring handling of the above exception, another exception occurred:\n",
            "\u001b[0;31mAttributeError\u001b[0m                            Traceback (most recent call last)",
            "\u001b[0;32m/usr/local/lib/python3.11/dist-packages/IPython/core/interactiveshell.py\u001b[0m in \u001b[0;36mshowtraceback\u001b[0;34m(self, exc_tuple, filename, tb_offset, exception_only, running_compiled_code)\u001b[0m\n\u001b[1;32m   2098\u001b[0m                         \u001b[0;31m# in the engines. This should return a list of strings.\u001b[0m\u001b[0;34m\u001b[0m\u001b[0;34m\u001b[0m\u001b[0m\n\u001b[0;32m-> 2099\u001b[0;31m                         \u001b[0mstb\u001b[0m \u001b[0;34m=\u001b[0m \u001b[0mvalue\u001b[0m\u001b[0;34m.\u001b[0m\u001b[0m_render_traceback_\u001b[0m\u001b[0;34m(\u001b[0m\u001b[0;34m)\u001b[0m\u001b[0;34m\u001b[0m\u001b[0;34m\u001b[0m\u001b[0m\n\u001b[0m\u001b[1;32m   2100\u001b[0m                     \u001b[0;32mexcept\u001b[0m \u001b[0mException\u001b[0m\u001b[0;34m:\u001b[0m\u001b[0;34m\u001b[0m\u001b[0;34m\u001b[0m\u001b[0m\n",
            "\u001b[0;31mAttributeError\u001b[0m: 'KeyboardInterrupt' object has no attribute '_render_traceback_'",
            "\nDuring handling of the above exception, another exception occurred:\n",
            "\u001b[0;31mTypeError\u001b[0m                                 Traceback (most recent call last)",
            "    \u001b[0;31m[... skipping hidden 1 frame]\u001b[0m\n",
            "\u001b[0;32m/usr/local/lib/python3.11/dist-packages/IPython/core/interactiveshell.py\u001b[0m in \u001b[0;36mshowtraceback\u001b[0;34m(self, exc_tuple, filename, tb_offset, exception_only, running_compiled_code)\u001b[0m\n\u001b[1;32m   2099\u001b[0m                         \u001b[0mstb\u001b[0m \u001b[0;34m=\u001b[0m \u001b[0mvalue\u001b[0m\u001b[0;34m.\u001b[0m\u001b[0m_render_traceback_\u001b[0m\u001b[0;34m(\u001b[0m\u001b[0;34m)\u001b[0m\u001b[0;34m\u001b[0m\u001b[0;34m\u001b[0m\u001b[0m\n\u001b[1;32m   2100\u001b[0m                     \u001b[0;32mexcept\u001b[0m \u001b[0mException\u001b[0m\u001b[0;34m:\u001b[0m\u001b[0;34m\u001b[0m\u001b[0;34m\u001b[0m\u001b[0m\n\u001b[0;32m-> 2101\u001b[0;31m                         stb = self.InteractiveTB.structured_traceback(etype,\n\u001b[0m\u001b[1;32m   2102\u001b[0m                                             value, tb, tb_offset=tb_offset)\n\u001b[1;32m   2103\u001b[0m \u001b[0;34m\u001b[0m\u001b[0m\n",
            "\u001b[0;32m/usr/local/lib/python3.11/dist-packages/IPython/core/ultratb.py\u001b[0m in \u001b[0;36mstructured_traceback\u001b[0;34m(self, etype, value, tb, tb_offset, number_of_lines_of_context)\u001b[0m\n\u001b[1;32m   1365\u001b[0m         \u001b[0;32melse\u001b[0m\u001b[0;34m:\u001b[0m\u001b[0;34m\u001b[0m\u001b[0;34m\u001b[0m\u001b[0m\n\u001b[1;32m   1366\u001b[0m             \u001b[0mself\u001b[0m\u001b[0;34m.\u001b[0m\u001b[0mtb\u001b[0m \u001b[0;34m=\u001b[0m \u001b[0mtb\u001b[0m\u001b[0;34m\u001b[0m\u001b[0;34m\u001b[0m\u001b[0m\n\u001b[0;32m-> 1367\u001b[0;31m         return FormattedTB.structured_traceback(\n\u001b[0m\u001b[1;32m   1368\u001b[0m             self, etype, value, tb, tb_offset, number_of_lines_of_context)\n\u001b[1;32m   1369\u001b[0m \u001b[0;34m\u001b[0m\u001b[0m\n",
            "\u001b[0;32m/usr/local/lib/python3.11/dist-packages/IPython/core/ultratb.py\u001b[0m in \u001b[0;36mstructured_traceback\u001b[0;34m(self, etype, value, tb, tb_offset, number_of_lines_of_context)\u001b[0m\n\u001b[1;32m   1265\u001b[0m         \u001b[0;32mif\u001b[0m \u001b[0mmode\u001b[0m \u001b[0;32min\u001b[0m \u001b[0mself\u001b[0m\u001b[0;34m.\u001b[0m\u001b[0mverbose_modes\u001b[0m\u001b[0;34m:\u001b[0m\u001b[0;34m\u001b[0m\u001b[0;34m\u001b[0m\u001b[0m\n\u001b[1;32m   1266\u001b[0m             \u001b[0;31m# Verbose modes need a full traceback\u001b[0m\u001b[0;34m\u001b[0m\u001b[0;34m\u001b[0m\u001b[0m\n\u001b[0;32m-> 1267\u001b[0;31m             return VerboseTB.structured_traceback(\n\u001b[0m\u001b[1;32m   1268\u001b[0m                 \u001b[0mself\u001b[0m\u001b[0;34m,\u001b[0m \u001b[0metype\u001b[0m\u001b[0;34m,\u001b[0m \u001b[0mvalue\u001b[0m\u001b[0;34m,\u001b[0m \u001b[0mtb\u001b[0m\u001b[0;34m,\u001b[0m \u001b[0mtb_offset\u001b[0m\u001b[0;34m,\u001b[0m \u001b[0mnumber_of_lines_of_context\u001b[0m\u001b[0;34m\u001b[0m\u001b[0;34m\u001b[0m\u001b[0m\n\u001b[1;32m   1269\u001b[0m             )\n",
            "\u001b[0;32m/usr/local/lib/python3.11/dist-packages/IPython/core/ultratb.py\u001b[0m in \u001b[0;36mstructured_traceback\u001b[0;34m(self, etype, evalue, etb, tb_offset, number_of_lines_of_context)\u001b[0m\n\u001b[1;32m   1122\u001b[0m         \u001b[0;34m\"\"\"Return a nice text document describing the traceback.\"\"\"\u001b[0m\u001b[0;34m\u001b[0m\u001b[0;34m\u001b[0m\u001b[0m\n\u001b[1;32m   1123\u001b[0m \u001b[0;34m\u001b[0m\u001b[0m\n\u001b[0;32m-> 1124\u001b[0;31m         formatted_exception = self.format_exception_as_a_whole(etype, evalue, etb, number_of_lines_of_context,\n\u001b[0m\u001b[1;32m   1125\u001b[0m                                                                tb_offset)\n\u001b[1;32m   1126\u001b[0m \u001b[0;34m\u001b[0m\u001b[0m\n",
            "\u001b[0;32m/usr/local/lib/python3.11/dist-packages/IPython/core/ultratb.py\u001b[0m in \u001b[0;36mformat_exception_as_a_whole\u001b[0;34m(self, etype, evalue, etb, number_of_lines_of_context, tb_offset)\u001b[0m\n\u001b[1;32m   1080\u001b[0m \u001b[0;34m\u001b[0m\u001b[0m\n\u001b[1;32m   1081\u001b[0m \u001b[0;34m\u001b[0m\u001b[0m\n\u001b[0;32m-> 1082\u001b[0;31m         \u001b[0mlast_unique\u001b[0m\u001b[0;34m,\u001b[0m \u001b[0mrecursion_repeat\u001b[0m \u001b[0;34m=\u001b[0m \u001b[0mfind_recursion\u001b[0m\u001b[0;34m(\u001b[0m\u001b[0morig_etype\u001b[0m\u001b[0;34m,\u001b[0m \u001b[0mevalue\u001b[0m\u001b[0;34m,\u001b[0m \u001b[0mrecords\u001b[0m\u001b[0;34m)\u001b[0m\u001b[0;34m\u001b[0m\u001b[0;34m\u001b[0m\u001b[0m\n\u001b[0m\u001b[1;32m   1083\u001b[0m \u001b[0;34m\u001b[0m\u001b[0m\n\u001b[1;32m   1084\u001b[0m         \u001b[0mframes\u001b[0m \u001b[0;34m=\u001b[0m \u001b[0mself\u001b[0m\u001b[0;34m.\u001b[0m\u001b[0mformat_records\u001b[0m\u001b[0;34m(\u001b[0m\u001b[0mrecords\u001b[0m\u001b[0;34m,\u001b[0m \u001b[0mlast_unique\u001b[0m\u001b[0;34m,\u001b[0m \u001b[0mrecursion_repeat\u001b[0m\u001b[0;34m)\u001b[0m\u001b[0;34m\u001b[0m\u001b[0;34m\u001b[0m\u001b[0m\n",
            "\u001b[0;32m/usr/local/lib/python3.11/dist-packages/IPython/core/ultratb.py\u001b[0m in \u001b[0;36mfind_recursion\u001b[0;34m(etype, value, records)\u001b[0m\n\u001b[1;32m    380\u001b[0m     \u001b[0;31m# first frame (from in to out) that looks different.\u001b[0m\u001b[0;34m\u001b[0m\u001b[0;34m\u001b[0m\u001b[0m\n\u001b[1;32m    381\u001b[0m     \u001b[0;32mif\u001b[0m \u001b[0;32mnot\u001b[0m \u001b[0mis_recursion_error\u001b[0m\u001b[0;34m(\u001b[0m\u001b[0metype\u001b[0m\u001b[0;34m,\u001b[0m \u001b[0mvalue\u001b[0m\u001b[0;34m,\u001b[0m \u001b[0mrecords\u001b[0m\u001b[0;34m)\u001b[0m\u001b[0;34m:\u001b[0m\u001b[0;34m\u001b[0m\u001b[0;34m\u001b[0m\u001b[0m\n\u001b[0;32m--> 382\u001b[0;31m         \u001b[0;32mreturn\u001b[0m \u001b[0mlen\u001b[0m\u001b[0;34m(\u001b[0m\u001b[0mrecords\u001b[0m\u001b[0;34m)\u001b[0m\u001b[0;34m,\u001b[0m \u001b[0;36m0\u001b[0m\u001b[0;34m\u001b[0m\u001b[0;34m\u001b[0m\u001b[0m\n\u001b[0m\u001b[1;32m    383\u001b[0m \u001b[0;34m\u001b[0m\u001b[0m\n\u001b[1;32m    384\u001b[0m     \u001b[0;31m# Select filename, lineno, func_name to track frames with\u001b[0m\u001b[0;34m\u001b[0m\u001b[0;34m\u001b[0m\u001b[0m\n",
            "\u001b[0;31mTypeError\u001b[0m: object of type 'NoneType' has no len()"
          ]
        }
      ],
      "source": [
        "#This Cell will capture the data to use for later analysis\n",
        "\n",
        "import requests\n",
        "import pandas as pd\n",
        "import json\n",
        "import time\n",
        "import os\n",
        "from datetime import datetime\n",
        "\n",
        "# ✅ Albuquerque RT feed URL\n",
        "GTFS_URL = \"https://data.cabq.gov/transit/realtime/route/allroutes.json\"\n",
        "\n",
        "# 🕒 Configuration\n",
        "NUM_SNAPSHOTS = 10           # Try 10 for ~5 minutes @ 30s\n",
        "SLEEP_SECONDS = 30\n",
        "RUN_TAG = datetime.now().strftime(\"%Y%m%d_%H%M\")\n",
        "OUTPUT_DIR = f\"/mnt/data/cabq_snapshots_{RUN_TAG}\"\n",
        "os.makedirs(OUTPUT_DIR, exist_ok=True)\n",
        "\n",
        "print(f\"🚍 Starting Albuquerque data collection ({NUM_SNAPSHOTS} snapshots)...\")\n",
        "\n",
        "# 📸 Define the fetch function\n",
        "def fetch_cabq_snapshot_fixed(snapshot_id):\n",
        "    url = GTFS_URL\n",
        "    response = requests.get(url)\n",
        "    data = json.loads(response.content.decode(\"iso-8859-1\"))\n",
        "    timestamp_collected = datetime.utcnow().isoformat()\n",
        "\n",
        "    records = []\n",
        "    for vehicle in data.get(\"allroutes\", []):\n",
        "        records.append({\n",
        "            \"snapshot_id\": snapshot_id,\n",
        "            \"timestamp_collected\": timestamp_collected,\n",
        "            \"vehicle_id\": vehicle.get(\"vehicle_id\"),\n",
        "            \"latitude\": vehicle.get(\"latitude\"),\n",
        "            \"longitude\": vehicle.get(\"longitude\"),\n",
        "            \"heading\": vehicle.get(\"heading\"),\n",
        "            \"speed_mph\": vehicle.get(\"speed_mph\"),\n",
        "            \"route_short_name\": vehicle.get(\"route_short_name\"),\n",
        "            \"trip_id\": vehicle.get(\"trip_id\"),\n",
        "            \"next_stop_id\": vehicle.get(\"next_stop_id\"),\n",
        "            \"next_stop_name\": vehicle.get(\"next_stop_name\"),\n",
        "            \"next_stop_sched_time\": vehicle.get(\"next_stop_sched_time\")\n",
        "        })\n",
        "\n",
        "    return pd.DataFrame(records)\n",
        "\n",
        "# 📦 Collect and store all snapshots\n",
        "all_snapshots = []\n",
        "\n",
        "for i in range(NUM_SNAPSHOTS):\n",
        "    try:\n",
        "        print(f\"\\n📸 Snapshot {i+1}/{NUM_SNAPSHOTS} at {datetime.now().strftime('%H:%M:%S')}\")\n",
        "        df_snapshot = fetch_cabq_snapshot_fixed(i + 1)\n",
        "        all_snapshots.append(df_snapshot)\n",
        "        print(f\"✅ Collected {len(df_snapshot)} vehicles\")\n",
        "\n",
        "        if i < NUM_SNAPSHOTS - 1:\n",
        "            time.sleep(SLEEP_SECONDS)\n",
        "\n",
        "    except Exception as e:\n",
        "        print(f\"❌ Error during snapshot {i+1}: {e}\")\n",
        "        continue\n",
        "\n",
        "# 🧮 Combine all snapshots\n",
        "df_all = pd.concat(all_snapshots, ignore_index=True)\n",
        "\n",
        "# 💾 Save to CSV and Parquet\n",
        "csv_path = os.path.join(OUTPUT_DIR, f\"cabq_gtfs_snapshots_{RUN_TAG}.csv\")\n",
        "parquet_path = os.path.join(OUTPUT_DIR, f\"cabq_gtfs_snapshots_{RUN_TAG}.parquet\")\n",
        "\n",
        "df_all.to_csv(csv_path, index=False)\n",
        "df_all.to_parquet(parquet_path, index=False)\n",
        "\n",
        "print(f\"\\n✅ Saved {len(df_all)} total vehicle records\")\n",
        "print(f\"📄 CSV: {csv_path}\")\n",
        "print(f\"📦 Parquet: {parquet_path}\")\n"
      ]
    },
    {
      "cell_type": "code",
      "execution_count": null,
      "metadata": {
        "id": "oCyynI5ZeMN1"
      },
      "outputs": [],
      "source": [
        "df_all.head()\n",
        "df_all['vehicle_id'].nunique()\n",
        "df_all.groupby('snapshot_id').size()\n"
      ]
    },
    {
      "cell_type": "markdown",
      "metadata": {
        "id": "upQtAKeXH36C"
      },
      "source": [
        "#Tuning the Event Info"
      ]
    },
    {
      "cell_type": "markdown",
      "metadata": {
        "id": "oSjLgRUurjcq"
      },
      "source": [
        "Some quick calculations to try to capture relevant events\n",
        "- A relevant event is being set to a greater than average distance and time between stops, with a movement from one stop to another being used as a proxy for \"relevant\"\n",
        "*******\n",
        "The average speed of Albuquerque buses based on a sampled 5-minute GTFS snapshot is approximately:\n",
        "- 6.37 km/h (kilometers per hour)\n",
        "- 3.96 mph (miles per hour)\n",
        "- These speeds are consistent with low-traffic stop-and-go urban transit patterns during short observation windows.\n",
        "******\n",
        "While the exact average distance between all bus stops in Albuquerque isn't immediately available, general guidelines and related statistics provide some insight:\n",
        "- General Spacing Recommendations: Transit and bus stop design guidelines suggest an average stop spacing of 1,300 feet for local fixed routes in areas with higher population and employment density.\n",
        "- Research Findings: Studies of bus stop spacing in the United States have found the overall mean spacing to be 313 meters, which is approximately 1027 feet. Another source mentions that buses often stop as frequently as every one or two blocks, with an average of 805 feet [245 m] between stops.\n",
        "- ABQ Specific Context: ABQ Ride is currently undergoing a network plan review to ensure transit services reflect community priorities, including balancing ridership and coverage needs.\n",
        "*******\n",
        "Average time between ABQ Ride bus stops\n",
        "- While there isn't a readily available precise average time between each individual bus stop on every route in Albuquerque, some information can help understand the general spacing and frequency of ABQ Ride buses:\n",
        "- Frequency Varies: ABQ Ride offers several types of routes including Rapid Ride (now ARTx, effectively), regular, commuter, and BRT (ART). The frequency of buses varies significantly depending on the specific route and time of day, ranging from as frequent as every 15 minutes to as infrequent as once per hour. - The City of Albuquerque (.gov) ABQ Ride Forward Network Plan indicates that route frequencies in their proposed recovery network range from 15 minutes (red routes) to 60 minutes (light blue routes).\n",
        "- ART/BRT Faster: The ART (Albuquerque Rapid Transit) system, running along Central Avenue, is known for being relatively fast and reliable.\n",
        "- Potential Delays: It's important to be aware that even with scheduled frequencies, buses can experience delays due to factors like traffic, rider numbers, and potential issues with the bus itself. Some users have reported significant delays, especially outside of peak hours or with routes that run less frequently.\n"
      ]
    },
    {
      "cell_type": "code",
      "execution_count": null,
      "metadata": {
        "id": "GBelZMehH740"
      },
      "outputs": [],
      "source": [
        "# ---------------------\n",
        "# Threshold parameters\n",
        "# ---------------------\n",
        "\n",
        "# Distance (in degrees) that counts as a GPS \"jump\" (this is greater than the average stop distance)\n",
        "JUMP_DISTANCE_THRESHOLD = 0.005  # ≈ 500 meters\n",
        "\n",
        "# Time gap (in seconds) that counts as a disappearance\n",
        "DISAPPEARANCE_TIME_THRESHOLD = 300  # 5 minutes\n",
        "\n",
        "# Only show vehicles with at least this many jumps\n",
        "MIN_JUMP_COUNT_PER_VEHICLE = 1\n",
        "\n",
        "# Number of vehicles to sample for map clarity\n",
        "NUM_VEHICLES_TO_SAMPLE = 200\n"
      ]
    },
    {
      "cell_type": "markdown",
      "metadata": {
        "id": "c2UbWQuqH-9c"
      },
      "source": [
        "##STEP 1: LOAD & PREPARE DATA"
      ]
    },
    {
      "cell_type": "code",
      "execution_count": null,
      "metadata": {
        "colab": {
          "base_uri": "https://localhost:8080/",
          "height": 365
        },
        "id": "OYWN2ArGH-Rl",
        "outputId": "891bf4bc-6486-4367-a1c4-c85e5e78e65c"
      },
      "outputs": [
        {
          "output_type": "stream",
          "name": "stdout",
          "text": [
            "✅ Loaded GTFS snapshot data\n",
            "📊 Shape: (13560, 12)\n",
            "🕒 Timestamp range: 2025-07-21 01:26:49.211366 to 2025-07-21 01:46:26.391846\n"
          ]
        },
        {
          "output_type": "execute_result",
          "data": {
            "text/plain": [
              "      snapshot_id        timestamp_collected  vehicle_id   latitude  \\\n",
              "17              1 2025-07-21 01:26:49.211366         351  35.089151   \n",
              "356             2 2025-07-21 01:27:19.385662         351  35.089151   \n",
              "695             3 2025-07-21 01:27:49.564446         351  35.089151   \n",
              "1034            4 2025-07-21 01:28:19.745104         351  35.089151   \n",
              "1372            5 2025-07-21 01:28:49.929879         351  35.089151   \n",
              "\n",
              "       longitude  heading  speed_mph route_short_name trip_id next_stop_id  \\\n",
              "17   -106.734347    313.0        0.0         Off Duty       0            0   \n",
              "356  -106.734347    313.0        0.0         Off Duty       0            0   \n",
              "695  -106.734347    313.0        0.0         Off Duty       0            0   \n",
              "1034 -106.734347    313.0        0.0         Off Duty       0            0   \n",
              "1372 -106.734347    313.0        0.0         Off Duty       0            0   \n",
              "\n",
              "     next_stop_name next_stop_sched_time  \n",
              "17          No Data             14:46:07  \n",
              "356         No Data             14:46:07  \n",
              "695         No Data             14:46:07  \n",
              "1034        No Data             14:46:07  \n",
              "1372        No Data             14:46:07  "
            ],
            "text/html": [
              "\n",
              "  <div id=\"df-8411d5df-c837-471b-8840-298a8b72d948\" class=\"colab-df-container\">\n",
              "    <div>\n",
              "<style scoped>\n",
              "    .dataframe tbody tr th:only-of-type {\n",
              "        vertical-align: middle;\n",
              "    }\n",
              "\n",
              "    .dataframe tbody tr th {\n",
              "        vertical-align: top;\n",
              "    }\n",
              "\n",
              "    .dataframe thead th {\n",
              "        text-align: right;\n",
              "    }\n",
              "</style>\n",
              "<table border=\"1\" class=\"dataframe\">\n",
              "  <thead>\n",
              "    <tr style=\"text-align: right;\">\n",
              "      <th></th>\n",
              "      <th>snapshot_id</th>\n",
              "      <th>timestamp_collected</th>\n",
              "      <th>vehicle_id</th>\n",
              "      <th>latitude</th>\n",
              "      <th>longitude</th>\n",
              "      <th>heading</th>\n",
              "      <th>speed_mph</th>\n",
              "      <th>route_short_name</th>\n",
              "      <th>trip_id</th>\n",
              "      <th>next_stop_id</th>\n",
              "      <th>next_stop_name</th>\n",
              "      <th>next_stop_sched_time</th>\n",
              "    </tr>\n",
              "  </thead>\n",
              "  <tbody>\n",
              "    <tr>\n",
              "      <th>17</th>\n",
              "      <td>1</td>\n",
              "      <td>2025-07-21 01:26:49.211366</td>\n",
              "      <td>351</td>\n",
              "      <td>35.089151</td>\n",
              "      <td>-106.734347</td>\n",
              "      <td>313.0</td>\n",
              "      <td>0.0</td>\n",
              "      <td>Off Duty</td>\n",
              "      <td>0</td>\n",
              "      <td>0</td>\n",
              "      <td>No Data</td>\n",
              "      <td>14:46:07</td>\n",
              "    </tr>\n",
              "    <tr>\n",
              "      <th>356</th>\n",
              "      <td>2</td>\n",
              "      <td>2025-07-21 01:27:19.385662</td>\n",
              "      <td>351</td>\n",
              "      <td>35.089151</td>\n",
              "      <td>-106.734347</td>\n",
              "      <td>313.0</td>\n",
              "      <td>0.0</td>\n",
              "      <td>Off Duty</td>\n",
              "      <td>0</td>\n",
              "      <td>0</td>\n",
              "      <td>No Data</td>\n",
              "      <td>14:46:07</td>\n",
              "    </tr>\n",
              "    <tr>\n",
              "      <th>695</th>\n",
              "      <td>3</td>\n",
              "      <td>2025-07-21 01:27:49.564446</td>\n",
              "      <td>351</td>\n",
              "      <td>35.089151</td>\n",
              "      <td>-106.734347</td>\n",
              "      <td>313.0</td>\n",
              "      <td>0.0</td>\n",
              "      <td>Off Duty</td>\n",
              "      <td>0</td>\n",
              "      <td>0</td>\n",
              "      <td>No Data</td>\n",
              "      <td>14:46:07</td>\n",
              "    </tr>\n",
              "    <tr>\n",
              "      <th>1034</th>\n",
              "      <td>4</td>\n",
              "      <td>2025-07-21 01:28:19.745104</td>\n",
              "      <td>351</td>\n",
              "      <td>35.089151</td>\n",
              "      <td>-106.734347</td>\n",
              "      <td>313.0</td>\n",
              "      <td>0.0</td>\n",
              "      <td>Off Duty</td>\n",
              "      <td>0</td>\n",
              "      <td>0</td>\n",
              "      <td>No Data</td>\n",
              "      <td>14:46:07</td>\n",
              "    </tr>\n",
              "    <tr>\n",
              "      <th>1372</th>\n",
              "      <td>5</td>\n",
              "      <td>2025-07-21 01:28:49.929879</td>\n",
              "      <td>351</td>\n",
              "      <td>35.089151</td>\n",
              "      <td>-106.734347</td>\n",
              "      <td>313.0</td>\n",
              "      <td>0.0</td>\n",
              "      <td>Off Duty</td>\n",
              "      <td>0</td>\n",
              "      <td>0</td>\n",
              "      <td>No Data</td>\n",
              "      <td>14:46:07</td>\n",
              "    </tr>\n",
              "  </tbody>\n",
              "</table>\n",
              "</div>\n",
              "    <div class=\"colab-df-buttons\">\n",
              "\n",
              "  <div class=\"colab-df-container\">\n",
              "    <button class=\"colab-df-convert\" onclick=\"convertToInteractive('df-8411d5df-c837-471b-8840-298a8b72d948')\"\n",
              "            title=\"Convert this dataframe to an interactive table.\"\n",
              "            style=\"display:none;\">\n",
              "\n",
              "  <svg xmlns=\"http://www.w3.org/2000/svg\" height=\"24px\" viewBox=\"0 -960 960 960\">\n",
              "    <path d=\"M120-120v-720h720v720H120Zm60-500h600v-160H180v160Zm220 220h160v-160H400v160Zm0 220h160v-160H400v160ZM180-400h160v-160H180v160Zm440 0h160v-160H620v160ZM180-180h160v-160H180v160Zm440 0h160v-160H620v160Z\"/>\n",
              "  </svg>\n",
              "    </button>\n",
              "\n",
              "  <style>\n",
              "    .colab-df-container {\n",
              "      display:flex;\n",
              "      gap: 12px;\n",
              "    }\n",
              "\n",
              "    .colab-df-convert {\n",
              "      background-color: #E8F0FE;\n",
              "      border: none;\n",
              "      border-radius: 50%;\n",
              "      cursor: pointer;\n",
              "      display: none;\n",
              "      fill: #1967D2;\n",
              "      height: 32px;\n",
              "      padding: 0 0 0 0;\n",
              "      width: 32px;\n",
              "    }\n",
              "\n",
              "    .colab-df-convert:hover {\n",
              "      background-color: #E2EBFA;\n",
              "      box-shadow: 0px 1px 2px rgba(60, 64, 67, 0.3), 0px 1px 3px 1px rgba(60, 64, 67, 0.15);\n",
              "      fill: #174EA6;\n",
              "    }\n",
              "\n",
              "    .colab-df-buttons div {\n",
              "      margin-bottom: 4px;\n",
              "    }\n",
              "\n",
              "    [theme=dark] .colab-df-convert {\n",
              "      background-color: #3B4455;\n",
              "      fill: #D2E3FC;\n",
              "    }\n",
              "\n",
              "    [theme=dark] .colab-df-convert:hover {\n",
              "      background-color: #434B5C;\n",
              "      box-shadow: 0px 1px 3px 1px rgba(0, 0, 0, 0.15);\n",
              "      filter: drop-shadow(0px 1px 2px rgba(0, 0, 0, 0.3));\n",
              "      fill: #FFFFFF;\n",
              "    }\n",
              "  </style>\n",
              "\n",
              "    <script>\n",
              "      const buttonEl =\n",
              "        document.querySelector('#df-8411d5df-c837-471b-8840-298a8b72d948 button.colab-df-convert');\n",
              "      buttonEl.style.display =\n",
              "        google.colab.kernel.accessAllowed ? 'block' : 'none';\n",
              "\n",
              "      async function convertToInteractive(key) {\n",
              "        const element = document.querySelector('#df-8411d5df-c837-471b-8840-298a8b72d948');\n",
              "        const dataTable =\n",
              "          await google.colab.kernel.invokeFunction('convertToInteractive',\n",
              "                                                    [key], {});\n",
              "        if (!dataTable) return;\n",
              "\n",
              "        const docLinkHtml = 'Like what you see? Visit the ' +\n",
              "          '<a target=\"_blank\" href=https://colab.research.google.com/notebooks/data_table.ipynb>data table notebook</a>'\n",
              "          + ' to learn more about interactive tables.';\n",
              "        element.innerHTML = '';\n",
              "        dataTable['output_type'] = 'display_data';\n",
              "        await google.colab.output.renderOutput(dataTable, element);\n",
              "        const docLink = document.createElement('div');\n",
              "        docLink.innerHTML = docLinkHtml;\n",
              "        element.appendChild(docLink);\n",
              "      }\n",
              "    </script>\n",
              "  </div>\n",
              "\n",
              "\n",
              "    <div id=\"df-109dc920-40ed-46ed-a4e6-db29b053892f\">\n",
              "      <button class=\"colab-df-quickchart\" onclick=\"quickchart('df-109dc920-40ed-46ed-a4e6-db29b053892f')\"\n",
              "                title=\"Suggest charts\"\n",
              "                style=\"display:none;\">\n",
              "\n",
              "<svg xmlns=\"http://www.w3.org/2000/svg\" height=\"24px\"viewBox=\"0 0 24 24\"\n",
              "     width=\"24px\">\n",
              "    <g>\n",
              "        <path d=\"M19 3H5c-1.1 0-2 .9-2 2v14c0 1.1.9 2 2 2h14c1.1 0 2-.9 2-2V5c0-1.1-.9-2-2-2zM9 17H7v-7h2v7zm4 0h-2V7h2v10zm4 0h-2v-4h2v4z\"/>\n",
              "    </g>\n",
              "</svg>\n",
              "      </button>\n",
              "\n",
              "<style>\n",
              "  .colab-df-quickchart {\n",
              "      --bg-color: #E8F0FE;\n",
              "      --fill-color: #1967D2;\n",
              "      --hover-bg-color: #E2EBFA;\n",
              "      --hover-fill-color: #174EA6;\n",
              "      --disabled-fill-color: #AAA;\n",
              "      --disabled-bg-color: #DDD;\n",
              "  }\n",
              "\n",
              "  [theme=dark] .colab-df-quickchart {\n",
              "      --bg-color: #3B4455;\n",
              "      --fill-color: #D2E3FC;\n",
              "      --hover-bg-color: #434B5C;\n",
              "      --hover-fill-color: #FFFFFF;\n",
              "      --disabled-bg-color: #3B4455;\n",
              "      --disabled-fill-color: #666;\n",
              "  }\n",
              "\n",
              "  .colab-df-quickchart {\n",
              "    background-color: var(--bg-color);\n",
              "    border: none;\n",
              "    border-radius: 50%;\n",
              "    cursor: pointer;\n",
              "    display: none;\n",
              "    fill: var(--fill-color);\n",
              "    height: 32px;\n",
              "    padding: 0;\n",
              "    width: 32px;\n",
              "  }\n",
              "\n",
              "  .colab-df-quickchart:hover {\n",
              "    background-color: var(--hover-bg-color);\n",
              "    box-shadow: 0 1px 2px rgba(60, 64, 67, 0.3), 0 1px 3px 1px rgba(60, 64, 67, 0.15);\n",
              "    fill: var(--button-hover-fill-color);\n",
              "  }\n",
              "\n",
              "  .colab-df-quickchart-complete:disabled,\n",
              "  .colab-df-quickchart-complete:disabled:hover {\n",
              "    background-color: var(--disabled-bg-color);\n",
              "    fill: var(--disabled-fill-color);\n",
              "    box-shadow: none;\n",
              "  }\n",
              "\n",
              "  .colab-df-spinner {\n",
              "    border: 2px solid var(--fill-color);\n",
              "    border-color: transparent;\n",
              "    border-bottom-color: var(--fill-color);\n",
              "    animation:\n",
              "      spin 1s steps(1) infinite;\n",
              "  }\n",
              "\n",
              "  @keyframes spin {\n",
              "    0% {\n",
              "      border-color: transparent;\n",
              "      border-bottom-color: var(--fill-color);\n",
              "      border-left-color: var(--fill-color);\n",
              "    }\n",
              "    20% {\n",
              "      border-color: transparent;\n",
              "      border-left-color: var(--fill-color);\n",
              "      border-top-color: var(--fill-color);\n",
              "    }\n",
              "    30% {\n",
              "      border-color: transparent;\n",
              "      border-left-color: var(--fill-color);\n",
              "      border-top-color: var(--fill-color);\n",
              "      border-right-color: var(--fill-color);\n",
              "    }\n",
              "    40% {\n",
              "      border-color: transparent;\n",
              "      border-right-color: var(--fill-color);\n",
              "      border-top-color: var(--fill-color);\n",
              "    }\n",
              "    60% {\n",
              "      border-color: transparent;\n",
              "      border-right-color: var(--fill-color);\n",
              "    }\n",
              "    80% {\n",
              "      border-color: transparent;\n",
              "      border-right-color: var(--fill-color);\n",
              "      border-bottom-color: var(--fill-color);\n",
              "    }\n",
              "    90% {\n",
              "      border-color: transparent;\n",
              "      border-bottom-color: var(--fill-color);\n",
              "    }\n",
              "  }\n",
              "</style>\n",
              "\n",
              "      <script>\n",
              "        async function quickchart(key) {\n",
              "          const quickchartButtonEl =\n",
              "            document.querySelector('#' + key + ' button');\n",
              "          quickchartButtonEl.disabled = true;  // To prevent multiple clicks.\n",
              "          quickchartButtonEl.classList.add('colab-df-spinner');\n",
              "          try {\n",
              "            const charts = await google.colab.kernel.invokeFunction(\n",
              "                'suggestCharts', [key], {});\n",
              "          } catch (error) {\n",
              "            console.error('Error during call to suggestCharts:', error);\n",
              "          }\n",
              "          quickchartButtonEl.classList.remove('colab-df-spinner');\n",
              "          quickchartButtonEl.classList.add('colab-df-quickchart-complete');\n",
              "        }\n",
              "        (() => {\n",
              "          let quickchartButtonEl =\n",
              "            document.querySelector('#df-109dc920-40ed-46ed-a4e6-db29b053892f button');\n",
              "          quickchartButtonEl.style.display =\n",
              "            google.colab.kernel.accessAllowed ? 'block' : 'none';\n",
              "        })();\n",
              "      </script>\n",
              "    </div>\n",
              "\n",
              "    </div>\n",
              "  </div>\n"
            ],
            "application/vnd.google.colaboratory.intrinsic+json": {
              "type": "dataframe",
              "variable_name": "df_all",
              "summary": "{\n  \"name\": \"df_all\",\n  \"rows\": 13560,\n  \"fields\": [\n    {\n      \"column\": \"snapshot_id\",\n      \"properties\": {\n        \"dtype\": \"number\",\n        \"std\": 11,\n        \"min\": 1,\n        \"max\": 40,\n        \"num_unique_values\": 40,\n        \"samples\": [\n          20,\n          17,\n          16\n        ],\n        \"semantic_type\": \"\",\n        \"description\": \"\"\n      }\n    },\n    {\n      \"column\": \"timestamp_collected\",\n      \"properties\": {\n        \"dtype\": \"date\",\n        \"min\": \"2025-07-21 01:26:49.211366\",\n        \"max\": \"2025-07-21 01:46:26.391846\",\n        \"num_unique_values\": 40,\n        \"samples\": [\n          \"2025-07-21 01:36:22.683291\",\n          \"2025-07-21 01:34:52.133567\",\n          \"2025-07-21 01:34:21.957865\"\n        ],\n        \"semantic_type\": \"\",\n        \"description\": \"\"\n      }\n    },\n    {\n      \"column\": \"vehicle_id\",\n      \"properties\": {\n        \"dtype\": \"number\",\n        \"std\": 840,\n        \"min\": 351,\n        \"max\": 6904,\n        \"num_unique_values\": 339,\n        \"samples\": [\n          1924,\n          728,\n          725\n        ],\n        \"semantic_type\": \"\",\n        \"description\": \"\"\n      }\n    },\n    {\n      \"column\": \"latitude\",\n      \"properties\": {\n        \"dtype\": \"number\",\n        \"std\": 1.9029997167643093,\n        \"min\": 0.0,\n        \"max\": 35.1844,\n        \"num_unique_values\": 1412,\n        \"samples\": [\n          35.0905245,\n          35.0821922,\n          35.0894873\n        ],\n        \"semantic_type\": \"\",\n        \"description\": \"\"\n      }\n    },\n    {\n      \"column\": \"longitude\",\n      \"properties\": {\n        \"dtype\": \"number\",\n        \"std\": 5.787477272144658,\n        \"min\": -106.7449342,\n        \"max\": 0.0,\n        \"num_unique_values\": 1399,\n        \"samples\": [\n          -106.7334905,\n          -106.733494,\n          -106.733271\n        ],\n        \"semantic_type\": \"\",\n        \"description\": \"\"\n      }\n    },\n    {\n      \"column\": \"heading\",\n      \"properties\": {\n        \"dtype\": \"number\",\n        \"std\": 106.33956635485289,\n        \"min\": 0.0,\n        \"max\": 359.0,\n        \"num_unique_values\": 210,\n        \"samples\": [\n          93.0,\n          177.0,\n          202.0\n        ],\n        \"semantic_type\": \"\",\n        \"description\": \"\"\n      }\n    },\n    {\n      \"column\": \"speed_mph\",\n      \"properties\": {\n        \"dtype\": \"number\",\n        \"std\": 6.861204631853262,\n        \"min\": 0.0,\n        \"max\": 69.0,\n        \"num_unique_values\": 75,\n        \"samples\": [\n          59.0,\n          56.0,\n          53.0\n        ],\n        \"semantic_type\": \"\",\n        \"description\": \"\"\n      }\n    },\n    {\n      \"column\": \"route_short_name\",\n      \"properties\": {\n        \"dtype\": \"category\",\n        \"num_unique_values\": 9,\n        \"samples\": [\n          \"766\",\n          \"66\",\n          \"31\"\n        ],\n        \"semantic_type\": \"\",\n        \"description\": \"\"\n      }\n    },\n    {\n      \"column\": \"trip_id\",\n      \"properties\": {\n        \"dtype\": \"category\",\n        \"num_unique_values\": 16,\n        \"samples\": [\n          \"0\",\n          \"603267\",\n          \"603268\"\n        ],\n        \"semantic_type\": \"\",\n        \"description\": \"\"\n      }\n    },\n    {\n      \"column\": \"next_stop_id\",\n      \"properties\": {\n        \"dtype\": \"category\",\n        \"num_unique_values\": 46,\n        \"samples\": [\n          \"704230873\",\n          \"704230848\",\n          \"704230895\"\n        ],\n        \"semantic_type\": \"\",\n        \"description\": \"\"\n      }\n    },\n    {\n      \"column\": \"next_stop_name\",\n      \"properties\": {\n        \"dtype\": \"category\",\n        \"num_unique_values\": 43,\n        \"samples\": [\n          \"ART - Barelas Station\",\n          \"ART - Downtown Station\",\n          \"ART - Main Library Station\"\n        ],\n        \"semantic_type\": \"\",\n        \"description\": \"\"\n      }\n    },\n    {\n      \"column\": \"next_stop_sched_time\",\n      \"properties\": {\n        \"dtype\": \"object\",\n        \"num_unique_values\": 683,\n        \"samples\": [\n          \"19:41:13\",\n          \"19:38:25\",\n          \"16:38:02\"\n        ],\n        \"semantic_type\": \"\",\n        \"description\": \"\"\n      }\n    }\n  ]\n}"
            }
          },
          "metadata": {},
          "execution_count": 3
        }
      ],
      "source": [
        "import pandas as pd\n",
        "import numpy as np\n",
        "from datetime import datetime\n",
        "import os\n",
        "\n",
        "# Load your dataset\n",
        "RUN_TAG = \"20250721_0126\"\n",
        "csv_path = f\"/content/cabq_gtfs_snapshots_{RUN_TAG}.csv\"\n",
        "df_all = pd.read_csv(csv_path)\n",
        "df_all[\"timestamp_collected\"] = pd.to_datetime(df_all[\"timestamp_collected\"])\n",
        "df_all.sort_values(by=[\"vehicle_id\", \"timestamp_collected\"], inplace=True)\n",
        "\n",
        "# Filter for vehicles with at least 3 data points\n",
        "vehicle_counts = df_all[\"vehicle_id\"].value_counts()\n",
        "vehicles_ok = vehicle_counts[vehicle_counts >= 3].index\n",
        "\n",
        "# Sample a manageable number of vehicles\n",
        "sample_vehicles = np.random.choice(vehicles_ok, size=NUM_VEHICLES_TO_SAMPLE, replace=False)\n",
        "df_sample = df_all[df_all[\"vehicle_id\"].isin(sample_vehicles)].copy()\n",
        "\n",
        "# 🧾 Check data\n",
        "print(\"✅ Loaded GTFS snapshot data\")\n",
        "print(\"📊 Shape:\", df_all.shape)\n",
        "print(\"🕒 Timestamp range:\", df_all['timestamp_collected'].min(), \"to\", df_all['timestamp_collected'].max())\n",
        "df_all.head()"
      ]
    },
    {
      "cell_type": "markdown",
      "metadata": {
        "id": "IP-QavMbIF92"
      },
      "source": [
        "##STEP 2: CALCULATE JUMPS & TIME GAPS"
      ]
    },
    {
      "cell_type": "code",
      "execution_count": null,
      "metadata": {
        "id": "ABR1n8VZIFkO"
      },
      "outputs": [],
      "source": [
        "# Compute diffs for position and time\n",
        "df_sample[\"lat_diff\"] = df_sample.groupby(\"vehicle_id\")[\"latitude\"].diff()\n",
        "df_sample[\"lon_diff\"] = df_sample.groupby(\"vehicle_id\")[\"longitude\"].diff()\n",
        "df_sample[\"jump_dist\"] = (df_sample[\"lat_diff\"]**2 + df_sample[\"lon_diff\"]**2)**0.5\n",
        "\n",
        "df_sample[\"time_diff\"] = df_sample.groupby(\"vehicle_id\")[\"timestamp_collected\"].diff().dt.total_seconds()\n",
        "\n",
        "# Label events\n",
        "df_sample[\"is_jump\"] = df_sample[\"jump_dist\"] > JUMP_DISTANCE_THRESHOLD\n",
        "df_sample[\"is_disappearance\"] = df_sample[\"time_diff\"] > DISAPPEARANCE_TIME_THRESHOLD\n"
      ]
    },
    {
      "cell_type": "markdown",
      "metadata": {
        "id": "LPLcR7GzIM9n"
      },
      "source": [
        "##STEP 3: FILTER & ORGANIZE ANOMALIES"
      ]
    },
    {
      "cell_type": "code",
      "execution_count": null,
      "metadata": {
        "id": "GUbzJeM_IPQe"
      },
      "outputs": [],
      "source": [
        "# Get jump rows and enrich with previous position\n",
        "jumps_df = df_sample[df_sample[\"is_jump\"]].copy()\n",
        "jumps_df[\"lat_prev\"] = df_sample.groupby(\"vehicle_id\")[\"latitude\"].shift()\n",
        "jumps_df[\"lon_prev\"] = df_sample.groupby(\"vehicle_id\")[\"longitude\"].shift()\n",
        "\n",
        "# Filter for vehicles with sufficient jumps\n",
        "jump_counts = jumps_df[\"vehicle_id\"].value_counts()\n",
        "keep_jumpers = jump_counts[jump_counts >= MIN_JUMP_COUNT_PER_VEHICLE].index\n",
        "jumps_df = jumps_df[jumps_df[\"vehicle_id\"].isin(keep_jumpers)]\n",
        "\n",
        "# Recalculate filtered set for map\n",
        "df_sample = df_sample[df_sample[\"vehicle_id\"].isin(keep_jumpers)].copy()\n",
        "\n",
        "# Disappearances and reappearances\n",
        "disappear_df = df_sample[df_sample[\"is_disappearance\"] == True].copy()\n",
        "reappear_df = df_sample[df_sample[\"is_disappearance\"].shift(-1) == True].copy()\n"
      ]
    },
    {
      "cell_type": "markdown",
      "metadata": {
        "id": "-JmUmvWSISQ8"
      },
      "source": [
        "##STEP 4: PLOT WITH FOLIUM"
      ]
    },
    {
      "cell_type": "code",
      "execution_count": null,
      "metadata": {
        "id": "IAEU3lDyIUxv"
      },
      "outputs": [],
      "source": [
        "import folium\n",
        "\n",
        "m = folium.Map(location=[35.0844, -106.6504], zoom_start=12)\n",
        "\n",
        "# -- Plot jump lines and markers --\n",
        "for _, row in jumps_df.iterrows():\n",
        "    start = [row[\"lat_prev\"], row[\"lon_prev\"]]\n",
        "    end = [row[\"latitude\"], row[\"longitude\"]]\n",
        "\n",
        "    # Line between jumps\n",
        "    folium.PolyLine(\n",
        "        locations=[start, end],\n",
        "        color=\"orange\", weight=2,\n",
        "        tooltip=f\"{row['vehicle_id']} jump\"\n",
        "    ).add_to(m)\n",
        "\n",
        "    # Start marker (blue)\n",
        "    folium.CircleMarker(\n",
        "        location=start,\n",
        "        radius=4, color=\"blue\", fill=True, fill_opacity=0.9,\n",
        "        tooltip=f\"{row['vehicle_id']}_start\"\n",
        "    ).add_to(m)\n",
        "\n",
        "    # End marker (purple)\n",
        "    folium.CircleMarker(\n",
        "        location=end,\n",
        "        radius=4, color=\"purple\", fill=True, fill_opacity=0.9,\n",
        "        tooltip=f\"{row['vehicle_id']}_end\"\n",
        "    ).add_to(m)\n",
        "\n",
        "# -- Disappearances (red X) --\n",
        "for _, row in disappear_df.iterrows():\n",
        "    folium.Marker(\n",
        "        location=[row[\"latitude\"], row[\"longitude\"]],\n",
        "        icon=folium.Icon(color=\"red\", icon=\"times-circle\", prefix=\"fa\"),\n",
        "        tooltip=f\"{row['vehicle_id']} disappeared\"\n",
        "    ).add_to(m)\n",
        "\n",
        "# -- Reappearances (green check) --\n",
        "for _, row in reappear_df.iterrows():\n",
        "    folium.Marker(\n",
        "        location=[row[\"latitude\"], row[\"longitude\"]],\n",
        "        icon=folium.Icon(color=\"green\", icon=\"check-circle\", prefix=\"fa\"),\n",
        "        tooltip=f\"{row['vehicle_id']} reappeared\"\n",
        "    ).add_to(m)\n",
        "\n",
        "m\n"
      ]
    },
    {
      "cell_type": "markdown",
      "source": [
        "#Looking at adding Static GTFS Info"
      ],
      "metadata": {
        "id": "4mm8OHjN1cOz"
      }
    },
    {
      "cell_type": "code",
      "source": [
        "import zipfile\n",
        "import pandas as pd\n",
        "\n",
        "# Path to your GTFS static ZIP\n",
        "gtfs_zip_path = \"/content/google_transit.zip\"\n",
        "\n",
        "# Extract GTFS files\n",
        "with zipfile.ZipFile(gtfs_zip_path, 'r') as zip_ref:\n",
        "    zip_ref.extractall(\"/content/gtfs_static\")\n",
        "\n",
        "# Load core GTFS tables\n",
        "routes = pd.read_csv(\"/content/gtfs_static/routes.txt\")\n",
        "trips = pd.read_csv(\"/content/gtfs_static/trips.txt\")\n",
        "stop_times = pd.read_csv(\"/content/gtfs_static/stop_times.txt\")\n",
        "stops = pd.read_csv(\"/content/gtfs_static/stops.txt\")\n",
        "calendar = pd.read_csv(\"/content/gtfs_static/calendar.txt\")\n",
        "\n",
        "# Optional: Check shapes\n",
        "for name, df in [(\"routes\", routes), (\"trips\", trips), (\"stop_times\", stop_times), (\"stops\", stops), (\"calendar\", calendar)]:\n",
        "    print(f\"{name}: {df.shape}\")\n"
      ],
      "metadata": {
        "id": "fL6ahFEZ-Voj",
        "outputId": "b4dc59cc-cca2-403c-c79f-deced8eaf7d5",
        "colab": {
          "base_uri": "https://localhost:8080/"
        }
      },
      "execution_count": null,
      "outputs": [
        {
          "output_type": "stream",
          "name": "stdout",
          "text": [
            "routes: (23, 9)\n",
            "trips: (2139, 10)\n",
            "stop_times: (100069, 10)\n",
            "stops: (1814, 12)\n",
            "calendar: (4, 10)\n"
          ]
        }
      ]
    },
    {
      "cell_type": "code",
      "source": [
        "snapshot = pd.read_csv(\"/content/cabq_gtfs_snapshots_20250721_0126.csv\")\n",
        "snapshot.head()\n"
      ],
      "metadata": {
        "id": "nt5NXbjK_Mcf",
        "outputId": "bf2dd705-18ac-42c9-f207-e0e8550c1d4d",
        "colab": {
          "base_uri": "https://localhost:8080/",
          "height": 313
        }
      },
      "execution_count": null,
      "outputs": [
        {
          "output_type": "execute_result",
          "data": {
            "text/plain": [
              "   snapshot_id         timestamp_collected  vehicle_id   latitude   longitude  \\\n",
              "0            1  2025-07-21T01:26:49.211366         610  35.147320 -106.639650   \n",
              "1            1  2025-07-21T01:26:49.211366         383  35.058513 -106.569910   \n",
              "2            1  2025-07-21T01:26:49.211366         627  35.106680 -106.550930   \n",
              "3            1  2025-07-21T01:26:49.211366         459  35.106075 -106.706482   \n",
              "4            1  2025-07-21T01:26:49.211366         961  35.089586 -106.732609   \n",
              "\n",
              "   heading  speed_mph route_short_name trip_id next_stop_id  \\\n",
              "0    186.0    9.65604               10       0            0   \n",
              "1     17.0    0.00000               16  601256         2801   \n",
              "2    178.0    0.00000               31       0            0   \n",
              "3    246.0   61.00000                5  601701         1729   \n",
              "4    294.0    0.00000               54       0            0   \n",
              "\n",
              "           next_stop_name next_stop_sched_time  \n",
              "0         4th @ Guadalupe             11:32:57  \n",
              "1      Gibson @ San Pedro             15:18:45  \n",
              "2  Wyoming @ Northeastern             13:03:07  \n",
              "3               To Garage             17:52:12  \n",
              "4         A.T.C.  (Bay L)             06:21:00  "
            ],
            "text/html": [
              "\n",
              "  <div id=\"df-50fd9db1-4137-46f3-a734-38b864048177\" class=\"colab-df-container\">\n",
              "    <div>\n",
              "<style scoped>\n",
              "    .dataframe tbody tr th:only-of-type {\n",
              "        vertical-align: middle;\n",
              "    }\n",
              "\n",
              "    .dataframe tbody tr th {\n",
              "        vertical-align: top;\n",
              "    }\n",
              "\n",
              "    .dataframe thead th {\n",
              "        text-align: right;\n",
              "    }\n",
              "</style>\n",
              "<table border=\"1\" class=\"dataframe\">\n",
              "  <thead>\n",
              "    <tr style=\"text-align: right;\">\n",
              "      <th></th>\n",
              "      <th>snapshot_id</th>\n",
              "      <th>timestamp_collected</th>\n",
              "      <th>vehicle_id</th>\n",
              "      <th>latitude</th>\n",
              "      <th>longitude</th>\n",
              "      <th>heading</th>\n",
              "      <th>speed_mph</th>\n",
              "      <th>route_short_name</th>\n",
              "      <th>trip_id</th>\n",
              "      <th>next_stop_id</th>\n",
              "      <th>next_stop_name</th>\n",
              "      <th>next_stop_sched_time</th>\n",
              "    </tr>\n",
              "  </thead>\n",
              "  <tbody>\n",
              "    <tr>\n",
              "      <th>0</th>\n",
              "      <td>1</td>\n",
              "      <td>2025-07-21T01:26:49.211366</td>\n",
              "      <td>610</td>\n",
              "      <td>35.147320</td>\n",
              "      <td>-106.639650</td>\n",
              "      <td>186.0</td>\n",
              "      <td>9.65604</td>\n",
              "      <td>10</td>\n",
              "      <td>0</td>\n",
              "      <td>0</td>\n",
              "      <td>4th @ Guadalupe</td>\n",
              "      <td>11:32:57</td>\n",
              "    </tr>\n",
              "    <tr>\n",
              "      <th>1</th>\n",
              "      <td>1</td>\n",
              "      <td>2025-07-21T01:26:49.211366</td>\n",
              "      <td>383</td>\n",
              "      <td>35.058513</td>\n",
              "      <td>-106.569910</td>\n",
              "      <td>17.0</td>\n",
              "      <td>0.00000</td>\n",
              "      <td>16</td>\n",
              "      <td>601256</td>\n",
              "      <td>2801</td>\n",
              "      <td>Gibson @ San Pedro</td>\n",
              "      <td>15:18:45</td>\n",
              "    </tr>\n",
              "    <tr>\n",
              "      <th>2</th>\n",
              "      <td>1</td>\n",
              "      <td>2025-07-21T01:26:49.211366</td>\n",
              "      <td>627</td>\n",
              "      <td>35.106680</td>\n",
              "      <td>-106.550930</td>\n",
              "      <td>178.0</td>\n",
              "      <td>0.00000</td>\n",
              "      <td>31</td>\n",
              "      <td>0</td>\n",
              "      <td>0</td>\n",
              "      <td>Wyoming @ Northeastern</td>\n",
              "      <td>13:03:07</td>\n",
              "    </tr>\n",
              "    <tr>\n",
              "      <th>3</th>\n",
              "      <td>1</td>\n",
              "      <td>2025-07-21T01:26:49.211366</td>\n",
              "      <td>459</td>\n",
              "      <td>35.106075</td>\n",
              "      <td>-106.706482</td>\n",
              "      <td>246.0</td>\n",
              "      <td>61.00000</td>\n",
              "      <td>5</td>\n",
              "      <td>601701</td>\n",
              "      <td>1729</td>\n",
              "      <td>To Garage</td>\n",
              "      <td>17:52:12</td>\n",
              "    </tr>\n",
              "    <tr>\n",
              "      <th>4</th>\n",
              "      <td>1</td>\n",
              "      <td>2025-07-21T01:26:49.211366</td>\n",
              "      <td>961</td>\n",
              "      <td>35.089586</td>\n",
              "      <td>-106.732609</td>\n",
              "      <td>294.0</td>\n",
              "      <td>0.00000</td>\n",
              "      <td>54</td>\n",
              "      <td>0</td>\n",
              "      <td>0</td>\n",
              "      <td>A.T.C.  (Bay L)</td>\n",
              "      <td>06:21:00</td>\n",
              "    </tr>\n",
              "  </tbody>\n",
              "</table>\n",
              "</div>\n",
              "    <div class=\"colab-df-buttons\">\n",
              "\n",
              "  <div class=\"colab-df-container\">\n",
              "    <button class=\"colab-df-convert\" onclick=\"convertToInteractive('df-50fd9db1-4137-46f3-a734-38b864048177')\"\n",
              "            title=\"Convert this dataframe to an interactive table.\"\n",
              "            style=\"display:none;\">\n",
              "\n",
              "  <svg xmlns=\"http://www.w3.org/2000/svg\" height=\"24px\" viewBox=\"0 -960 960 960\">\n",
              "    <path d=\"M120-120v-720h720v720H120Zm60-500h600v-160H180v160Zm220 220h160v-160H400v160Zm0 220h160v-160H400v160ZM180-400h160v-160H180v160Zm440 0h160v-160H620v160ZM180-180h160v-160H180v160Zm440 0h160v-160H620v160Z\"/>\n",
              "  </svg>\n",
              "    </button>\n",
              "\n",
              "  <style>\n",
              "    .colab-df-container {\n",
              "      display:flex;\n",
              "      gap: 12px;\n",
              "    }\n",
              "\n",
              "    .colab-df-convert {\n",
              "      background-color: #E8F0FE;\n",
              "      border: none;\n",
              "      border-radius: 50%;\n",
              "      cursor: pointer;\n",
              "      display: none;\n",
              "      fill: #1967D2;\n",
              "      height: 32px;\n",
              "      padding: 0 0 0 0;\n",
              "      width: 32px;\n",
              "    }\n",
              "\n",
              "    .colab-df-convert:hover {\n",
              "      background-color: #E2EBFA;\n",
              "      box-shadow: 0px 1px 2px rgba(60, 64, 67, 0.3), 0px 1px 3px 1px rgba(60, 64, 67, 0.15);\n",
              "      fill: #174EA6;\n",
              "    }\n",
              "\n",
              "    .colab-df-buttons div {\n",
              "      margin-bottom: 4px;\n",
              "    }\n",
              "\n",
              "    [theme=dark] .colab-df-convert {\n",
              "      background-color: #3B4455;\n",
              "      fill: #D2E3FC;\n",
              "    }\n",
              "\n",
              "    [theme=dark] .colab-df-convert:hover {\n",
              "      background-color: #434B5C;\n",
              "      box-shadow: 0px 1px 3px 1px rgba(0, 0, 0, 0.15);\n",
              "      filter: drop-shadow(0px 1px 2px rgba(0, 0, 0, 0.3));\n",
              "      fill: #FFFFFF;\n",
              "    }\n",
              "  </style>\n",
              "\n",
              "    <script>\n",
              "      const buttonEl =\n",
              "        document.querySelector('#df-50fd9db1-4137-46f3-a734-38b864048177 button.colab-df-convert');\n",
              "      buttonEl.style.display =\n",
              "        google.colab.kernel.accessAllowed ? 'block' : 'none';\n",
              "\n",
              "      async function convertToInteractive(key) {\n",
              "        const element = document.querySelector('#df-50fd9db1-4137-46f3-a734-38b864048177');\n",
              "        const dataTable =\n",
              "          await google.colab.kernel.invokeFunction('convertToInteractive',\n",
              "                                                    [key], {});\n",
              "        if (!dataTable) return;\n",
              "\n",
              "        const docLinkHtml = 'Like what you see? Visit the ' +\n",
              "          '<a target=\"_blank\" href=https://colab.research.google.com/notebooks/data_table.ipynb>data table notebook</a>'\n",
              "          + ' to learn more about interactive tables.';\n",
              "        element.innerHTML = '';\n",
              "        dataTable['output_type'] = 'display_data';\n",
              "        await google.colab.output.renderOutput(dataTable, element);\n",
              "        const docLink = document.createElement('div');\n",
              "        docLink.innerHTML = docLinkHtml;\n",
              "        element.appendChild(docLink);\n",
              "      }\n",
              "    </script>\n",
              "  </div>\n",
              "\n",
              "\n",
              "    <div id=\"df-2ed4fc0e-6faf-4375-b203-7aa5f6d573b3\">\n",
              "      <button class=\"colab-df-quickchart\" onclick=\"quickchart('df-2ed4fc0e-6faf-4375-b203-7aa5f6d573b3')\"\n",
              "                title=\"Suggest charts\"\n",
              "                style=\"display:none;\">\n",
              "\n",
              "<svg xmlns=\"http://www.w3.org/2000/svg\" height=\"24px\"viewBox=\"0 0 24 24\"\n",
              "     width=\"24px\">\n",
              "    <g>\n",
              "        <path d=\"M19 3H5c-1.1 0-2 .9-2 2v14c0 1.1.9 2 2 2h14c1.1 0 2-.9 2-2V5c0-1.1-.9-2-2-2zM9 17H7v-7h2v7zm4 0h-2V7h2v10zm4 0h-2v-4h2v4z\"/>\n",
              "    </g>\n",
              "</svg>\n",
              "      </button>\n",
              "\n",
              "<style>\n",
              "  .colab-df-quickchart {\n",
              "      --bg-color: #E8F0FE;\n",
              "      --fill-color: #1967D2;\n",
              "      --hover-bg-color: #E2EBFA;\n",
              "      --hover-fill-color: #174EA6;\n",
              "      --disabled-fill-color: #AAA;\n",
              "      --disabled-bg-color: #DDD;\n",
              "  }\n",
              "\n",
              "  [theme=dark] .colab-df-quickchart {\n",
              "      --bg-color: #3B4455;\n",
              "      --fill-color: #D2E3FC;\n",
              "      --hover-bg-color: #434B5C;\n",
              "      --hover-fill-color: #FFFFFF;\n",
              "      --disabled-bg-color: #3B4455;\n",
              "      --disabled-fill-color: #666;\n",
              "  }\n",
              "\n",
              "  .colab-df-quickchart {\n",
              "    background-color: var(--bg-color);\n",
              "    border: none;\n",
              "    border-radius: 50%;\n",
              "    cursor: pointer;\n",
              "    display: none;\n",
              "    fill: var(--fill-color);\n",
              "    height: 32px;\n",
              "    padding: 0;\n",
              "    width: 32px;\n",
              "  }\n",
              "\n",
              "  .colab-df-quickchart:hover {\n",
              "    background-color: var(--hover-bg-color);\n",
              "    box-shadow: 0 1px 2px rgba(60, 64, 67, 0.3), 0 1px 3px 1px rgba(60, 64, 67, 0.15);\n",
              "    fill: var(--button-hover-fill-color);\n",
              "  }\n",
              "\n",
              "  .colab-df-quickchart-complete:disabled,\n",
              "  .colab-df-quickchart-complete:disabled:hover {\n",
              "    background-color: var(--disabled-bg-color);\n",
              "    fill: var(--disabled-fill-color);\n",
              "    box-shadow: none;\n",
              "  }\n",
              "\n",
              "  .colab-df-spinner {\n",
              "    border: 2px solid var(--fill-color);\n",
              "    border-color: transparent;\n",
              "    border-bottom-color: var(--fill-color);\n",
              "    animation:\n",
              "      spin 1s steps(1) infinite;\n",
              "  }\n",
              "\n",
              "  @keyframes spin {\n",
              "    0% {\n",
              "      border-color: transparent;\n",
              "      border-bottom-color: var(--fill-color);\n",
              "      border-left-color: var(--fill-color);\n",
              "    }\n",
              "    20% {\n",
              "      border-color: transparent;\n",
              "      border-left-color: var(--fill-color);\n",
              "      border-top-color: var(--fill-color);\n",
              "    }\n",
              "    30% {\n",
              "      border-color: transparent;\n",
              "      border-left-color: var(--fill-color);\n",
              "      border-top-color: var(--fill-color);\n",
              "      border-right-color: var(--fill-color);\n",
              "    }\n",
              "    40% {\n",
              "      border-color: transparent;\n",
              "      border-right-color: var(--fill-color);\n",
              "      border-top-color: var(--fill-color);\n",
              "    }\n",
              "    60% {\n",
              "      border-color: transparent;\n",
              "      border-right-color: var(--fill-color);\n",
              "    }\n",
              "    80% {\n",
              "      border-color: transparent;\n",
              "      border-right-color: var(--fill-color);\n",
              "      border-bottom-color: var(--fill-color);\n",
              "    }\n",
              "    90% {\n",
              "      border-color: transparent;\n",
              "      border-bottom-color: var(--fill-color);\n",
              "    }\n",
              "  }\n",
              "</style>\n",
              "\n",
              "      <script>\n",
              "        async function quickchart(key) {\n",
              "          const quickchartButtonEl =\n",
              "            document.querySelector('#' + key + ' button');\n",
              "          quickchartButtonEl.disabled = true;  // To prevent multiple clicks.\n",
              "          quickchartButtonEl.classList.add('colab-df-spinner');\n",
              "          try {\n",
              "            const charts = await google.colab.kernel.invokeFunction(\n",
              "                'suggestCharts', [key], {});\n",
              "          } catch (error) {\n",
              "            console.error('Error during call to suggestCharts:', error);\n",
              "          }\n",
              "          quickchartButtonEl.classList.remove('colab-df-spinner');\n",
              "          quickchartButtonEl.classList.add('colab-df-quickchart-complete');\n",
              "        }\n",
              "        (() => {\n",
              "          let quickchartButtonEl =\n",
              "            document.querySelector('#df-2ed4fc0e-6faf-4375-b203-7aa5f6d573b3 button');\n",
              "          quickchartButtonEl.style.display =\n",
              "            google.colab.kernel.accessAllowed ? 'block' : 'none';\n",
              "        })();\n",
              "      </script>\n",
              "    </div>\n",
              "\n",
              "    </div>\n",
              "  </div>\n"
            ],
            "application/vnd.google.colaboratory.intrinsic+json": {
              "type": "dataframe",
              "variable_name": "snapshot",
              "summary": "{\n  \"name\": \"snapshot\",\n  \"rows\": 13560,\n  \"fields\": [\n    {\n      \"column\": \"snapshot_id\",\n      \"properties\": {\n        \"dtype\": \"number\",\n        \"std\": 11,\n        \"min\": 1,\n        \"max\": 40,\n        \"num_unique_values\": 40,\n        \"samples\": [\n          20,\n          17,\n          16\n        ],\n        \"semantic_type\": \"\",\n        \"description\": \"\"\n      }\n    },\n    {\n      \"column\": \"timestamp_collected\",\n      \"properties\": {\n        \"dtype\": \"object\",\n        \"num_unique_values\": 40,\n        \"samples\": [\n          \"2025-07-21T01:36:22.683291\",\n          \"2025-07-21T01:34:52.133567\",\n          \"2025-07-21T01:34:21.957865\"\n        ],\n        \"semantic_type\": \"\",\n        \"description\": \"\"\n      }\n    },\n    {\n      \"column\": \"vehicle_id\",\n      \"properties\": {\n        \"dtype\": \"number\",\n        \"std\": 840,\n        \"min\": 351,\n        \"max\": 6904,\n        \"num_unique_values\": 339,\n        \"samples\": [\n          2321,\n          735,\n          732\n        ],\n        \"semantic_type\": \"\",\n        \"description\": \"\"\n      }\n    },\n    {\n      \"column\": \"latitude\",\n      \"properties\": {\n        \"dtype\": \"number\",\n        \"std\": 1.902999716764324,\n        \"min\": 0.0,\n        \"max\": 35.1844,\n        \"num_unique_values\": 1412,\n        \"samples\": [\n          35.088958,\n          35.105898,\n          35.0895212\n        ],\n        \"semantic_type\": \"\",\n        \"description\": \"\"\n      }\n    },\n    {\n      \"column\": \"longitude\",\n      \"properties\": {\n        \"dtype\": \"number\",\n        \"std\": 5.787477272144628,\n        \"min\": -106.7449342,\n        \"max\": 0.0,\n        \"num_unique_values\": 1399,\n        \"samples\": [\n          -106.6392138,\n          -106.7333385,\n          -106.7326875\n        ],\n        \"semantic_type\": \"\",\n        \"description\": \"\"\n      }\n    },\n    {\n      \"column\": \"heading\",\n      \"properties\": {\n        \"dtype\": \"number\",\n        \"std\": 106.33956635485289,\n        \"min\": 0.0,\n        \"max\": 359.0,\n        \"num_unique_values\": 210,\n        \"samples\": [\n          229.0,\n          275.0,\n          271.0\n        ],\n        \"semantic_type\": \"\",\n        \"description\": \"\"\n      }\n    },\n    {\n      \"column\": \"speed_mph\",\n      \"properties\": {\n        \"dtype\": \"number\",\n        \"std\": 6.86120463185314,\n        \"min\": 0.0,\n        \"max\": 69.0,\n        \"num_unique_values\": 75,\n        \"samples\": [\n          19.0,\n          17.0,\n          59.0\n        ],\n        \"semantic_type\": \"\",\n        \"description\": \"\"\n      }\n    },\n    {\n      \"column\": \"route_short_name\",\n      \"properties\": {\n        \"dtype\": \"category\",\n        \"num_unique_values\": 9,\n        \"samples\": [\n          \"777\",\n          \"16\",\n          \"66\"\n        ],\n        \"semantic_type\": \"\",\n        \"description\": \"\"\n      }\n    },\n    {\n      \"column\": \"trip_id\",\n      \"properties\": {\n        \"dtype\": \"category\",\n        \"num_unique_values\": 16,\n        \"samples\": [\n          \"0\",\n          \"601256\",\n          \"603231\"\n        ],\n        \"semantic_type\": \"\",\n        \"description\": \"\"\n      }\n    },\n    {\n      \"column\": \"next_stop_id\",\n      \"properties\": {\n        \"dtype\": \"category\",\n        \"num_unique_values\": 46,\n        \"samples\": [\n          \"4539\",\n          \"4521\",\n          \"704230901\"\n        ],\n        \"semantic_type\": \"\",\n        \"description\": \"\"\n      }\n    },\n    {\n      \"column\": \"next_stop_name\",\n      \"properties\": {\n        \"dtype\": \"category\",\n        \"num_unique_values\": 43,\n        \"samples\": [\n          \"ART - Alvarado Transportation Center\",\n          \"ART - UNM / CNM Station\",\n          \"ART - Nob Hill East Station\"\n        ],\n        \"semantic_type\": \"\",\n        \"description\": \"\"\n      }\n    },\n    {\n      \"column\": \"next_stop_sched_time\",\n      \"properties\": {\n        \"dtype\": \"object\",\n        \"num_unique_values\": 683,\n        \"samples\": [\n          \"19:50:14\",\n          \"18:31:35\",\n          \"17:48:44\"\n        ],\n        \"semantic_type\": \"\",\n        \"description\": \"\"\n      }\n    }\n  ]\n}"
            }
          },
          "metadata": {},
          "execution_count": 7
        }
      ]
    },
    {
      "cell_type": "code",
      "source": [
        "snapshot[\"trip_id\"] = snapshot[\"trip_id\"].astype(str)\n",
        "trips[\"trip_id\"] = trips[\"trip_id\"].astype(str)\n",
        "\n",
        "snapshot_with_trips = snapshot.merge(trips, on=\"trip_id\", how=\"left\")\n"
      ],
      "metadata": {
        "id": "paY8igKk_hBT"
      },
      "execution_count": null,
      "outputs": []
    },
    {
      "cell_type": "code",
      "source": [
        "routes[\"route_id\"] = routes[\"route_id\"].astype(str)\n",
        "snapshot_with_trips[\"route_id\"] = snapshot_with_trips[\"route_id\"].astype(str)\n",
        "\n",
        "snapshot_full = snapshot_with_trips.merge(routes, on=\"route_id\", how=\"left\")\n"
      ],
      "metadata": {
        "id": "xz1G6Pbm_jYj"
      },
      "execution_count": null,
      "outputs": []
    },
    {
      "cell_type": "markdown",
      "source": [
        "##🛠 Tip: Always Normalize GTFS Join Columns\n",
        "Here's a quick checklist of join keys and typical types to standardize:"
      ],
      "metadata": {
        "id": "5N76_jnaAi7_"
      }
    },
    {
      "cell_type": "markdown",
      "source": [
        "| Column       | Target DataFrames                     | Recommended Type |\n",
        "| ------------ | ------------------------------------- | ---------------- |\n",
        "| `trip_id`    | `snapshot`, `trips`                   | `str`            |\n",
        "| `route_id`   | `trips`, `routes`                     | `str`            |\n",
        "| `stop_id`    | `snapshot`, `stops`, `stop_times`     | `str`            |\n",
        "| `service_id` | `trips`, `calendar`, `calendar_dates` | `str`            |\n"
      ],
      "metadata": {
        "id": "QcH7L2eFAZpV"
      }
    },
    {
      "cell_type": "markdown",
      "source": [
        "#Validation check"
      ],
      "metadata": {
        "id": "DPqEBbBgAwJs"
      }
    },
    {
      "cell_type": "markdown",
      "source": [
        "✅ 1. Merge Completeness\n",
        "We want to confirm that:\n",
        "\n",
        "All snapshot rows still exist after the merge\n",
        "\n",
        "No major fields from the trips or routes tables are missing (i.e., not matched)\n",
        "\n",
        "Check Row Count:\n",
        "\n",
        "(All three counts should match if merges were successful.)"
      ],
      "metadata": {
        "id": "3AAhjLhzA0p5"
      }
    },
    {
      "cell_type": "code",
      "source": [
        "print(\"Original snapshot rows:\", len(snapshot))\n",
        "print(\"After merging with trips:\", len(snapshot_with_trips))\n",
        "print(\"After merging with routes:\", len(snapshot_full))\n"
      ],
      "metadata": {
        "id": "5Z9wtaQ7Axaf",
        "outputId": "55af3e98-e850-44c7-f394-bee8ff00dd95",
        "colab": {
          "base_uri": "https://localhost:8080/"
        }
      },
      "execution_count": null,
      "outputs": [
        {
          "output_type": "stream",
          "name": "stdout",
          "text": [
            "Original snapshot rows: 13560\n",
            "After merging with trips: 13560\n",
            "After merging with routes: 13560\n"
          ]
        }
      ]
    },
    {
      "cell_type": "markdown",
      "source": [
        "Check for Unmatched Trip IDs:"
      ],
      "metadata": {
        "id": "PMl3r5U6BE4z"
      }
    },
    {
      "cell_type": "code",
      "source": [
        "missing_trips = snapshot_with_trips[\"route_id\"].isnull().sum()\n",
        "print(\"Snapshot rows missing trip match:\", missing_trips)\n"
      ],
      "metadata": {
        "id": "VxxPoCk3A1rN",
        "outputId": "720ef45a-4400-40f7-9d50-6d787bc99e16",
        "colab": {
          "base_uri": "https://localhost:8080/"
        }
      },
      "execution_count": null,
      "outputs": [
        {
          "output_type": "stream",
          "name": "stdout",
          "text": [
            "Snapshot rows missing trip match: 0\n"
          ]
        }
      ]
    },
    {
      "cell_type": "markdown",
      "source": [
        "Check for Unmatched Route IDs:\n",
        "\n",
        "(If either is greater than 0, we should inspect the join keys and data formatting.)\n"
      ],
      "metadata": {
        "id": "CB5G7M3wBHfk"
      }
    },
    {
      "cell_type": "code",
      "source": [
        "missing_routes = snapshot_full[\"route_long_name\"].isnull().sum()\n",
        "print(\"Snapshot rows missing route match:\", missing_routes)\n"
      ],
      "metadata": {
        "id": "jDDwNJ4OBJ5m",
        "outputId": "1416d43d-6a71-4e5b-d127-bc488c056ab8",
        "colab": {
          "base_uri": "https://localhost:8080/"
        }
      },
      "execution_count": null,
      "outputs": [
        {
          "output_type": "stream",
          "name": "stdout",
          "text": [
            "Snapshot rows missing route match: 13560\n"
          ]
        }
      ]
    },
    {
      "cell_type": "markdown",
      "source": [
        "✅ 2. Sanity Sample\n",
        "\n",
        "See a few enriched records to verify static fields are present:\n",
        "\n",
        "(You should see real route info (not NaNs) and consistent route_id + trip_id.)"
      ],
      "metadata": {
        "id": "XwuEbBbOBOJh"
      }
    },
    {
      "cell_type": "code",
      "source": [
        "snapshot_full[[\n",
        "    \"vehicle_id\",\n",
        "    \"timestamp\",\n",
        "    \"trip_id\",\n",
        "    \"route_id\",\n",
        "    \"route_short_name\",\n",
        "    \"route_long_name\",\n",
        "    \"service_id\"\n",
        "]].sample(5)\n"
      ],
      "metadata": {
        "id": "P4pEPjHDBO5i",
        "outputId": "0a7977d5-58f9-4649-a48e-fca4872a8eae",
        "colab": {
          "base_uri": "https://localhost:8080/",
          "height": 391
        }
      },
      "execution_count": null,
      "outputs": [
        {
          "output_type": "error",
          "ename": "KeyError",
          "evalue": "\"['timestamp', 'route_short_name'] not in index\"",
          "traceback": [
            "\u001b[0;31m---------------------------------------------------------------------------\u001b[0m",
            "\u001b[0;31mKeyError\u001b[0m                                  Traceback (most recent call last)",
            "\u001b[0;32m/tmp/ipython-input-13-504908408.py\u001b[0m in \u001b[0;36m<cell line: 0>\u001b[0;34m()\u001b[0m\n\u001b[0;32m----> 1\u001b[0;31m snapshot_full[[\n\u001b[0m\u001b[1;32m      2\u001b[0m     \u001b[0;34m\"vehicle_id\"\u001b[0m\u001b[0;34m,\u001b[0m\u001b[0;34m\u001b[0m\u001b[0;34m\u001b[0m\u001b[0m\n\u001b[1;32m      3\u001b[0m     \u001b[0;34m\"timestamp\"\u001b[0m\u001b[0;34m,\u001b[0m\u001b[0;34m\u001b[0m\u001b[0;34m\u001b[0m\u001b[0m\n\u001b[1;32m      4\u001b[0m     \u001b[0;34m\"trip_id\"\u001b[0m\u001b[0;34m,\u001b[0m\u001b[0;34m\u001b[0m\u001b[0;34m\u001b[0m\u001b[0m\n\u001b[1;32m      5\u001b[0m     \u001b[0;34m\"route_id\"\u001b[0m\u001b[0;34m,\u001b[0m\u001b[0;34m\u001b[0m\u001b[0;34m\u001b[0m\u001b[0m\n",
            "\u001b[0;32m/usr/local/lib/python3.11/dist-packages/pandas/core/frame.py\u001b[0m in \u001b[0;36m__getitem__\u001b[0;34m(self, key)\u001b[0m\n\u001b[1;32m   4106\u001b[0m             \u001b[0;32mif\u001b[0m \u001b[0mis_iterator\u001b[0m\u001b[0;34m(\u001b[0m\u001b[0mkey\u001b[0m\u001b[0;34m)\u001b[0m\u001b[0;34m:\u001b[0m\u001b[0;34m\u001b[0m\u001b[0;34m\u001b[0m\u001b[0m\n\u001b[1;32m   4107\u001b[0m                 \u001b[0mkey\u001b[0m \u001b[0;34m=\u001b[0m \u001b[0mlist\u001b[0m\u001b[0;34m(\u001b[0m\u001b[0mkey\u001b[0m\u001b[0;34m)\u001b[0m\u001b[0;34m\u001b[0m\u001b[0;34m\u001b[0m\u001b[0m\n\u001b[0;32m-> 4108\u001b[0;31m             \u001b[0mindexer\u001b[0m \u001b[0;34m=\u001b[0m \u001b[0mself\u001b[0m\u001b[0;34m.\u001b[0m\u001b[0mcolumns\u001b[0m\u001b[0;34m.\u001b[0m\u001b[0m_get_indexer_strict\u001b[0m\u001b[0;34m(\u001b[0m\u001b[0mkey\u001b[0m\u001b[0;34m,\u001b[0m \u001b[0;34m\"columns\"\u001b[0m\u001b[0;34m)\u001b[0m\u001b[0;34m[\u001b[0m\u001b[0;36m1\u001b[0m\u001b[0;34m]\u001b[0m\u001b[0;34m\u001b[0m\u001b[0;34m\u001b[0m\u001b[0m\n\u001b[0m\u001b[1;32m   4109\u001b[0m \u001b[0;34m\u001b[0m\u001b[0m\n\u001b[1;32m   4110\u001b[0m         \u001b[0;31m# take() does not accept boolean indexers\u001b[0m\u001b[0;34m\u001b[0m\u001b[0;34m\u001b[0m\u001b[0m\n",
            "\u001b[0;32m/usr/local/lib/python3.11/dist-packages/pandas/core/indexes/base.py\u001b[0m in \u001b[0;36m_get_indexer_strict\u001b[0;34m(self, key, axis_name)\u001b[0m\n\u001b[1;32m   6198\u001b[0m             \u001b[0mkeyarr\u001b[0m\u001b[0;34m,\u001b[0m \u001b[0mindexer\u001b[0m\u001b[0;34m,\u001b[0m \u001b[0mnew_indexer\u001b[0m \u001b[0;34m=\u001b[0m \u001b[0mself\u001b[0m\u001b[0;34m.\u001b[0m\u001b[0m_reindex_non_unique\u001b[0m\u001b[0;34m(\u001b[0m\u001b[0mkeyarr\u001b[0m\u001b[0;34m)\u001b[0m\u001b[0;34m\u001b[0m\u001b[0;34m\u001b[0m\u001b[0m\n\u001b[1;32m   6199\u001b[0m \u001b[0;34m\u001b[0m\u001b[0m\n\u001b[0;32m-> 6200\u001b[0;31m         \u001b[0mself\u001b[0m\u001b[0;34m.\u001b[0m\u001b[0m_raise_if_missing\u001b[0m\u001b[0;34m(\u001b[0m\u001b[0mkeyarr\u001b[0m\u001b[0;34m,\u001b[0m \u001b[0mindexer\u001b[0m\u001b[0;34m,\u001b[0m \u001b[0maxis_name\u001b[0m\u001b[0;34m)\u001b[0m\u001b[0;34m\u001b[0m\u001b[0;34m\u001b[0m\u001b[0m\n\u001b[0m\u001b[1;32m   6201\u001b[0m \u001b[0;34m\u001b[0m\u001b[0m\n\u001b[1;32m   6202\u001b[0m         \u001b[0mkeyarr\u001b[0m \u001b[0;34m=\u001b[0m \u001b[0mself\u001b[0m\u001b[0;34m.\u001b[0m\u001b[0mtake\u001b[0m\u001b[0;34m(\u001b[0m\u001b[0mindexer\u001b[0m\u001b[0;34m)\u001b[0m\u001b[0;34m\u001b[0m\u001b[0;34m\u001b[0m\u001b[0m\n",
            "\u001b[0;32m/usr/local/lib/python3.11/dist-packages/pandas/core/indexes/base.py\u001b[0m in \u001b[0;36m_raise_if_missing\u001b[0;34m(self, key, indexer, axis_name)\u001b[0m\n\u001b[1;32m   6250\u001b[0m \u001b[0;34m\u001b[0m\u001b[0m\n\u001b[1;32m   6251\u001b[0m             \u001b[0mnot_found\u001b[0m \u001b[0;34m=\u001b[0m \u001b[0mlist\u001b[0m\u001b[0;34m(\u001b[0m\u001b[0mensure_index\u001b[0m\u001b[0;34m(\u001b[0m\u001b[0mkey\u001b[0m\u001b[0;34m)\u001b[0m\u001b[0;34m[\u001b[0m\u001b[0mmissing_mask\u001b[0m\u001b[0;34m.\u001b[0m\u001b[0mnonzero\u001b[0m\u001b[0;34m(\u001b[0m\u001b[0;34m)\u001b[0m\u001b[0;34m[\u001b[0m\u001b[0;36m0\u001b[0m\u001b[0;34m]\u001b[0m\u001b[0;34m]\u001b[0m\u001b[0;34m.\u001b[0m\u001b[0munique\u001b[0m\u001b[0;34m(\u001b[0m\u001b[0;34m)\u001b[0m\u001b[0;34m)\u001b[0m\u001b[0;34m\u001b[0m\u001b[0;34m\u001b[0m\u001b[0m\n\u001b[0;32m-> 6252\u001b[0;31m             \u001b[0;32mraise\u001b[0m \u001b[0mKeyError\u001b[0m\u001b[0;34m(\u001b[0m\u001b[0;34mf\"{not_found} not in index\"\u001b[0m\u001b[0;34m)\u001b[0m\u001b[0;34m\u001b[0m\u001b[0;34m\u001b[0m\u001b[0m\n\u001b[0m\u001b[1;32m   6253\u001b[0m \u001b[0;34m\u001b[0m\u001b[0m\n\u001b[1;32m   6254\u001b[0m     \u001b[0;34m@\u001b[0m\u001b[0moverload\u001b[0m\u001b[0;34m\u001b[0m\u001b[0;34m\u001b[0m\u001b[0m\n",
            "\u001b[0;31mKeyError\u001b[0m: \"['timestamp', 'route_short_name'] not in index\""
          ]
        }
      ]
    },
    {
      "cell_type": "code",
      "source": [
        "print(snapshot_full.columns.tolist())\n"
      ],
      "metadata": {
        "id": "0-9e6wJQC5My",
        "outputId": "e9455956-2f44-4e36-e541-98d414974431",
        "colab": {
          "base_uri": "https://localhost:8080/"
        }
      },
      "execution_count": null,
      "outputs": [
        {
          "output_type": "stream",
          "name": "stdout",
          "text": [
            "['snapshot_id', 'timestamp_collected', 'vehicle_id', 'latitude', 'longitude', 'heading', 'speed_mph', 'route_short_name_x', 'trip_id', 'next_stop_id', 'next_stop_name', 'next_stop_sched_time', 'route_id', 'service_id', 'trip_headsign', 'trip_short_name', 'direction_id', 'block_id', 'shape_id', 'wheelchair_accessible', 'bikes_allowed', 'agency_id', 'route_short_name_y', 'route_long_name', 'route_desc', 'route_type', 'route_url', 'route_color', 'route_text_color']\n"
          ]
        }
      ]
    },
    {
      "cell_type": "code",
      "source": [
        "print(snapshot_with_trips.columns.tolist())  # should include 'route_id'\n",
        "print(routes.columns.tolist())               # should include 'route_id' and 'route_short_name'\n"
      ],
      "metadata": {
        "id": "Z8JN9zFDDLrM",
        "outputId": "8b9813fc-d3e1-4a6b-84b0-9a64c75c8ba8",
        "colab": {
          "base_uri": "https://localhost:8080/"
        }
      },
      "execution_count": null,
      "outputs": [
        {
          "output_type": "stream",
          "name": "stdout",
          "text": [
            "['snapshot_id', 'timestamp_collected', 'vehicle_id', 'latitude', 'longitude', 'heading', 'speed_mph', 'route_short_name', 'trip_id', 'next_stop_id', 'next_stop_name', 'next_stop_sched_time', 'route_id', 'service_id', 'trip_headsign', 'trip_short_name', 'direction_id', 'block_id', 'shape_id', 'wheelchair_accessible', 'bikes_allowed']\n",
            "['route_id', 'agency_id', 'route_short_name', 'route_long_name', 'route_desc', 'route_type', 'route_url', 'route_color', 'route_text_color']\n"
          ]
        }
      ]
    },
    {
      "cell_type": "code",
      "source": [
        "print(snapshot_with_trips[\"route_id\"].dtype)\n",
        "print(routes[\"route_id\"].dtype)\n"
      ],
      "metadata": {
        "id": "AV9vjGyhENNu",
        "outputId": "dd3744c0-cb8c-4211-a9f8-1fd0a8b87d14",
        "colab": {
          "base_uri": "https://localhost:8080/"
        }
      },
      "execution_count": null,
      "outputs": [
        {
          "output_type": "stream",
          "name": "stdout",
          "text": [
            "object\n",
            "object\n"
          ]
        }
      ]
    },
    {
      "cell_type": "markdown",
      "source": [
        "✅ 3. Null Summary\n",
        "\n",
        "Let’s check how many rows have missing values in static fields:\n",
        "\n",
        "(If these are mostly filled, your integration is sound.)"
      ],
      "metadata": {
        "id": "GGkRZB_7Bjh7"
      }
    },
    {
      "cell_type": "code",
      "source": [
        "snapshot_full[[\"route_id\", \"route_short_name\", \"route_long_name\"]].isnull().sum()\n"
      ],
      "metadata": {
        "id": "7iohUQLvBlgd",
        "outputId": "54b3d3db-7eeb-40fa-9b16-1329f58af1ce",
        "colab": {
          "base_uri": "https://localhost:8080/",
          "height": 339
        }
      },
      "execution_count": null,
      "outputs": [
        {
          "output_type": "error",
          "ename": "KeyError",
          "evalue": "\"['route_short_name'] not in index\"",
          "traceback": [
            "\u001b[0;31m---------------------------------------------------------------------------\u001b[0m",
            "\u001b[0;31mKeyError\u001b[0m                                  Traceback (most recent call last)",
            "\u001b[0;32m/tmp/ipython-input-20-495897315.py\u001b[0m in \u001b[0;36m<cell line: 0>\u001b[0;34m()\u001b[0m\n\u001b[0;32m----> 1\u001b[0;31m \u001b[0msnapshot_full\u001b[0m\u001b[0;34m[\u001b[0m\u001b[0;34m[\u001b[0m\u001b[0;34m\"route_id\"\u001b[0m\u001b[0;34m,\u001b[0m \u001b[0;34m\"route_short_name\"\u001b[0m\u001b[0;34m,\u001b[0m \u001b[0;34m\"route_long_name\"\u001b[0m\u001b[0;34m]\u001b[0m\u001b[0;34m]\u001b[0m\u001b[0;34m.\u001b[0m\u001b[0misnull\u001b[0m\u001b[0;34m(\u001b[0m\u001b[0;34m)\u001b[0m\u001b[0;34m.\u001b[0m\u001b[0msum\u001b[0m\u001b[0;34m(\u001b[0m\u001b[0;34m)\u001b[0m\u001b[0;34m\u001b[0m\u001b[0;34m\u001b[0m\u001b[0m\n\u001b[0m",
            "\u001b[0;32m/usr/local/lib/python3.11/dist-packages/pandas/core/frame.py\u001b[0m in \u001b[0;36m__getitem__\u001b[0;34m(self, key)\u001b[0m\n\u001b[1;32m   4106\u001b[0m             \u001b[0;32mif\u001b[0m \u001b[0mis_iterator\u001b[0m\u001b[0;34m(\u001b[0m\u001b[0mkey\u001b[0m\u001b[0;34m)\u001b[0m\u001b[0;34m:\u001b[0m\u001b[0;34m\u001b[0m\u001b[0;34m\u001b[0m\u001b[0m\n\u001b[1;32m   4107\u001b[0m                 \u001b[0mkey\u001b[0m \u001b[0;34m=\u001b[0m \u001b[0mlist\u001b[0m\u001b[0;34m(\u001b[0m\u001b[0mkey\u001b[0m\u001b[0;34m)\u001b[0m\u001b[0;34m\u001b[0m\u001b[0;34m\u001b[0m\u001b[0m\n\u001b[0;32m-> 4108\u001b[0;31m             \u001b[0mindexer\u001b[0m \u001b[0;34m=\u001b[0m \u001b[0mself\u001b[0m\u001b[0;34m.\u001b[0m\u001b[0mcolumns\u001b[0m\u001b[0;34m.\u001b[0m\u001b[0m_get_indexer_strict\u001b[0m\u001b[0;34m(\u001b[0m\u001b[0mkey\u001b[0m\u001b[0;34m,\u001b[0m \u001b[0;34m\"columns\"\u001b[0m\u001b[0;34m)\u001b[0m\u001b[0;34m[\u001b[0m\u001b[0;36m1\u001b[0m\u001b[0;34m]\u001b[0m\u001b[0;34m\u001b[0m\u001b[0;34m\u001b[0m\u001b[0m\n\u001b[0m\u001b[1;32m   4109\u001b[0m \u001b[0;34m\u001b[0m\u001b[0m\n\u001b[1;32m   4110\u001b[0m         \u001b[0;31m# take() does not accept boolean indexers\u001b[0m\u001b[0;34m\u001b[0m\u001b[0;34m\u001b[0m\u001b[0m\n",
            "\u001b[0;32m/usr/local/lib/python3.11/dist-packages/pandas/core/indexes/base.py\u001b[0m in \u001b[0;36m_get_indexer_strict\u001b[0;34m(self, key, axis_name)\u001b[0m\n\u001b[1;32m   6198\u001b[0m             \u001b[0mkeyarr\u001b[0m\u001b[0;34m,\u001b[0m \u001b[0mindexer\u001b[0m\u001b[0;34m,\u001b[0m \u001b[0mnew_indexer\u001b[0m \u001b[0;34m=\u001b[0m \u001b[0mself\u001b[0m\u001b[0;34m.\u001b[0m\u001b[0m_reindex_non_unique\u001b[0m\u001b[0;34m(\u001b[0m\u001b[0mkeyarr\u001b[0m\u001b[0;34m)\u001b[0m\u001b[0;34m\u001b[0m\u001b[0;34m\u001b[0m\u001b[0m\n\u001b[1;32m   6199\u001b[0m \u001b[0;34m\u001b[0m\u001b[0m\n\u001b[0;32m-> 6200\u001b[0;31m         \u001b[0mself\u001b[0m\u001b[0;34m.\u001b[0m\u001b[0m_raise_if_missing\u001b[0m\u001b[0;34m(\u001b[0m\u001b[0mkeyarr\u001b[0m\u001b[0;34m,\u001b[0m \u001b[0mindexer\u001b[0m\u001b[0;34m,\u001b[0m \u001b[0maxis_name\u001b[0m\u001b[0;34m)\u001b[0m\u001b[0;34m\u001b[0m\u001b[0;34m\u001b[0m\u001b[0m\n\u001b[0m\u001b[1;32m   6201\u001b[0m \u001b[0;34m\u001b[0m\u001b[0m\n\u001b[1;32m   6202\u001b[0m         \u001b[0mkeyarr\u001b[0m \u001b[0;34m=\u001b[0m \u001b[0mself\u001b[0m\u001b[0;34m.\u001b[0m\u001b[0mtake\u001b[0m\u001b[0;34m(\u001b[0m\u001b[0mindexer\u001b[0m\u001b[0;34m)\u001b[0m\u001b[0;34m\u001b[0m\u001b[0;34m\u001b[0m\u001b[0m\n",
            "\u001b[0;32m/usr/local/lib/python3.11/dist-packages/pandas/core/indexes/base.py\u001b[0m in \u001b[0;36m_raise_if_missing\u001b[0;34m(self, key, indexer, axis_name)\u001b[0m\n\u001b[1;32m   6250\u001b[0m \u001b[0;34m\u001b[0m\u001b[0m\n\u001b[1;32m   6251\u001b[0m             \u001b[0mnot_found\u001b[0m \u001b[0;34m=\u001b[0m \u001b[0mlist\u001b[0m\u001b[0;34m(\u001b[0m\u001b[0mensure_index\u001b[0m\u001b[0;34m(\u001b[0m\u001b[0mkey\u001b[0m\u001b[0;34m)\u001b[0m\u001b[0;34m[\u001b[0m\u001b[0mmissing_mask\u001b[0m\u001b[0;34m.\u001b[0m\u001b[0mnonzero\u001b[0m\u001b[0;34m(\u001b[0m\u001b[0;34m)\u001b[0m\u001b[0;34m[\u001b[0m\u001b[0;36m0\u001b[0m\u001b[0;34m]\u001b[0m\u001b[0;34m]\u001b[0m\u001b[0;34m.\u001b[0m\u001b[0munique\u001b[0m\u001b[0;34m(\u001b[0m\u001b[0;34m)\u001b[0m\u001b[0;34m)\u001b[0m\u001b[0;34m\u001b[0m\u001b[0;34m\u001b[0m\u001b[0m\n\u001b[0;32m-> 6252\u001b[0;31m             \u001b[0;32mraise\u001b[0m \u001b[0mKeyError\u001b[0m\u001b[0;34m(\u001b[0m\u001b[0;34mf\"{not_found} not in index\"\u001b[0m\u001b[0;34m)\u001b[0m\u001b[0;34m\u001b[0m\u001b[0;34m\u001b[0m\u001b[0m\n\u001b[0m\u001b[1;32m   6253\u001b[0m \u001b[0;34m\u001b[0m\u001b[0m\n\u001b[1;32m   6254\u001b[0m     \u001b[0;34m@\u001b[0m\u001b[0moverload\u001b[0m\u001b[0;34m\u001b[0m\u001b[0;34m\u001b[0m\u001b[0m\n",
            "\u001b[0;31mKeyError\u001b[0m: \"['route_short_name'] not in index\""
          ]
        }
      ]
    },
    {
      "cell_type": "markdown",
      "source": [
        "#Redefining code names"
      ],
      "metadata": {
        "id": "uy4zWnYmFS4W"
      }
    },
    {
      "cell_type": "markdown",
      "source": [
        "✅ Step 1: Define Canonical Column Roles\n",
        "\n",
        "We'll define the roles we care about, then scan the actual column names to identify matches."
      ],
      "metadata": {
        "id": "zGjDf6d-FPlO"
      }
    },
    {
      "cell_type": "code",
      "source": [
        "column_roles = {\n",
        "    \"timestamp\": [\"timestamp_collected\", \"timestamp\", \"vehicle_timestamp\", \"recorded_time\"],\n",
        "    \"vehicle_id\": [\"vehicle_id\", \"vid\", \"bus_id\"],\n",
        "    \"trip_id\": [\"trip_id\"],\n",
        "    \"route_id\": [\"route_id\"],\n",
        "    \"route_short_name\": [\"route_short_name\", \"route_short_name_y\", \"trip_route_short_name\"],\n",
        "    \"route_long_name\": [\"route_long_name\"],\n",
        "    \"latitude\": [\"latitude\", \"lat\"],\n",
        "    \"longitude\": [\"longitude\", \"lon\", \"lng\"],\n",
        "}\n"
      ],
      "metadata": {
        "id": "kMU4mvYDFXSg"
      },
      "execution_count": null,
      "outputs": []
    },
    {
      "cell_type": "markdown",
      "source": [
        "✅ Step 2: Match Actual Columns to Roles\n"
      ],
      "metadata": {
        "id": "3QJu0-qgFcNS"
      }
    },
    {
      "cell_type": "code",
      "source": [
        "def resolve_column_mapping(df, role_dict):\n",
        "    mapping = {}\n",
        "    for role, candidates in role_dict.items():\n",
        "        for col in candidates:\n",
        "            if col in df.columns:\n",
        "                mapping[role] = col\n",
        "                break\n",
        "        else:\n",
        "            mapping[role] = None  # Mark as not found\n",
        "    return mapping\n",
        "\n",
        "column_map = resolve_column_mapping(snapshot_full, column_roles)\n",
        "print(column_map)\n"
      ],
      "metadata": {
        "id": "_N79mssXFdX2",
        "outputId": "ad803d00-84db-46b5-e782-69af3d38ea39",
        "colab": {
          "base_uri": "https://localhost:8080/"
        }
      },
      "execution_count": null,
      "outputs": [
        {
          "output_type": "stream",
          "name": "stdout",
          "text": [
            "{'timestamp': 'timestamp_collected', 'vehicle_id': 'vehicle_id', 'trip_id': 'trip_id', 'route_id': 'route_id', 'route_short_name': 'route_short_name_y', 'route_long_name': 'route_long_name', 'latitude': 'latitude', 'longitude': 'longitude'}\n"
          ]
        }
      ]
    },
    {
      "cell_type": "markdown",
      "source": [
        "✅ Step 3: Use Column Map in Flexible Queries\n",
        "\n",
        "Now you can sample adaptively:"
      ],
      "metadata": {
        "id": "M-wwweEVFkLD"
      }
    },
    {
      "cell_type": "code",
      "source": [
        "cols_to_display = [\n",
        "    column_map['vehicle_id'],\n",
        "    column_map['timestamp'],\n",
        "    column_map['trip_id'],\n",
        "    column_map['route_id'],\n",
        "    column_map['route_short_name'],\n",
        "    column_map['route_long_name'],\n",
        "]\n",
        "\n",
        "snapshot_full[cols_to_display].sample(5)\n"
      ],
      "metadata": {
        "id": "HqYBV7yrFfDv",
        "outputId": "d5a427d9-2968-4dab-88e9-1e89cb409ced",
        "colab": {
          "base_uri": "https://localhost:8080/",
          "height": 313
        }
      },
      "execution_count": null,
      "outputs": [
        {
          "output_type": "execute_result",
          "data": {
            "text/plain": [
              "      vehicle_id         timestamp_collected       trip_id route_id  \\\n",
              "6508         626  2025-07-21T01:36:22.683291  Undetermined      nan   \n",
              "3689        4101  2025-07-21T01:31:51.002141  Undetermined      nan   \n",
              "9225         634  2025-07-21T01:40:24.135451  Undetermined      nan   \n",
              "7755        3005  2025-07-21T01:37:53.230425             0      nan   \n",
              "8534         619  2025-07-21T01:39:23.775832             0      nan   \n",
              "\n",
              "      route_short_name_y route_long_name  \n",
              "6508                 NaN             NaN  \n",
              "3689                 NaN             NaN  \n",
              "9225                 NaN             NaN  \n",
              "7755                 NaN             NaN  \n",
              "8534                 NaN             NaN  "
            ],
            "text/html": [
              "\n",
              "  <div id=\"df-d55f46b4-a2a8-4619-9bfc-74bfa548807e\" class=\"colab-df-container\">\n",
              "    <div>\n",
              "<style scoped>\n",
              "    .dataframe tbody tr th:only-of-type {\n",
              "        vertical-align: middle;\n",
              "    }\n",
              "\n",
              "    .dataframe tbody tr th {\n",
              "        vertical-align: top;\n",
              "    }\n",
              "\n",
              "    .dataframe thead th {\n",
              "        text-align: right;\n",
              "    }\n",
              "</style>\n",
              "<table border=\"1\" class=\"dataframe\">\n",
              "  <thead>\n",
              "    <tr style=\"text-align: right;\">\n",
              "      <th></th>\n",
              "      <th>vehicle_id</th>\n",
              "      <th>timestamp_collected</th>\n",
              "      <th>trip_id</th>\n",
              "      <th>route_id</th>\n",
              "      <th>route_short_name_y</th>\n",
              "      <th>route_long_name</th>\n",
              "    </tr>\n",
              "  </thead>\n",
              "  <tbody>\n",
              "    <tr>\n",
              "      <th>6508</th>\n",
              "      <td>626</td>\n",
              "      <td>2025-07-21T01:36:22.683291</td>\n",
              "      <td>Undetermined</td>\n",
              "      <td>nan</td>\n",
              "      <td>NaN</td>\n",
              "      <td>NaN</td>\n",
              "    </tr>\n",
              "    <tr>\n",
              "      <th>3689</th>\n",
              "      <td>4101</td>\n",
              "      <td>2025-07-21T01:31:51.002141</td>\n",
              "      <td>Undetermined</td>\n",
              "      <td>nan</td>\n",
              "      <td>NaN</td>\n",
              "      <td>NaN</td>\n",
              "    </tr>\n",
              "    <tr>\n",
              "      <th>9225</th>\n",
              "      <td>634</td>\n",
              "      <td>2025-07-21T01:40:24.135451</td>\n",
              "      <td>Undetermined</td>\n",
              "      <td>nan</td>\n",
              "      <td>NaN</td>\n",
              "      <td>NaN</td>\n",
              "    </tr>\n",
              "    <tr>\n",
              "      <th>7755</th>\n",
              "      <td>3005</td>\n",
              "      <td>2025-07-21T01:37:53.230425</td>\n",
              "      <td>0</td>\n",
              "      <td>nan</td>\n",
              "      <td>NaN</td>\n",
              "      <td>NaN</td>\n",
              "    </tr>\n",
              "    <tr>\n",
              "      <th>8534</th>\n",
              "      <td>619</td>\n",
              "      <td>2025-07-21T01:39:23.775832</td>\n",
              "      <td>0</td>\n",
              "      <td>nan</td>\n",
              "      <td>NaN</td>\n",
              "      <td>NaN</td>\n",
              "    </tr>\n",
              "  </tbody>\n",
              "</table>\n",
              "</div>\n",
              "    <div class=\"colab-df-buttons\">\n",
              "\n",
              "  <div class=\"colab-df-container\">\n",
              "    <button class=\"colab-df-convert\" onclick=\"convertToInteractive('df-d55f46b4-a2a8-4619-9bfc-74bfa548807e')\"\n",
              "            title=\"Convert this dataframe to an interactive table.\"\n",
              "            style=\"display:none;\">\n",
              "\n",
              "  <svg xmlns=\"http://www.w3.org/2000/svg\" height=\"24px\" viewBox=\"0 -960 960 960\">\n",
              "    <path d=\"M120-120v-720h720v720H120Zm60-500h600v-160H180v160Zm220 220h160v-160H400v160Zm0 220h160v-160H400v160ZM180-400h160v-160H180v160Zm440 0h160v-160H620v160ZM180-180h160v-160H180v160Zm440 0h160v-160H620v160Z\"/>\n",
              "  </svg>\n",
              "    </button>\n",
              "\n",
              "  <style>\n",
              "    .colab-df-container {\n",
              "      display:flex;\n",
              "      gap: 12px;\n",
              "    }\n",
              "\n",
              "    .colab-df-convert {\n",
              "      background-color: #E8F0FE;\n",
              "      border: none;\n",
              "      border-radius: 50%;\n",
              "      cursor: pointer;\n",
              "      display: none;\n",
              "      fill: #1967D2;\n",
              "      height: 32px;\n",
              "      padding: 0 0 0 0;\n",
              "      width: 32px;\n",
              "    }\n",
              "\n",
              "    .colab-df-convert:hover {\n",
              "      background-color: #E2EBFA;\n",
              "      box-shadow: 0px 1px 2px rgba(60, 64, 67, 0.3), 0px 1px 3px 1px rgba(60, 64, 67, 0.15);\n",
              "      fill: #174EA6;\n",
              "    }\n",
              "\n",
              "    .colab-df-buttons div {\n",
              "      margin-bottom: 4px;\n",
              "    }\n",
              "\n",
              "    [theme=dark] .colab-df-convert {\n",
              "      background-color: #3B4455;\n",
              "      fill: #D2E3FC;\n",
              "    }\n",
              "\n",
              "    [theme=dark] .colab-df-convert:hover {\n",
              "      background-color: #434B5C;\n",
              "      box-shadow: 0px 1px 3px 1px rgba(0, 0, 0, 0.15);\n",
              "      filter: drop-shadow(0px 1px 2px rgba(0, 0, 0, 0.3));\n",
              "      fill: #FFFFFF;\n",
              "    }\n",
              "  </style>\n",
              "\n",
              "    <script>\n",
              "      const buttonEl =\n",
              "        document.querySelector('#df-d55f46b4-a2a8-4619-9bfc-74bfa548807e button.colab-df-convert');\n",
              "      buttonEl.style.display =\n",
              "        google.colab.kernel.accessAllowed ? 'block' : 'none';\n",
              "\n",
              "      async function convertToInteractive(key) {\n",
              "        const element = document.querySelector('#df-d55f46b4-a2a8-4619-9bfc-74bfa548807e');\n",
              "        const dataTable =\n",
              "          await google.colab.kernel.invokeFunction('convertToInteractive',\n",
              "                                                    [key], {});\n",
              "        if (!dataTable) return;\n",
              "\n",
              "        const docLinkHtml = 'Like what you see? Visit the ' +\n",
              "          '<a target=\"_blank\" href=https://colab.research.google.com/notebooks/data_table.ipynb>data table notebook</a>'\n",
              "          + ' to learn more about interactive tables.';\n",
              "        element.innerHTML = '';\n",
              "        dataTable['output_type'] = 'display_data';\n",
              "        await google.colab.output.renderOutput(dataTable, element);\n",
              "        const docLink = document.createElement('div');\n",
              "        docLink.innerHTML = docLinkHtml;\n",
              "        element.appendChild(docLink);\n",
              "      }\n",
              "    </script>\n",
              "  </div>\n",
              "\n",
              "\n",
              "    <div id=\"df-c44b12e6-234c-4653-bc06-bc70a2b80393\">\n",
              "      <button class=\"colab-df-quickchart\" onclick=\"quickchart('df-c44b12e6-234c-4653-bc06-bc70a2b80393')\"\n",
              "                title=\"Suggest charts\"\n",
              "                style=\"display:none;\">\n",
              "\n",
              "<svg xmlns=\"http://www.w3.org/2000/svg\" height=\"24px\"viewBox=\"0 0 24 24\"\n",
              "     width=\"24px\">\n",
              "    <g>\n",
              "        <path d=\"M19 3H5c-1.1 0-2 .9-2 2v14c0 1.1.9 2 2 2h14c1.1 0 2-.9 2-2V5c0-1.1-.9-2-2-2zM9 17H7v-7h2v7zm4 0h-2V7h2v10zm4 0h-2v-4h2v4z\"/>\n",
              "    </g>\n",
              "</svg>\n",
              "      </button>\n",
              "\n",
              "<style>\n",
              "  .colab-df-quickchart {\n",
              "      --bg-color: #E8F0FE;\n",
              "      --fill-color: #1967D2;\n",
              "      --hover-bg-color: #E2EBFA;\n",
              "      --hover-fill-color: #174EA6;\n",
              "      --disabled-fill-color: #AAA;\n",
              "      --disabled-bg-color: #DDD;\n",
              "  }\n",
              "\n",
              "  [theme=dark] .colab-df-quickchart {\n",
              "      --bg-color: #3B4455;\n",
              "      --fill-color: #D2E3FC;\n",
              "      --hover-bg-color: #434B5C;\n",
              "      --hover-fill-color: #FFFFFF;\n",
              "      --disabled-bg-color: #3B4455;\n",
              "      --disabled-fill-color: #666;\n",
              "  }\n",
              "\n",
              "  .colab-df-quickchart {\n",
              "    background-color: var(--bg-color);\n",
              "    border: none;\n",
              "    border-radius: 50%;\n",
              "    cursor: pointer;\n",
              "    display: none;\n",
              "    fill: var(--fill-color);\n",
              "    height: 32px;\n",
              "    padding: 0;\n",
              "    width: 32px;\n",
              "  }\n",
              "\n",
              "  .colab-df-quickchart:hover {\n",
              "    background-color: var(--hover-bg-color);\n",
              "    box-shadow: 0 1px 2px rgba(60, 64, 67, 0.3), 0 1px 3px 1px rgba(60, 64, 67, 0.15);\n",
              "    fill: var(--button-hover-fill-color);\n",
              "  }\n",
              "\n",
              "  .colab-df-quickchart-complete:disabled,\n",
              "  .colab-df-quickchart-complete:disabled:hover {\n",
              "    background-color: var(--disabled-bg-color);\n",
              "    fill: var(--disabled-fill-color);\n",
              "    box-shadow: none;\n",
              "  }\n",
              "\n",
              "  .colab-df-spinner {\n",
              "    border: 2px solid var(--fill-color);\n",
              "    border-color: transparent;\n",
              "    border-bottom-color: var(--fill-color);\n",
              "    animation:\n",
              "      spin 1s steps(1) infinite;\n",
              "  }\n",
              "\n",
              "  @keyframes spin {\n",
              "    0% {\n",
              "      border-color: transparent;\n",
              "      border-bottom-color: var(--fill-color);\n",
              "      border-left-color: var(--fill-color);\n",
              "    }\n",
              "    20% {\n",
              "      border-color: transparent;\n",
              "      border-left-color: var(--fill-color);\n",
              "      border-top-color: var(--fill-color);\n",
              "    }\n",
              "    30% {\n",
              "      border-color: transparent;\n",
              "      border-left-color: var(--fill-color);\n",
              "      border-top-color: var(--fill-color);\n",
              "      border-right-color: var(--fill-color);\n",
              "    }\n",
              "    40% {\n",
              "      border-color: transparent;\n",
              "      border-right-color: var(--fill-color);\n",
              "      border-top-color: var(--fill-color);\n",
              "    }\n",
              "    60% {\n",
              "      border-color: transparent;\n",
              "      border-right-color: var(--fill-color);\n",
              "    }\n",
              "    80% {\n",
              "      border-color: transparent;\n",
              "      border-right-color: var(--fill-color);\n",
              "      border-bottom-color: var(--fill-color);\n",
              "    }\n",
              "    90% {\n",
              "      border-color: transparent;\n",
              "      border-bottom-color: var(--fill-color);\n",
              "    }\n",
              "  }\n",
              "</style>\n",
              "\n",
              "      <script>\n",
              "        async function quickchart(key) {\n",
              "          const quickchartButtonEl =\n",
              "            document.querySelector('#' + key + ' button');\n",
              "          quickchartButtonEl.disabled = true;  // To prevent multiple clicks.\n",
              "          quickchartButtonEl.classList.add('colab-df-spinner');\n",
              "          try {\n",
              "            const charts = await google.colab.kernel.invokeFunction(\n",
              "                'suggestCharts', [key], {});\n",
              "          } catch (error) {\n",
              "            console.error('Error during call to suggestCharts:', error);\n",
              "          }\n",
              "          quickchartButtonEl.classList.remove('colab-df-spinner');\n",
              "          quickchartButtonEl.classList.add('colab-df-quickchart-complete');\n",
              "        }\n",
              "        (() => {\n",
              "          let quickchartButtonEl =\n",
              "            document.querySelector('#df-c44b12e6-234c-4653-bc06-bc70a2b80393 button');\n",
              "          quickchartButtonEl.style.display =\n",
              "            google.colab.kernel.accessAllowed ? 'block' : 'none';\n",
              "        })();\n",
              "      </script>\n",
              "    </div>\n",
              "\n",
              "    </div>\n",
              "  </div>\n"
            ],
            "application/vnd.google.colaboratory.intrinsic+json": {
              "type": "dataframe",
              "repr_error": "0"
            }
          },
          "metadata": {},
          "execution_count": 19
        }
      ]
    },
    {
      "cell_type": "markdown",
      "source": [
        "Not really happy with this output"
      ],
      "metadata": {
        "id": "VxfHoK8dGm-e"
      }
    },
    {
      "cell_type": "markdown",
      "source": [
        "#✅ Diagnostics\n"
      ],
      "metadata": {
        "id": "f8k7H-cHGuTR"
      }
    },
    {
      "cell_type": "code",
      "source": [
        "#How many snapshot trip_ids are found in trips.txt?\n",
        "\n",
        "found_in_trips = snapshot[\"trip_id\"].isin(trips[\"trip_id\"].astype(str)).sum()\n",
        "print(f\"{found_in_trips} of {len(snapshot)} trip_ids matched to static GTFS\")\n"
      ],
      "metadata": {
        "id": "UHxbCLwoGvJt",
        "outputId": "31689c8a-d163-4af1-8d96-cbc9a65cae71",
        "colab": {
          "base_uri": "https://localhost:8080/"
        }
      },
      "execution_count": null,
      "outputs": [
        {
          "output_type": "stream",
          "name": "stdout",
          "text": [
            "457 of 13560 trip_ids matched to static GTFS\n"
          ]
        }
      ]
    },
    {
      "cell_type": "markdown",
      "source": [
        "That’s a critical red flag:\n",
        "\n",
        "Only 457 of 13,560 trip_ids (~3.4%) in your snapshot match static GTFS.\n",
        "\n",
        "This suggests a serious mismatch between your snapshot data and the static GTFS you're using.\n",
        "\n",
        "🔍 Likely Causes (Ranked by Probability)\n",
        "1. Your GTFS Static Data is Out of Date\n",
        "Your snapshot is from 2025-07-21\n",
        "\n",
        "Your static GTFS may be older than that (e.g., from June or earlier)\n",
        "\n",
        "Trip IDs are generated per service calendar — a stale trips.txt won’t contain active IDs\n",
        "\n",
        "2. GTFS Static Source Doesn’t Match Snapshot Source\n",
        "For example, snapshot may come from a different provider (TransitLand, proprietary feed, etc.)\n",
        "\n",
        "Even for ABQ RIDE, the version of the static feed used in Transitland may not match the feed used by whoever generated the snapshot\n",
        "\n",
        "3. trip_id Normalization Issue (Unlikely Now)\n",
        "You already cast trip_id to string, but some feeds still embed formatting (e.g., trip_id=12345_ABC123) vs raw integers.\n",
        "\n"
      ],
      "metadata": {
        "id": "V8_davVuHIiV"
      }
    },
    {
      "cell_type": "markdown",
      "source": [
        "##Diagnostic Actions"
      ],
      "metadata": {
        "id": "VWvUD3PiHPvM"
      }
    },
    {
      "cell_type": "code",
      "source": [
        "#A. Inspect Sample of Unmatched trip_id Values\n",
        "\n",
        "unmatched_ids = snapshot[~snapshot[\"trip_id\"].isin(trips[\"trip_id\"].astype(str))]\n",
        "print(unmatched_ids[\"trip_id\"].drop_duplicates().head(10).to_list())"
      ],
      "metadata": {
        "id": "__45Tj1PHU8B",
        "outputId": "d29b7c66-0ea5-4c1c-e03a-fd1c86b926e4",
        "colab": {
          "base_uri": "https://localhost:8080/"
        }
      },
      "execution_count": null,
      "outputs": [
        {
          "output_type": "stream",
          "name": "stdout",
          "text": [
            "['0', 'Undetermined']\n"
          ]
        }
      ]
    },
    {
      "cell_type": "markdown",
      "source": [
        "Do they look like:\n",
        "\n",
        "\"Undetermined\" / \"0\"? (Junk)\n",
        "\n",
        "Long encoded strings? (\"12345_ABC20250721\")\n",
        "\n",
        "Structured differently than static trips.txt?"
      ],
      "metadata": {
        "id": "PoPGGn-wHaTg"
      }
    },
    {
      "cell_type": "markdown",
      "source": [
        "🔹 A. trip_id Sample\n",
        "['0', 'Undetermined']\n",
        "\n",
        "✅ Confirms that most unmatched trip_ids are invalid placeholders in the snapshot. You are not missing real IDs — the issue is bad data in the real-time source, not the static feed."
      ],
      "metadata": {
        "id": "T3Mf_VNdITmK"
      }
    },
    {
      "cell_type": "code",
      "source": [
        "#B. Compare Date Ranges in Static Feed\n",
        "\n",
        "calendar.start_date = pd.to_datetime(calendar.start_date, format=\"%Y%m%d\")\n",
        "calendar.end_date = pd.to_datetime(calendar.end_date, format=\"%Y%m%d\")\n",
        "\n",
        "calendar_summary = calendar[[\"start_date\", \"end_date\"]].agg([\"min\", \"max\"])\n",
        "print(calendar_summary)\n",
        "\n",
        "#If end_date is before 2025-07-21, that confirms you're using an outdated static feed."
      ],
      "metadata": {
        "id": "W-MkYVj7HjGC",
        "outputId": "adaa2480-205d-42fb-d8f2-bffadab7f0df",
        "colab": {
          "base_uri": "https://localhost:8080/"
        }
      },
      "execution_count": null,
      "outputs": [
        {
          "output_type": "stream",
          "name": "stdout",
          "text": [
            "    start_date   end_date\n",
            "min 2025-04-05 2025-08-22\n",
            "max 2025-04-05 2025-08-22\n"
          ]
        }
      ]
    },
    {
      "cell_type": "markdown",
      "source": [
        "🔹 B. Static GTFS Calendar\n",
        "start_date = 2025-04-05, end_date = 2025-08-22\n",
        "\n",
        "✅ Your static GTFS is valid and current for 2025-07-21.\n",
        "\n",
        "📌 So the low trip match rate is not due to feed staleness.\n",
        "\n"
      ],
      "metadata": {
        "id": "mDQnpueIIWeA"
      }
    },
    {
      "cell_type": "code",
      "source": [
        "#C. Count Valid trip_ids in Static for 2025-07-21\n",
        "\n",
        "target_date = pd.to_datetime(\"2025-07-21\")\n",
        "\n",
        "# Only trips active on this date\n",
        "valid_service_ids = calendar[\n",
        "    (calendar.start_date <= target_date) &\n",
        "    (calendar.end_date >= target_date)\n",
        "][\"service_id\"]\n",
        "\n",
        "trips_valid_on_date = trips[trips[\"service_id\"].isin(valid_service_ids)]\n",
        "print(\"Trips active on 2025-07-21:\", len(trips_valid_on_date))\n",
        "\n",
        "#If trips_valid_on_date is empty or tiny, that confirms outdated static data."
      ],
      "metadata": {
        "id": "4u_0hWLXHt7U",
        "outputId": "146c2486-d4f1-485d-f804-f770ce9e9590",
        "colab": {
          "base_uri": "https://localhost:8080/"
        }
      },
      "execution_count": null,
      "outputs": [
        {
          "output_type": "stream",
          "name": "stdout",
          "text": [
            "Trips active on 2025-07-21: 2113\n"
          ]
        }
      ]
    },
    {
      "cell_type": "markdown",
      "source": [
        "🔹 C. Trips Active on 2025-07-21\n",
        "2113 trips are valid in the static feed for that date.\n",
        "\n",
        "✅ Plenty of trips to work with — the problem is that the snapshot data is mostly populated with garbage trip IDs (not a mismatch between the datasets)."
      ],
      "metadata": {
        "id": "RijbmI9YIZQs"
      }
    },
    {
      "cell_type": "code",
      "source": [
        "#How many route_ids in snapshot match routes.txt?\n",
        "\n",
        "joined_route_ids = snapshot_with_trips[\"route_id\"].dropna().unique()\n",
        "static_route_ids = routes[\"route_id\"].astype(str).unique()\n",
        "\n",
        "missing_routes = set(joined_route_ids) - set(static_route_ids)\n",
        "print(\"Unmatched route_ids:\", missing_routes)\n"
      ],
      "metadata": {
        "id": "zuMcQlNaG0km",
        "outputId": "52b355ec-b178-4a00-dc45-456993d8df8c",
        "colab": {
          "base_uri": "https://localhost:8080/"
        }
      },
      "execution_count": null,
      "outputs": [
        {
          "output_type": "stream",
          "name": "stdout",
          "text": [
            "Unmatched route_ids: {'nan', '4309.0', '4330.0', '4321.0', '4328.0', '4331.0'}\n"
          ]
        }
      ]
    },
    {
      "cell_type": "markdown",
      "source": [
        "🔹 D. Unmatched route_ids\n",
        "{‘4309.0’, ‘4330.0’, ‘4321.0’, ‘4328.0’, ‘4331.0’}\n",
        "\n",
        "This means:\n",
        "\n",
        "route_id came into your snapshot as float values (note .0)\n",
        "\n",
        "But in GTFS static, they are likely strings, like \"4330\" (not \"4330.0\")"
      ],
      "metadata": {
        "id": "RAaENATXIbfQ"
      }
    },
    {
      "cell_type": "markdown",
      "source": [
        "#Immediate Fixes"
      ],
      "metadata": {
        "id": "l-hcPVuvIjaw"
      }
    },
    {
      "cell_type": "code",
      "source": [
        "#✅ 1. Clean Trip ID Field\n",
        "snapshot[\"trip_id\"] = snapshot[\"trip_id\"].astype(str)\n",
        "snapshot_clean = snapshot[~snapshot[\"trip_id\"].isin([\"0\", \"Undetermined\", \"\", \"nan\", \"None\"])]\n"
      ],
      "metadata": {
        "id": "Tp8ZOhSAImKt"
      },
      "execution_count": null,
      "outputs": []
    },
    {
      "cell_type": "code",
      "source": [
        "#✅ 2. Normalize and Fix route_id Formatting\n",
        "#If route_id came through as float, fix it like this:\n",
        "snapshot_clean[\"route_id\"] = snapshot_clean[\"route_id\"].astype(str).str.replace(r\"\\.0$\", \"\", regex=True)\n",
        "routes[\"route_id\"] = routes[\"route_id\"].astype(str)\n",
        "#Then re-run the merge with routes.txt."
      ],
      "metadata": {
        "id": "jJqYTK9GI4Xu"
      },
      "execution_count": null,
      "outputs": []
    },
    {
      "cell_type": "code",
      "source": [
        "#✅ 3. Re-run the Integration Pipeline\n",
        "# Merge trips again\n",
        "trips[\"trip_id\"] = trips[\"trip_id\"].astype(str)\n",
        "snapshot_with_trips = snapshot_clean.merge(trips, on=\"trip_id\", how=\"left\")\n",
        "\n",
        "# Merge routes again\n",
        "snapshot_with_trips[\"route_id\"] = snapshot_with_trips[\"route_id\"].astype(str).str.replace(r\"\\.0$\", \"\", regex=True)\n",
        "routes[\"route_id\"] = routes[\"route_id\"].astype(str)\n",
        "snapshot_full = snapshot_with_trips.merge(routes, on=\"route_id\", how=\"left\")\n"
      ],
      "metadata": {
        "id": "kFWBhnjsJEFF"
      },
      "execution_count": null,
      "outputs": []
    },
    {
      "cell_type": "code",
      "source": [
        "#🔍 Post-Integration Metrics to Recheck\n",
        "print(\"Total snapshot rows after cleaning:\", len(snapshot_clean))\n",
        "print(\"Trip match success:\", snapshot_with_trips[\"route_id\"].notnull().sum())\n",
        "print(\"Route match success:\", snapshot_full[\"route_long_name\"].notnull().sum())\n",
        "#This will help you assess how many rows are fully grounded in static GTFS."
      ],
      "metadata": {
        "id": "ymIqCOZoJNgj",
        "outputId": "cc3326fc-0ffd-4fe2-f19e-899df149b712",
        "colab": {
          "base_uri": "https://localhost:8080/"
        }
      },
      "execution_count": null,
      "outputs": [
        {
          "output_type": "stream",
          "name": "stdout",
          "text": [
            "Total snapshot rows after cleaning: 457\n",
            "Trip match success: 457\n",
            "Route match success: 457\n"
          ]
        }
      ]
    },
    {
      "cell_type": "markdown",
      "source": [
        "##🧱 Recommended Next Step: Create data_quality Column\n",
        "To future-proof this for incoming snapshots:"
      ],
      "metadata": {
        "id": "U3P0sZK3JpXQ"
      }
    },
    {
      "cell_type": "code",
      "source": [
        "def classify_row(row):\n",
        "    if row[\"trip_id\"] in [\"0\", \"Undetermined\", \"\", \"nan\", \"None\"]:\n",
        "        return \"invalid_trip_id\"\n",
        "    elif pd.isna(row[\"route_id\"]) or row[\"route_id\"] == \"nan\":\n",
        "        return \"missing_route_id\"\n",
        "    elif pd.isna(row[\"route_long_name\"]):\n",
        "        return \"missing_route_metadata\"\n",
        "    else:\n",
        "        return \"valid\"\n",
        "\n",
        "snapshot_full[\"data_quality\"] = snapshot_full.apply(classify_row, axis=1)\n",
        "snapshot_full[\"data_quality\"].value_counts()\n"
      ],
      "metadata": {
        "id": "wd_sKFBhJqiz",
        "outputId": "2701943f-6b4d-4355-ddfc-d62ea72664e5",
        "colab": {
          "base_uri": "https://localhost:8080/",
          "height": 147
        }
      },
      "execution_count": null,
      "outputs": [
        {
          "output_type": "execute_result",
          "data": {
            "text/plain": [
              "data_quality\n",
              "valid    457\n",
              "Name: count, dtype: int64"
            ],
            "text/html": [
              "<div>\n",
              "<style scoped>\n",
              "    .dataframe tbody tr th:only-of-type {\n",
              "        vertical-align: middle;\n",
              "    }\n",
              "\n",
              "    .dataframe tbody tr th {\n",
              "        vertical-align: top;\n",
              "    }\n",
              "\n",
              "    .dataframe thead th {\n",
              "        text-align: right;\n",
              "    }\n",
              "</style>\n",
              "<table border=\"1\" class=\"dataframe\">\n",
              "  <thead>\n",
              "    <tr style=\"text-align: right;\">\n",
              "      <th></th>\n",
              "      <th>count</th>\n",
              "    </tr>\n",
              "    <tr>\n",
              "      <th>data_quality</th>\n",
              "      <th></th>\n",
              "    </tr>\n",
              "  </thead>\n",
              "  <tbody>\n",
              "    <tr>\n",
              "      <th>valid</th>\n",
              "      <td>457</td>\n",
              "    </tr>\n",
              "  </tbody>\n",
              "</table>\n",
              "</div><br><label><b>dtype:</b> int64</label>"
            ]
          },
          "metadata": {},
          "execution_count": 32
        }
      ]
    },
    {
      "cell_type": "markdown",
      "source": [
        "#Checking Gabriel's *The Machine* captures"
      ],
      "metadata": {
        "id": "r1VwQ9q7LPxL"
      }
    },
    {
      "cell_type": "code",
      "source": [
        "#✅ Step 1: Load and Inspect the New Snapshot\n",
        "import pandas as pd\n",
        "\n",
        "new_snapshot_path = \"/content/cabq_gtfs_snapshots_20250722_1415.csv\"\n",
        "df_new = pd.read_csv(new_snapshot_path)\n",
        "df_new.info()\n",
        "df_new.head(3)\n",
        "\n",
        "#Also print the columns:\n",
        "print(df_new.columns.tolist())\n"
      ],
      "metadata": {
        "colab": {
          "base_uri": "https://localhost:8080/"
        },
        "id": "0ypQFlcHLSlL",
        "outputId": "66e35da7-0bb5-4a5b-c65e-da640f932399"
      },
      "execution_count": null,
      "outputs": [
        {
          "output_type": "stream",
          "name": "stdout",
          "text": [
            "<class 'pandas.core.frame.DataFrame'>\n",
            "RangeIndex: 40460 entries, 0 to 40459\n",
            "Data columns (total 12 columns):\n",
            " #   Column                Non-Null Count  Dtype  \n",
            "---  ------                --------------  -----  \n",
            " 0   snapshot_id           40460 non-null  int64  \n",
            " 1   timestamp_collected   40460 non-null  object \n",
            " 2   vehicle_id            40460 non-null  int64  \n",
            " 3   latitude              40460 non-null  float64\n",
            " 4   longitude             40460 non-null  float64\n",
            " 5   heading               40460 non-null  float64\n",
            " 6   speed_mph             40460 non-null  float64\n",
            " 7   route_short_name      40460 non-null  object \n",
            " 8   trip_id               40460 non-null  object \n",
            " 9   next_stop_id          40460 non-null  object \n",
            " 10  next_stop_name        40460 non-null  object \n",
            " 11  next_stop_sched_time  40460 non-null  object \n",
            "dtypes: float64(4), int64(2), object(6)\n",
            "memory usage: 3.7+ MB\n",
            "['snapshot_id', 'timestamp_collected', 'vehicle_id', 'latitude', 'longitude', 'heading', 'speed_mph', 'route_short_name', 'trip_id', 'next_stop_id', 'next_stop_name', 'next_stop_sched_time']\n"
          ]
        }
      ]
    },
    {
      "cell_type": "markdown",
      "source": [
        "✅ Summary of Findings (with Fixes)\n",
        "\n",
        "🔹 Step 1: Structure & Columns\n",
        "- Metric\tValue\n",
        "- Rows\t40,460\n",
        "- Columns\t12 (core fields only)\n",
        "- trip_id\tPresent, all strings ✅\n",
        "- route_id\t❌ Missing entirely\n",
        "- route_short_name\tPresent ✅\n",
        "\n",
        "📌 Key Gap: No route_id present. That breaks the trips → routes chain we used in the previous pipeline.\n",
        "\n"
      ],
      "metadata": {
        "id": "WQM4op0xMgJK"
      }
    },
    {
      "cell_type": "code",
      "source": [
        "#✅ Step 2: Trip ID Validity\n",
        "df_new[\"trip_id\"] = df_new[\"trip_id\"].astype(str)\n",
        "invalid_trip_ids = df_new[\"trip_id\"].isin([\"0\", \"Undetermined\", \"nan\", \"\", \"None\"]).sum()\n",
        "total_rows = len(df_new)\n",
        "\n",
        "print(f\"Total rows: {total_rows}\")\n",
        "print(f\"Invalid trip_ids: {invalid_trip_ids}\")\n",
        "print(f\"Percent valid: {100 * (total_rows - invalid_trip_ids) / total_rows:.2f}%\")\n"
      ],
      "metadata": {
        "colab": {
          "base_uri": "https://localhost:8080/"
        },
        "id": "4fmA5kemLoOG",
        "outputId": "d418465f-e9ab-4311-dc7c-93d4101ef721"
      },
      "execution_count": null,
      "outputs": [
        {
          "output_type": "stream",
          "name": "stdout",
          "text": [
            "Total rows: 40460\n",
            "Invalid trip_ids: 33075\n",
            "Percent valid: 18.25%\n"
          ]
        }
      ]
    },
    {
      "cell_type": "markdown",
      "source": [
        "🔹 Step 2: trip_id Validity\n",
        "- Invalid trip_ids: 33,075 → only 18.25% valid\n",
        "\n",
        "🟡 That's a significant improvement from 3.4% in the last snapshot, but still low.\n",
        "- Still likely due to real-time feed instability or partial trip assignments."
      ],
      "metadata": {
        "id": "EWK8-N6sMxRT"
      }
    },
    {
      "cell_type": "code",
      "source": [
        "#✅ Step 3: Route ID Normalization (Preview)\n",
        "# We'll also check route formatting now that we know floats were a problem previously:\n",
        "\n",
        "df_new[\"route_id\"] = df_new[\"route_id\"].astype(str).str.replace(r\"\\.0$\", \"\", regex=True)\n",
        "print(df_new[\"route_id\"].dropna().unique()[:10])\n"
      ],
      "metadata": {
        "colab": {
          "base_uri": "https://localhost:8080/",
          "height": 547
        },
        "id": "UW_jtP_LLw8s",
        "outputId": "8e8deab6-b543-4f54-e663-5223c1bb6a5c"
      },
      "execution_count": null,
      "outputs": [
        {
          "output_type": "error",
          "ename": "KeyError",
          "evalue": "'route_id'",
          "traceback": [
            "\u001b[0;31m---------------------------------------------------------------------------\u001b[0m",
            "\u001b[0;31mKeyError\u001b[0m                                  Traceback (most recent call last)",
            "\u001b[0;32m/usr/local/lib/python3.11/dist-packages/pandas/core/indexes/base.py\u001b[0m in \u001b[0;36mget_loc\u001b[0;34m(self, key)\u001b[0m\n\u001b[1;32m   3804\u001b[0m         \u001b[0;32mtry\u001b[0m\u001b[0;34m:\u001b[0m\u001b[0;34m\u001b[0m\u001b[0;34m\u001b[0m\u001b[0m\n\u001b[0;32m-> 3805\u001b[0;31m             \u001b[0;32mreturn\u001b[0m \u001b[0mself\u001b[0m\u001b[0;34m.\u001b[0m\u001b[0m_engine\u001b[0m\u001b[0;34m.\u001b[0m\u001b[0mget_loc\u001b[0m\u001b[0;34m(\u001b[0m\u001b[0mcasted_key\u001b[0m\u001b[0;34m)\u001b[0m\u001b[0;34m\u001b[0m\u001b[0;34m\u001b[0m\u001b[0m\n\u001b[0m\u001b[1;32m   3806\u001b[0m         \u001b[0;32mexcept\u001b[0m \u001b[0mKeyError\u001b[0m \u001b[0;32mas\u001b[0m \u001b[0merr\u001b[0m\u001b[0;34m:\u001b[0m\u001b[0;34m\u001b[0m\u001b[0;34m\u001b[0m\u001b[0m\n",
            "\u001b[0;32mindex.pyx\u001b[0m in \u001b[0;36mpandas._libs.index.IndexEngine.get_loc\u001b[0;34m()\u001b[0m\n",
            "\u001b[0;32mindex.pyx\u001b[0m in \u001b[0;36mpandas._libs.index.IndexEngine.get_loc\u001b[0;34m()\u001b[0m\n",
            "\u001b[0;32mpandas/_libs/hashtable_class_helper.pxi\u001b[0m in \u001b[0;36mpandas._libs.hashtable.PyObjectHashTable.get_item\u001b[0;34m()\u001b[0m\n",
            "\u001b[0;32mpandas/_libs/hashtable_class_helper.pxi\u001b[0m in \u001b[0;36mpandas._libs.hashtable.PyObjectHashTable.get_item\u001b[0;34m()\u001b[0m\n",
            "\u001b[0;31mKeyError\u001b[0m: 'route_id'",
            "\nThe above exception was the direct cause of the following exception:\n",
            "\u001b[0;31mKeyError\u001b[0m                                  Traceback (most recent call last)",
            "\u001b[0;32m/tmp/ipython-input-4-4020467235.py\u001b[0m in \u001b[0;36m<cell line: 0>\u001b[0;34m()\u001b[0m\n\u001b[1;32m      2\u001b[0m \u001b[0;31m# We'll also check route formatting now that we know floats were a problem previously:\u001b[0m\u001b[0;34m\u001b[0m\u001b[0;34m\u001b[0m\u001b[0m\n\u001b[1;32m      3\u001b[0m \u001b[0;34m\u001b[0m\u001b[0m\n\u001b[0;32m----> 4\u001b[0;31m \u001b[0mdf_new\u001b[0m\u001b[0;34m[\u001b[0m\u001b[0;34m\"route_id\"\u001b[0m\u001b[0;34m]\u001b[0m \u001b[0;34m=\u001b[0m \u001b[0mdf_new\u001b[0m\u001b[0;34m[\u001b[0m\u001b[0;34m\"route_id\"\u001b[0m\u001b[0;34m]\u001b[0m\u001b[0;34m.\u001b[0m\u001b[0mastype\u001b[0m\u001b[0;34m(\u001b[0m\u001b[0mstr\u001b[0m\u001b[0;34m)\u001b[0m\u001b[0;34m.\u001b[0m\u001b[0mstr\u001b[0m\u001b[0;34m.\u001b[0m\u001b[0mreplace\u001b[0m\u001b[0;34m(\u001b[0m\u001b[0;34mr\"\\.0$\"\u001b[0m\u001b[0;34m,\u001b[0m \u001b[0;34m\"\"\u001b[0m\u001b[0;34m,\u001b[0m \u001b[0mregex\u001b[0m\u001b[0;34m=\u001b[0m\u001b[0;32mTrue\u001b[0m\u001b[0;34m)\u001b[0m\u001b[0;34m\u001b[0m\u001b[0;34m\u001b[0m\u001b[0m\n\u001b[0m\u001b[1;32m      5\u001b[0m \u001b[0mprint\u001b[0m\u001b[0;34m(\u001b[0m\u001b[0mdf_new\u001b[0m\u001b[0;34m[\u001b[0m\u001b[0;34m\"route_id\"\u001b[0m\u001b[0;34m]\u001b[0m\u001b[0;34m.\u001b[0m\u001b[0mdropna\u001b[0m\u001b[0;34m(\u001b[0m\u001b[0;34m)\u001b[0m\u001b[0;34m.\u001b[0m\u001b[0munique\u001b[0m\u001b[0;34m(\u001b[0m\u001b[0;34m)\u001b[0m\u001b[0;34m[\u001b[0m\u001b[0;34m:\u001b[0m\u001b[0;36m10\u001b[0m\u001b[0;34m]\u001b[0m\u001b[0;34m)\u001b[0m\u001b[0;34m\u001b[0m\u001b[0;34m\u001b[0m\u001b[0m\n",
            "\u001b[0;32m/usr/local/lib/python3.11/dist-packages/pandas/core/frame.py\u001b[0m in \u001b[0;36m__getitem__\u001b[0;34m(self, key)\u001b[0m\n\u001b[1;32m   4100\u001b[0m             \u001b[0;32mif\u001b[0m \u001b[0mself\u001b[0m\u001b[0;34m.\u001b[0m\u001b[0mcolumns\u001b[0m\u001b[0;34m.\u001b[0m\u001b[0mnlevels\u001b[0m \u001b[0;34m>\u001b[0m \u001b[0;36m1\u001b[0m\u001b[0;34m:\u001b[0m\u001b[0;34m\u001b[0m\u001b[0;34m\u001b[0m\u001b[0m\n\u001b[1;32m   4101\u001b[0m                 \u001b[0;32mreturn\u001b[0m \u001b[0mself\u001b[0m\u001b[0;34m.\u001b[0m\u001b[0m_getitem_multilevel\u001b[0m\u001b[0;34m(\u001b[0m\u001b[0mkey\u001b[0m\u001b[0;34m)\u001b[0m\u001b[0;34m\u001b[0m\u001b[0;34m\u001b[0m\u001b[0m\n\u001b[0;32m-> 4102\u001b[0;31m             \u001b[0mindexer\u001b[0m \u001b[0;34m=\u001b[0m \u001b[0mself\u001b[0m\u001b[0;34m.\u001b[0m\u001b[0mcolumns\u001b[0m\u001b[0;34m.\u001b[0m\u001b[0mget_loc\u001b[0m\u001b[0;34m(\u001b[0m\u001b[0mkey\u001b[0m\u001b[0;34m)\u001b[0m\u001b[0;34m\u001b[0m\u001b[0;34m\u001b[0m\u001b[0m\n\u001b[0m\u001b[1;32m   4103\u001b[0m             \u001b[0;32mif\u001b[0m \u001b[0mis_integer\u001b[0m\u001b[0;34m(\u001b[0m\u001b[0mindexer\u001b[0m\u001b[0;34m)\u001b[0m\u001b[0;34m:\u001b[0m\u001b[0;34m\u001b[0m\u001b[0;34m\u001b[0m\u001b[0m\n\u001b[1;32m   4104\u001b[0m                 \u001b[0mindexer\u001b[0m \u001b[0;34m=\u001b[0m \u001b[0;34m[\u001b[0m\u001b[0mindexer\u001b[0m\u001b[0;34m]\u001b[0m\u001b[0;34m\u001b[0m\u001b[0;34m\u001b[0m\u001b[0m\n",
            "\u001b[0;32m/usr/local/lib/python3.11/dist-packages/pandas/core/indexes/base.py\u001b[0m in \u001b[0;36mget_loc\u001b[0;34m(self, key)\u001b[0m\n\u001b[1;32m   3810\u001b[0m             ):\n\u001b[1;32m   3811\u001b[0m                 \u001b[0;32mraise\u001b[0m \u001b[0mInvalidIndexError\u001b[0m\u001b[0;34m(\u001b[0m\u001b[0mkey\u001b[0m\u001b[0;34m)\u001b[0m\u001b[0;34m\u001b[0m\u001b[0;34m\u001b[0m\u001b[0m\n\u001b[0;32m-> 3812\u001b[0;31m             \u001b[0;32mraise\u001b[0m \u001b[0mKeyError\u001b[0m\u001b[0;34m(\u001b[0m\u001b[0mkey\u001b[0m\u001b[0;34m)\u001b[0m \u001b[0;32mfrom\u001b[0m \u001b[0merr\u001b[0m\u001b[0;34m\u001b[0m\u001b[0;34m\u001b[0m\u001b[0m\n\u001b[0m\u001b[1;32m   3813\u001b[0m         \u001b[0;32mexcept\u001b[0m \u001b[0mTypeError\u001b[0m\u001b[0;34m:\u001b[0m\u001b[0;34m\u001b[0m\u001b[0;34m\u001b[0m\u001b[0m\n\u001b[1;32m   3814\u001b[0m             \u001b[0;31m# If we have a listlike key, _check_indexing_error will raise\u001b[0m\u001b[0;34m\u001b[0m\u001b[0;34m\u001b[0m\u001b[0m\n",
            "\u001b[0;31mKeyError\u001b[0m: 'route_id'"
          ]
        }
      ]
    },
    {
      "cell_type": "markdown",
      "source": [
        "🔹 Step 3: route_id Access Fails\n",
        "- ❌ KeyError: 'route_id'\n",
        "This means this snapshot does not include route_id at all.\n",
        "\n",
        "So you'll have to:\n",
        "\n",
        "- Get route_id from a merge with static GTFS trips.txt, using trip_id\n",
        "\n",
        "- Then (optionally) use route_id to merge with routes.txt"
      ],
      "metadata": {
        "id": "fauEJ9sDM4uR"
      }
    },
    {
      "cell_type": "code",
      "source": [
        "#✅ Step 4: Compare Columns to Prior Snapshot\n",
        "\n",
        "# Assuming you still have previous snapshot loaded as `snapshot`\n",
        "print(\"Previous columns:\", set(snapshot.columns))\n",
        "print(\"New columns:     \", set(df_new.columns))\n",
        "\n",
        "missing_in_new = set(snapshot.columns) - set(df_new.columns)\n",
        "new_extras = set(df_new.columns) - set(snapshot.columns)\n",
        "\n",
        "print(\"Missing columns in new snapshot:\", missing_in_new)\n",
        "print(\"New extra columns in new snapshot:\", new_extras)\n"
      ],
      "metadata": {
        "colab": {
          "base_uri": "https://localhost:8080/",
          "height": 211
        },
        "id": "HaHXUkG8L12g",
        "outputId": "f64397e6-e82c-4224-9ce2-bc89339dac8e"
      },
      "execution_count": null,
      "outputs": [
        {
          "output_type": "error",
          "ename": "NameError",
          "evalue": "name 'snapshot' is not defined",
          "traceback": [
            "\u001b[0;31m---------------------------------------------------------------------------\u001b[0m",
            "\u001b[0;31mNameError\u001b[0m                                 Traceback (most recent call last)",
            "\u001b[0;32m/tmp/ipython-input-5-3767873416.py\u001b[0m in \u001b[0;36m<cell line: 0>\u001b[0;34m()\u001b[0m\n\u001b[1;32m      2\u001b[0m \u001b[0;34m\u001b[0m\u001b[0m\n\u001b[1;32m      3\u001b[0m \u001b[0;31m# Assuming you still have previous snapshot loaded as `snapshot`\u001b[0m\u001b[0;34m\u001b[0m\u001b[0;34m\u001b[0m\u001b[0m\n\u001b[0;32m----> 4\u001b[0;31m \u001b[0mprint\u001b[0m\u001b[0;34m(\u001b[0m\u001b[0;34m\"Previous columns:\"\u001b[0m\u001b[0;34m,\u001b[0m \u001b[0mset\u001b[0m\u001b[0;34m(\u001b[0m\u001b[0msnapshot\u001b[0m\u001b[0;34m.\u001b[0m\u001b[0mcolumns\u001b[0m\u001b[0;34m)\u001b[0m\u001b[0;34m)\u001b[0m\u001b[0;34m\u001b[0m\u001b[0;34m\u001b[0m\u001b[0m\n\u001b[0m\u001b[1;32m      5\u001b[0m \u001b[0mprint\u001b[0m\u001b[0;34m(\u001b[0m\u001b[0;34m\"New columns:     \"\u001b[0m\u001b[0;34m,\u001b[0m \u001b[0mset\u001b[0m\u001b[0;34m(\u001b[0m\u001b[0mdf_new\u001b[0m\u001b[0;34m.\u001b[0m\u001b[0mcolumns\u001b[0m\u001b[0;34m)\u001b[0m\u001b[0;34m)\u001b[0m\u001b[0;34m\u001b[0m\u001b[0;34m\u001b[0m\u001b[0m\n\u001b[1;32m      6\u001b[0m \u001b[0;34m\u001b[0m\u001b[0m\n",
            "\u001b[0;31mNameError\u001b[0m: name 'snapshot' is not defined"
          ]
        }
      ]
    },
    {
      "cell_type": "markdown",
      "source": [
        "🔹 Step 4: snapshot is undefined\n",
        "\n",
        "Expected — you're in a fresh notebook."
      ],
      "metadata": {
        "id": "9a3yqT4tM9zT"
      }
    },
    {
      "cell_type": "code",
      "source": [],
      "metadata": {
        "id": "Uj0Zc8TNM_Gr"
      },
      "execution_count": null,
      "outputs": []
    },
    {
      "cell_type": "markdown",
      "source": [
        "#Fixes and next steps"
      ],
      "metadata": {
        "id": "WFyycMMTNB8F"
      }
    },
    {
      "cell_type": "code",
      "source": [
        "#✅ Step 1: Reload Static GTFS and Normalize It\n",
        "import pandas as pd\n",
        "import zipfile\n",
        "\n",
        "# Adjust if needed — make sure this is the static feed aligned with 2025-07-22\n",
        "gtfs_zip_path = \"/content/google_transit.zip\"\n",
        "\n",
        "with zipfile.ZipFile(gtfs_zip_path, 'r') as zip_ref:\n",
        "    zip_ref.extractall(\"/content/gtfs_static\")\n",
        "\n",
        "trips = pd.read_csv(\"/content/gtfs_static/trips.txt\", dtype=str)\n",
        "routes = pd.read_csv(\"/content/gtfs_static/routes.txt\", dtype=str)\n"
      ],
      "metadata": {
        "id": "_bLK0Q2PNDG3"
      },
      "execution_count": null,
      "outputs": []
    },
    {
      "cell_type": "code",
      "source": [
        "#✅ Step 2: Load and Clean New Snapshot\n",
        "df_new = pd.read_csv(\"/content/cabq_gtfs_snapshots_20250722_1415.csv\")\n",
        "df_new[\"trip_id\"] = df_new[\"trip_id\"].astype(str)\n",
        "\n",
        "# Filter invalid trip_ids\n",
        "invalid_trip_ids = [\"0\", \"Undetermined\", \"nan\", \"\", \"None\"]\n",
        "df_clean = df_new[~df_new[\"trip_id\"].isin(invalid_trip_ids)].copy()\n"
      ],
      "metadata": {
        "id": "hRsg9R1sNJk0"
      },
      "execution_count": null,
      "outputs": []
    },
    {
      "cell_type": "code",
      "source": [
        "#✅ Step 3: Merge with trips.txt to Get route_id\n",
        "df_with_trips = df_clean.merge(trips, on=\"trip_id\", how=\"left\")\n"
      ],
      "metadata": {
        "id": "QeT3MyKbNNs1"
      },
      "execution_count": null,
      "outputs": []
    },
    {
      "cell_type": "code",
      "source": [
        "#✅ Step 4: Merge with routes.txt to Get Descriptive Info\n",
        "df_with_trips[\"route_id\"] = df_with_trips[\"route_id\"].astype(str)\n",
        "routes[\"route_id\"] = routes[\"route_id\"].astype(str)\n",
        "\n",
        "df_full = df_with_trips.merge(routes, on=\"route_id\", how=\"left\")\n"
      ],
      "metadata": {
        "id": "ax8zNn88NSNb"
      },
      "execution_count": null,
      "outputs": []
    },
    {
      "cell_type": "code",
      "source": [
        "#✅ Step 5: Create a data_quality Flag\n",
        "def classify_row(row):\n",
        "    if row[\"trip_id\"] in invalid_trip_ids:\n",
        "        return \"invalid_trip_id\"\n",
        "    elif pd.isna(row[\"route_id\"]):\n",
        "        return \"missing_route_id\"\n",
        "    elif pd.isna(row[\"route_long_name\"]):\n",
        "        return \"missing_route_metadata\"\n",
        "    else:\n",
        "        return \"valid\"\n",
        "\n",
        "df_full[\"data_quality\"] = df_full.apply(classify_row, axis=1)\n",
        "print(df_full[\"data_quality\"].value_counts())\n"
      ],
      "metadata": {
        "colab": {
          "base_uri": "https://localhost:8080/"
        },
        "id": "KkvElwvqNWAM",
        "outputId": "2e95a50b-525e-4420-85f9-512f590bf693"
      },
      "execution_count": null,
      "outputs": [
        {
          "output_type": "stream",
          "name": "stdout",
          "text": [
            "data_quality\n",
            "valid    7385\n",
            "Name: count, dtype: int64\n"
          ]
        }
      ]
    },
    {
      "cell_type": "markdown",
      "source": [
        "##✅ Validation Status: ✅ Complete\n",
        "We’re now ready to proceed to the anomaly detection pipeline, which includes:"
      ],
      "metadata": {
        "id": "SQ7OA9NWOIU7"
      }
    },
    {
      "cell_type": "markdown",
      "source": [
        "🔁 Processing Pipeline Overview\n",
        "Here’s the sequence we’ll follow:\n",
        "\n",
        "1. Set Detection Parameters\n",
        "Distance threshold for \"jump\" (e.g., 250 meters)\n",
        "\n",
        "Time threshold for \"gap\" (e.g., 90 seconds)\n",
        "\n",
        "2. Prep and Sort Data\n",
        "Keep only valid entries\n",
        "\n",
        "Group by vehicle_id\n",
        "\n",
        "Sort by timestamp\n",
        "\n",
        "3. Calculate Jumps & Gaps\n",
        "Use geodesic distance between consecutive points\n",
        "\n",
        "Compute time delta between updates\n",
        "\n",
        "4. Identify Anomalies\n",
        "Mark as jump if distance > threshold\n",
        "\n",
        "Mark as gap if time > threshold\n",
        "\n",
        "Optionally flag sudden stop-to-start or heading reversals\n",
        "\n",
        "5. Organize Output\n",
        "Store anomalies with timestamps, vehicle IDs, severity\n",
        "\n",
        "Merge context (route info, etc.)\n",
        "\n",
        "6. Plot with Folium\n",
        "Show map of vehicle trajectories\n",
        "\n",
        "Color or mark anomalies (e.g., jumps as red lines, gaps as dashed)\n"
      ],
      "metadata": {
        "id": "lHPxk13HOMhr"
      }
    },
    {
      "cell_type": "markdown",
      "source": [
        "##✅ Step 0: Define Parameters & Import Utilities\n",
        "These values are based on:\n",
        "\n",
        "Urban bus velocity norms (jump = teleport)\n",
        "\n",
        "Expected GPS ping interval (<30s nominal)\n",
        "\n",
        "Real-world practice in GTFS-RT anomaly detection"
      ],
      "metadata": {
        "id": "R06FwrJBOlrv"
      }
    },
    {
      "cell_type": "code",
      "source": [
        "# Detection thresholds\n",
        "DISTANCE_THRESHOLD_METERS = 250   # Vehicle \"jump\" threshold\n",
        "TIME_THRESHOLD_SECONDS = 90       # Vehicle \"gap\" threshold\n"
      ],
      "metadata": {
        "id": "qBnUj8cfOJfh"
      },
      "execution_count": null,
      "outputs": []
    },
    {
      "cell_type": "code",
      "source": [
        "#Required Libraries\n",
        "import pandas as pd\n",
        "import numpy as np\n",
        "from datetime import datetime\n",
        "from geopy.distance import geodesic\n",
        "\n",
        "#from math import radians, cos, sin, asin, sqrt #Depricated; this was when using haversine\n"
      ],
      "metadata": {
        "id": "nrN_hPHROrbE"
      },
      "execution_count": null,
      "outputs": []
    },
    {
      "cell_type": "code",
      "source": [
        "# #We’ll use a fast Haversine function for distance in meters:\n",
        "\n",
        "# def haversine_meters(lat1, lon1, lat2, lon2):\n",
        "#     # convert decimal degrees to radians\n",
        "#     lat1, lon1, lat2, lon2 = map(np.radians, [lat1, lon1, lat2, lon2])\n",
        "#     # haversine formula\n",
        "#     dlat = lat2 - lat1\n",
        "#     dlon = lon2 - lon1\n",
        "#     a = np.sin(dlat/2)**2 + np.cos(lat1) * np.cos(lat2) * np.sin(dlon/2)**2\n",
        "#     c = 2 * np.arcsin(np.sqrt(a))\n",
        "#     return 6371000 * c  # Radius of Earth in meters\n"
      ],
      "metadata": {
        "id": "guWs-s8_Oumn"
      },
      "execution_count": null,
      "outputs": []
    },
    {
      "cell_type": "code",
      "source": [
        "def parse_timestamp(ts):\n",
        "    return pd.to_datetime(ts, utc=True)\n"
      ],
      "metadata": {
        "id": "ej7hNFl_PksU"
      },
      "execution_count": null,
      "outputs": []
    },
    {
      "cell_type": "markdown",
      "source": [
        "###Optional geopy version\n",
        "\n",
        "Reasoning: in areas with elevation shifts or nontrivial curvature (like Albuquerque’s foothills or valley transit zones), geopy.distance.geodesic provides more accurate spatial calculations than Haversine."
      ],
      "metadata": {
        "id": "dOlIiY15O9gF"
      }
    },
    {
      "cell_type": "code",
      "source": [
        "def geopy_distance(row1, row2):\n",
        "    return geodesic(\n",
        "        (row1[\"latitude\"], row1[\"longitude\"]),\n",
        "        (row2[\"latitude\"], row2[\"longitude\"])\n",
        "    ).meters\n"
      ],
      "metadata": {
        "id": "TTzfOuHAO0P8"
      },
      "execution_count": null,
      "outputs": []
    },
    {
      "cell_type": "markdown",
      "source": [
        "###Sample diagnostic\n",
        "Try testing this with two consecutive points from one vehicle:"
      ],
      "metadata": {
        "id": "eJ_GFDJUPm5Q"
      }
    },
    {
      "cell_type": "code",
      "source": [
        "# Example: pick one vehicle's two points\n",
        "vehicle_id = df_full[df_full[\"data_quality\"] == \"valid\"][\"vehicle_id\"].iloc[0]\n",
        "df_vehicle = df_full[df_full[\"vehicle_id\"] == vehicle_id].sort_values(\"timestamp_collected\")\n",
        "\n",
        "# Check distance\n",
        "geopy_distance(df_vehicle.iloc[0], df_vehicle.iloc[1])\n"
      ],
      "metadata": {
        "colab": {
          "base_uri": "https://localhost:8080/"
        },
        "id": "wLHP4YkKPpp3",
        "outputId": "bafd3a25-4eb8-4c21-cbf7-6e70fc7dd690"
      },
      "execution_count": null,
      "outputs": [
        {
          "output_type": "execute_result",
          "data": {
            "text/plain": [
              "348.71656092816204"
            ]
          },
          "metadata": {},
          "execution_count": 12
        }
      ]
    },
    {
      "cell_type": "markdown",
      "source": [
        "##✅ Step 1: Prep and Sort the Valid Data\n",
        "Let’s now build the full foundation for anomaly detection:"
      ],
      "metadata": {
        "id": "-3ZZvbQEP6Y5"
      }
    },
    {
      "cell_type": "code",
      "source": [
        "#🔹 1.1 Filter for Valid Rows\n",
        "df_valid = df_full[df_full[\"data_quality\"] == \"valid\"].copy()\n",
        "\n",
        "#🔹 1.2 Parse Timestamps\n",
        "df_valid[\"timestamp\"] = pd.to_datetime(df_valid[\"timestamp_collected\"], utc=True)\n",
        "\n",
        "#🔹 1.3 Sort by Vehicle and Timestamp\n",
        "df_valid = df_valid.sort_values(by=[\"vehicle_id\", \"timestamp\"])\n",
        "\n",
        "#🔹 1.4 Organize by Vehicle\n",
        "#This creates a dictionary keyed by vehicle ID, each with a sorted DataFrame:\n",
        "vehicle_groups = dict(tuple(df_valid.groupby(\"vehicle_id\")))\n",
        "\n",
        "#You can confirm how many distinct vehicles you’re tracking:\n",
        "print(\"Vehicle count:\", len(vehicle_groups))\n"
      ],
      "metadata": {
        "colab": {
          "base_uri": "https://localhost:8080/"
        },
        "id": "rjtc3efkP9GU",
        "outputId": "01f40c24-0a18-482b-d7c8-b74dffe24de0"
      },
      "execution_count": null,
      "outputs": [
        {
          "output_type": "stream",
          "name": "stdout",
          "text": [
            "Vehicle count: 63\n"
          ]
        }
      ]
    },
    {
      "cell_type": "markdown",
      "source": [
        "##✅ Step 2: Calculate Jumps and Gaps\n",
        "We’ll now iterate through each vehicle's trajectory and compute:\n",
        "\n",
        "Metric\tHow it's computed\n",
        "- time_delta\tTime difference between consecutive pings\n",
        "- distance_m\tGeodesic distance between GPS points\n",
        "- is_jump\tDistance > 250m\n",
        "- is_gap\tTime > 90s"
      ],
      "metadata": {
        "id": "-RaSClgEQdP9"
      }
    },
    {
      "cell_type": "code",
      "source": [
        "# Store anomaly records\n",
        "anomaly_records = []\n",
        "\n",
        "for vehicle_id, group in vehicle_groups.items():\n",
        "    group = group.sort_values(\"timestamp\").reset_index(drop=True)\n",
        "\n",
        "    for i in range(1, len(group)):\n",
        "        row_prev = group.iloc[i - 1]\n",
        "        row_curr = group.iloc[i]\n",
        "\n",
        "        # Time delta\n",
        "        time_diff = (row_curr[\"timestamp\"] - row_prev[\"timestamp\"]).total_seconds()\n",
        "\n",
        "        # Spatial distance (meters)\n",
        "        dist = geodesic(\n",
        "            (row_prev[\"latitude\"], row_prev[\"longitude\"]),\n",
        "            (row_curr[\"latitude\"], row_curr[\"longitude\"])\n",
        "        ).meters\n",
        "\n",
        "        # Flag jump or gap\n",
        "        is_jump = dist > DISTANCE_THRESHOLD_METERS\n",
        "        is_gap = time_diff > TIME_THRESHOLD_SECONDS\n",
        "\n",
        "        if is_jump or is_gap:\n",
        "            anomaly_records.append({\n",
        "                \"vehicle_id\": vehicle_id,\n",
        "                \"timestamp_prev\": row_prev[\"timestamp\"],\n",
        "                \"timestamp_curr\": row_curr[\"timestamp\"],\n",
        "                \"time_diff_sec\": time_diff,\n",
        "                \"distance_m\": dist,\n",
        "                \"is_jump\": is_jump,\n",
        "                \"is_gap\": is_gap,\n",
        "                \"lat_prev\": row_prev[\"latitude\"],\n",
        "                \"lon_prev\": row_prev[\"longitude\"],\n",
        "                \"lat_curr\": row_curr[\"latitude\"],\n",
        "                \"lon_curr\": row_curr[\"longitude\"],\n",
        "                \"route_short_name\": row_curr.get(\"route_short_name\", None),\n",
        "                \"route_long_name\": row_curr.get(\"route_long_name\", None),\n",
        "            })\n"
      ],
      "metadata": {
        "id": "8vIGj5MxQgan"
      },
      "execution_count": null,
      "outputs": []
    },
    {
      "cell_type": "code",
      "source": [
        "#✅ Convert Results to DataFrame\n",
        "df_anomalies = pd.DataFrame(anomaly_records)\n",
        "print(\"Total anomalies detected:\", len(df_anomalies))\n",
        "df_anomalies.head()\n"
      ],
      "metadata": {
        "colab": {
          "base_uri": "https://localhost:8080/",
          "height": 330
        },
        "id": "sMi_JrRCQqll",
        "outputId": "da21c22a-1def-4b88-9bd9-ccdd5a3a83e6"
      },
      "execution_count": null,
      "outputs": [
        {
          "output_type": "stream",
          "name": "stdout",
          "text": [
            "Total anomalies detected: 1880\n"
          ]
        },
        {
          "output_type": "execute_result",
          "data": {
            "text/plain": [
              "   vehicle_id                   timestamp_prev  \\\n",
              "0         354 2025-07-22 20:20:28.457332+00:00   \n",
              "1         354 2025-07-22 20:22:29.430334+00:00   \n",
              "2         354 2025-07-22 20:24:00.131520+00:00   \n",
              "3         354 2025-07-22 20:25:00.837697+00:00   \n",
              "4         354 2025-07-22 20:27:31.951960+00:00   \n",
              "\n",
              "                    timestamp_curr  time_diff_sec  distance_m  is_jump  \\\n",
              "0 2025-07-22 20:20:58.761413+00:00      30.304081  489.194027     True   \n",
              "1 2025-07-22 20:22:59.635680+00:00      30.205346  400.874209     True   \n",
              "2 2025-07-22 20:24:30.620138+00:00      30.488618  335.396112     True   \n",
              "3 2025-07-22 20:25:31.095213+00:00      30.257516  375.283183     True   \n",
              "4 2025-07-22 20:28:02.239893+00:00      30.287933  260.261488     True   \n",
              "\n",
              "   is_gap   lat_prev    lon_prev   lat_curr    lon_curr route_short_name  \\\n",
              "0   False  35.080464 -106.622090  35.076054 -106.622117             None   \n",
              "1   False  35.073222 -106.622092  35.069608 -106.622120             None   \n",
              "2   False  35.067028 -106.622092  35.064006 -106.622027             None   \n",
              "3   False  35.062173 -106.622060  35.058791 -106.622124             None   \n",
              "4   False  35.054966 -106.622078  35.052620 -106.622047             None   \n",
              "\n",
              "    route_long_name  \n",
              "0  Airport/Downtown  \n",
              "1  Airport/Downtown  \n",
              "2  Airport/Downtown  \n",
              "3  Airport/Downtown  \n",
              "4  Airport/Downtown  "
            ],
            "text/html": [
              "\n",
              "  <div id=\"df-49d18d26-7a7c-44ce-9319-cfc41f6dc4e0\" class=\"colab-df-container\">\n",
              "    <div>\n",
              "<style scoped>\n",
              "    .dataframe tbody tr th:only-of-type {\n",
              "        vertical-align: middle;\n",
              "    }\n",
              "\n",
              "    .dataframe tbody tr th {\n",
              "        vertical-align: top;\n",
              "    }\n",
              "\n",
              "    .dataframe thead th {\n",
              "        text-align: right;\n",
              "    }\n",
              "</style>\n",
              "<table border=\"1\" class=\"dataframe\">\n",
              "  <thead>\n",
              "    <tr style=\"text-align: right;\">\n",
              "      <th></th>\n",
              "      <th>vehicle_id</th>\n",
              "      <th>timestamp_prev</th>\n",
              "      <th>timestamp_curr</th>\n",
              "      <th>time_diff_sec</th>\n",
              "      <th>distance_m</th>\n",
              "      <th>is_jump</th>\n",
              "      <th>is_gap</th>\n",
              "      <th>lat_prev</th>\n",
              "      <th>lon_prev</th>\n",
              "      <th>lat_curr</th>\n",
              "      <th>lon_curr</th>\n",
              "      <th>route_short_name</th>\n",
              "      <th>route_long_name</th>\n",
              "    </tr>\n",
              "  </thead>\n",
              "  <tbody>\n",
              "    <tr>\n",
              "      <th>0</th>\n",
              "      <td>354</td>\n",
              "      <td>2025-07-22 20:20:28.457332+00:00</td>\n",
              "      <td>2025-07-22 20:20:58.761413+00:00</td>\n",
              "      <td>30.304081</td>\n",
              "      <td>489.194027</td>\n",
              "      <td>True</td>\n",
              "      <td>False</td>\n",
              "      <td>35.080464</td>\n",
              "      <td>-106.622090</td>\n",
              "      <td>35.076054</td>\n",
              "      <td>-106.622117</td>\n",
              "      <td>None</td>\n",
              "      <td>Airport/Downtown</td>\n",
              "    </tr>\n",
              "    <tr>\n",
              "      <th>1</th>\n",
              "      <td>354</td>\n",
              "      <td>2025-07-22 20:22:29.430334+00:00</td>\n",
              "      <td>2025-07-22 20:22:59.635680+00:00</td>\n",
              "      <td>30.205346</td>\n",
              "      <td>400.874209</td>\n",
              "      <td>True</td>\n",
              "      <td>False</td>\n",
              "      <td>35.073222</td>\n",
              "      <td>-106.622092</td>\n",
              "      <td>35.069608</td>\n",
              "      <td>-106.622120</td>\n",
              "      <td>None</td>\n",
              "      <td>Airport/Downtown</td>\n",
              "    </tr>\n",
              "    <tr>\n",
              "      <th>2</th>\n",
              "      <td>354</td>\n",
              "      <td>2025-07-22 20:24:00.131520+00:00</td>\n",
              "      <td>2025-07-22 20:24:30.620138+00:00</td>\n",
              "      <td>30.488618</td>\n",
              "      <td>335.396112</td>\n",
              "      <td>True</td>\n",
              "      <td>False</td>\n",
              "      <td>35.067028</td>\n",
              "      <td>-106.622092</td>\n",
              "      <td>35.064006</td>\n",
              "      <td>-106.622027</td>\n",
              "      <td>None</td>\n",
              "      <td>Airport/Downtown</td>\n",
              "    </tr>\n",
              "    <tr>\n",
              "      <th>3</th>\n",
              "      <td>354</td>\n",
              "      <td>2025-07-22 20:25:00.837697+00:00</td>\n",
              "      <td>2025-07-22 20:25:31.095213+00:00</td>\n",
              "      <td>30.257516</td>\n",
              "      <td>375.283183</td>\n",
              "      <td>True</td>\n",
              "      <td>False</td>\n",
              "      <td>35.062173</td>\n",
              "      <td>-106.622060</td>\n",
              "      <td>35.058791</td>\n",
              "      <td>-106.622124</td>\n",
              "      <td>None</td>\n",
              "      <td>Airport/Downtown</td>\n",
              "    </tr>\n",
              "    <tr>\n",
              "      <th>4</th>\n",
              "      <td>354</td>\n",
              "      <td>2025-07-22 20:27:31.951960+00:00</td>\n",
              "      <td>2025-07-22 20:28:02.239893+00:00</td>\n",
              "      <td>30.287933</td>\n",
              "      <td>260.261488</td>\n",
              "      <td>True</td>\n",
              "      <td>False</td>\n",
              "      <td>35.054966</td>\n",
              "      <td>-106.622078</td>\n",
              "      <td>35.052620</td>\n",
              "      <td>-106.622047</td>\n",
              "      <td>None</td>\n",
              "      <td>Airport/Downtown</td>\n",
              "    </tr>\n",
              "  </tbody>\n",
              "</table>\n",
              "</div>\n",
              "    <div class=\"colab-df-buttons\">\n",
              "\n",
              "  <div class=\"colab-df-container\">\n",
              "    <button class=\"colab-df-convert\" onclick=\"convertToInteractive('df-49d18d26-7a7c-44ce-9319-cfc41f6dc4e0')\"\n",
              "            title=\"Convert this dataframe to an interactive table.\"\n",
              "            style=\"display:none;\">\n",
              "\n",
              "  <svg xmlns=\"http://www.w3.org/2000/svg\" height=\"24px\" viewBox=\"0 -960 960 960\">\n",
              "    <path d=\"M120-120v-720h720v720H120Zm60-500h600v-160H180v160Zm220 220h160v-160H400v160Zm0 220h160v-160H400v160ZM180-400h160v-160H180v160Zm440 0h160v-160H620v160ZM180-180h160v-160H180v160Zm440 0h160v-160H620v160Z\"/>\n",
              "  </svg>\n",
              "    </button>\n",
              "\n",
              "  <style>\n",
              "    .colab-df-container {\n",
              "      display:flex;\n",
              "      gap: 12px;\n",
              "    }\n",
              "\n",
              "    .colab-df-convert {\n",
              "      background-color: #E8F0FE;\n",
              "      border: none;\n",
              "      border-radius: 50%;\n",
              "      cursor: pointer;\n",
              "      display: none;\n",
              "      fill: #1967D2;\n",
              "      height: 32px;\n",
              "      padding: 0 0 0 0;\n",
              "      width: 32px;\n",
              "    }\n",
              "\n",
              "    .colab-df-convert:hover {\n",
              "      background-color: #E2EBFA;\n",
              "      box-shadow: 0px 1px 2px rgba(60, 64, 67, 0.3), 0px 1px 3px 1px rgba(60, 64, 67, 0.15);\n",
              "      fill: #174EA6;\n",
              "    }\n",
              "\n",
              "    .colab-df-buttons div {\n",
              "      margin-bottom: 4px;\n",
              "    }\n",
              "\n",
              "    [theme=dark] .colab-df-convert {\n",
              "      background-color: #3B4455;\n",
              "      fill: #D2E3FC;\n",
              "    }\n",
              "\n",
              "    [theme=dark] .colab-df-convert:hover {\n",
              "      background-color: #434B5C;\n",
              "      box-shadow: 0px 1px 3px 1px rgba(0, 0, 0, 0.15);\n",
              "      filter: drop-shadow(0px 1px 2px rgba(0, 0, 0, 0.3));\n",
              "      fill: #FFFFFF;\n",
              "    }\n",
              "  </style>\n",
              "\n",
              "    <script>\n",
              "      const buttonEl =\n",
              "        document.querySelector('#df-49d18d26-7a7c-44ce-9319-cfc41f6dc4e0 button.colab-df-convert');\n",
              "      buttonEl.style.display =\n",
              "        google.colab.kernel.accessAllowed ? 'block' : 'none';\n",
              "\n",
              "      async function convertToInteractive(key) {\n",
              "        const element = document.querySelector('#df-49d18d26-7a7c-44ce-9319-cfc41f6dc4e0');\n",
              "        const dataTable =\n",
              "          await google.colab.kernel.invokeFunction('convertToInteractive',\n",
              "                                                    [key], {});\n",
              "        if (!dataTable) return;\n",
              "\n",
              "        const docLinkHtml = 'Like what you see? Visit the ' +\n",
              "          '<a target=\"_blank\" href=https://colab.research.google.com/notebooks/data_table.ipynb>data table notebook</a>'\n",
              "          + ' to learn more about interactive tables.';\n",
              "        element.innerHTML = '';\n",
              "        dataTable['output_type'] = 'display_data';\n",
              "        await google.colab.output.renderOutput(dataTable, element);\n",
              "        const docLink = document.createElement('div');\n",
              "        docLink.innerHTML = docLinkHtml;\n",
              "        element.appendChild(docLink);\n",
              "      }\n",
              "    </script>\n",
              "  </div>\n",
              "\n",
              "\n",
              "    <div id=\"df-9b33a6a6-3062-489d-bd32-cdc641249207\">\n",
              "      <button class=\"colab-df-quickchart\" onclick=\"quickchart('df-9b33a6a6-3062-489d-bd32-cdc641249207')\"\n",
              "                title=\"Suggest charts\"\n",
              "                style=\"display:none;\">\n",
              "\n",
              "<svg xmlns=\"http://www.w3.org/2000/svg\" height=\"24px\"viewBox=\"0 0 24 24\"\n",
              "     width=\"24px\">\n",
              "    <g>\n",
              "        <path d=\"M19 3H5c-1.1 0-2 .9-2 2v14c0 1.1.9 2 2 2h14c1.1 0 2-.9 2-2V5c0-1.1-.9-2-2-2zM9 17H7v-7h2v7zm4 0h-2V7h2v10zm4 0h-2v-4h2v4z\"/>\n",
              "    </g>\n",
              "</svg>\n",
              "      </button>\n",
              "\n",
              "<style>\n",
              "  .colab-df-quickchart {\n",
              "      --bg-color: #E8F0FE;\n",
              "      --fill-color: #1967D2;\n",
              "      --hover-bg-color: #E2EBFA;\n",
              "      --hover-fill-color: #174EA6;\n",
              "      --disabled-fill-color: #AAA;\n",
              "      --disabled-bg-color: #DDD;\n",
              "  }\n",
              "\n",
              "  [theme=dark] .colab-df-quickchart {\n",
              "      --bg-color: #3B4455;\n",
              "      --fill-color: #D2E3FC;\n",
              "      --hover-bg-color: #434B5C;\n",
              "      --hover-fill-color: #FFFFFF;\n",
              "      --disabled-bg-color: #3B4455;\n",
              "      --disabled-fill-color: #666;\n",
              "  }\n",
              "\n",
              "  .colab-df-quickchart {\n",
              "    background-color: var(--bg-color);\n",
              "    border: none;\n",
              "    border-radius: 50%;\n",
              "    cursor: pointer;\n",
              "    display: none;\n",
              "    fill: var(--fill-color);\n",
              "    height: 32px;\n",
              "    padding: 0;\n",
              "    width: 32px;\n",
              "  }\n",
              "\n",
              "  .colab-df-quickchart:hover {\n",
              "    background-color: var(--hover-bg-color);\n",
              "    box-shadow: 0 1px 2px rgba(60, 64, 67, 0.3), 0 1px 3px 1px rgba(60, 64, 67, 0.15);\n",
              "    fill: var(--button-hover-fill-color);\n",
              "  }\n",
              "\n",
              "  .colab-df-quickchart-complete:disabled,\n",
              "  .colab-df-quickchart-complete:disabled:hover {\n",
              "    background-color: var(--disabled-bg-color);\n",
              "    fill: var(--disabled-fill-color);\n",
              "    box-shadow: none;\n",
              "  }\n",
              "\n",
              "  .colab-df-spinner {\n",
              "    border: 2px solid var(--fill-color);\n",
              "    border-color: transparent;\n",
              "    border-bottom-color: var(--fill-color);\n",
              "    animation:\n",
              "      spin 1s steps(1) infinite;\n",
              "  }\n",
              "\n",
              "  @keyframes spin {\n",
              "    0% {\n",
              "      border-color: transparent;\n",
              "      border-bottom-color: var(--fill-color);\n",
              "      border-left-color: var(--fill-color);\n",
              "    }\n",
              "    20% {\n",
              "      border-color: transparent;\n",
              "      border-left-color: var(--fill-color);\n",
              "      border-top-color: var(--fill-color);\n",
              "    }\n",
              "    30% {\n",
              "      border-color: transparent;\n",
              "      border-left-color: var(--fill-color);\n",
              "      border-top-color: var(--fill-color);\n",
              "      border-right-color: var(--fill-color);\n",
              "    }\n",
              "    40% {\n",
              "      border-color: transparent;\n",
              "      border-right-color: var(--fill-color);\n",
              "      border-top-color: var(--fill-color);\n",
              "    }\n",
              "    60% {\n",
              "      border-color: transparent;\n",
              "      border-right-color: var(--fill-color);\n",
              "    }\n",
              "    80% {\n",
              "      border-color: transparent;\n",
              "      border-right-color: var(--fill-color);\n",
              "      border-bottom-color: var(--fill-color);\n",
              "    }\n",
              "    90% {\n",
              "      border-color: transparent;\n",
              "      border-bottom-color: var(--fill-color);\n",
              "    }\n",
              "  }\n",
              "</style>\n",
              "\n",
              "      <script>\n",
              "        async function quickchart(key) {\n",
              "          const quickchartButtonEl =\n",
              "            document.querySelector('#' + key + ' button');\n",
              "          quickchartButtonEl.disabled = true;  // To prevent multiple clicks.\n",
              "          quickchartButtonEl.classList.add('colab-df-spinner');\n",
              "          try {\n",
              "            const charts = await google.colab.kernel.invokeFunction(\n",
              "                'suggestCharts', [key], {});\n",
              "          } catch (error) {\n",
              "            console.error('Error during call to suggestCharts:', error);\n",
              "          }\n",
              "          quickchartButtonEl.classList.remove('colab-df-spinner');\n",
              "          quickchartButtonEl.classList.add('colab-df-quickchart-complete');\n",
              "        }\n",
              "        (() => {\n",
              "          let quickchartButtonEl =\n",
              "            document.querySelector('#df-9b33a6a6-3062-489d-bd32-cdc641249207 button');\n",
              "          quickchartButtonEl.style.display =\n",
              "            google.colab.kernel.accessAllowed ? 'block' : 'none';\n",
              "        })();\n",
              "      </script>\n",
              "    </div>\n",
              "\n",
              "    </div>\n",
              "  </div>\n"
            ],
            "application/vnd.google.colaboratory.intrinsic+json": {
              "type": "dataframe",
              "variable_name": "df_anomalies",
              "repr_error": "Out of range float values are not JSON compliant: nan"
            }
          },
          "metadata": {},
          "execution_count": 15
        }
      ]
    },
    {
      "cell_type": "markdown",
      "source": [
        "##Validation Summary:\n",
        "| Metric                      | Value                                                        |\n",
        "| --------------------------- | ------------------------------------------------------------ |\n",
        "| **Total vehicles analyzed** | 63                                                           |\n",
        "| **Total anomalies found**   | 1,880                                                        |\n",
        "| **Sample anomalies**        | All from vehicle `354`, Airport/Downtown                     |\n",
        "| **Common pattern**          | `True` jumps with `~30s` intervals and 260–490m displacement |\n",
        "\n",
        "This suggests strong detection of micro-teleports — likely from missing intermediate GPS points or sudden location updates.\n",
        "\n",
        "⚠️ Notable Data Quirk\n",
        "\"route_short_name\": None\n",
        "Yet \"route_long_name\" is present: \"Airport/Downtown\"\n",
        "\n",
        "This likely means the route_short_name field wasn't carried through during one of your joins. If needed, we can retroactively fill it in using the routes.txt file."
      ],
      "metadata": {
        "id": "1oeOXyBhQ3IU"
      }
    },
    {
      "cell_type": "markdown",
      "source": [
        "###✅ Next Step: Filter and Organize Anomalies\n",
        "Let’s prep for mapping by grouping and selecting:"
      ],
      "metadata": {
        "id": "HNJvUDf7RFoR"
      }
    },
    {
      "cell_type": "code",
      "source": [
        "#🔹 A. Filter to High-Severity Anomalies (Optional)\n",
        "df_jumps = df_anomalies[df_anomalies[\"is_jump\"]]\n",
        "df_gaps = df_anomalies[df_anomalies[\"is_gap\"]]\n",
        "\n",
        "#You can also filter further by distance:\n",
        "df_big_jumps = df_jumps[df_jumps[\"distance_m\"] > 500]\n",
        "\n",
        "#🔹 B. Group by Vehicle for Plotting\n",
        "jump_groups = df_jumps.groupby(\"vehicle_id\")\n"
      ],
      "metadata": {
        "id": "k5t2ktq7Q4_5"
      },
      "execution_count": null,
      "outputs": []
    },
    {
      "cell_type": "markdown",
      "source": [
        "###Let's find some additional anomalies"
      ],
      "metadata": {
        "id": "jdPjVyqwRdc9"
      }
    },
    {
      "cell_type": "markdown",
      "source": [
        "🔹 3. Stationary-While-Moving (Stuck Vehicles)\n",
        "Vehicle speed ≈ 0 for many updates in a row\n",
        "\n",
        "Coordinates don’t change\n",
        "\n",
        "Could indicate sensor freeze, or real-world delay"
      ],
      "metadata": {
        "id": "-I_qbWykRkmB"
      }
    },
    {
      "cell_type": "code",
      "source": [
        "rolling_stationary = group[\"speed_mph\"].rolling(window=4).mean() < 1.0\n"
      ],
      "metadata": {
        "id": "pWIRU-1CRftN"
      },
      "execution_count": null,
      "outputs": []
    },
    {
      "cell_type": "markdown",
      "source": [
        "🔹 4. Impossible Speeds\n",
        "Distance / time implies speed > 100 km/h\n",
        "\n",
        "Implies faulty GPS update or sudden jump"
      ],
      "metadata": {
        "id": "GrLxWT5mRoRS"
      }
    },
    {
      "cell_type": "code",
      "source": [
        "df_anomalies[\"computed_speed_kph\"] = (df_anomalies[\"distance_m\"] / df_anomalies[\"time_diff_sec\"]) * 3.6\n",
        "df_anomalies[df_anomalies[\"computed_speed_kph\"] > 120]\n"
      ],
      "metadata": {
        "colab": {
          "base_uri": "https://localhost:8080/",
          "height": 118
        },
        "id": "vxd3M2z2RrCw",
        "outputId": "214c044b-04d5-48bd-ca4f-327de05d9e56"
      },
      "execution_count": null,
      "outputs": [
        {
          "output_type": "execute_result",
          "data": {
            "text/plain": [
              "     vehicle_id                   timestamp_prev  \\\n",
              "518         455 2025-07-22 21:09:23.190301+00:00   \n",
              "\n",
              "                      timestamp_curr  time_diff_sec   distance_m  is_jump  \\\n",
              "518 2025-07-22 21:09:53.392474+00:00      30.202173  1113.136634     True   \n",
              "\n",
              "     is_gap  lat_prev    lon_prev   lat_curr   lon_curr route_short_name  \\\n",
              "518   False  35.13711 -106.701018  35.144743 -106.69309             None   \n",
              "\n",
              "    route_long_name  computed_speed_kph  \n",
              "518           Coors          132.682237  "
            ],
            "text/html": [
              "\n",
              "  <div id=\"df-91412b9c-2dd7-401f-a318-c4f1121bc3f0\" class=\"colab-df-container\">\n",
              "    <div>\n",
              "<style scoped>\n",
              "    .dataframe tbody tr th:only-of-type {\n",
              "        vertical-align: middle;\n",
              "    }\n",
              "\n",
              "    .dataframe tbody tr th {\n",
              "        vertical-align: top;\n",
              "    }\n",
              "\n",
              "    .dataframe thead th {\n",
              "        text-align: right;\n",
              "    }\n",
              "</style>\n",
              "<table border=\"1\" class=\"dataframe\">\n",
              "  <thead>\n",
              "    <tr style=\"text-align: right;\">\n",
              "      <th></th>\n",
              "      <th>vehicle_id</th>\n",
              "      <th>timestamp_prev</th>\n",
              "      <th>timestamp_curr</th>\n",
              "      <th>time_diff_sec</th>\n",
              "      <th>distance_m</th>\n",
              "      <th>is_jump</th>\n",
              "      <th>is_gap</th>\n",
              "      <th>lat_prev</th>\n",
              "      <th>lon_prev</th>\n",
              "      <th>lat_curr</th>\n",
              "      <th>lon_curr</th>\n",
              "      <th>route_short_name</th>\n",
              "      <th>route_long_name</th>\n",
              "      <th>computed_speed_kph</th>\n",
              "    </tr>\n",
              "  </thead>\n",
              "  <tbody>\n",
              "    <tr>\n",
              "      <th>518</th>\n",
              "      <td>455</td>\n",
              "      <td>2025-07-22 21:09:23.190301+00:00</td>\n",
              "      <td>2025-07-22 21:09:53.392474+00:00</td>\n",
              "      <td>30.202173</td>\n",
              "      <td>1113.136634</td>\n",
              "      <td>True</td>\n",
              "      <td>False</td>\n",
              "      <td>35.13711</td>\n",
              "      <td>-106.701018</td>\n",
              "      <td>35.144743</td>\n",
              "      <td>-106.69309</td>\n",
              "      <td>None</td>\n",
              "      <td>Coors</td>\n",
              "      <td>132.682237</td>\n",
              "    </tr>\n",
              "  </tbody>\n",
              "</table>\n",
              "</div>\n",
              "    <div class=\"colab-df-buttons\">\n",
              "\n",
              "  <div class=\"colab-df-container\">\n",
              "    <button class=\"colab-df-convert\" onclick=\"convertToInteractive('df-91412b9c-2dd7-401f-a318-c4f1121bc3f0')\"\n",
              "            title=\"Convert this dataframe to an interactive table.\"\n",
              "            style=\"display:none;\">\n",
              "\n",
              "  <svg xmlns=\"http://www.w3.org/2000/svg\" height=\"24px\" viewBox=\"0 -960 960 960\">\n",
              "    <path d=\"M120-120v-720h720v720H120Zm60-500h600v-160H180v160Zm220 220h160v-160H400v160Zm0 220h160v-160H400v160ZM180-400h160v-160H180v160Zm440 0h160v-160H620v160ZM180-180h160v-160H180v160Zm440 0h160v-160H620v160Z\"/>\n",
              "  </svg>\n",
              "    </button>\n",
              "\n",
              "  <style>\n",
              "    .colab-df-container {\n",
              "      display:flex;\n",
              "      gap: 12px;\n",
              "    }\n",
              "\n",
              "    .colab-df-convert {\n",
              "      background-color: #E8F0FE;\n",
              "      border: none;\n",
              "      border-radius: 50%;\n",
              "      cursor: pointer;\n",
              "      display: none;\n",
              "      fill: #1967D2;\n",
              "      height: 32px;\n",
              "      padding: 0 0 0 0;\n",
              "      width: 32px;\n",
              "    }\n",
              "\n",
              "    .colab-df-convert:hover {\n",
              "      background-color: #E2EBFA;\n",
              "      box-shadow: 0px 1px 2px rgba(60, 64, 67, 0.3), 0px 1px 3px 1px rgba(60, 64, 67, 0.15);\n",
              "      fill: #174EA6;\n",
              "    }\n",
              "\n",
              "    .colab-df-buttons div {\n",
              "      margin-bottom: 4px;\n",
              "    }\n",
              "\n",
              "    [theme=dark] .colab-df-convert {\n",
              "      background-color: #3B4455;\n",
              "      fill: #D2E3FC;\n",
              "    }\n",
              "\n",
              "    [theme=dark] .colab-df-convert:hover {\n",
              "      background-color: #434B5C;\n",
              "      box-shadow: 0px 1px 3px 1px rgba(0, 0, 0, 0.15);\n",
              "      filter: drop-shadow(0px 1px 2px rgba(0, 0, 0, 0.3));\n",
              "      fill: #FFFFFF;\n",
              "    }\n",
              "  </style>\n",
              "\n",
              "    <script>\n",
              "      const buttonEl =\n",
              "        document.querySelector('#df-91412b9c-2dd7-401f-a318-c4f1121bc3f0 button.colab-df-convert');\n",
              "      buttonEl.style.display =\n",
              "        google.colab.kernel.accessAllowed ? 'block' : 'none';\n",
              "\n",
              "      async function convertToInteractive(key) {\n",
              "        const element = document.querySelector('#df-91412b9c-2dd7-401f-a318-c4f1121bc3f0');\n",
              "        const dataTable =\n",
              "          await google.colab.kernel.invokeFunction('convertToInteractive',\n",
              "                                                    [key], {});\n",
              "        if (!dataTable) return;\n",
              "\n",
              "        const docLinkHtml = 'Like what you see? Visit the ' +\n",
              "          '<a target=\"_blank\" href=https://colab.research.google.com/notebooks/data_table.ipynb>data table notebook</a>'\n",
              "          + ' to learn more about interactive tables.';\n",
              "        element.innerHTML = '';\n",
              "        dataTable['output_type'] = 'display_data';\n",
              "        await google.colab.output.renderOutput(dataTable, element);\n",
              "        const docLink = document.createElement('div');\n",
              "        docLink.innerHTML = docLinkHtml;\n",
              "        element.appendChild(docLink);\n",
              "      }\n",
              "    </script>\n",
              "  </div>\n",
              "\n",
              "\n",
              "    </div>\n",
              "  </div>\n"
            ],
            "application/vnd.google.colaboratory.intrinsic+json": {
              "type": "dataframe",
              "repr_error": "0"
            }
          },
          "metadata": {},
          "execution_count": 18
        }
      ]
    },
    {
      "cell_type": "markdown",
      "source": [
        "🔹 5. Backtracking\n",
        "Heading flips by ~180°\n",
        "\n",
        "Or location regresses along route\n",
        "\n",
        "Detection (heading-based):"
      ],
      "metadata": {
        "id": "4WepNh2vRzNC"
      }
    },
    {
      "cell_type": "code",
      "source": [
        "# delta_heading = abs(current_heading - previous_heading)\n",
        "# flag if delta is near 180° or sudden direction reversal\n"
      ],
      "metadata": {
        "id": "5dVK980CRsfR"
      },
      "execution_count": null,
      "outputs": []
    },
    {
      "cell_type": "markdown",
      "source": [
        "🔹 6. Off-Route Movement\n",
        "Vehicle deviates from known route shape / stop sequence\n",
        "\n",
        "Requires shape.txt or external map of route paths\n",
        "\n",
        "Detection:\n",
        "\n",
        "Compare live lat/lon to shape or stop polyline\n",
        "\n",
        "Buffer and check if point is \"on route\""
      ],
      "metadata": {
        "id": "G4zCBEdhR5jq"
      }
    },
    {
      "cell_type": "markdown",
      "source": [
        "🔹 7. Repeated Points\n",
        "Consecutive records have identical lat/lon and timestamps\n",
        "\n",
        "Can indicate a stuck feed or backend error"
      ],
      "metadata": {
        "id": "GMccxd8JR7rR"
      }
    },
    {
      "cell_type": "code",
      "source": [
        "(group[\"latitude\"].diff().abs() < 0.00001) & (group[\"longitude\"].diff().abs() < 0.00001)\n"
      ],
      "metadata": {
        "colab": {
          "base_uri": "https://localhost:8080/",
          "height": 398
        },
        "id": "WZXAHf0cR58n",
        "outputId": "29490884-e12c-40b6-8d6f-b2a08a678bf6"
      },
      "execution_count": null,
      "outputs": [
        {
          "output_type": "execute_result",
          "data": {
            "text/plain": [
              "0    False\n",
              "1    False\n",
              "2    False\n",
              "3    False\n",
              "4    False\n",
              "5    False\n",
              "6    False\n",
              "7    False\n",
              "8    False\n",
              "9    False\n",
              "dtype: bool"
            ],
            "text/html": [
              "<div>\n",
              "<style scoped>\n",
              "    .dataframe tbody tr th:only-of-type {\n",
              "        vertical-align: middle;\n",
              "    }\n",
              "\n",
              "    .dataframe tbody tr th {\n",
              "        vertical-align: top;\n",
              "    }\n",
              "\n",
              "    .dataframe thead th {\n",
              "        text-align: right;\n",
              "    }\n",
              "</style>\n",
              "<table border=\"1\" class=\"dataframe\">\n",
              "  <thead>\n",
              "    <tr style=\"text-align: right;\">\n",
              "      <th></th>\n",
              "      <th>0</th>\n",
              "    </tr>\n",
              "  </thead>\n",
              "  <tbody>\n",
              "    <tr>\n",
              "      <th>0</th>\n",
              "      <td>False</td>\n",
              "    </tr>\n",
              "    <tr>\n",
              "      <th>1</th>\n",
              "      <td>False</td>\n",
              "    </tr>\n",
              "    <tr>\n",
              "      <th>2</th>\n",
              "      <td>False</td>\n",
              "    </tr>\n",
              "    <tr>\n",
              "      <th>3</th>\n",
              "      <td>False</td>\n",
              "    </tr>\n",
              "    <tr>\n",
              "      <th>4</th>\n",
              "      <td>False</td>\n",
              "    </tr>\n",
              "    <tr>\n",
              "      <th>5</th>\n",
              "      <td>False</td>\n",
              "    </tr>\n",
              "    <tr>\n",
              "      <th>6</th>\n",
              "      <td>False</td>\n",
              "    </tr>\n",
              "    <tr>\n",
              "      <th>7</th>\n",
              "      <td>False</td>\n",
              "    </tr>\n",
              "    <tr>\n",
              "      <th>8</th>\n",
              "      <td>False</td>\n",
              "    </tr>\n",
              "    <tr>\n",
              "      <th>9</th>\n",
              "      <td>False</td>\n",
              "    </tr>\n",
              "  </tbody>\n",
              "</table>\n",
              "</div><br><label><b>dtype:</b> bool</label>"
            ]
          },
          "metadata": {},
          "execution_count": 19
        }
      ]
    },
    {
      "cell_type": "markdown",
      "source": [
        "##Protyping additional anomalies"
      ],
      "metadata": {
        "id": "ppx8L0fZSc16"
      }
    },
    {
      "cell_type": "markdown",
      "source": [
        "✅ Detection Function Set (for Each Vehicle Group)\n",
        "Each function will accept a sorted DataFrame for a single vehicle (df_vehicle) and return either:\n",
        "\n",
        "A list of anomaly rows\n",
        "\n",
        "Or a new column appended to the same dataframe"
      ],
      "metadata": {
        "id": "f2LL_2DmSsPr"
      }
    },
    {
      "cell_type": "markdown",
      "source": [
        "🔹 1. Detect Jumps and Gaps\n",
        "\n",
        "Already implemented, but here’s the modular form:"
      ],
      "metadata": {
        "id": "EaP4VCejSudu"
      }
    },
    {
      "cell_type": "code",
      "source": [
        "#1. Detect Jumps and Gaps\n",
        "def detect_jumps_and_gaps(df, distance_threshold=250, time_threshold=90):\n",
        "    anomalies = []\n",
        "    for i in range(1, len(df)):\n",
        "        row_prev, row_curr = df.iloc[i - 1], df.iloc[i]\n",
        "        time_diff = (row_curr[\"timestamp\"] - row_prev[\"timestamp\"]).total_seconds()\n",
        "        distance = geodesic(\n",
        "            (row_prev[\"latitude\"], row_prev[\"longitude\"]),\n",
        "            (row_curr[\"latitude\"], row_curr[\"longitude\"])\n",
        "        ).meters\n",
        "        if time_diff > time_threshold or distance > distance_threshold:\n",
        "            anomalies.append({\n",
        "                \"vehicle_id\": row_curr[\"vehicle_id\"],\n",
        "                \"timestamp_prev\": row_prev[\"timestamp\"],\n",
        "                \"timestamp_curr\": row_curr[\"timestamp\"],\n",
        "                \"time_diff_sec\": time_diff,\n",
        "                \"distance_m\": distance,\n",
        "                \"is_gap\": time_diff > time_threshold,\n",
        "                \"is_jump\": distance > distance_threshold,\n",
        "                \"anomaly_type\": \"jump_or_gap\"\n",
        "            })\n",
        "    return anomalies\n"
      ],
      "metadata": {
        "id": "t_6sx5MqR9M5"
      },
      "execution_count": null,
      "outputs": []
    },
    {
      "cell_type": "code",
      "source": [
        "#🔹 2. Detect Stuck Vehicles\n",
        "def detect_stuck_vehicle(df, speed_thresh=1.0, window=4):\n",
        "    stuck_flags = (\n",
        "        (df[\"speed_mph\"].rolling(window).mean() < speed_thresh) &\n",
        "        (df[\"latitude\"].diff().abs().rolling(window).mean() < 0.0001) &\n",
        "        (df[\"longitude\"].diff().abs().rolling(window).mean() < 0.0001)\n",
        "    )\n",
        "    return df[stuck_flags.fillna(False)].assign(anomaly_type=\"stuck_vehicle\")\n"
      ],
      "metadata": {
        "id": "ALyD6GfXSxcl"
      },
      "execution_count": null,
      "outputs": []
    },
    {
      "cell_type": "code",
      "source": [
        "#🔹 3. Detect Impossible Speeds\n",
        "def detect_impossible_speeds(df, speed_limit_kph=120):\n",
        "    records = []\n",
        "    for i in range(1, len(df)):\n",
        "        row_prev, row_curr = df.iloc[i - 1], df.iloc[i]\n",
        "        time_diff = (row_curr[\"timestamp\"] - row_prev[\"timestamp\"]).total_seconds()\n",
        "        if time_diff == 0:\n",
        "            continue\n",
        "        distance = geodesic(\n",
        "            (row_prev[\"latitude\"], row_prev[\"longitude\"]),\n",
        "            (row_curr[\"latitude\"], row_curr[\"longitude\"])\n",
        "        ).meters\n",
        "        speed_kph = (distance / time_diff) * 3.6\n",
        "        if speed_kph > speed_limit_kph:\n",
        "            records.append({\n",
        "                \"vehicle_id\": row_curr[\"vehicle_id\"],\n",
        "                \"timestamp_curr\": row_curr[\"timestamp\"],\n",
        "                \"computed_speed_kph\": speed_kph,\n",
        "                \"distance_m\": distance,\n",
        "                \"anomaly_type\": \"impossible_speed\"\n",
        "            })\n",
        "    return pd.DataFrame(records)\n"
      ],
      "metadata": {
        "id": "ndEIWLFiS-KG"
      },
      "execution_count": null,
      "outputs": []
    },
    {
      "cell_type": "code",
      "source": [
        "#🔹 4. Detect Backtracking (Heading Reversal)\n",
        "def detect_backtracking(df, reversal_thresh=160):\n",
        "    backtrack_flags = df[\"heading\"].diff().abs().between(reversal_thresh, 200)\n",
        "    return df[backtrack_flags.fillna(False)].assign(anomaly_type=\"backtracking\")\n"
      ],
      "metadata": {
        "id": "qqXHFtQxTDsG"
      },
      "execution_count": null,
      "outputs": []
    },
    {
      "cell_type": "code",
      "source": [
        "#🔹 5. Detect Repeated Points\n",
        "def detect_repeated_points(df):\n",
        "    repeated = (\n",
        "        (df[\"latitude\"].diff().abs() < 1e-5) &\n",
        "        (df[\"longitude\"].diff().abs() < 1e-5)\n",
        "    )\n",
        "    return df[repeated.fillna(False)].assign(anomaly_type=\"repeated_points\")\n"
      ],
      "metadata": {
        "id": "qzLC3OeNTHtf"
      },
      "execution_count": null,
      "outputs": []
    },
    {
      "cell_type": "code",
      "source": [
        "#🔹 6. Detect Disappearance Without Return\n",
        "def detect_disappeared(df, snapshot_end_time, min_gap_minutes=10):\n",
        "    last_seen = df[\"timestamp\"].max()\n",
        "    if (snapshot_end_time - last_seen).total_seconds() > min_gap_minutes * 60:\n",
        "        return pd.DataFrame([{\n",
        "            \"vehicle_id\": df[\"vehicle_id\"].iloc[0],\n",
        "            \"last_seen\": last_seen,\n",
        "            \"anomaly_type\": \"disappearance\"\n",
        "        }])\n",
        "    return pd.DataFrame()\n"
      ],
      "metadata": {
        "id": "7OMIPA39TKb2"
      },
      "execution_count": null,
      "outputs": []
    },
    {
      "cell_type": "code",
      "source": [
        "#🔹 7. Detect Early Appearance\n",
        "def detect_early_appearance(df, snapshot_start_time, margin_seconds=30):\n",
        "    first_seen = df[\"timestamp\"].min()\n",
        "    if (first_seen - snapshot_start_time).total_seconds() < margin_seconds:\n",
        "        return pd.DataFrame([{\n",
        "            \"vehicle_id\": df[\"vehicle_id\"].iloc[0],\n",
        "            \"first_seen\": first_seen,\n",
        "            \"anomaly_type\": \"early_appearance\"\n",
        "        }])\n",
        "    return pd.DataFrame()\n"
      ],
      "metadata": {
        "id": "Z8lrciKnTNv_"
      },
      "execution_count": null,
      "outputs": []
    },
    {
      "cell_type": "markdown",
      "source": [
        "###Detecting Off-Route Movement\n",
        "Off-route movement is one of the most meaningful but also most complex GTFS-RT anomaly classes.\n",
        "\n",
        "It occurs when:\n",
        "\n",
        "A vehicle's reported location deviates significantly from its expected route shape as defined in shapes.txt.\n",
        "\n",
        "Goal: Detect if a real-time GPS point is \"off route\" beyond a buffer (e.g. 50 meters) from its assigned shape_id."
      ],
      "metadata": {
        "id": "0cRVMrKZTddR"
      }
    },
    {
      "cell_type": "markdown",
      "source": [
        "####Requirements"
      ],
      "metadata": {
        "id": "CvlVKu8FTq7B"
      }
    },
    {
      "cell_type": "markdown",
      "source": [
        "To implement off-route detection, you'll need:\n",
        "\n",
        "🔹 1. shapes.txt from static GTFS\n",
        "This file defines the expected path of each shape_id as a polyline:\n",
        "\n",
        "shape_id,shape_pt_lat,shape_pt_lon,shape_pt_sequence\n",
        "\n",
        "We use this to:\n",
        "\n",
        "Reconstruct route geometry as a LineString (ordered path)\n",
        "\n",
        "Assign each vehicle's trip to a shape\n",
        "\n",
        "Measure distance from the live GPS point to that route line"
      ],
      "metadata": {
        "id": "zY5-9RtNTycH"
      }
    },
    {
      "cell_type": "markdown",
      "source": [
        "🔹 2. Tools for Spatial Analysis\n",
        "We recommend using:\n",
        "\n",
        "pip install shapely geopandas\n",
        "\n",
        "We'll use:\n",
        "\n",
        "shapely.geometry.LineString – builds route paths\n",
        "\n",
        "shapely.geometry.Point.distance – computes point-to-line distances\n",
        "\n",
        "All in projected meters via GeoPandas if needed."
      ],
      "metadata": {
        "id": "_GFdCGi_T5U7"
      }
    },
    {
      "cell_type": "markdown",
      "source": [
        "####Implementation Strategy"
      ],
      "metadata": {
        "id": "BBapzCU_T-fx"
      }
    },
    {
      "cell_type": "code",
      "source": [
        "#1. Preprocess Route Shapes\n",
        "import pandas as pd\n",
        "from shapely.geometry import LineString\n",
        "\n",
        "# Load and group shape points\n",
        "shapes = pd.read_csv(\"/content/gtfs_static/shapes.txt\")\n",
        "shapes[\"shape_id\"] = shapes[\"shape_id\"].astype(str)\n",
        "\n",
        "# Build LineStrings for each shape_id\n",
        "shape_lines = {}\n",
        "for shape_id, group in shapes.groupby(\"shape_id\"):\n",
        "    sorted_group = group.sort_values(\"shape_pt_sequence\")\n",
        "    coords = list(zip(sorted_group[\"shape_pt_lon\"], sorted_group[\"shape_pt_lat\"]))\n",
        "    shape_lines[shape_id] = LineString(coords)\n"
      ],
      "metadata": {
        "id": "j7aJKusHTx6Q"
      },
      "execution_count": null,
      "outputs": []
    },
    {
      "cell_type": "code",
      "source": [
        "#2. Detect Off-Route for Each Vehicle Point\n",
        "#We check if the GPS point is >50m from its assigned shape line.\n",
        "from shapely.geometry import Point\n",
        "from geopy.distance import geodesic\n",
        "\n",
        "def detect_off_route(df_vehicle, shape_lines, buffer_m=50):\n",
        "    records = []\n",
        "\n",
        "    for _, row in df_vehicle.iterrows():\n",
        "        shape_id = str(row.get(\"shape_id\"))\n",
        "        if shape_id not in shape_lines:\n",
        "            continue  # Can't evaluate without shape geometry\n",
        "\n",
        "        route_line = shape_lines[shape_id]\n",
        "        vehicle_point = Point(row[\"longitude\"], row[\"latitude\"])\n",
        "        projected_dist = route_line.distance(vehicle_point)\n",
        "\n",
        "        # Convert degrees to meters (approximate)\n",
        "        # Use geodesic for higher accuracy\n",
        "        closest_point_on_route = route_line.interpolate(route_line.project(vehicle_point))\n",
        "        route_point_coords = (closest_point_on_route.y, closest_point_on_route.x)\n",
        "        vehicle_coords = (row[\"latitude\"], row[\"longitude\"])\n",
        "        distance_m = geodesic(route_point_coords, vehicle_coords).meters\n",
        "\n",
        "        if distance_m > buffer_m:\n",
        "            records.append({\n",
        "                \"vehicle_id\": row[\"vehicle_id\"],\n",
        "                \"timestamp\": row[\"timestamp\"],\n",
        "                \"route_short_name\": row.get(\"route_short_name\"),\n",
        "                \"distance_from_route_m\": distance_m,\n",
        "                \"anomaly_type\": \"off_route\"\n",
        "            })\n",
        "\n",
        "    return pd.DataFrame(records)\n"
      ],
      "metadata": {
        "id": "M1kIVgNKUDga"
      },
      "execution_count": null,
      "outputs": []
    },
    {
      "cell_type": "markdown",
      "source": [
        "✅ Step-by-Step Integration Plan\n",
        "\n",
        "🧱 Pre-requisite: shapes.txt → shape_lines dictionary\n",
        "\n",
        "You only need to run this once before processing vehicle groups:"
      ],
      "metadata": {
        "id": "yZ0vZUAsUWn0"
      }
    },
    {
      "cell_type": "code",
      "source": [
        "import pandas as pd\n",
        "from shapely.geometry import LineString\n",
        "\n",
        "# Load shapes.txt\n",
        "shapes = pd.read_csv(\"/content/gtfs_static/shapes.txt\", dtype={\"shape_id\": str})\n",
        "\n",
        "# Build LineStrings for each shape_id\n",
        "shape_lines = {}\n",
        "for shape_id, group in shapes.groupby(\"shape_id\"):\n",
        "    sorted_group = group.sort_values(\"shape_pt_sequence\")\n",
        "    coords = list(zip(sorted_group[\"shape_pt_lon\"], sorted_group[\"shape_pt_lat\"]))\n",
        "    shape_lines[shape_id] = LineString(coords)\n"
      ],
      "metadata": {
        "id": "eJ5TG_wsUYXO"
      },
      "execution_count": null,
      "outputs": []
    },
    {
      "cell_type": "code",
      "source": [
        "#🔁 Function: Detect Off-Route Movement\n",
        "#Add this detection function to your anomaly modules:\n",
        "from shapely.geometry import Point\n",
        "from geopy.distance import geodesic\n",
        "\n",
        "def detect_off_route(df_vehicle, shape_lines, buffer_m=50):\n",
        "    records = []\n",
        "    for _, row in df_vehicle.iterrows():\n",
        "        shape_id = str(row.get(\"shape_id\"))\n",
        "        if shape_id not in shape_lines:\n",
        "            continue  # shape not known\n",
        "\n",
        "        route_line = shape_lines[shape_id]\n",
        "        vehicle_point = Point(row[\"longitude\"], row[\"latitude\"])\n",
        "\n",
        "        # Find closest point on route and compute geodesic distance\n",
        "        closest_point = route_line.interpolate(route_line.project(vehicle_point))\n",
        "        dist_m = geodesic(\n",
        "            (row[\"latitude\"], row[\"longitude\"]),\n",
        "            (closest_point.y, closest_point.x)\n",
        "        ).meters\n",
        "\n",
        "        if dist_m > buffer_m:\n",
        "            records.append({\n",
        "              \"vehicle_id\": row[\"vehicle_id\"],\n",
        "              \"timestamp\": row[\"timestamp\"],\n",
        "              \"route_short_name\": row.get(\"route_short_name\"),\n",
        "              \"distance_from_route_m\": dist_m,\n",
        "              \"latitude\": row[\"latitude\"],\n",
        "              \"longitude\": row[\"longitude\"],\n",
        "              \"shape_id\": shape_id,\n",
        "              \"anomaly_type\": \"off_route\"\n",
        "            })\n",
        "    return pd.DataFrame(records)\n"
      ],
      "metadata": {
        "id": "oVueGmVJUcB4"
      },
      "execution_count": null,
      "outputs": []
    },
    {
      "cell_type": "markdown",
      "source": [
        "#####🔄 Integration into Loop\n"
      ],
      "metadata": {
        "id": "YPYfxdvPUh7l"
      }
    },
    {
      "cell_type": "code",
      "source": [
        "#Assuming your vehicle groups are stored like:\n",
        "vehicle_groups = dict(tuple(df_valid.groupby(\"vehicle_id\")))\n",
        "\n",
        "#And you’re aggregating anomalies like:\n",
        "all_anomalies = []\n",
        "\n",
        "#Add off-route detection per vehicle:\n",
        "for vehicle_id, df_vehicle in vehicle_groups.items():\n",
        "    df_vehicle = df_vehicle.sort_values(\"timestamp\").reset_index(drop=True)\n",
        "\n",
        "    # Call anomaly modules\n",
        "    off_route_df = detect_off_route(df_vehicle, shape_lines)\n",
        "\n",
        "    # Append results\n",
        "    if not off_route_df.empty:\n",
        "        all_anomalies.append(off_route_df)\n",
        "\n",
        "# Final result\n",
        "df_anomalies_offroute = pd.concat(all_anomalies, ignore_index=True)\n",
        "\n",
        "#Optional Check:\n",
        "print(\"Off-route anomalies detected:\", len(df_anomalies_offroute))\n",
        "df_anomalies_offroute.sort_values(\"distance_from_route_m\", ascending=False).head()\n"
      ],
      "metadata": {
        "colab": {
          "base_uri": "https://localhost:8080/",
          "height": 330
        },
        "id": "I2e_SCkYUigm",
        "outputId": "b71ed34d-d713-4a4e-e1c4-bd03d6d1d140"
      },
      "execution_count": null,
      "outputs": [
        {
          "output_type": "stream",
          "name": "stdout",
          "text": [
            "Off-route anomalies detected: 225\n"
          ]
        },
        {
          "output_type": "execute_result",
          "data": {
            "text/plain": [
              "     vehicle_id                        timestamp route_short_name  \\\n",
              "153         628 2025-07-22 20:39:07.641420+00:00             None   \n",
              "154         628 2025-07-22 20:39:37.961321+00:00             None   \n",
              "152         628 2025-07-22 20:38:37.359784+00:00             None   \n",
              "151         628 2025-07-22 20:38:07.109451+00:00             None   \n",
              "116         467 2025-07-22 20:56:46.767304+00:00             None   \n",
              "\n",
              "     distance_from_route_m   latitude  longitude shape_id anomaly_type  \n",
              "153            1655.763689  35.123770 -106.62228    17192    off_route  \n",
              "154            1364.085044  35.123770 -106.61908    17192    off_route  \n",
              "152            1197.158035  35.128390 -106.61725    17192    off_route  \n",
              "151            1012.040833  35.129540 -106.61524    17192    off_route  \n",
              "116             945.883485  35.062921 -106.70293    17202    off_route  "
            ],
            "text/html": [
              "\n",
              "  <div id=\"df-f672b479-2595-44f1-89ab-e11a65dd25c1\" class=\"colab-df-container\">\n",
              "    <div>\n",
              "<style scoped>\n",
              "    .dataframe tbody tr th:only-of-type {\n",
              "        vertical-align: middle;\n",
              "    }\n",
              "\n",
              "    .dataframe tbody tr th {\n",
              "        vertical-align: top;\n",
              "    }\n",
              "\n",
              "    .dataframe thead th {\n",
              "        text-align: right;\n",
              "    }\n",
              "</style>\n",
              "<table border=\"1\" class=\"dataframe\">\n",
              "  <thead>\n",
              "    <tr style=\"text-align: right;\">\n",
              "      <th></th>\n",
              "      <th>vehicle_id</th>\n",
              "      <th>timestamp</th>\n",
              "      <th>route_short_name</th>\n",
              "      <th>distance_from_route_m</th>\n",
              "      <th>latitude</th>\n",
              "      <th>longitude</th>\n",
              "      <th>shape_id</th>\n",
              "      <th>anomaly_type</th>\n",
              "    </tr>\n",
              "  </thead>\n",
              "  <tbody>\n",
              "    <tr>\n",
              "      <th>153</th>\n",
              "      <td>628</td>\n",
              "      <td>2025-07-22 20:39:07.641420+00:00</td>\n",
              "      <td>None</td>\n",
              "      <td>1655.763689</td>\n",
              "      <td>35.123770</td>\n",
              "      <td>-106.62228</td>\n",
              "      <td>17192</td>\n",
              "      <td>off_route</td>\n",
              "    </tr>\n",
              "    <tr>\n",
              "      <th>154</th>\n",
              "      <td>628</td>\n",
              "      <td>2025-07-22 20:39:37.961321+00:00</td>\n",
              "      <td>None</td>\n",
              "      <td>1364.085044</td>\n",
              "      <td>35.123770</td>\n",
              "      <td>-106.61908</td>\n",
              "      <td>17192</td>\n",
              "      <td>off_route</td>\n",
              "    </tr>\n",
              "    <tr>\n",
              "      <th>152</th>\n",
              "      <td>628</td>\n",
              "      <td>2025-07-22 20:38:37.359784+00:00</td>\n",
              "      <td>None</td>\n",
              "      <td>1197.158035</td>\n",
              "      <td>35.128390</td>\n",
              "      <td>-106.61725</td>\n",
              "      <td>17192</td>\n",
              "      <td>off_route</td>\n",
              "    </tr>\n",
              "    <tr>\n",
              "      <th>151</th>\n",
              "      <td>628</td>\n",
              "      <td>2025-07-22 20:38:07.109451+00:00</td>\n",
              "      <td>None</td>\n",
              "      <td>1012.040833</td>\n",
              "      <td>35.129540</td>\n",
              "      <td>-106.61524</td>\n",
              "      <td>17192</td>\n",
              "      <td>off_route</td>\n",
              "    </tr>\n",
              "    <tr>\n",
              "      <th>116</th>\n",
              "      <td>467</td>\n",
              "      <td>2025-07-22 20:56:46.767304+00:00</td>\n",
              "      <td>None</td>\n",
              "      <td>945.883485</td>\n",
              "      <td>35.062921</td>\n",
              "      <td>-106.70293</td>\n",
              "      <td>17202</td>\n",
              "      <td>off_route</td>\n",
              "    </tr>\n",
              "  </tbody>\n",
              "</table>\n",
              "</div>\n",
              "    <div class=\"colab-df-buttons\">\n",
              "\n",
              "  <div class=\"colab-df-container\">\n",
              "    <button class=\"colab-df-convert\" onclick=\"convertToInteractive('df-f672b479-2595-44f1-89ab-e11a65dd25c1')\"\n",
              "            title=\"Convert this dataframe to an interactive table.\"\n",
              "            style=\"display:none;\">\n",
              "\n",
              "  <svg xmlns=\"http://www.w3.org/2000/svg\" height=\"24px\" viewBox=\"0 -960 960 960\">\n",
              "    <path d=\"M120-120v-720h720v720H120Zm60-500h600v-160H180v160Zm220 220h160v-160H400v160Zm0 220h160v-160H400v160ZM180-400h160v-160H180v160Zm440 0h160v-160H620v160ZM180-180h160v-160H180v160Zm440 0h160v-160H620v160Z\"/>\n",
              "  </svg>\n",
              "    </button>\n",
              "\n",
              "  <style>\n",
              "    .colab-df-container {\n",
              "      display:flex;\n",
              "      gap: 12px;\n",
              "    }\n",
              "\n",
              "    .colab-df-convert {\n",
              "      background-color: #E8F0FE;\n",
              "      border: none;\n",
              "      border-radius: 50%;\n",
              "      cursor: pointer;\n",
              "      display: none;\n",
              "      fill: #1967D2;\n",
              "      height: 32px;\n",
              "      padding: 0 0 0 0;\n",
              "      width: 32px;\n",
              "    }\n",
              "\n",
              "    .colab-df-convert:hover {\n",
              "      background-color: #E2EBFA;\n",
              "      box-shadow: 0px 1px 2px rgba(60, 64, 67, 0.3), 0px 1px 3px 1px rgba(60, 64, 67, 0.15);\n",
              "      fill: #174EA6;\n",
              "    }\n",
              "\n",
              "    .colab-df-buttons div {\n",
              "      margin-bottom: 4px;\n",
              "    }\n",
              "\n",
              "    [theme=dark] .colab-df-convert {\n",
              "      background-color: #3B4455;\n",
              "      fill: #D2E3FC;\n",
              "    }\n",
              "\n",
              "    [theme=dark] .colab-df-convert:hover {\n",
              "      background-color: #434B5C;\n",
              "      box-shadow: 0px 1px 3px 1px rgba(0, 0, 0, 0.15);\n",
              "      filter: drop-shadow(0px 1px 2px rgba(0, 0, 0, 0.3));\n",
              "      fill: #FFFFFF;\n",
              "    }\n",
              "  </style>\n",
              "\n",
              "    <script>\n",
              "      const buttonEl =\n",
              "        document.querySelector('#df-f672b479-2595-44f1-89ab-e11a65dd25c1 button.colab-df-convert');\n",
              "      buttonEl.style.display =\n",
              "        google.colab.kernel.accessAllowed ? 'block' : 'none';\n",
              "\n",
              "      async function convertToInteractive(key) {\n",
              "        const element = document.querySelector('#df-f672b479-2595-44f1-89ab-e11a65dd25c1');\n",
              "        const dataTable =\n",
              "          await google.colab.kernel.invokeFunction('convertToInteractive',\n",
              "                                                    [key], {});\n",
              "        if (!dataTable) return;\n",
              "\n",
              "        const docLinkHtml = 'Like what you see? Visit the ' +\n",
              "          '<a target=\"_blank\" href=https://colab.research.google.com/notebooks/data_table.ipynb>data table notebook</a>'\n",
              "          + ' to learn more about interactive tables.';\n",
              "        element.innerHTML = '';\n",
              "        dataTable['output_type'] = 'display_data';\n",
              "        await google.colab.output.renderOutput(dataTable, element);\n",
              "        const docLink = document.createElement('div');\n",
              "        docLink.innerHTML = docLinkHtml;\n",
              "        element.appendChild(docLink);\n",
              "      }\n",
              "    </script>\n",
              "  </div>\n",
              "\n",
              "\n",
              "    <div id=\"df-bf0c3a8e-bb14-4f97-b5d8-f95b2fd7474f\">\n",
              "      <button class=\"colab-df-quickchart\" onclick=\"quickchart('df-bf0c3a8e-bb14-4f97-b5d8-f95b2fd7474f')\"\n",
              "                title=\"Suggest charts\"\n",
              "                style=\"display:none;\">\n",
              "\n",
              "<svg xmlns=\"http://www.w3.org/2000/svg\" height=\"24px\"viewBox=\"0 0 24 24\"\n",
              "     width=\"24px\">\n",
              "    <g>\n",
              "        <path d=\"M19 3H5c-1.1 0-2 .9-2 2v14c0 1.1.9 2 2 2h14c1.1 0 2-.9 2-2V5c0-1.1-.9-2-2-2zM9 17H7v-7h2v7zm4 0h-2V7h2v10zm4 0h-2v-4h2v4z\"/>\n",
              "    </g>\n",
              "</svg>\n",
              "      </button>\n",
              "\n",
              "<style>\n",
              "  .colab-df-quickchart {\n",
              "      --bg-color: #E8F0FE;\n",
              "      --fill-color: #1967D2;\n",
              "      --hover-bg-color: #E2EBFA;\n",
              "      --hover-fill-color: #174EA6;\n",
              "      --disabled-fill-color: #AAA;\n",
              "      --disabled-bg-color: #DDD;\n",
              "  }\n",
              "\n",
              "  [theme=dark] .colab-df-quickchart {\n",
              "      --bg-color: #3B4455;\n",
              "      --fill-color: #D2E3FC;\n",
              "      --hover-bg-color: #434B5C;\n",
              "      --hover-fill-color: #FFFFFF;\n",
              "      --disabled-bg-color: #3B4455;\n",
              "      --disabled-fill-color: #666;\n",
              "  }\n",
              "\n",
              "  .colab-df-quickchart {\n",
              "    background-color: var(--bg-color);\n",
              "    border: none;\n",
              "    border-radius: 50%;\n",
              "    cursor: pointer;\n",
              "    display: none;\n",
              "    fill: var(--fill-color);\n",
              "    height: 32px;\n",
              "    padding: 0;\n",
              "    width: 32px;\n",
              "  }\n",
              "\n",
              "  .colab-df-quickchart:hover {\n",
              "    background-color: var(--hover-bg-color);\n",
              "    box-shadow: 0 1px 2px rgba(60, 64, 67, 0.3), 0 1px 3px 1px rgba(60, 64, 67, 0.15);\n",
              "    fill: var(--button-hover-fill-color);\n",
              "  }\n",
              "\n",
              "  .colab-df-quickchart-complete:disabled,\n",
              "  .colab-df-quickchart-complete:disabled:hover {\n",
              "    background-color: var(--disabled-bg-color);\n",
              "    fill: var(--disabled-fill-color);\n",
              "    box-shadow: none;\n",
              "  }\n",
              "\n",
              "  .colab-df-spinner {\n",
              "    border: 2px solid var(--fill-color);\n",
              "    border-color: transparent;\n",
              "    border-bottom-color: var(--fill-color);\n",
              "    animation:\n",
              "      spin 1s steps(1) infinite;\n",
              "  }\n",
              "\n",
              "  @keyframes spin {\n",
              "    0% {\n",
              "      border-color: transparent;\n",
              "      border-bottom-color: var(--fill-color);\n",
              "      border-left-color: var(--fill-color);\n",
              "    }\n",
              "    20% {\n",
              "      border-color: transparent;\n",
              "      border-left-color: var(--fill-color);\n",
              "      border-top-color: var(--fill-color);\n",
              "    }\n",
              "    30% {\n",
              "      border-color: transparent;\n",
              "      border-left-color: var(--fill-color);\n",
              "      border-top-color: var(--fill-color);\n",
              "      border-right-color: var(--fill-color);\n",
              "    }\n",
              "    40% {\n",
              "      border-color: transparent;\n",
              "      border-right-color: var(--fill-color);\n",
              "      border-top-color: var(--fill-color);\n",
              "    }\n",
              "    60% {\n",
              "      border-color: transparent;\n",
              "      border-right-color: var(--fill-color);\n",
              "    }\n",
              "    80% {\n",
              "      border-color: transparent;\n",
              "      border-right-color: var(--fill-color);\n",
              "      border-bottom-color: var(--fill-color);\n",
              "    }\n",
              "    90% {\n",
              "      border-color: transparent;\n",
              "      border-bottom-color: var(--fill-color);\n",
              "    }\n",
              "  }\n",
              "</style>\n",
              "\n",
              "      <script>\n",
              "        async function quickchart(key) {\n",
              "          const quickchartButtonEl =\n",
              "            document.querySelector('#' + key + ' button');\n",
              "          quickchartButtonEl.disabled = true;  // To prevent multiple clicks.\n",
              "          quickchartButtonEl.classList.add('colab-df-spinner');\n",
              "          try {\n",
              "            const charts = await google.colab.kernel.invokeFunction(\n",
              "                'suggestCharts', [key], {});\n",
              "          } catch (error) {\n",
              "            console.error('Error during call to suggestCharts:', error);\n",
              "          }\n",
              "          quickchartButtonEl.classList.remove('colab-df-spinner');\n",
              "          quickchartButtonEl.classList.add('colab-df-quickchart-complete');\n",
              "        }\n",
              "        (() => {\n",
              "          let quickchartButtonEl =\n",
              "            document.querySelector('#df-bf0c3a8e-bb14-4f97-b5d8-f95b2fd7474f button');\n",
              "          quickchartButtonEl.style.display =\n",
              "            google.colab.kernel.accessAllowed ? 'block' : 'none';\n",
              "        })();\n",
              "      </script>\n",
              "    </div>\n",
              "\n",
              "    </div>\n",
              "  </div>\n"
            ],
            "application/vnd.google.colaboratory.intrinsic+json": {
              "type": "dataframe",
              "repr_error": "0"
            }
          },
          "metadata": {},
          "execution_count": 31
        }
      ]
    },
    {
      "cell_type": "markdown",
      "source": [
        "✅ Summary of Off-Route Detection\n",
        "\n",
        "| Metric                        | Value                     |\n",
        "| ----------------------------- | ------------------------- |\n",
        "| **Total off-route anomalies** | 225                       |\n",
        "| **Max distance from route**   | \\~1.65 km (!!)            |\n",
        "| **Common issue**              | `route_short_name = None` |\n",
        "\n",
        "\n",
        "This confirms the module:\n",
        "\n",
        "Correctly detects vehicles far outside their expected paths (e.g. 1+ km deviations)\n",
        "\n",
        "Catches clear spatial mismatches (not false positives from small drifts)\n",
        "\n",
        "Works even in topographically varied areas"
      ],
      "metadata": {
        "id": "r2O3uLuZVAiO"
      }
    },
    {
      "cell_type": "markdown",
      "source": [
        "###Additional steps"
      ],
      "metadata": {
        "id": "a0DPbZ92WQVC"
      }
    },
    {
      "cell_type": "markdown",
      "source": [
        "🔁 Strategy: shape_id → trip_id → route_id → route_short_name\n",
        "You’ve already loaded:\n",
        "\n",
        "trips.txt → contains trip_id, shape_id, and route_id\n",
        "\n",
        "routes.txt → contains route_id, route_short_name\n",
        "\n",
        "We’ll use these to build a mapping from shape_id → route_short_name."
      ],
      "metadata": {
        "id": "QW6WSZCuWUg-"
      }
    },
    {
      "cell_type": "code",
      "source": [
        "#✅ Step 1: Build Mapping Table from Static GTFS\n",
        "# Ensure consistent types\n",
        "trips[\"shape_id\"] = trips[\"shape_id\"].astype(str)\n",
        "routes[\"route_id\"] = routes[\"route_id\"].astype(str)\n",
        "\n",
        "# Merge trips and routes to link shape_id to route_short_name\n",
        "shape_route_map = (\n",
        "    trips.merge(routes, on=\"route_id\", how=\"left\")\n",
        "         .dropna(subset=[\"route_short_name\"])\n",
        "         .drop_duplicates(subset=[\"shape_id\"])\n",
        "         .set_index(\"shape_id\")[[\"route_id\", \"route_short_name\"]]\n",
        ")\n"
      ],
      "metadata": {
        "id": "glsqf7dOWSGR"
      },
      "execution_count": null,
      "outputs": []
    },
    {
      "cell_type": "markdown",
      "source": [
        "This gives a compact reference like:\n",
        "\n",
        "| shape\\_id | route\\_id | route\\_short\\_name |\n",
        "| --------- | --------- | ------------------ |\n",
        "| 17192     | 54        | 8                  |\n"
      ],
      "metadata": {
        "id": "576iIBkcWgDT"
      }
    },
    {
      "cell_type": "code",
      "source": [
        "#✅ Step 2: Patch Missing route_short_name in Anomalies\n",
        "# Ensure shape_id is string type\n",
        "df_anomalies_offroute[\"shape_id\"] = df_anomalies_offroute[\"shape_id\"].astype(str)\n",
        "\n",
        "# Join to enrich anomalies with route info\n",
        "df_anomalies_offroute = (\n",
        "    df_anomalies_offroute\n",
        "    .merge(shape_route_map, on=\"shape_id\", how=\"left\", suffixes=(\"\", \"_from_map\"))\n",
        ")\n",
        "\n",
        "# If route_short_name was missing, replace it\n",
        "df_anomalies_offroute[\"route_short_name\"] = (\n",
        "    df_anomalies_offroute[\"route_short_name\"]\n",
        "    .fillna(df_anomalies_offroute[\"route_short_name_from_map\"])\n",
        ")\n",
        "\n",
        "# Drop helper column\n",
        "df_anomalies_offroute = df_anomalies_offroute.drop(columns=[\"route_short_name_from_map\"])\n"
      ],
      "metadata": {
        "id": "SALsOux8WjdY"
      },
      "execution_count": null,
      "outputs": []
    },
    {
      "cell_type": "code",
      "source": [
        "#Sanity Check\n",
        "missing_routes = df_anomalies_offroute[\"route_short_name\"].isnull().sum()\n",
        "print(f\"Remaining anomalies with missing route_short_name: {missing_routes}\")\n",
        "#If this prints 0, you’ve successfully patched all entries."
      ],
      "metadata": {
        "colab": {
          "base_uri": "https://localhost:8080/"
        },
        "id": "-jUFCrz_Wog6",
        "outputId": "06fb8ddb-c077-4fb8-f910-c0a58fe522f3"
      },
      "execution_count": null,
      "outputs": [
        {
          "output_type": "stream",
          "name": "stdout",
          "text": [
            "Remaining anomalies with missing route_short_name: 0\n"
          ]
        }
      ]
    },
    {
      "cell_type": "code",
      "source": [],
      "metadata": {
        "id": "SBLLO8WUWsyi"
      },
      "execution_count": null,
      "outputs": []
    },
    {
      "cell_type": "markdown",
      "source": [
        "####✅ Step 1: Unify All Anomalies into df_anomalies_full\n",
        "Assuming you’ve run detection modules and have these anomaly DataFrames:\n",
        "\n",
        "df_anomalies_jumpgap – from detect_jumps_and_gaps(...)\n",
        "\n",
        "df_anomalies_offroute – just finished\n",
        "\n",
        "df_anomalies_stuck, df_anomalies_backtrack, df_anomalies_repeated, etc.\n",
        "\n",
        "We’ll combine them:"
      ],
      "metadata": {
        "id": "c6sOedf4XBUN"
      }
    },
    {
      "cell_type": "code",
      "source": [
        "# Run jump/gap detection and collect records\n",
        "jumpgap_records = []\n",
        "\n",
        "for vehicle_id, df_vehicle in vehicle_groups.items():\n",
        "    df_vehicle = df_vehicle.sort_values(\"timestamp\").reset_index(drop=True)\n",
        "    anomalies = detect_jumps_and_gaps(df_vehicle)\n",
        "    jumpgap_records.extend(anomalies)\n",
        "\n",
        "# Convert to DataFrame\n",
        "df_anomalies_jumpgap = pd.DataFrame(jumpgap_records)\n",
        "print(\"Jump/Gap anomalies detected:\", len(df_anomalies_jumpgap))\n"
      ],
      "metadata": {
        "colab": {
          "base_uri": "https://localhost:8080/"
        },
        "id": "tS7LezThXX_x",
        "outputId": "5460fdd9-0bc3-4dac-f1dd-8c98ec6b0f5f"
      },
      "execution_count": null,
      "outputs": [
        {
          "output_type": "stream",
          "name": "stdout",
          "text": [
            "Jump/Gap anomalies detected: 1880\n"
          ]
        }
      ]
    },
    {
      "cell_type": "code",
      "source": [
        "#Stuckvehicles\n",
        "stuck_records = []\n",
        "for vehicle_id, df_vehicle in vehicle_groups.items():\n",
        "    df = detect_stuck_vehicle(df_vehicle)\n",
        "    if not df.empty:\n",
        "        stuck_records.append(df)\n",
        "\n",
        "df_anomalies_stuck = pd.concat(stuck_records, ignore_index=True) if stuck_records else pd.DataFrame()\n"
      ],
      "metadata": {
        "id": "DWeb2-08X6jl"
      },
      "execution_count": null,
      "outputs": []
    },
    {
      "cell_type": "code",
      "source": [
        "#Impossible Speeds\n",
        "speed_records = []\n",
        "for vehicle_id, df_vehicle in vehicle_groups.items():\n",
        "    df = detect_impossible_speeds(df_vehicle)\n",
        "    if not df.empty:\n",
        "        speed_records.append(df)\n",
        "\n",
        "df_anomalies_speed = pd.concat(speed_records, ignore_index=True) if speed_records else pd.DataFrame()\n"
      ],
      "metadata": {
        "id": "xSsULvF6X7x1"
      },
      "execution_count": null,
      "outputs": []
    },
    {
      "cell_type": "code",
      "source": [
        "#Backtracking (heading reversals)\n",
        "backtrack_records = []\n",
        "for vehicle_id, df_vehicle in vehicle_groups.items():\n",
        "    df = detect_backtracking(df_vehicle)\n",
        "    if not df.empty:\n",
        "        backtrack_records.append(df)\n",
        "\n",
        "df_anomalies_backtrack = pd.concat(backtrack_records, ignore_index=True) if backtrack_records else pd.DataFrame()\n"
      ],
      "metadata": {
        "id": "dLocWFnqYDLq"
      },
      "execution_count": null,
      "outputs": []
    },
    {
      "cell_type": "code",
      "source": [
        "#Repeated Points\n",
        "repeated_records = []\n",
        "for vehicle_id, df_vehicle in vehicle_groups.items():\n",
        "    df = detect_repeated_points(df_vehicle)\n",
        "    if not df.empty:\n",
        "        repeated_records.append(df)\n",
        "\n",
        "df_anomalies_repeated = pd.concat(repeated_records, ignore_index=True) if repeated_records else pd.DataFrame()\n"
      ],
      "metadata": {
        "id": "Duq-r_rcYHbU"
      },
      "execution_count": null,
      "outputs": []
    },
    {
      "cell_type": "code",
      "source": [
        "#Disappearance Without Return\n",
        "snapshot_end = df_full[\"timestamp\"].max()\n",
        "\n",
        "disappear_records = []\n",
        "for vehicle_id, df_vehicle in vehicle_groups.items():\n",
        "    df = detect_disappeared(df_vehicle, snapshot_end)\n",
        "    if not df.empty:\n",
        "        disappear_records.append(df)\n",
        "\n",
        "df_anomalies_disappear = pd.concat(disappear_records, ignore_index=True) if disappear_records else pd.DataFrame()\n"
      ],
      "metadata": {
        "colab": {
          "base_uri": "https://localhost:8080/",
          "height": 547
        },
        "id": "QSSrzb4MYMyg",
        "outputId": "69bfaddf-e523-459f-aac5-80ab5e8da75c"
      },
      "execution_count": null,
      "outputs": [
        {
          "output_type": "error",
          "ename": "KeyError",
          "evalue": "'timestamp'",
          "traceback": [
            "\u001b[0;31m---------------------------------------------------------------------------\u001b[0m",
            "\u001b[0;31mKeyError\u001b[0m                                  Traceback (most recent call last)",
            "\u001b[0;32m/usr/local/lib/python3.11/dist-packages/pandas/core/indexes/base.py\u001b[0m in \u001b[0;36mget_loc\u001b[0;34m(self, key)\u001b[0m\n\u001b[1;32m   3804\u001b[0m         \u001b[0;32mtry\u001b[0m\u001b[0;34m:\u001b[0m\u001b[0;34m\u001b[0m\u001b[0;34m\u001b[0m\u001b[0m\n\u001b[0;32m-> 3805\u001b[0;31m             \u001b[0;32mreturn\u001b[0m \u001b[0mself\u001b[0m\u001b[0;34m.\u001b[0m\u001b[0m_engine\u001b[0m\u001b[0;34m.\u001b[0m\u001b[0mget_loc\u001b[0m\u001b[0;34m(\u001b[0m\u001b[0mcasted_key\u001b[0m\u001b[0;34m)\u001b[0m\u001b[0;34m\u001b[0m\u001b[0;34m\u001b[0m\u001b[0m\n\u001b[0m\u001b[1;32m   3806\u001b[0m         \u001b[0;32mexcept\u001b[0m \u001b[0mKeyError\u001b[0m \u001b[0;32mas\u001b[0m \u001b[0merr\u001b[0m\u001b[0;34m:\u001b[0m\u001b[0;34m\u001b[0m\u001b[0;34m\u001b[0m\u001b[0m\n",
            "\u001b[0;32mindex.pyx\u001b[0m in \u001b[0;36mpandas._libs.index.IndexEngine.get_loc\u001b[0;34m()\u001b[0m\n",
            "\u001b[0;32mindex.pyx\u001b[0m in \u001b[0;36mpandas._libs.index.IndexEngine.get_loc\u001b[0;34m()\u001b[0m\n",
            "\u001b[0;32mpandas/_libs/hashtable_class_helper.pxi\u001b[0m in \u001b[0;36mpandas._libs.hashtable.PyObjectHashTable.get_item\u001b[0;34m()\u001b[0m\n",
            "\u001b[0;32mpandas/_libs/hashtable_class_helper.pxi\u001b[0m in \u001b[0;36mpandas._libs.hashtable.PyObjectHashTable.get_item\u001b[0;34m()\u001b[0m\n",
            "\u001b[0;31mKeyError\u001b[0m: 'timestamp'",
            "\nThe above exception was the direct cause of the following exception:\n",
            "\u001b[0;31mKeyError\u001b[0m                                  Traceback (most recent call last)",
            "\u001b[0;32m/tmp/ipython-input-40-696261940.py\u001b[0m in \u001b[0;36m<cell line: 0>\u001b[0;34m()\u001b[0m\n\u001b[1;32m      1\u001b[0m \u001b[0;31m#Disappearance Without Return\u001b[0m\u001b[0;34m\u001b[0m\u001b[0;34m\u001b[0m\u001b[0m\n\u001b[0;32m----> 2\u001b[0;31m \u001b[0msnapshot_end\u001b[0m \u001b[0;34m=\u001b[0m \u001b[0mdf_full\u001b[0m\u001b[0;34m[\u001b[0m\u001b[0;34m\"timestamp\"\u001b[0m\u001b[0;34m]\u001b[0m\u001b[0;34m.\u001b[0m\u001b[0mmax\u001b[0m\u001b[0;34m(\u001b[0m\u001b[0;34m)\u001b[0m\u001b[0;34m\u001b[0m\u001b[0;34m\u001b[0m\u001b[0m\n\u001b[0m\u001b[1;32m      3\u001b[0m \u001b[0;34m\u001b[0m\u001b[0m\n\u001b[1;32m      4\u001b[0m \u001b[0mdisappear_records\u001b[0m \u001b[0;34m=\u001b[0m \u001b[0;34m[\u001b[0m\u001b[0;34m]\u001b[0m\u001b[0;34m\u001b[0m\u001b[0;34m\u001b[0m\u001b[0m\n\u001b[1;32m      5\u001b[0m \u001b[0;32mfor\u001b[0m \u001b[0mvehicle_id\u001b[0m\u001b[0;34m,\u001b[0m \u001b[0mdf_vehicle\u001b[0m \u001b[0;32min\u001b[0m \u001b[0mvehicle_groups\u001b[0m\u001b[0;34m.\u001b[0m\u001b[0mitems\u001b[0m\u001b[0;34m(\u001b[0m\u001b[0;34m)\u001b[0m\u001b[0;34m:\u001b[0m\u001b[0;34m\u001b[0m\u001b[0;34m\u001b[0m\u001b[0m\n",
            "\u001b[0;32m/usr/local/lib/python3.11/dist-packages/pandas/core/frame.py\u001b[0m in \u001b[0;36m__getitem__\u001b[0;34m(self, key)\u001b[0m\n\u001b[1;32m   4100\u001b[0m             \u001b[0;32mif\u001b[0m \u001b[0mself\u001b[0m\u001b[0;34m.\u001b[0m\u001b[0mcolumns\u001b[0m\u001b[0;34m.\u001b[0m\u001b[0mnlevels\u001b[0m \u001b[0;34m>\u001b[0m \u001b[0;36m1\u001b[0m\u001b[0;34m:\u001b[0m\u001b[0;34m\u001b[0m\u001b[0;34m\u001b[0m\u001b[0m\n\u001b[1;32m   4101\u001b[0m                 \u001b[0;32mreturn\u001b[0m \u001b[0mself\u001b[0m\u001b[0;34m.\u001b[0m\u001b[0m_getitem_multilevel\u001b[0m\u001b[0;34m(\u001b[0m\u001b[0mkey\u001b[0m\u001b[0;34m)\u001b[0m\u001b[0;34m\u001b[0m\u001b[0;34m\u001b[0m\u001b[0m\n\u001b[0;32m-> 4102\u001b[0;31m             \u001b[0mindexer\u001b[0m \u001b[0;34m=\u001b[0m \u001b[0mself\u001b[0m\u001b[0;34m.\u001b[0m\u001b[0mcolumns\u001b[0m\u001b[0;34m.\u001b[0m\u001b[0mget_loc\u001b[0m\u001b[0;34m(\u001b[0m\u001b[0mkey\u001b[0m\u001b[0;34m)\u001b[0m\u001b[0;34m\u001b[0m\u001b[0;34m\u001b[0m\u001b[0m\n\u001b[0m\u001b[1;32m   4103\u001b[0m             \u001b[0;32mif\u001b[0m \u001b[0mis_integer\u001b[0m\u001b[0;34m(\u001b[0m\u001b[0mindexer\u001b[0m\u001b[0;34m)\u001b[0m\u001b[0;34m:\u001b[0m\u001b[0;34m\u001b[0m\u001b[0;34m\u001b[0m\u001b[0m\n\u001b[1;32m   4104\u001b[0m                 \u001b[0mindexer\u001b[0m \u001b[0;34m=\u001b[0m \u001b[0;34m[\u001b[0m\u001b[0mindexer\u001b[0m\u001b[0;34m]\u001b[0m\u001b[0;34m\u001b[0m\u001b[0;34m\u001b[0m\u001b[0m\n",
            "\u001b[0;32m/usr/local/lib/python3.11/dist-packages/pandas/core/indexes/base.py\u001b[0m in \u001b[0;36mget_loc\u001b[0;34m(self, key)\u001b[0m\n\u001b[1;32m   3810\u001b[0m             ):\n\u001b[1;32m   3811\u001b[0m                 \u001b[0;32mraise\u001b[0m \u001b[0mInvalidIndexError\u001b[0m\u001b[0;34m(\u001b[0m\u001b[0mkey\u001b[0m\u001b[0;34m)\u001b[0m\u001b[0;34m\u001b[0m\u001b[0;34m\u001b[0m\u001b[0m\n\u001b[0;32m-> 3812\u001b[0;31m             \u001b[0;32mraise\u001b[0m \u001b[0mKeyError\u001b[0m\u001b[0;34m(\u001b[0m\u001b[0mkey\u001b[0m\u001b[0;34m)\u001b[0m \u001b[0;32mfrom\u001b[0m \u001b[0merr\u001b[0m\u001b[0;34m\u001b[0m\u001b[0;34m\u001b[0m\u001b[0m\n\u001b[0m\u001b[1;32m   3813\u001b[0m         \u001b[0;32mexcept\u001b[0m \u001b[0mTypeError\u001b[0m\u001b[0;34m:\u001b[0m\u001b[0;34m\u001b[0m\u001b[0;34m\u001b[0m\u001b[0m\n\u001b[1;32m   3814\u001b[0m             \u001b[0;31m# If we have a listlike key, _check_indexing_error will raise\u001b[0m\u001b[0;34m\u001b[0m\u001b[0;34m\u001b[0m\u001b[0m\n",
            "\u001b[0;31mKeyError\u001b[0m: 'timestamp'"
          ]
        }
      ]
    },
    {
      "cell_type": "code",
      "source": [
        "# List of all collected anomaly frames\n",
        "anomaly_frames = [\n",
        "    df_anomalies_jumpgap,     # Already structured with 'anomaly_type'\n",
        "    df_anomalies_offroute,\n",
        "    df_anomalies_stuck,\n",
        "    df_anomalies_backtrack,\n",
        "    df_anomalies_repeated,\n",
        "    df_anomalies_disappear,\n",
        "    df_anomalies_early,\n",
        "    df_anomalies_speed\n",
        "]\n",
        "\n",
        "# Filter out any that don't exist or are empty\n",
        "anomaly_frames = [df for df in anomaly_frames if 'anomaly_type' in df.columns and not df.empty]\n",
        "\n",
        "# Combine\n",
        "df_anomalies_full = pd.concat(anomaly_frames, ignore_index=True)\n",
        "print(\"Total anomalies:\", len(df_anomalies_full))\n"
      ],
      "metadata": {
        "colab": {
          "base_uri": "https://localhost:8080/",
          "height": 211
        },
        "id": "qvFyJgghXCb9",
        "outputId": "97665420-251d-4e9b-84a6-31cf9b146b26"
      },
      "execution_count": null,
      "outputs": [
        {
          "output_type": "error",
          "ename": "NameError",
          "evalue": "name 'df_anomalies_disappear' is not defined",
          "traceback": [
            "\u001b[0;31m---------------------------------------------------------------------------\u001b[0m",
            "\u001b[0;31mNameError\u001b[0m                                 Traceback (most recent call last)",
            "\u001b[0;32m/tmp/ipython-input-41-62060575.py\u001b[0m in \u001b[0;36m<cell line: 0>\u001b[0;34m()\u001b[0m\n\u001b[1;32m      6\u001b[0m     \u001b[0mdf_anomalies_backtrack\u001b[0m\u001b[0;34m,\u001b[0m\u001b[0;34m\u001b[0m\u001b[0;34m\u001b[0m\u001b[0m\n\u001b[1;32m      7\u001b[0m     \u001b[0mdf_anomalies_repeated\u001b[0m\u001b[0;34m,\u001b[0m\u001b[0;34m\u001b[0m\u001b[0;34m\u001b[0m\u001b[0m\n\u001b[0;32m----> 8\u001b[0;31m     \u001b[0mdf_anomalies_disappear\u001b[0m\u001b[0;34m,\u001b[0m\u001b[0;34m\u001b[0m\u001b[0;34m\u001b[0m\u001b[0m\n\u001b[0m\u001b[1;32m      9\u001b[0m     \u001b[0mdf_anomalies_early\u001b[0m\u001b[0;34m,\u001b[0m\u001b[0;34m\u001b[0m\u001b[0;34m\u001b[0m\u001b[0m\n\u001b[1;32m     10\u001b[0m     \u001b[0mdf_anomalies_speed\u001b[0m\u001b[0;34m\u001b[0m\u001b[0;34m\u001b[0m\u001b[0m\n",
            "\u001b[0;31mNameError\u001b[0m: name 'df_anomalies_disappear' is not defined"
          ]
        }
      ]
    },
    {
      "cell_type": "code",
      "source": [
        "from datetime import datetime\n",
        "\n",
        "# Step 1: Normalize timestamp and rebuild vehicle groups\n",
        "df_valid[\"timestamp\"] = pd.to_datetime(df_valid[\"timestamp_collected\"], utc=True)\n",
        "vehicle_groups = dict(tuple(df_valid.groupby(\"vehicle_id\")))\n",
        "\n",
        "# Step 2: Detect each anomaly type\n",
        "\n",
        "jumpgap_records = []\n",
        "stuck_records = []\n",
        "speed_records = []\n",
        "backtrack_records = []\n",
        "repeated_records = []\n",
        "disappear_records = []\n",
        "early_records = []\n",
        "offroute_records = []\n",
        "\n",
        "snapshot_start = df_valid[\"timestamp\"].min()\n",
        "snapshot_end = df_valid[\"timestamp\"].max()\n",
        "\n",
        "for vehicle_id, df_vehicle in vehicle_groups.items():\n",
        "    df_vehicle = df_vehicle.sort_values(\"timestamp\").reset_index(drop=True)\n",
        "\n",
        "    # 1. Jumps and Gaps\n",
        "    jumpgap_records.extend(detect_jumps_and_gaps(df_vehicle))\n",
        "\n",
        "    # 2. Stuck Vehicles\n",
        "    stuck = detect_stuck_vehicle(df_vehicle)\n",
        "    if not stuck.empty:\n",
        "        stuck_records.append(stuck)\n",
        "\n",
        "    # 3. Impossible Speeds\n",
        "    speed = detect_impossible_speeds(df_vehicle)\n",
        "    if not speed.empty:\n",
        "        speed_records.append(speed)\n",
        "\n",
        "    # 4. Backtracking\n",
        "    backtrack = detect_backtracking(df_vehicle)\n",
        "    if not backtrack.empty:\n",
        "        backtrack_records.append(backtrack)\n",
        "\n",
        "    # 5. Repeated Points\n",
        "    repeat = detect_repeated_points(df_vehicle)\n",
        "    if not repeat.empty:\n",
        "        repeated_records.append(repeat)\n",
        "\n",
        "    # 6. Disappearance\n",
        "    disappear = detect_disappeared(df_vehicle, snapshot_end)\n",
        "    if not disappear.empty:\n",
        "        disappear_records.append(disappear)\n",
        "\n",
        "    # 7. Early Appearance\n",
        "    early = detect_early_appearance(df_vehicle, snapshot_start)\n",
        "    if not early.empty:\n",
        "        early_records.append(early)\n",
        "\n",
        "    # 8. Off-Route\n",
        "    offroute = detect_off_route(df_vehicle, shape_lines)\n",
        "    if not offroute.empty:\n",
        "        offroute_records.append(offroute)\n",
        "\n",
        "# Step 3: Combine to DataFrames\n",
        "df_anomalies_jumpgap   = pd.DataFrame(jumpgap_records)\n",
        "df_anomalies_stuck     = pd.concat(stuck_records, ignore_index=True) if stuck_records else pd.DataFrame()\n",
        "df_anomalies_speed     = pd.concat(speed_records, ignore_index=True) if speed_records else pd.DataFrame()\n",
        "df_anomalies_backtrack = pd.concat(backtrack_records, ignore_index=True) if backtrack_records else pd.DataFrame()\n",
        "df_anomalies_repeated  = pd.concat(repeated_records, ignore_index=True) if repeated_records else pd.DataFrame()\n",
        "df_anomalies_disappear = pd.concat(disappear_records, ignore_index=True) if disappear_records else pd.DataFrame()\n",
        "df_anomalies_early     = pd.concat(early_records, ignore_index=True) if early_records else pd.DataFrame()\n",
        "df_anomalies_offroute  = pd.concat(offroute_records, ignore_index=True) if offroute_records else pd.DataFrame()\n",
        "\n",
        "# Step 4: Combine all anomalies into a single DataFrame\n",
        "anomaly_frames = [\n",
        "    df_anomalies_jumpgap,\n",
        "    df_anomalies_stuck,\n",
        "    df_anomalies_speed,\n",
        "    df_anomalies_backtrack,\n",
        "    df_anomalies_repeated,\n",
        "    df_anomalies_disappear,\n",
        "    df_anomalies_early,\n",
        "    df_anomalies_offroute\n",
        "]\n",
        "\n",
        "anomaly_frames = [df for df in anomaly_frames if 'anomaly_type' in df.columns and not df.empty]\n",
        "df_anomalies_full = pd.concat(anomaly_frames, ignore_index=True)\n",
        "print(\"Unified anomaly count:\", len(df_anomalies_full))\n",
        "df_anomalies_full[\"anomaly_type\"].value_counts()\n"
      ],
      "metadata": {
        "colab": {
          "base_uri": "https://localhost:8080/",
          "height": 352
        },
        "id": "xtosg_TNYhfJ",
        "outputId": "a3ce7805-1226-4aab-ab1b-de6e51170801"
      },
      "execution_count": null,
      "outputs": [
        {
          "output_type": "stream",
          "name": "stdout",
          "text": [
            "Unified anomaly count: 5428\n"
          ]
        },
        {
          "output_type": "execute_result",
          "data": {
            "text/plain": [
              "anomaly_type\n",
              "repeated_points     1930\n",
              "jump_or_gap         1880\n",
              "stuck_vehicle       1286\n",
              "off_route            225\n",
              "early_appearance      62\n",
              "backtracking          44\n",
              "impossible_speed       1\n",
              "Name: count, dtype: int64"
            ],
            "text/html": [
              "<div>\n",
              "<style scoped>\n",
              "    .dataframe tbody tr th:only-of-type {\n",
              "        vertical-align: middle;\n",
              "    }\n",
              "\n",
              "    .dataframe tbody tr th {\n",
              "        vertical-align: top;\n",
              "    }\n",
              "\n",
              "    .dataframe thead th {\n",
              "        text-align: right;\n",
              "    }\n",
              "</style>\n",
              "<table border=\"1\" class=\"dataframe\">\n",
              "  <thead>\n",
              "    <tr style=\"text-align: right;\">\n",
              "      <th></th>\n",
              "      <th>count</th>\n",
              "    </tr>\n",
              "    <tr>\n",
              "      <th>anomaly_type</th>\n",
              "      <th></th>\n",
              "    </tr>\n",
              "  </thead>\n",
              "  <tbody>\n",
              "    <tr>\n",
              "      <th>repeated_points</th>\n",
              "      <td>1930</td>\n",
              "    </tr>\n",
              "    <tr>\n",
              "      <th>jump_or_gap</th>\n",
              "      <td>1880</td>\n",
              "    </tr>\n",
              "    <tr>\n",
              "      <th>stuck_vehicle</th>\n",
              "      <td>1286</td>\n",
              "    </tr>\n",
              "    <tr>\n",
              "      <th>off_route</th>\n",
              "      <td>225</td>\n",
              "    </tr>\n",
              "    <tr>\n",
              "      <th>early_appearance</th>\n",
              "      <td>62</td>\n",
              "    </tr>\n",
              "    <tr>\n",
              "      <th>backtracking</th>\n",
              "      <td>44</td>\n",
              "    </tr>\n",
              "    <tr>\n",
              "      <th>impossible_speed</th>\n",
              "      <td>1</td>\n",
              "    </tr>\n",
              "  </tbody>\n",
              "</table>\n",
              "</div><br><label><b>dtype:</b> int64</label>"
            ]
          },
          "metadata": {},
          "execution_count": 42
        }
      ]
    },
    {
      "cell_type": "markdown",
      "source": [
        "##✅ Current Completion Summary (250722)\n",
        "\n",
        "df_valid: Cleaned real-time feed with timestamp added.\n",
        "\n",
        "vehicle_groups: Grouped DataFrame by vehicle_id.\n",
        "\n",
        "All 8 anomaly types detected and stored.\n",
        "\n",
        "df_anomalies_full: Unified DataFrame of all anomalies, each labeled by anomaly_type.\n",
        "\n",
        "route_short_name successfully patched where missing using shape_id → route_id."
      ],
      "metadata": {
        "id": "vSWTKOIe8uNV"
      }
    },
    {
      "cell_type": "markdown",
      "source": [
        "##Summary Stats by Route/Anomaly"
      ],
      "metadata": {
        "id": "DZbhmSTu9KpG"
      }
    },
    {
      "cell_type": "code",
      "source": [
        "#✅ Step 1: Clean and Prepare Key Fields\n",
        "# Fallback if route_short_name is missing in some rows\n",
        "df_anomalies_full[\"route_short_name\"] = df_anomalies_full.get(\"route_short_name\", pd.NA)\n",
        "\n",
        "# Optional: fill missing route names as \"Unknown\"\n",
        "df_anomalies_full[\"route_short_name\"] = df_anomalies_full[\"route_short_name\"].fillna(\"Unknown\")\n"
      ],
      "metadata": {
        "id": "c_jwxvYw8v81"
      },
      "execution_count": null,
      "outputs": []
    },
    {
      "cell_type": "code",
      "source": [
        "#📊 Step 2: Count by Anomaly Type (Overall)\n",
        "anomaly_counts_by_type = df_anomalies_full[\"anomaly_type\"].value_counts().reset_index()\n",
        "anomaly_counts_by_type.columns = [\"anomaly_type\", \"count\"]\n",
        "display(anomaly_counts_by_type)\n"
      ],
      "metadata": {
        "colab": {
          "base_uri": "https://localhost:8080/",
          "height": 269
        },
        "id": "J6uBtfBI9Xk7",
        "outputId": "7fe722ca-8d3b-433a-bee7-dd9d9df7de26"
      },
      "execution_count": null,
      "outputs": [
        {
          "output_type": "display_data",
          "data": {
            "text/plain": [
              "       anomaly_type  count\n",
              "0   repeated_points   1930\n",
              "1       jump_or_gap   1880\n",
              "2     stuck_vehicle   1286\n",
              "3         off_route    225\n",
              "4  early_appearance     62\n",
              "5      backtracking     44\n",
              "6  impossible_speed      1"
            ],
            "text/html": [
              "\n",
              "  <div id=\"df-9c6db11a-ba0b-4c6e-9b4c-a0168b655d19\" class=\"colab-df-container\">\n",
              "    <div>\n",
              "<style scoped>\n",
              "    .dataframe tbody tr th:only-of-type {\n",
              "        vertical-align: middle;\n",
              "    }\n",
              "\n",
              "    .dataframe tbody tr th {\n",
              "        vertical-align: top;\n",
              "    }\n",
              "\n",
              "    .dataframe thead th {\n",
              "        text-align: right;\n",
              "    }\n",
              "</style>\n",
              "<table border=\"1\" class=\"dataframe\">\n",
              "  <thead>\n",
              "    <tr style=\"text-align: right;\">\n",
              "      <th></th>\n",
              "      <th>anomaly_type</th>\n",
              "      <th>count</th>\n",
              "    </tr>\n",
              "  </thead>\n",
              "  <tbody>\n",
              "    <tr>\n",
              "      <th>0</th>\n",
              "      <td>repeated_points</td>\n",
              "      <td>1930</td>\n",
              "    </tr>\n",
              "    <tr>\n",
              "      <th>1</th>\n",
              "      <td>jump_or_gap</td>\n",
              "      <td>1880</td>\n",
              "    </tr>\n",
              "    <tr>\n",
              "      <th>2</th>\n",
              "      <td>stuck_vehicle</td>\n",
              "      <td>1286</td>\n",
              "    </tr>\n",
              "    <tr>\n",
              "      <th>3</th>\n",
              "      <td>off_route</td>\n",
              "      <td>225</td>\n",
              "    </tr>\n",
              "    <tr>\n",
              "      <th>4</th>\n",
              "      <td>early_appearance</td>\n",
              "      <td>62</td>\n",
              "    </tr>\n",
              "    <tr>\n",
              "      <th>5</th>\n",
              "      <td>backtracking</td>\n",
              "      <td>44</td>\n",
              "    </tr>\n",
              "    <tr>\n",
              "      <th>6</th>\n",
              "      <td>impossible_speed</td>\n",
              "      <td>1</td>\n",
              "    </tr>\n",
              "  </tbody>\n",
              "</table>\n",
              "</div>\n",
              "    <div class=\"colab-df-buttons\">\n",
              "\n",
              "  <div class=\"colab-df-container\">\n",
              "    <button class=\"colab-df-convert\" onclick=\"convertToInteractive('df-9c6db11a-ba0b-4c6e-9b4c-a0168b655d19')\"\n",
              "            title=\"Convert this dataframe to an interactive table.\"\n",
              "            style=\"display:none;\">\n",
              "\n",
              "  <svg xmlns=\"http://www.w3.org/2000/svg\" height=\"24px\" viewBox=\"0 -960 960 960\">\n",
              "    <path d=\"M120-120v-720h720v720H120Zm60-500h600v-160H180v160Zm220 220h160v-160H400v160Zm0 220h160v-160H400v160ZM180-400h160v-160H180v160Zm440 0h160v-160H620v160ZM180-180h160v-160H180v160Zm440 0h160v-160H620v160Z\"/>\n",
              "  </svg>\n",
              "    </button>\n",
              "\n",
              "  <style>\n",
              "    .colab-df-container {\n",
              "      display:flex;\n",
              "      gap: 12px;\n",
              "    }\n",
              "\n",
              "    .colab-df-convert {\n",
              "      background-color: #E8F0FE;\n",
              "      border: none;\n",
              "      border-radius: 50%;\n",
              "      cursor: pointer;\n",
              "      display: none;\n",
              "      fill: #1967D2;\n",
              "      height: 32px;\n",
              "      padding: 0 0 0 0;\n",
              "      width: 32px;\n",
              "    }\n",
              "\n",
              "    .colab-df-convert:hover {\n",
              "      background-color: #E2EBFA;\n",
              "      box-shadow: 0px 1px 2px rgba(60, 64, 67, 0.3), 0px 1px 3px 1px rgba(60, 64, 67, 0.15);\n",
              "      fill: #174EA6;\n",
              "    }\n",
              "\n",
              "    .colab-df-buttons div {\n",
              "      margin-bottom: 4px;\n",
              "    }\n",
              "\n",
              "    [theme=dark] .colab-df-convert {\n",
              "      background-color: #3B4455;\n",
              "      fill: #D2E3FC;\n",
              "    }\n",
              "\n",
              "    [theme=dark] .colab-df-convert:hover {\n",
              "      background-color: #434B5C;\n",
              "      box-shadow: 0px 1px 3px 1px rgba(0, 0, 0, 0.15);\n",
              "      filter: drop-shadow(0px 1px 2px rgba(0, 0, 0, 0.3));\n",
              "      fill: #FFFFFF;\n",
              "    }\n",
              "  </style>\n",
              "\n",
              "    <script>\n",
              "      const buttonEl =\n",
              "        document.querySelector('#df-9c6db11a-ba0b-4c6e-9b4c-a0168b655d19 button.colab-df-convert');\n",
              "      buttonEl.style.display =\n",
              "        google.colab.kernel.accessAllowed ? 'block' : 'none';\n",
              "\n",
              "      async function convertToInteractive(key) {\n",
              "        const element = document.querySelector('#df-9c6db11a-ba0b-4c6e-9b4c-a0168b655d19');\n",
              "        const dataTable =\n",
              "          await google.colab.kernel.invokeFunction('convertToInteractive',\n",
              "                                                    [key], {});\n",
              "        if (!dataTable) return;\n",
              "\n",
              "        const docLinkHtml = 'Like what you see? Visit the ' +\n",
              "          '<a target=\"_blank\" href=https://colab.research.google.com/notebooks/data_table.ipynb>data table notebook</a>'\n",
              "          + ' to learn more about interactive tables.';\n",
              "        element.innerHTML = '';\n",
              "        dataTable['output_type'] = 'display_data';\n",
              "        await google.colab.output.renderOutput(dataTable, element);\n",
              "        const docLink = document.createElement('div');\n",
              "        docLink.innerHTML = docLinkHtml;\n",
              "        element.appendChild(docLink);\n",
              "      }\n",
              "    </script>\n",
              "  </div>\n",
              "\n",
              "\n",
              "    <div id=\"df-0b4c2d99-9f50-427e-b3c7-a9666ae26845\">\n",
              "      <button class=\"colab-df-quickchart\" onclick=\"quickchart('df-0b4c2d99-9f50-427e-b3c7-a9666ae26845')\"\n",
              "                title=\"Suggest charts\"\n",
              "                style=\"display:none;\">\n",
              "\n",
              "<svg xmlns=\"http://www.w3.org/2000/svg\" height=\"24px\"viewBox=\"0 0 24 24\"\n",
              "     width=\"24px\">\n",
              "    <g>\n",
              "        <path d=\"M19 3H5c-1.1 0-2 .9-2 2v14c0 1.1.9 2 2 2h14c1.1 0 2-.9 2-2V5c0-1.1-.9-2-2-2zM9 17H7v-7h2v7zm4 0h-2V7h2v10zm4 0h-2v-4h2v4z\"/>\n",
              "    </g>\n",
              "</svg>\n",
              "      </button>\n",
              "\n",
              "<style>\n",
              "  .colab-df-quickchart {\n",
              "      --bg-color: #E8F0FE;\n",
              "      --fill-color: #1967D2;\n",
              "      --hover-bg-color: #E2EBFA;\n",
              "      --hover-fill-color: #174EA6;\n",
              "      --disabled-fill-color: #AAA;\n",
              "      --disabled-bg-color: #DDD;\n",
              "  }\n",
              "\n",
              "  [theme=dark] .colab-df-quickchart {\n",
              "      --bg-color: #3B4455;\n",
              "      --fill-color: #D2E3FC;\n",
              "      --hover-bg-color: #434B5C;\n",
              "      --hover-fill-color: #FFFFFF;\n",
              "      --disabled-bg-color: #3B4455;\n",
              "      --disabled-fill-color: #666;\n",
              "  }\n",
              "\n",
              "  .colab-df-quickchart {\n",
              "    background-color: var(--bg-color);\n",
              "    border: none;\n",
              "    border-radius: 50%;\n",
              "    cursor: pointer;\n",
              "    display: none;\n",
              "    fill: var(--fill-color);\n",
              "    height: 32px;\n",
              "    padding: 0;\n",
              "    width: 32px;\n",
              "  }\n",
              "\n",
              "  .colab-df-quickchart:hover {\n",
              "    background-color: var(--hover-bg-color);\n",
              "    box-shadow: 0 1px 2px rgba(60, 64, 67, 0.3), 0 1px 3px 1px rgba(60, 64, 67, 0.15);\n",
              "    fill: var(--button-hover-fill-color);\n",
              "  }\n",
              "\n",
              "  .colab-df-quickchart-complete:disabled,\n",
              "  .colab-df-quickchart-complete:disabled:hover {\n",
              "    background-color: var(--disabled-bg-color);\n",
              "    fill: var(--disabled-fill-color);\n",
              "    box-shadow: none;\n",
              "  }\n",
              "\n",
              "  .colab-df-spinner {\n",
              "    border: 2px solid var(--fill-color);\n",
              "    border-color: transparent;\n",
              "    border-bottom-color: var(--fill-color);\n",
              "    animation:\n",
              "      spin 1s steps(1) infinite;\n",
              "  }\n",
              "\n",
              "  @keyframes spin {\n",
              "    0% {\n",
              "      border-color: transparent;\n",
              "      border-bottom-color: var(--fill-color);\n",
              "      border-left-color: var(--fill-color);\n",
              "    }\n",
              "    20% {\n",
              "      border-color: transparent;\n",
              "      border-left-color: var(--fill-color);\n",
              "      border-top-color: var(--fill-color);\n",
              "    }\n",
              "    30% {\n",
              "      border-color: transparent;\n",
              "      border-left-color: var(--fill-color);\n",
              "      border-top-color: var(--fill-color);\n",
              "      border-right-color: var(--fill-color);\n",
              "    }\n",
              "    40% {\n",
              "      border-color: transparent;\n",
              "      border-right-color: var(--fill-color);\n",
              "      border-top-color: var(--fill-color);\n",
              "    }\n",
              "    60% {\n",
              "      border-color: transparent;\n",
              "      border-right-color: var(--fill-color);\n",
              "    }\n",
              "    80% {\n",
              "      border-color: transparent;\n",
              "      border-right-color: var(--fill-color);\n",
              "      border-bottom-color: var(--fill-color);\n",
              "    }\n",
              "    90% {\n",
              "      border-color: transparent;\n",
              "      border-bottom-color: var(--fill-color);\n",
              "    }\n",
              "  }\n",
              "</style>\n",
              "\n",
              "      <script>\n",
              "        async function quickchart(key) {\n",
              "          const quickchartButtonEl =\n",
              "            document.querySelector('#' + key + ' button');\n",
              "          quickchartButtonEl.disabled = true;  // To prevent multiple clicks.\n",
              "          quickchartButtonEl.classList.add('colab-df-spinner');\n",
              "          try {\n",
              "            const charts = await google.colab.kernel.invokeFunction(\n",
              "                'suggestCharts', [key], {});\n",
              "          } catch (error) {\n",
              "            console.error('Error during call to suggestCharts:', error);\n",
              "          }\n",
              "          quickchartButtonEl.classList.remove('colab-df-spinner');\n",
              "          quickchartButtonEl.classList.add('colab-df-quickchart-complete');\n",
              "        }\n",
              "        (() => {\n",
              "          let quickchartButtonEl =\n",
              "            document.querySelector('#df-0b4c2d99-9f50-427e-b3c7-a9666ae26845 button');\n",
              "          quickchartButtonEl.style.display =\n",
              "            google.colab.kernel.accessAllowed ? 'block' : 'none';\n",
              "        })();\n",
              "      </script>\n",
              "    </div>\n",
              "\n",
              "  <div id=\"id_e9a32d61-9aa8-4129-b8e0-31d308faed16\">\n",
              "    <style>\n",
              "      .colab-df-generate {\n",
              "        background-color: #E8F0FE;\n",
              "        border: none;\n",
              "        border-radius: 50%;\n",
              "        cursor: pointer;\n",
              "        display: none;\n",
              "        fill: #1967D2;\n",
              "        height: 32px;\n",
              "        padding: 0 0 0 0;\n",
              "        width: 32px;\n",
              "      }\n",
              "\n",
              "      .colab-df-generate:hover {\n",
              "        background-color: #E2EBFA;\n",
              "        box-shadow: 0px 1px 2px rgba(60, 64, 67, 0.3), 0px 1px 3px 1px rgba(60, 64, 67, 0.15);\n",
              "        fill: #174EA6;\n",
              "      }\n",
              "\n",
              "      [theme=dark] .colab-df-generate {\n",
              "        background-color: #3B4455;\n",
              "        fill: #D2E3FC;\n",
              "      }\n",
              "\n",
              "      [theme=dark] .colab-df-generate:hover {\n",
              "        background-color: #434B5C;\n",
              "        box-shadow: 0px 1px 3px 1px rgba(0, 0, 0, 0.15);\n",
              "        filter: drop-shadow(0px 1px 2px rgba(0, 0, 0, 0.3));\n",
              "        fill: #FFFFFF;\n",
              "      }\n",
              "    </style>\n",
              "    <button class=\"colab-df-generate\" onclick=\"generateWithVariable('anomaly_counts_by_type')\"\n",
              "            title=\"Generate code using this dataframe.\"\n",
              "            style=\"display:none;\">\n",
              "\n",
              "  <svg xmlns=\"http://www.w3.org/2000/svg\" height=\"24px\"viewBox=\"0 0 24 24\"\n",
              "       width=\"24px\">\n",
              "    <path d=\"M7,19H8.4L18.45,9,17,7.55,7,17.6ZM5,21V16.75L18.45,3.32a2,2,0,0,1,2.83,0l1.4,1.43a1.91,1.91,0,0,1,.58,1.4,1.91,1.91,0,0,1-.58,1.4L9.25,21ZM18.45,9,17,7.55Zm-12,3A5.31,5.31,0,0,0,4.9,8.1,5.31,5.31,0,0,0,1,6.5,5.31,5.31,0,0,0,4.9,4.9,5.31,5.31,0,0,0,6.5,1,5.31,5.31,0,0,0,8.1,4.9,5.31,5.31,0,0,0,12,6.5,5.46,5.46,0,0,0,6.5,12Z\"/>\n",
              "  </svg>\n",
              "    </button>\n",
              "    <script>\n",
              "      (() => {\n",
              "      const buttonEl =\n",
              "        document.querySelector('#id_e9a32d61-9aa8-4129-b8e0-31d308faed16 button.colab-df-generate');\n",
              "      buttonEl.style.display =\n",
              "        google.colab.kernel.accessAllowed ? 'block' : 'none';\n",
              "\n",
              "      buttonEl.onclick = () => {\n",
              "        google.colab.notebook.generateWithVariable('anomaly_counts_by_type');\n",
              "      }\n",
              "      })();\n",
              "    </script>\n",
              "  </div>\n",
              "\n",
              "    </div>\n",
              "  </div>\n"
            ],
            "application/vnd.google.colaboratory.intrinsic+json": {
              "type": "dataframe",
              "variable_name": "anomaly_counts_by_type",
              "summary": "{\n  \"name\": \"anomaly_counts_by_type\",\n  \"rows\": 7,\n  \"fields\": [\n    {\n      \"column\": \"anomaly_type\",\n      \"properties\": {\n        \"dtype\": \"string\",\n        \"num_unique_values\": 7,\n        \"samples\": [\n          \"repeated_points\",\n          \"jump_or_gap\",\n          \"backtracking\"\n        ],\n        \"semantic_type\": \"\",\n        \"description\": \"\"\n      }\n    },\n    {\n      \"column\": \"count\",\n      \"properties\": {\n        \"dtype\": \"number\",\n        \"std\": 890,\n        \"min\": 1,\n        \"max\": 1930,\n        \"num_unique_values\": 7,\n        \"samples\": [\n          1930,\n          1880,\n          44\n        ],\n        \"semantic_type\": \"\",\n        \"description\": \"\"\n      }\n    }\n  ]\n}"
            }
          },
          "metadata": {}
        }
      ]
    },
    {
      "cell_type": "code",
      "source": [
        "#📊 Step 3: Count by Route and Anomaly Type (Pivot)\n",
        "anomaly_by_route_type = (\n",
        "    df_anomalies_full\n",
        "    .groupby([\"route_short_name\", \"anomaly_type\"])\n",
        "    .size()\n",
        "    .reset_index(name=\"count\")\n",
        "    .pivot(index=\"route_short_name\", columns=\"anomaly_type\", values=\"count\")\n",
        "    .fillna(0)\n",
        "    .astype(int)\n",
        "    .sort_index()\n",
        ")\n",
        "\n",
        "# Display the full table or just the top\n",
        "print(anomaly_by_route_type.head(10))  # or display(anomaly_by_route_type)\n"
      ],
      "metadata": {
        "colab": {
          "base_uri": "https://localhost:8080/"
        },
        "id": "WKW5NGiX9evJ",
        "outputId": "f75153a5-2b03-436b-bda8-84da7e0a80c3"
      },
      "execution_count": null,
      "outputs": [
        {
          "output_type": "stream",
          "name": "stdout",
          "text": [
            "anomaly_type      backtracking  early_appearance  impossible_speed  \\\n",
            "route_short_name                                                     \n",
            "Unknown                     44                62                 1   \n",
            "\n",
            "anomaly_type      jump_or_gap  off_route  repeated_points  stuck_vehicle  \n",
            "route_short_name                                                          \n",
            "Unknown                  1880        225             1930           1286  \n"
          ]
        }
      ]
    },
    {
      "cell_type": "code",
      "source": [
        "#Route Totals for all anomalies\n",
        "anomaly_by_route_total = (\n",
        "    df_anomalies_full\n",
        "    .groupby(\"route_short_name\")\n",
        "    .size()\n",
        "    .reset_index(name=\"total_anomalies\")\n",
        "    .sort_values(by=\"total_anomalies\", ascending=False)\n",
        ")\n",
        "display(anomaly_by_route_total)\n"
      ],
      "metadata": {
        "colab": {
          "base_uri": "https://localhost:8080/",
          "height": 89
        },
        "id": "LUKyE-qd9hPa",
        "outputId": "bff96cdf-ab70-4c73-b3c3-717d1eb33895"
      },
      "execution_count": null,
      "outputs": [
        {
          "output_type": "display_data",
          "data": {
            "text/plain": [
              "  route_short_name  total_anomalies\n",
              "0          Unknown             5428"
            ],
            "text/html": [
              "\n",
              "  <div id=\"df-5558e55b-bdef-4b51-ba41-3cb961b1edf2\" class=\"colab-df-container\">\n",
              "    <div>\n",
              "<style scoped>\n",
              "    .dataframe tbody tr th:only-of-type {\n",
              "        vertical-align: middle;\n",
              "    }\n",
              "\n",
              "    .dataframe tbody tr th {\n",
              "        vertical-align: top;\n",
              "    }\n",
              "\n",
              "    .dataframe thead th {\n",
              "        text-align: right;\n",
              "    }\n",
              "</style>\n",
              "<table border=\"1\" class=\"dataframe\">\n",
              "  <thead>\n",
              "    <tr style=\"text-align: right;\">\n",
              "      <th></th>\n",
              "      <th>route_short_name</th>\n",
              "      <th>total_anomalies</th>\n",
              "    </tr>\n",
              "  </thead>\n",
              "  <tbody>\n",
              "    <tr>\n",
              "      <th>0</th>\n",
              "      <td>Unknown</td>\n",
              "      <td>5428</td>\n",
              "    </tr>\n",
              "  </tbody>\n",
              "</table>\n",
              "</div>\n",
              "    <div class=\"colab-df-buttons\">\n",
              "\n",
              "  <div class=\"colab-df-container\">\n",
              "    <button class=\"colab-df-convert\" onclick=\"convertToInteractive('df-5558e55b-bdef-4b51-ba41-3cb961b1edf2')\"\n",
              "            title=\"Convert this dataframe to an interactive table.\"\n",
              "            style=\"display:none;\">\n",
              "\n",
              "  <svg xmlns=\"http://www.w3.org/2000/svg\" height=\"24px\" viewBox=\"0 -960 960 960\">\n",
              "    <path d=\"M120-120v-720h720v720H120Zm60-500h600v-160H180v160Zm220 220h160v-160H400v160Zm0 220h160v-160H400v160ZM180-400h160v-160H180v160Zm440 0h160v-160H620v160ZM180-180h160v-160H180v160Zm440 0h160v-160H620v160Z\"/>\n",
              "  </svg>\n",
              "    </button>\n",
              "\n",
              "  <style>\n",
              "    .colab-df-container {\n",
              "      display:flex;\n",
              "      gap: 12px;\n",
              "    }\n",
              "\n",
              "    .colab-df-convert {\n",
              "      background-color: #E8F0FE;\n",
              "      border: none;\n",
              "      border-radius: 50%;\n",
              "      cursor: pointer;\n",
              "      display: none;\n",
              "      fill: #1967D2;\n",
              "      height: 32px;\n",
              "      padding: 0 0 0 0;\n",
              "      width: 32px;\n",
              "    }\n",
              "\n",
              "    .colab-df-convert:hover {\n",
              "      background-color: #E2EBFA;\n",
              "      box-shadow: 0px 1px 2px rgba(60, 64, 67, 0.3), 0px 1px 3px 1px rgba(60, 64, 67, 0.15);\n",
              "      fill: #174EA6;\n",
              "    }\n",
              "\n",
              "    .colab-df-buttons div {\n",
              "      margin-bottom: 4px;\n",
              "    }\n",
              "\n",
              "    [theme=dark] .colab-df-convert {\n",
              "      background-color: #3B4455;\n",
              "      fill: #D2E3FC;\n",
              "    }\n",
              "\n",
              "    [theme=dark] .colab-df-convert:hover {\n",
              "      background-color: #434B5C;\n",
              "      box-shadow: 0px 1px 3px 1px rgba(0, 0, 0, 0.15);\n",
              "      filter: drop-shadow(0px 1px 2px rgba(0, 0, 0, 0.3));\n",
              "      fill: #FFFFFF;\n",
              "    }\n",
              "  </style>\n",
              "\n",
              "    <script>\n",
              "      const buttonEl =\n",
              "        document.querySelector('#df-5558e55b-bdef-4b51-ba41-3cb961b1edf2 button.colab-df-convert');\n",
              "      buttonEl.style.display =\n",
              "        google.colab.kernel.accessAllowed ? 'block' : 'none';\n",
              "\n",
              "      async function convertToInteractive(key) {\n",
              "        const element = document.querySelector('#df-5558e55b-bdef-4b51-ba41-3cb961b1edf2');\n",
              "        const dataTable =\n",
              "          await google.colab.kernel.invokeFunction('convertToInteractive',\n",
              "                                                    [key], {});\n",
              "        if (!dataTable) return;\n",
              "\n",
              "        const docLinkHtml = 'Like what you see? Visit the ' +\n",
              "          '<a target=\"_blank\" href=https://colab.research.google.com/notebooks/data_table.ipynb>data table notebook</a>'\n",
              "          + ' to learn more about interactive tables.';\n",
              "        element.innerHTML = '';\n",
              "        dataTable['output_type'] = 'display_data';\n",
              "        await google.colab.output.renderOutput(dataTable, element);\n",
              "        const docLink = document.createElement('div');\n",
              "        docLink.innerHTML = docLinkHtml;\n",
              "        element.appendChild(docLink);\n",
              "      }\n",
              "    </script>\n",
              "  </div>\n",
              "\n",
              "\n",
              "  <div id=\"id_ad54f81d-5cb7-4791-b5ea-331a10508455\">\n",
              "    <style>\n",
              "      .colab-df-generate {\n",
              "        background-color: #E8F0FE;\n",
              "        border: none;\n",
              "        border-radius: 50%;\n",
              "        cursor: pointer;\n",
              "        display: none;\n",
              "        fill: #1967D2;\n",
              "        height: 32px;\n",
              "        padding: 0 0 0 0;\n",
              "        width: 32px;\n",
              "      }\n",
              "\n",
              "      .colab-df-generate:hover {\n",
              "        background-color: #E2EBFA;\n",
              "        box-shadow: 0px 1px 2px rgba(60, 64, 67, 0.3), 0px 1px 3px 1px rgba(60, 64, 67, 0.15);\n",
              "        fill: #174EA6;\n",
              "      }\n",
              "\n",
              "      [theme=dark] .colab-df-generate {\n",
              "        background-color: #3B4455;\n",
              "        fill: #D2E3FC;\n",
              "      }\n",
              "\n",
              "      [theme=dark] .colab-df-generate:hover {\n",
              "        background-color: #434B5C;\n",
              "        box-shadow: 0px 1px 3px 1px rgba(0, 0, 0, 0.15);\n",
              "        filter: drop-shadow(0px 1px 2px rgba(0, 0, 0, 0.3));\n",
              "        fill: #FFFFFF;\n",
              "      }\n",
              "    </style>\n",
              "    <button class=\"colab-df-generate\" onclick=\"generateWithVariable('anomaly_by_route_total')\"\n",
              "            title=\"Generate code using this dataframe.\"\n",
              "            style=\"display:none;\">\n",
              "\n",
              "  <svg xmlns=\"http://www.w3.org/2000/svg\" height=\"24px\"viewBox=\"0 0 24 24\"\n",
              "       width=\"24px\">\n",
              "    <path d=\"M7,19H8.4L18.45,9,17,7.55,7,17.6ZM5,21V16.75L18.45,3.32a2,2,0,0,1,2.83,0l1.4,1.43a1.91,1.91,0,0,1,.58,1.4,1.91,1.91,0,0,1-.58,1.4L9.25,21ZM18.45,9,17,7.55Zm-12,3A5.31,5.31,0,0,0,4.9,8.1,5.31,5.31,0,0,0,1,6.5,5.31,5.31,0,0,0,4.9,4.9,5.31,5.31,0,0,0,6.5,1,5.31,5.31,0,0,0,8.1,4.9,5.31,5.31,0,0,0,12,6.5,5.46,5.46,0,0,0,6.5,12Z\"/>\n",
              "  </svg>\n",
              "    </button>\n",
              "    <script>\n",
              "      (() => {\n",
              "      const buttonEl =\n",
              "        document.querySelector('#id_ad54f81d-5cb7-4791-b5ea-331a10508455 button.colab-df-generate');\n",
              "      buttonEl.style.display =\n",
              "        google.colab.kernel.accessAllowed ? 'block' : 'none';\n",
              "\n",
              "      buttonEl.onclick = () => {\n",
              "        google.colab.notebook.generateWithVariable('anomaly_by_route_total');\n",
              "      }\n",
              "      })();\n",
              "    </script>\n",
              "  </div>\n",
              "\n",
              "    </div>\n",
              "  </div>\n"
            ],
            "application/vnd.google.colaboratory.intrinsic+json": {
              "type": "dataframe",
              "variable_name": "anomaly_by_route_total",
              "summary": "{\n  \"name\": \"anomaly_by_route_total\",\n  \"rows\": 1,\n  \"fields\": [\n    {\n      \"column\": \"route_short_name\",\n      \"properties\": {\n        \"dtype\": \"string\",\n        \"num_unique_values\": 1,\n        \"samples\": [\n          \"Unknown\"\n        ],\n        \"semantic_type\": \"\",\n        \"description\": \"\"\n      }\n    },\n    {\n      \"column\": \"total_anomalies\",\n      \"properties\": {\n        \"dtype\": \"number\",\n        \"std\": null,\n        \"min\": 5428,\n        \"max\": 5428,\n        \"num_unique_values\": 1,\n        \"samples\": [\n          5428\n        ],\n        \"semantic_type\": \"\",\n        \"description\": \"\"\n      }\n    }\n  ]\n}"
            }
          },
          "metadata": {}
        }
      ]
    },
    {
      "cell_type": "markdown",
      "source": [
        "###Problem: All route_short_name are showing as Unknown"
      ],
      "metadata": {
        "id": "gK_C8dws-AYJ"
      }
    },
    {
      "cell_type": "markdown",
      "source": [
        " Fix: Join route_short_name onto anomalies after detection\n",
        "\n",
        "We’ll fix this cleanly with a single join step that maps route info from df_valid (your snapshot base) to the unified df_anomalies_full."
      ],
      "metadata": {
        "id": "xfpHkRQb-GKq"
      }
    },
    {
      "cell_type": "code",
      "source": [
        "#Load trips.txt and Routes.txt from the project's GTFS zip file\n",
        "import pandas as pd\n",
        "import zipfile\n",
        "\n",
        "# Path to your GTFS static zip file\n",
        "zip_path = \"/content/google_transit.zip\"\n",
        "\n",
        "with zipfile.ZipFile(zip_path, 'r') as z:\n",
        "    trips_df = pd.read_csv(z.open(\"trips.txt\"))\n",
        "    routes_df = pd.read_csv(z.open(\"routes.txt\"))\n",
        "    # Load GTFS shapes.txt into a DataFrame\n",
        "    shapes_df = pd.read_csv(z.open(\"shapes.txt\"))\n",
        "\n"
      ],
      "metadata": {
        "id": "8cIYOUqU_Brj"
      },
      "execution_count": null,
      "outputs": []
    },
    {
      "cell_type": "code",
      "source": [
        "#Patch route_short_name into df_valid (ensures downstream consistency)\n",
        "# Build trip-to-route lookup from your GTFS static data\n",
        "trip_to_route_lookup = trips_df[[\"trip_id\", \"route_id\"]].merge(\n",
        "    routes_df[[\"route_id\", \"route_short_name\"]], on=\"route_id\", how=\"left\"\n",
        ")\n",
        "\n",
        "#the data types of the trip_id column are mismatched between df_valid and trip_to_route_lookup\n",
        "df_valid[\"trip_id\"] = df_valid[\"trip_id\"].astype(str)\n",
        "trip_to_route_lookup[\"trip_id\"] = trip_to_route_lookup[\"trip_id\"].astype(str)\n",
        "\n",
        "# Patch into df_valid\n",
        "df_valid = df_valid.merge(trip_to_route_lookup, on=\"trip_id\", how=\"left\")\n"
      ],
      "metadata": {
        "id": "JB51bYKw-ZGf"
      },
      "execution_count": null,
      "outputs": []
    },
    {
      "cell_type": "code",
      "source": [
        "#Step 1: Build a lookup table\n",
        "route_lookup = df_valid[[\"vehicle_id\", \"timestamp\", \"route_short_name\"]].copy()\n",
        "route_lookup[\"timestamp\"] = pd.to_datetime(route_lookup[\"timestamp\"], utc=True)\n"
      ],
      "metadata": {
        "id": "cRWfXaRS91JZ"
      },
      "execution_count": null,
      "outputs": []
    },
    {
      "cell_type": "code",
      "source": [
        "#Step 2: Also convert timestamp in anomalies to datetime\n",
        "df_anomalies_full[\"timestamp\"] = pd.to_datetime(df_anomalies_full[\"timestamp\"], utc=True)\n"
      ],
      "metadata": {
        "id": "DYLHwfD3_w9s"
      },
      "execution_count": null,
      "outputs": []
    },
    {
      "cell_type": "code",
      "source": [
        "#Confirm Timestamp sort order and dtype\n",
        "print(\"Route lookup timestamp dtype:\", route_lookup[\"timestamp\"].dtype)\n",
        "print(\"Anomalies timestamp dtype:   \", df_anomalies_full[\"timestamp\"].dtype)\n",
        "\n",
        "print(\"Route lookup sorted?:\", route_lookup[\"timestamp\"].is_monotonic_increasing)\n",
        "print(\"Anomalies sorted?:   \", df_anomalies_full[\"timestamp\"].is_monotonic_increasing)\n"
      ],
      "metadata": {
        "colab": {
          "base_uri": "https://localhost:8080/"
        },
        "id": "7rVvrY0lA7Jw",
        "outputId": "51a22218-40cf-4f1b-c54f-f61321c622ae"
      },
      "execution_count": null,
      "outputs": [
        {
          "output_type": "stream",
          "name": "stdout",
          "text": [
            "Route lookup timestamp dtype: datetime64[ns, UTC]\n",
            "Anomalies timestamp dtype:    datetime64[ns, UTC]\n",
            "Route lookup sorted?: False\n",
            "Anomalies sorted?:    False\n"
          ]
        }
      ]
    },
    {
      "cell_type": "code",
      "source": [
        "#Step 3: Join by vehicle and timestamp (merge nearest match within a short tolerance)\n",
        "# Sort before merge_asof\n",
        "route_lookup = route_lookup.sort_values([\"vehicle_id\", \"timestamp\"])\n",
        "df_anomalies_full = df_anomalies_full.sort_values([\"vehicle_id\", \"timestamp\"])\n",
        "\n",
        "#Filter out the rows with null timestamps before merging\n",
        "# Check how many nulls you have\n",
        "print(\"Null timestamps in anomalies:\", df_anomalies_full[\"timestamp\"].isna().sum())\n",
        "\n",
        "# Drop them before merge_asof (can't match anything anyway)\n",
        "df_anomalies_full = df_anomalies_full[df_anomalies_full[\"timestamp\"].notna()]\n",
        "\n",
        "# Enforce datetime dtype and full sort\n",
        "route_lookup[\"timestamp\"] = pd.to_datetime(route_lookup[\"timestamp\"], utc=True, errors=\"coerce\")\n",
        "df_anomalies_full[\"timestamp\"] = pd.to_datetime(df_anomalies_full[\"timestamp\"], utc=True, errors=\"coerce\")\n",
        "\n",
        "#Re-sort before the merge\n",
        "# Ensure sorting after dropping nulls\n",
        "route_lookup = route_lookup.sort_values(\"timestamp\")\n",
        "df_anomalies_full = df_anomalies_full.sort_values(\"timestamp\")\n",
        "\n",
        "\n",
        "# Merge with tolerance: 60 seconds\n",
        "df_anomalies_full = pd.merge_asof(\n",
        "    df_anomalies_full,\n",
        "    route_lookup,\n",
        "    by=\"vehicle_id\",\n",
        "    on=\"timestamp\",\n",
        "    direction=\"nearest\",\n",
        "    tolerance=pd.Timedelta(\"60s\"),\n",
        "    suffixes=(\"\", \"_from_lookup\")\n",
        ")\n",
        "\n",
        "# Final fallback\n",
        "df_anomalies_full[\"route_short_name\"] = df_anomalies_full[\"route_short_name\"].fillna(\n",
        "    df_anomalies_full[\"route_short_name_from_lookup\"]\n",
        ")\n",
        "\n",
        "print(\"Remaining missing route names:\", df_anomalies_full[\"route_short_name\"].isna().sum())"
      ],
      "metadata": {
        "colab": {
          "base_uri": "https://localhost:8080/"
        },
        "id": "sHojTZAM_1Z4",
        "outputId": "735aca22-6742-4ce5-a15c-68a89baf3735"
      },
      "execution_count": null,
      "outputs": [
        {
          "output_type": "stream",
          "name": "stdout",
          "text": [
            "Null timestamps in anomalies: 0\n",
            "Remaining missing route names: 0\n"
          ]
        }
      ]
    },
    {
      "cell_type": "code",
      "source": [
        "#Step 4: Rerun Summary Table\n",
        "# Generate summary counts\n",
        "anomaly_by_route_type = df_anomalies_full.pivot_table(\n",
        "    index=\"route_short_name\",\n",
        "    columns=\"anomaly_type\",\n",
        "    aggfunc=\"size\",\n",
        "    fill_value=0\n",
        ").sort_index()\n",
        "\n",
        "# Display summary\n",
        "anomaly_by_route_type\n",
        "\n"
      ],
      "metadata": {
        "colab": {
          "base_uri": "https://localhost:8080/",
          "height": 112
        },
        "id": "_1JmoBeG_8N-",
        "outputId": "e16144c7-3bbf-4bdc-b7a2-d5bd0887ebef"
      },
      "execution_count": null,
      "outputs": [
        {
          "output_type": "execute_result",
          "data": {
            "text/plain": [
              "anomaly_type      backtracking  off_route  repeated_points  stuck_vehicle\n",
              "route_short_name                                                         \n",
              "Unknown                     44        225             1930           1286"
            ],
            "text/html": [
              "\n",
              "  <div id=\"df-2b9709eb-2a4c-4087-88c9-39dd6593f09f\" class=\"colab-df-container\">\n",
              "    <div>\n",
              "<style scoped>\n",
              "    .dataframe tbody tr th:only-of-type {\n",
              "        vertical-align: middle;\n",
              "    }\n",
              "\n",
              "    .dataframe tbody tr th {\n",
              "        vertical-align: top;\n",
              "    }\n",
              "\n",
              "    .dataframe thead th {\n",
              "        text-align: right;\n",
              "    }\n",
              "</style>\n",
              "<table border=\"1\" class=\"dataframe\">\n",
              "  <thead>\n",
              "    <tr style=\"text-align: right;\">\n",
              "      <th>anomaly_type</th>\n",
              "      <th>backtracking</th>\n",
              "      <th>off_route</th>\n",
              "      <th>repeated_points</th>\n",
              "      <th>stuck_vehicle</th>\n",
              "    </tr>\n",
              "    <tr>\n",
              "      <th>route_short_name</th>\n",
              "      <th></th>\n",
              "      <th></th>\n",
              "      <th></th>\n",
              "      <th></th>\n",
              "    </tr>\n",
              "  </thead>\n",
              "  <tbody>\n",
              "    <tr>\n",
              "      <th>Unknown</th>\n",
              "      <td>44</td>\n",
              "      <td>225</td>\n",
              "      <td>1930</td>\n",
              "      <td>1286</td>\n",
              "    </tr>\n",
              "  </tbody>\n",
              "</table>\n",
              "</div>\n",
              "    <div class=\"colab-df-buttons\">\n",
              "\n",
              "  <div class=\"colab-df-container\">\n",
              "    <button class=\"colab-df-convert\" onclick=\"convertToInteractive('df-2b9709eb-2a4c-4087-88c9-39dd6593f09f')\"\n",
              "            title=\"Convert this dataframe to an interactive table.\"\n",
              "            style=\"display:none;\">\n",
              "\n",
              "  <svg xmlns=\"http://www.w3.org/2000/svg\" height=\"24px\" viewBox=\"0 -960 960 960\">\n",
              "    <path d=\"M120-120v-720h720v720H120Zm60-500h600v-160H180v160Zm220 220h160v-160H400v160Zm0 220h160v-160H400v160ZM180-400h160v-160H180v160Zm440 0h160v-160H620v160ZM180-180h160v-160H180v160Zm440 0h160v-160H620v160Z\"/>\n",
              "  </svg>\n",
              "    </button>\n",
              "\n",
              "  <style>\n",
              "    .colab-df-container {\n",
              "      display:flex;\n",
              "      gap: 12px;\n",
              "    }\n",
              "\n",
              "    .colab-df-convert {\n",
              "      background-color: #E8F0FE;\n",
              "      border: none;\n",
              "      border-radius: 50%;\n",
              "      cursor: pointer;\n",
              "      display: none;\n",
              "      fill: #1967D2;\n",
              "      height: 32px;\n",
              "      padding: 0 0 0 0;\n",
              "      width: 32px;\n",
              "    }\n",
              "\n",
              "    .colab-df-convert:hover {\n",
              "      background-color: #E2EBFA;\n",
              "      box-shadow: 0px 1px 2px rgba(60, 64, 67, 0.3), 0px 1px 3px 1px rgba(60, 64, 67, 0.15);\n",
              "      fill: #174EA6;\n",
              "    }\n",
              "\n",
              "    .colab-df-buttons div {\n",
              "      margin-bottom: 4px;\n",
              "    }\n",
              "\n",
              "    [theme=dark] .colab-df-convert {\n",
              "      background-color: #3B4455;\n",
              "      fill: #D2E3FC;\n",
              "    }\n",
              "\n",
              "    [theme=dark] .colab-df-convert:hover {\n",
              "      background-color: #434B5C;\n",
              "      box-shadow: 0px 1px 3px 1px rgba(0, 0, 0, 0.15);\n",
              "      filter: drop-shadow(0px 1px 2px rgba(0, 0, 0, 0.3));\n",
              "      fill: #FFFFFF;\n",
              "    }\n",
              "  </style>\n",
              "\n",
              "    <script>\n",
              "      const buttonEl =\n",
              "        document.querySelector('#df-2b9709eb-2a4c-4087-88c9-39dd6593f09f button.colab-df-convert');\n",
              "      buttonEl.style.display =\n",
              "        google.colab.kernel.accessAllowed ? 'block' : 'none';\n",
              "\n",
              "      async function convertToInteractive(key) {\n",
              "        const element = document.querySelector('#df-2b9709eb-2a4c-4087-88c9-39dd6593f09f');\n",
              "        const dataTable =\n",
              "          await google.colab.kernel.invokeFunction('convertToInteractive',\n",
              "                                                    [key], {});\n",
              "        if (!dataTable) return;\n",
              "\n",
              "        const docLinkHtml = 'Like what you see? Visit the ' +\n",
              "          '<a target=\"_blank\" href=https://colab.research.google.com/notebooks/data_table.ipynb>data table notebook</a>'\n",
              "          + ' to learn more about interactive tables.';\n",
              "        element.innerHTML = '';\n",
              "        dataTable['output_type'] = 'display_data';\n",
              "        await google.colab.output.renderOutput(dataTable, element);\n",
              "        const docLink = document.createElement('div');\n",
              "        docLink.innerHTML = docLinkHtml;\n",
              "        element.appendChild(docLink);\n",
              "      }\n",
              "    </script>\n",
              "  </div>\n",
              "\n",
              "\n",
              "  <div id=\"id_0987eaf8-2bf3-46e6-ba3a-0770e44ba3d2\">\n",
              "    <style>\n",
              "      .colab-df-generate {\n",
              "        background-color: #E8F0FE;\n",
              "        border: none;\n",
              "        border-radius: 50%;\n",
              "        cursor: pointer;\n",
              "        display: none;\n",
              "        fill: #1967D2;\n",
              "        height: 32px;\n",
              "        padding: 0 0 0 0;\n",
              "        width: 32px;\n",
              "      }\n",
              "\n",
              "      .colab-df-generate:hover {\n",
              "        background-color: #E2EBFA;\n",
              "        box-shadow: 0px 1px 2px rgba(60, 64, 67, 0.3), 0px 1px 3px 1px rgba(60, 64, 67, 0.15);\n",
              "        fill: #174EA6;\n",
              "      }\n",
              "\n",
              "      [theme=dark] .colab-df-generate {\n",
              "        background-color: #3B4455;\n",
              "        fill: #D2E3FC;\n",
              "      }\n",
              "\n",
              "      [theme=dark] .colab-df-generate:hover {\n",
              "        background-color: #434B5C;\n",
              "        box-shadow: 0px 1px 3px 1px rgba(0, 0, 0, 0.15);\n",
              "        filter: drop-shadow(0px 1px 2px rgba(0, 0, 0, 0.3));\n",
              "        fill: #FFFFFF;\n",
              "      }\n",
              "    </style>\n",
              "    <button class=\"colab-df-generate\" onclick=\"generateWithVariable('anomaly_by_route_type')\"\n",
              "            title=\"Generate code using this dataframe.\"\n",
              "            style=\"display:none;\">\n",
              "\n",
              "  <svg xmlns=\"http://www.w3.org/2000/svg\" height=\"24px\"viewBox=\"0 0 24 24\"\n",
              "       width=\"24px\">\n",
              "    <path d=\"M7,19H8.4L18.45,9,17,7.55,7,17.6ZM5,21V16.75L18.45,3.32a2,2,0,0,1,2.83,0l1.4,1.43a1.91,1.91,0,0,1,.58,1.4,1.91,1.91,0,0,1-.58,1.4L9.25,21ZM18.45,9,17,7.55Zm-12,3A5.31,5.31,0,0,0,4.9,8.1,5.31,5.31,0,0,0,1,6.5,5.31,5.31,0,0,0,4.9,4.9,5.31,5.31,0,0,0,6.5,1,5.31,5.31,0,0,0,8.1,4.9,5.31,5.31,0,0,0,12,6.5,5.46,5.46,0,0,0,6.5,12Z\"/>\n",
              "  </svg>\n",
              "    </button>\n",
              "    <script>\n",
              "      (() => {\n",
              "      const buttonEl =\n",
              "        document.querySelector('#id_0987eaf8-2bf3-46e6-ba3a-0770e44ba3d2 button.colab-df-generate');\n",
              "      buttonEl.style.display =\n",
              "        google.colab.kernel.accessAllowed ? 'block' : 'none';\n",
              "\n",
              "      buttonEl.onclick = () => {\n",
              "        google.colab.notebook.generateWithVariable('anomaly_by_route_type');\n",
              "      }\n",
              "      })();\n",
              "    </script>\n",
              "  </div>\n",
              "\n",
              "    </div>\n",
              "  </div>\n"
            ],
            "application/vnd.google.colaboratory.intrinsic+json": {
              "type": "dataframe",
              "variable_name": "anomaly_by_route_type",
              "summary": "{\n  \"name\": \"anomaly_by_route_type\",\n  \"rows\": 1,\n  \"fields\": [\n    {\n      \"column\": \"route_short_name\",\n      \"properties\": {\n        \"dtype\": \"string\",\n        \"num_unique_values\": 1,\n        \"samples\": [\n          \"Unknown\"\n        ],\n        \"semantic_type\": \"\",\n        \"description\": \"\"\n      }\n    },\n    {\n      \"column\": \"backtracking\",\n      \"properties\": {\n        \"dtype\": \"number\",\n        \"std\": null,\n        \"min\": 44,\n        \"max\": 44,\n        \"num_unique_values\": 1,\n        \"samples\": [\n          44\n        ],\n        \"semantic_type\": \"\",\n        \"description\": \"\"\n      }\n    },\n    {\n      \"column\": \"off_route\",\n      \"properties\": {\n        \"dtype\": \"number\",\n        \"std\": null,\n        \"min\": 225,\n        \"max\": 225,\n        \"num_unique_values\": 1,\n        \"samples\": [\n          225\n        ],\n        \"semantic_type\": \"\",\n        \"description\": \"\"\n      }\n    },\n    {\n      \"column\": \"repeated_points\",\n      \"properties\": {\n        \"dtype\": \"number\",\n        \"std\": null,\n        \"min\": 1930,\n        \"max\": 1930,\n        \"num_unique_values\": 1,\n        \"samples\": [\n          1930\n        ],\n        \"semantic_type\": \"\",\n        \"description\": \"\"\n      }\n    },\n    {\n      \"column\": \"stuck_vehicle\",\n      \"properties\": {\n        \"dtype\": \"number\",\n        \"std\": null,\n        \"min\": 1286,\n        \"max\": 1286,\n        \"num_unique_values\": 1,\n        \"samples\": [\n          1286\n        ],\n        \"semantic_type\": \"\",\n        \"description\": \"\"\n      }\n    }\n  ]\n}"
            }
          },
          "metadata": {},
          "execution_count": 60
        }
      ]
    },
    {
      "cell_type": "markdown",
      "source": [
        "###Problem: Still showing route_short_name Unknown only"
      ],
      "metadata": {
        "id": "2GrglMuWBkdE"
      }
    },
    {
      "cell_type": "code",
      "source": [
        "#Double-check the route_short_name_from_lookup column exists and has values:\n",
        "print(df_anomalies_full.columns)\n",
        "print(\"Non-null fallback route names:\", df_anomalies_full[\"route_short_name_from_lookup\"].notna().sum())\n"
      ],
      "metadata": {
        "colab": {
          "base_uri": "https://localhost:8080/"
        },
        "id": "_eYujDFzBoHk",
        "outputId": "ef1dfd6d-b752-4e1d-e939-2e2b88d24fe2"
      },
      "execution_count": null,
      "outputs": [
        {
          "output_type": "stream",
          "name": "stdout",
          "text": [
            "Index(['vehicle_id', 'timestamp_prev', 'timestamp_curr', 'time_diff_sec',\n",
            "       'distance_m', 'is_gap', 'is_jump', 'anomaly_type', 'snapshot_id',\n",
            "       'timestamp_collected', 'latitude', 'longitude', 'heading', 'speed_mph',\n",
            "       'route_short_name_x', 'trip_id', 'next_stop_id', 'next_stop_name',\n",
            "       'next_stop_sched_time', 'route_id', 'service_id', 'trip_headsign',\n",
            "       'trip_short_name', 'direction_id', 'block_id', 'shape_id',\n",
            "       'wheelchair_accessible', 'bikes_allowed', 'agency_id',\n",
            "       'route_short_name_y', 'route_long_name', 'route_desc', 'route_type',\n",
            "       'route_url', 'route_color', 'route_text_color', 'data_quality',\n",
            "       'timestamp', 'computed_speed_kph', 'first_seen', 'route_short_name',\n",
            "       'distance_from_route_m', 'route_short_name_from_lookup'],\n",
            "      dtype='object')\n",
            "Non-null fallback route names: 3485\n"
          ]
        }
      ]
    },
    {
      "cell_type": "code",
      "source": [
        "#Trying to work through the \"Unknown\" route_short_name problem\n",
        "df_anomalies_full[\"route_short_name\"] = df_anomalies_full[\"route_short_name\"].combine_first(\n",
        "    df_anomalies_full[\"route_short_name_from_lookup\"]\n",
        ")\n"
      ],
      "metadata": {
        "id": "Oqx9vXBBBowG"
      },
      "execution_count": null,
      "outputs": []
    },
    {
      "cell_type": "code",
      "source": [
        "print(\"Remaining missing route names:\", df_anomalies_full[\"route_short_name\"].isna().sum())\n",
        "print(df_anomalies_full[\"route_short_name\"].value_counts(dropna=False).head())\n"
      ],
      "metadata": {
        "colab": {
          "base_uri": "https://localhost:8080/"
        },
        "id": "X_w0baocCI4L",
        "outputId": "1d7e98d4-85e4-43d5-f242-79cc699f5c23"
      },
      "execution_count": null,
      "outputs": [
        {
          "output_type": "stream",
          "name": "stdout",
          "text": [
            "Remaining missing route names: 0\n",
            "route_short_name\n",
            "Unknown    3485\n",
            "Name: count, dtype: int64\n"
          ]
        }
      ]
    },
    {
      "cell_type": "code",
      "source": [
        "anomaly_by_route_type = df_anomalies_full.pivot_table(\n",
        "    index=\"route_short_name\",\n",
        "    columns=\"anomaly_type\",\n",
        "    aggfunc=\"size\",\n",
        "    fill_value=0\n",
        ").sort_index()\n",
        "\n",
        "anomaly_by_route_type\n"
      ],
      "metadata": {
        "colab": {
          "base_uri": "https://localhost:8080/",
          "height": 112
        },
        "id": "k9ZnXtLpCKO7",
        "outputId": "3247c645-982e-44c0-8fc7-adf0b1783789"
      },
      "execution_count": null,
      "outputs": [
        {
          "output_type": "execute_result",
          "data": {
            "text/plain": [
              "anomaly_type      backtracking  off_route  repeated_points  stuck_vehicle\n",
              "route_short_name                                                         \n",
              "Unknown                     44        225             1930           1286"
            ],
            "text/html": [
              "\n",
              "  <div id=\"df-6b606109-65a2-4557-ae3f-b94dd15cef41\" class=\"colab-df-container\">\n",
              "    <div>\n",
              "<style scoped>\n",
              "    .dataframe tbody tr th:only-of-type {\n",
              "        vertical-align: middle;\n",
              "    }\n",
              "\n",
              "    .dataframe tbody tr th {\n",
              "        vertical-align: top;\n",
              "    }\n",
              "\n",
              "    .dataframe thead th {\n",
              "        text-align: right;\n",
              "    }\n",
              "</style>\n",
              "<table border=\"1\" class=\"dataframe\">\n",
              "  <thead>\n",
              "    <tr style=\"text-align: right;\">\n",
              "      <th>anomaly_type</th>\n",
              "      <th>backtracking</th>\n",
              "      <th>off_route</th>\n",
              "      <th>repeated_points</th>\n",
              "      <th>stuck_vehicle</th>\n",
              "    </tr>\n",
              "    <tr>\n",
              "      <th>route_short_name</th>\n",
              "      <th></th>\n",
              "      <th></th>\n",
              "      <th></th>\n",
              "      <th></th>\n",
              "    </tr>\n",
              "  </thead>\n",
              "  <tbody>\n",
              "    <tr>\n",
              "      <th>Unknown</th>\n",
              "      <td>44</td>\n",
              "      <td>225</td>\n",
              "      <td>1930</td>\n",
              "      <td>1286</td>\n",
              "    </tr>\n",
              "  </tbody>\n",
              "</table>\n",
              "</div>\n",
              "    <div class=\"colab-df-buttons\">\n",
              "\n",
              "  <div class=\"colab-df-container\">\n",
              "    <button class=\"colab-df-convert\" onclick=\"convertToInteractive('df-6b606109-65a2-4557-ae3f-b94dd15cef41')\"\n",
              "            title=\"Convert this dataframe to an interactive table.\"\n",
              "            style=\"display:none;\">\n",
              "\n",
              "  <svg xmlns=\"http://www.w3.org/2000/svg\" height=\"24px\" viewBox=\"0 -960 960 960\">\n",
              "    <path d=\"M120-120v-720h720v720H120Zm60-500h600v-160H180v160Zm220 220h160v-160H400v160Zm0 220h160v-160H400v160ZM180-400h160v-160H180v160Zm440 0h160v-160H620v160ZM180-180h160v-160H180v160Zm440 0h160v-160H620v160Z\"/>\n",
              "  </svg>\n",
              "    </button>\n",
              "\n",
              "  <style>\n",
              "    .colab-df-container {\n",
              "      display:flex;\n",
              "      gap: 12px;\n",
              "    }\n",
              "\n",
              "    .colab-df-convert {\n",
              "      background-color: #E8F0FE;\n",
              "      border: none;\n",
              "      border-radius: 50%;\n",
              "      cursor: pointer;\n",
              "      display: none;\n",
              "      fill: #1967D2;\n",
              "      height: 32px;\n",
              "      padding: 0 0 0 0;\n",
              "      width: 32px;\n",
              "    }\n",
              "\n",
              "    .colab-df-convert:hover {\n",
              "      background-color: #E2EBFA;\n",
              "      box-shadow: 0px 1px 2px rgba(60, 64, 67, 0.3), 0px 1px 3px 1px rgba(60, 64, 67, 0.15);\n",
              "      fill: #174EA6;\n",
              "    }\n",
              "\n",
              "    .colab-df-buttons div {\n",
              "      margin-bottom: 4px;\n",
              "    }\n",
              "\n",
              "    [theme=dark] .colab-df-convert {\n",
              "      background-color: #3B4455;\n",
              "      fill: #D2E3FC;\n",
              "    }\n",
              "\n",
              "    [theme=dark] .colab-df-convert:hover {\n",
              "      background-color: #434B5C;\n",
              "      box-shadow: 0px 1px 3px 1px rgba(0, 0, 0, 0.15);\n",
              "      filter: drop-shadow(0px 1px 2px rgba(0, 0, 0, 0.3));\n",
              "      fill: #FFFFFF;\n",
              "    }\n",
              "  </style>\n",
              "\n",
              "    <script>\n",
              "      const buttonEl =\n",
              "        document.querySelector('#df-6b606109-65a2-4557-ae3f-b94dd15cef41 button.colab-df-convert');\n",
              "      buttonEl.style.display =\n",
              "        google.colab.kernel.accessAllowed ? 'block' : 'none';\n",
              "\n",
              "      async function convertToInteractive(key) {\n",
              "        const element = document.querySelector('#df-6b606109-65a2-4557-ae3f-b94dd15cef41');\n",
              "        const dataTable =\n",
              "          await google.colab.kernel.invokeFunction('convertToInteractive',\n",
              "                                                    [key], {});\n",
              "        if (!dataTable) return;\n",
              "\n",
              "        const docLinkHtml = 'Like what you see? Visit the ' +\n",
              "          '<a target=\"_blank\" href=https://colab.research.google.com/notebooks/data_table.ipynb>data table notebook</a>'\n",
              "          + ' to learn more about interactive tables.';\n",
              "        element.innerHTML = '';\n",
              "        dataTable['output_type'] = 'display_data';\n",
              "        await google.colab.output.renderOutput(dataTable, element);\n",
              "        const docLink = document.createElement('div');\n",
              "        docLink.innerHTML = docLinkHtml;\n",
              "        element.appendChild(docLink);\n",
              "      }\n",
              "    </script>\n",
              "  </div>\n",
              "\n",
              "\n",
              "  <div id=\"id_487546d5-791a-4e28-910c-5ce4c73bbc4c\">\n",
              "    <style>\n",
              "      .colab-df-generate {\n",
              "        background-color: #E8F0FE;\n",
              "        border: none;\n",
              "        border-radius: 50%;\n",
              "        cursor: pointer;\n",
              "        display: none;\n",
              "        fill: #1967D2;\n",
              "        height: 32px;\n",
              "        padding: 0 0 0 0;\n",
              "        width: 32px;\n",
              "      }\n",
              "\n",
              "      .colab-df-generate:hover {\n",
              "        background-color: #E2EBFA;\n",
              "        box-shadow: 0px 1px 2px rgba(60, 64, 67, 0.3), 0px 1px 3px 1px rgba(60, 64, 67, 0.15);\n",
              "        fill: #174EA6;\n",
              "      }\n",
              "\n",
              "      [theme=dark] .colab-df-generate {\n",
              "        background-color: #3B4455;\n",
              "        fill: #D2E3FC;\n",
              "      }\n",
              "\n",
              "      [theme=dark] .colab-df-generate:hover {\n",
              "        background-color: #434B5C;\n",
              "        box-shadow: 0px 1px 3px 1px rgba(0, 0, 0, 0.15);\n",
              "        filter: drop-shadow(0px 1px 2px rgba(0, 0, 0, 0.3));\n",
              "        fill: #FFFFFF;\n",
              "      }\n",
              "    </style>\n",
              "    <button class=\"colab-df-generate\" onclick=\"generateWithVariable('anomaly_by_route_type')\"\n",
              "            title=\"Generate code using this dataframe.\"\n",
              "            style=\"display:none;\">\n",
              "\n",
              "  <svg xmlns=\"http://www.w3.org/2000/svg\" height=\"24px\"viewBox=\"0 0 24 24\"\n",
              "       width=\"24px\">\n",
              "    <path d=\"M7,19H8.4L18.45,9,17,7.55,7,17.6ZM5,21V16.75L18.45,3.32a2,2,0,0,1,2.83,0l1.4,1.43a1.91,1.91,0,0,1,.58,1.4,1.91,1.91,0,0,1-.58,1.4L9.25,21ZM18.45,9,17,7.55Zm-12,3A5.31,5.31,0,0,0,4.9,8.1,5.31,5.31,0,0,0,1,6.5,5.31,5.31,0,0,0,4.9,4.9,5.31,5.31,0,0,0,6.5,1,5.31,5.31,0,0,0,8.1,4.9,5.31,5.31,0,0,0,12,6.5,5.46,5.46,0,0,0,6.5,12Z\"/>\n",
              "  </svg>\n",
              "    </button>\n",
              "    <script>\n",
              "      (() => {\n",
              "      const buttonEl =\n",
              "        document.querySelector('#id_487546d5-791a-4e28-910c-5ce4c73bbc4c button.colab-df-generate');\n",
              "      buttonEl.style.display =\n",
              "        google.colab.kernel.accessAllowed ? 'block' : 'none';\n",
              "\n",
              "      buttonEl.onclick = () => {\n",
              "        google.colab.notebook.generateWithVariable('anomaly_by_route_type');\n",
              "      }\n",
              "      })();\n",
              "    </script>\n",
              "  </div>\n",
              "\n",
              "    </div>\n",
              "  </div>\n"
            ],
            "application/vnd.google.colaboratory.intrinsic+json": {
              "type": "dataframe",
              "variable_name": "anomaly_by_route_type",
              "summary": "{\n  \"name\": \"anomaly_by_route_type\",\n  \"rows\": 1,\n  \"fields\": [\n    {\n      \"column\": \"route_short_name\",\n      \"properties\": {\n        \"dtype\": \"string\",\n        \"num_unique_values\": 1,\n        \"samples\": [\n          \"Unknown\"\n        ],\n        \"semantic_type\": \"\",\n        \"description\": \"\"\n      }\n    },\n    {\n      \"column\": \"backtracking\",\n      \"properties\": {\n        \"dtype\": \"number\",\n        \"std\": null,\n        \"min\": 44,\n        \"max\": 44,\n        \"num_unique_values\": 1,\n        \"samples\": [\n          44\n        ],\n        \"semantic_type\": \"\",\n        \"description\": \"\"\n      }\n    },\n    {\n      \"column\": \"off_route\",\n      \"properties\": {\n        \"dtype\": \"number\",\n        \"std\": null,\n        \"min\": 225,\n        \"max\": 225,\n        \"num_unique_values\": 1,\n        \"samples\": [\n          225\n        ],\n        \"semantic_type\": \"\",\n        \"description\": \"\"\n      }\n    },\n    {\n      \"column\": \"repeated_points\",\n      \"properties\": {\n        \"dtype\": \"number\",\n        \"std\": null,\n        \"min\": 1930,\n        \"max\": 1930,\n        \"num_unique_values\": 1,\n        \"samples\": [\n          1930\n        ],\n        \"semantic_type\": \"\",\n        \"description\": \"\"\n      }\n    },\n    {\n      \"column\": \"stuck_vehicle\",\n      \"properties\": {\n        \"dtype\": \"number\",\n        \"std\": null,\n        \"min\": 1286,\n        \"max\": 1286,\n        \"num_unique_values\": 1,\n        \"samples\": [\n          1286\n        ],\n        \"semantic_type\": \"\",\n        \"description\": \"\"\n      }\n    }\n  ]\n}"
            }
          },
          "metadata": {},
          "execution_count": 64
        }
      ]
    },
    {
      "cell_type": "code",
      "source": [
        "# Treat 'Unknown' as null for fallback\n",
        "df_anomalies_full[\"route_short_name\"] = df_anomalies_full[\"route_short_name\"].replace(\"Unknown\", pd.NA)\n",
        "\n",
        "# Re-apply fallback\n",
        "df_anomalies_full[\"route_short_name\"] = df_anomalies_full[\"route_short_name\"].combine_first(\n",
        "    df_anomalies_full[\"route_short_name_from_lookup\"]\n",
        ")\n",
        "\n",
        "# Confirm\n",
        "print(\"Remaining missing route names:\", df_anomalies_full[\"route_short_name\"].isna().sum())\n",
        "print(df_anomalies_full[\"route_short_name\"].value_counts(dropna=False).head())\n"
      ],
      "metadata": {
        "colab": {
          "base_uri": "https://localhost:8080/"
        },
        "id": "PGi473SoCNxC",
        "outputId": "054efa0c-bd7a-4cbb-fd5c-e15c5f8f1277"
      },
      "execution_count": null,
      "outputs": [
        {
          "output_type": "stream",
          "name": "stdout",
          "text": [
            "Remaining missing route names: 0\n",
            "route_short_name\n",
            "66     514\n",
            "16     378\n",
            "766    315\n",
            "157    240\n",
            "141    184\n",
            "Name: count, dtype: int64\n"
          ]
        },
        {
          "output_type": "stream",
          "name": "stderr",
          "text": [
            "/tmp/ipython-input-65-425751661.py:5: FutureWarning: The behavior of array concatenation with empty entries is deprecated. In a future version, this will no longer exclude empty items when determining the result dtype. To retain the old behavior, exclude the empty entries before the concat operation.\n",
            "  df_anomalies_full[\"route_short_name\"] = df_anomalies_full[\"route_short_name\"].combine_first(\n"
          ]
        }
      ]
    },
    {
      "cell_type": "code",
      "source": [
        "anomaly_by_route_type = df_anomalies_full.pivot_table(\n",
        "    index=\"route_short_name\",\n",
        "    columns=\"anomaly_type\",\n",
        "    aggfunc=\"size\",\n",
        "    fill_value=0\n",
        ").sort_index()\n",
        "\n",
        "anomaly_by_route_type\n"
      ],
      "metadata": {
        "colab": {
          "base_uri": "https://localhost:8080/",
          "height": 771
        },
        "id": "sH1WbUABCncC",
        "outputId": "b83bda7b-3a2f-405f-a209-48c029d91e1d"
      },
      "execution_count": null,
      "outputs": [
        {
          "output_type": "execute_result",
          "data": {
            "text/plain": [
              "anomaly_type      backtracking  off_route  repeated_points  stuck_vehicle\n",
              "route_short_name                                                         \n",
              "1                            2          9               89             77\n",
              "2                            2          0               36             27\n",
              "5                            1         28               88             43\n",
              "8                            7          5              105             67\n",
              "10                           0          0               61             39\n",
              "11                           2          1               97             65\n",
              "16                           1         11              202            164\n",
              "31                           2         18               69             45\n",
              "36                           1         10               21             19\n",
              "50                           6          3               52             33\n",
              "51                           0         21               23              8\n",
              "53                           1          4               62             47\n",
              "54                           2          2               48             37\n",
              "66                           1         34              277            202\n",
              "97                           1          9               15              4\n",
              "140                          1          0               52             29\n",
              "141                          1          2              120             61\n",
              "155                          2          8               79             51\n",
              "157                          3         24              128             85\n",
              "198                          1          5               28             18\n",
              "766                          1         14              176            124\n",
              "777                          6         17              102             41"
            ],
            "text/html": [
              "\n",
              "  <div id=\"df-d3fbf2af-dd2e-4c5a-a1b6-3f4ae2114dff\" class=\"colab-df-container\">\n",
              "    <div>\n",
              "<style scoped>\n",
              "    .dataframe tbody tr th:only-of-type {\n",
              "        vertical-align: middle;\n",
              "    }\n",
              "\n",
              "    .dataframe tbody tr th {\n",
              "        vertical-align: top;\n",
              "    }\n",
              "\n",
              "    .dataframe thead th {\n",
              "        text-align: right;\n",
              "    }\n",
              "</style>\n",
              "<table border=\"1\" class=\"dataframe\">\n",
              "  <thead>\n",
              "    <tr style=\"text-align: right;\">\n",
              "      <th>anomaly_type</th>\n",
              "      <th>backtracking</th>\n",
              "      <th>off_route</th>\n",
              "      <th>repeated_points</th>\n",
              "      <th>stuck_vehicle</th>\n",
              "    </tr>\n",
              "    <tr>\n",
              "      <th>route_short_name</th>\n",
              "      <th></th>\n",
              "      <th></th>\n",
              "      <th></th>\n",
              "      <th></th>\n",
              "    </tr>\n",
              "  </thead>\n",
              "  <tbody>\n",
              "    <tr>\n",
              "      <th>1</th>\n",
              "      <td>2</td>\n",
              "      <td>9</td>\n",
              "      <td>89</td>\n",
              "      <td>77</td>\n",
              "    </tr>\n",
              "    <tr>\n",
              "      <th>2</th>\n",
              "      <td>2</td>\n",
              "      <td>0</td>\n",
              "      <td>36</td>\n",
              "      <td>27</td>\n",
              "    </tr>\n",
              "    <tr>\n",
              "      <th>5</th>\n",
              "      <td>1</td>\n",
              "      <td>28</td>\n",
              "      <td>88</td>\n",
              "      <td>43</td>\n",
              "    </tr>\n",
              "    <tr>\n",
              "      <th>8</th>\n",
              "      <td>7</td>\n",
              "      <td>5</td>\n",
              "      <td>105</td>\n",
              "      <td>67</td>\n",
              "    </tr>\n",
              "    <tr>\n",
              "      <th>10</th>\n",
              "      <td>0</td>\n",
              "      <td>0</td>\n",
              "      <td>61</td>\n",
              "      <td>39</td>\n",
              "    </tr>\n",
              "    <tr>\n",
              "      <th>11</th>\n",
              "      <td>2</td>\n",
              "      <td>1</td>\n",
              "      <td>97</td>\n",
              "      <td>65</td>\n",
              "    </tr>\n",
              "    <tr>\n",
              "      <th>16</th>\n",
              "      <td>1</td>\n",
              "      <td>11</td>\n",
              "      <td>202</td>\n",
              "      <td>164</td>\n",
              "    </tr>\n",
              "    <tr>\n",
              "      <th>31</th>\n",
              "      <td>2</td>\n",
              "      <td>18</td>\n",
              "      <td>69</td>\n",
              "      <td>45</td>\n",
              "    </tr>\n",
              "    <tr>\n",
              "      <th>36</th>\n",
              "      <td>1</td>\n",
              "      <td>10</td>\n",
              "      <td>21</td>\n",
              "      <td>19</td>\n",
              "    </tr>\n",
              "    <tr>\n",
              "      <th>50</th>\n",
              "      <td>6</td>\n",
              "      <td>3</td>\n",
              "      <td>52</td>\n",
              "      <td>33</td>\n",
              "    </tr>\n",
              "    <tr>\n",
              "      <th>51</th>\n",
              "      <td>0</td>\n",
              "      <td>21</td>\n",
              "      <td>23</td>\n",
              "      <td>8</td>\n",
              "    </tr>\n",
              "    <tr>\n",
              "      <th>53</th>\n",
              "      <td>1</td>\n",
              "      <td>4</td>\n",
              "      <td>62</td>\n",
              "      <td>47</td>\n",
              "    </tr>\n",
              "    <tr>\n",
              "      <th>54</th>\n",
              "      <td>2</td>\n",
              "      <td>2</td>\n",
              "      <td>48</td>\n",
              "      <td>37</td>\n",
              "    </tr>\n",
              "    <tr>\n",
              "      <th>66</th>\n",
              "      <td>1</td>\n",
              "      <td>34</td>\n",
              "      <td>277</td>\n",
              "      <td>202</td>\n",
              "    </tr>\n",
              "    <tr>\n",
              "      <th>97</th>\n",
              "      <td>1</td>\n",
              "      <td>9</td>\n",
              "      <td>15</td>\n",
              "      <td>4</td>\n",
              "    </tr>\n",
              "    <tr>\n",
              "      <th>140</th>\n",
              "      <td>1</td>\n",
              "      <td>0</td>\n",
              "      <td>52</td>\n",
              "      <td>29</td>\n",
              "    </tr>\n",
              "    <tr>\n",
              "      <th>141</th>\n",
              "      <td>1</td>\n",
              "      <td>2</td>\n",
              "      <td>120</td>\n",
              "      <td>61</td>\n",
              "    </tr>\n",
              "    <tr>\n",
              "      <th>155</th>\n",
              "      <td>2</td>\n",
              "      <td>8</td>\n",
              "      <td>79</td>\n",
              "      <td>51</td>\n",
              "    </tr>\n",
              "    <tr>\n",
              "      <th>157</th>\n",
              "      <td>3</td>\n",
              "      <td>24</td>\n",
              "      <td>128</td>\n",
              "      <td>85</td>\n",
              "    </tr>\n",
              "    <tr>\n",
              "      <th>198</th>\n",
              "      <td>1</td>\n",
              "      <td>5</td>\n",
              "      <td>28</td>\n",
              "      <td>18</td>\n",
              "    </tr>\n",
              "    <tr>\n",
              "      <th>766</th>\n",
              "      <td>1</td>\n",
              "      <td>14</td>\n",
              "      <td>176</td>\n",
              "      <td>124</td>\n",
              "    </tr>\n",
              "    <tr>\n",
              "      <th>777</th>\n",
              "      <td>6</td>\n",
              "      <td>17</td>\n",
              "      <td>102</td>\n",
              "      <td>41</td>\n",
              "    </tr>\n",
              "  </tbody>\n",
              "</table>\n",
              "</div>\n",
              "    <div class=\"colab-df-buttons\">\n",
              "\n",
              "  <div class=\"colab-df-container\">\n",
              "    <button class=\"colab-df-convert\" onclick=\"convertToInteractive('df-d3fbf2af-dd2e-4c5a-a1b6-3f4ae2114dff')\"\n",
              "            title=\"Convert this dataframe to an interactive table.\"\n",
              "            style=\"display:none;\">\n",
              "\n",
              "  <svg xmlns=\"http://www.w3.org/2000/svg\" height=\"24px\" viewBox=\"0 -960 960 960\">\n",
              "    <path d=\"M120-120v-720h720v720H120Zm60-500h600v-160H180v160Zm220 220h160v-160H400v160Zm0 220h160v-160H400v160ZM180-400h160v-160H180v160Zm440 0h160v-160H620v160ZM180-180h160v-160H180v160Zm440 0h160v-160H620v160Z\"/>\n",
              "  </svg>\n",
              "    </button>\n",
              "\n",
              "  <style>\n",
              "    .colab-df-container {\n",
              "      display:flex;\n",
              "      gap: 12px;\n",
              "    }\n",
              "\n",
              "    .colab-df-convert {\n",
              "      background-color: #E8F0FE;\n",
              "      border: none;\n",
              "      border-radius: 50%;\n",
              "      cursor: pointer;\n",
              "      display: none;\n",
              "      fill: #1967D2;\n",
              "      height: 32px;\n",
              "      padding: 0 0 0 0;\n",
              "      width: 32px;\n",
              "    }\n",
              "\n",
              "    .colab-df-convert:hover {\n",
              "      background-color: #E2EBFA;\n",
              "      box-shadow: 0px 1px 2px rgba(60, 64, 67, 0.3), 0px 1px 3px 1px rgba(60, 64, 67, 0.15);\n",
              "      fill: #174EA6;\n",
              "    }\n",
              "\n",
              "    .colab-df-buttons div {\n",
              "      margin-bottom: 4px;\n",
              "    }\n",
              "\n",
              "    [theme=dark] .colab-df-convert {\n",
              "      background-color: #3B4455;\n",
              "      fill: #D2E3FC;\n",
              "    }\n",
              "\n",
              "    [theme=dark] .colab-df-convert:hover {\n",
              "      background-color: #434B5C;\n",
              "      box-shadow: 0px 1px 3px 1px rgba(0, 0, 0, 0.15);\n",
              "      filter: drop-shadow(0px 1px 2px rgba(0, 0, 0, 0.3));\n",
              "      fill: #FFFFFF;\n",
              "    }\n",
              "  </style>\n",
              "\n",
              "    <script>\n",
              "      const buttonEl =\n",
              "        document.querySelector('#df-d3fbf2af-dd2e-4c5a-a1b6-3f4ae2114dff button.colab-df-convert');\n",
              "      buttonEl.style.display =\n",
              "        google.colab.kernel.accessAllowed ? 'block' : 'none';\n",
              "\n",
              "      async function convertToInteractive(key) {\n",
              "        const element = document.querySelector('#df-d3fbf2af-dd2e-4c5a-a1b6-3f4ae2114dff');\n",
              "        const dataTable =\n",
              "          await google.colab.kernel.invokeFunction('convertToInteractive',\n",
              "                                                    [key], {});\n",
              "        if (!dataTable) return;\n",
              "\n",
              "        const docLinkHtml = 'Like what you see? Visit the ' +\n",
              "          '<a target=\"_blank\" href=https://colab.research.google.com/notebooks/data_table.ipynb>data table notebook</a>'\n",
              "          + ' to learn more about interactive tables.';\n",
              "        element.innerHTML = '';\n",
              "        dataTable['output_type'] = 'display_data';\n",
              "        await google.colab.output.renderOutput(dataTable, element);\n",
              "        const docLink = document.createElement('div');\n",
              "        docLink.innerHTML = docLinkHtml;\n",
              "        element.appendChild(docLink);\n",
              "      }\n",
              "    </script>\n",
              "  </div>\n",
              "\n",
              "\n",
              "    <div id=\"df-b79ba12c-9960-40a1-83ae-71e2fa5bb98d\">\n",
              "      <button class=\"colab-df-quickchart\" onclick=\"quickchart('df-b79ba12c-9960-40a1-83ae-71e2fa5bb98d')\"\n",
              "                title=\"Suggest charts\"\n",
              "                style=\"display:none;\">\n",
              "\n",
              "<svg xmlns=\"http://www.w3.org/2000/svg\" height=\"24px\"viewBox=\"0 0 24 24\"\n",
              "     width=\"24px\">\n",
              "    <g>\n",
              "        <path d=\"M19 3H5c-1.1 0-2 .9-2 2v14c0 1.1.9 2 2 2h14c1.1 0 2-.9 2-2V5c0-1.1-.9-2-2-2zM9 17H7v-7h2v7zm4 0h-2V7h2v10zm4 0h-2v-4h2v4z\"/>\n",
              "    </g>\n",
              "</svg>\n",
              "      </button>\n",
              "\n",
              "<style>\n",
              "  .colab-df-quickchart {\n",
              "      --bg-color: #E8F0FE;\n",
              "      --fill-color: #1967D2;\n",
              "      --hover-bg-color: #E2EBFA;\n",
              "      --hover-fill-color: #174EA6;\n",
              "      --disabled-fill-color: #AAA;\n",
              "      --disabled-bg-color: #DDD;\n",
              "  }\n",
              "\n",
              "  [theme=dark] .colab-df-quickchart {\n",
              "      --bg-color: #3B4455;\n",
              "      --fill-color: #D2E3FC;\n",
              "      --hover-bg-color: #434B5C;\n",
              "      --hover-fill-color: #FFFFFF;\n",
              "      --disabled-bg-color: #3B4455;\n",
              "      --disabled-fill-color: #666;\n",
              "  }\n",
              "\n",
              "  .colab-df-quickchart {\n",
              "    background-color: var(--bg-color);\n",
              "    border: none;\n",
              "    border-radius: 50%;\n",
              "    cursor: pointer;\n",
              "    display: none;\n",
              "    fill: var(--fill-color);\n",
              "    height: 32px;\n",
              "    padding: 0;\n",
              "    width: 32px;\n",
              "  }\n",
              "\n",
              "  .colab-df-quickchart:hover {\n",
              "    background-color: var(--hover-bg-color);\n",
              "    box-shadow: 0 1px 2px rgba(60, 64, 67, 0.3), 0 1px 3px 1px rgba(60, 64, 67, 0.15);\n",
              "    fill: var(--button-hover-fill-color);\n",
              "  }\n",
              "\n",
              "  .colab-df-quickchart-complete:disabled,\n",
              "  .colab-df-quickchart-complete:disabled:hover {\n",
              "    background-color: var(--disabled-bg-color);\n",
              "    fill: var(--disabled-fill-color);\n",
              "    box-shadow: none;\n",
              "  }\n",
              "\n",
              "  .colab-df-spinner {\n",
              "    border: 2px solid var(--fill-color);\n",
              "    border-color: transparent;\n",
              "    border-bottom-color: var(--fill-color);\n",
              "    animation:\n",
              "      spin 1s steps(1) infinite;\n",
              "  }\n",
              "\n",
              "  @keyframes spin {\n",
              "    0% {\n",
              "      border-color: transparent;\n",
              "      border-bottom-color: var(--fill-color);\n",
              "      border-left-color: var(--fill-color);\n",
              "    }\n",
              "    20% {\n",
              "      border-color: transparent;\n",
              "      border-left-color: var(--fill-color);\n",
              "      border-top-color: var(--fill-color);\n",
              "    }\n",
              "    30% {\n",
              "      border-color: transparent;\n",
              "      border-left-color: var(--fill-color);\n",
              "      border-top-color: var(--fill-color);\n",
              "      border-right-color: var(--fill-color);\n",
              "    }\n",
              "    40% {\n",
              "      border-color: transparent;\n",
              "      border-right-color: var(--fill-color);\n",
              "      border-top-color: var(--fill-color);\n",
              "    }\n",
              "    60% {\n",
              "      border-color: transparent;\n",
              "      border-right-color: var(--fill-color);\n",
              "    }\n",
              "    80% {\n",
              "      border-color: transparent;\n",
              "      border-right-color: var(--fill-color);\n",
              "      border-bottom-color: var(--fill-color);\n",
              "    }\n",
              "    90% {\n",
              "      border-color: transparent;\n",
              "      border-bottom-color: var(--fill-color);\n",
              "    }\n",
              "  }\n",
              "</style>\n",
              "\n",
              "      <script>\n",
              "        async function quickchart(key) {\n",
              "          const quickchartButtonEl =\n",
              "            document.querySelector('#' + key + ' button');\n",
              "          quickchartButtonEl.disabled = true;  // To prevent multiple clicks.\n",
              "          quickchartButtonEl.classList.add('colab-df-spinner');\n",
              "          try {\n",
              "            const charts = await google.colab.kernel.invokeFunction(\n",
              "                'suggestCharts', [key], {});\n",
              "          } catch (error) {\n",
              "            console.error('Error during call to suggestCharts:', error);\n",
              "          }\n",
              "          quickchartButtonEl.classList.remove('colab-df-spinner');\n",
              "          quickchartButtonEl.classList.add('colab-df-quickchart-complete');\n",
              "        }\n",
              "        (() => {\n",
              "          let quickchartButtonEl =\n",
              "            document.querySelector('#df-b79ba12c-9960-40a1-83ae-71e2fa5bb98d button');\n",
              "          quickchartButtonEl.style.display =\n",
              "            google.colab.kernel.accessAllowed ? 'block' : 'none';\n",
              "        })();\n",
              "      </script>\n",
              "    </div>\n",
              "\n",
              "  <div id=\"id_b6daa3e2-c84b-4dfa-b2df-4183537e52a7\">\n",
              "    <style>\n",
              "      .colab-df-generate {\n",
              "        background-color: #E8F0FE;\n",
              "        border: none;\n",
              "        border-radius: 50%;\n",
              "        cursor: pointer;\n",
              "        display: none;\n",
              "        fill: #1967D2;\n",
              "        height: 32px;\n",
              "        padding: 0 0 0 0;\n",
              "        width: 32px;\n",
              "      }\n",
              "\n",
              "      .colab-df-generate:hover {\n",
              "        background-color: #E2EBFA;\n",
              "        box-shadow: 0px 1px 2px rgba(60, 64, 67, 0.3), 0px 1px 3px 1px rgba(60, 64, 67, 0.15);\n",
              "        fill: #174EA6;\n",
              "      }\n",
              "\n",
              "      [theme=dark] .colab-df-generate {\n",
              "        background-color: #3B4455;\n",
              "        fill: #D2E3FC;\n",
              "      }\n",
              "\n",
              "      [theme=dark] .colab-df-generate:hover {\n",
              "        background-color: #434B5C;\n",
              "        box-shadow: 0px 1px 3px 1px rgba(0, 0, 0, 0.15);\n",
              "        filter: drop-shadow(0px 1px 2px rgba(0, 0, 0, 0.3));\n",
              "        fill: #FFFFFF;\n",
              "      }\n",
              "    </style>\n",
              "    <button class=\"colab-df-generate\" onclick=\"generateWithVariable('anomaly_by_route_type')\"\n",
              "            title=\"Generate code using this dataframe.\"\n",
              "            style=\"display:none;\">\n",
              "\n",
              "  <svg xmlns=\"http://www.w3.org/2000/svg\" height=\"24px\"viewBox=\"0 0 24 24\"\n",
              "       width=\"24px\">\n",
              "    <path d=\"M7,19H8.4L18.45,9,17,7.55,7,17.6ZM5,21V16.75L18.45,3.32a2,2,0,0,1,2.83,0l1.4,1.43a1.91,1.91,0,0,1,.58,1.4,1.91,1.91,0,0,1-.58,1.4L9.25,21ZM18.45,9,17,7.55Zm-12,3A5.31,5.31,0,0,0,4.9,8.1,5.31,5.31,0,0,0,1,6.5,5.31,5.31,0,0,0,4.9,4.9,5.31,5.31,0,0,0,6.5,1,5.31,5.31,0,0,0,8.1,4.9,5.31,5.31,0,0,0,12,6.5,5.46,5.46,0,0,0,6.5,12Z\"/>\n",
              "  </svg>\n",
              "    </button>\n",
              "    <script>\n",
              "      (() => {\n",
              "      const buttonEl =\n",
              "        document.querySelector('#id_b6daa3e2-c84b-4dfa-b2df-4183537e52a7 button.colab-df-generate');\n",
              "      buttonEl.style.display =\n",
              "        google.colab.kernel.accessAllowed ? 'block' : 'none';\n",
              "\n",
              "      buttonEl.onclick = () => {\n",
              "        google.colab.notebook.generateWithVariable('anomaly_by_route_type');\n",
              "      }\n",
              "      })();\n",
              "    </script>\n",
              "  </div>\n",
              "\n",
              "    </div>\n",
              "  </div>\n"
            ],
            "application/vnd.google.colaboratory.intrinsic+json": {
              "type": "dataframe",
              "variable_name": "anomaly_by_route_type",
              "summary": "{\n  \"name\": \"anomaly_by_route_type\",\n  \"rows\": 22,\n  \"fields\": [\n    {\n      \"column\": \"route_short_name\",\n      \"properties\": {\n        \"dtype\": \"number\",\n        \"std\": 216,\n        \"min\": 1,\n        \"max\": 777,\n        \"num_unique_values\": 22,\n        \"samples\": [\n          1,\n          66,\n          36\n        ],\n        \"semantic_type\": \"\",\n        \"description\": \"\"\n      }\n    },\n    {\n      \"column\": \"backtracking\",\n      \"properties\": {\n        \"dtype\": \"number\",\n        \"std\": 1,\n        \"min\": 0,\n        \"max\": 7,\n        \"num_unique_values\": 6,\n        \"samples\": [\n          2,\n          1,\n          3\n        ],\n        \"semantic_type\": \"\",\n        \"description\": \"\"\n      }\n    },\n    {\n      \"column\": \"off_route\",\n      \"properties\": {\n        \"dtype\": \"number\",\n        \"std\": 9,\n        \"min\": 0,\n        \"max\": 34,\n        \"num_unique_values\": 17,\n        \"samples\": [\n          9,\n          0,\n          11\n        ],\n        \"semantic_type\": \"\",\n        \"description\": \"\"\n      }\n    },\n    {\n      \"column\": \"repeated_points\",\n      \"properties\": {\n        \"dtype\": \"number\",\n        \"std\": 64,\n        \"min\": 15,\n        \"max\": 277,\n        \"num_unique_values\": 21,\n        \"samples\": [\n          89,\n          128,\n          120\n        ],\n        \"semantic_type\": \"\",\n        \"description\": \"\"\n      }\n    },\n    {\n      \"column\": \"stuck_vehicle\",\n      \"properties\": {\n        \"dtype\": \"number\",\n        \"std\": 48,\n        \"min\": 4,\n        \"max\": 202,\n        \"num_unique_values\": 22,\n        \"samples\": [\n          77,\n          202,\n          19\n        ],\n        \"semantic_type\": \"\",\n        \"description\": \"\"\n      }\n    }\n  ]\n}"
            }
          },
          "metadata": {},
          "execution_count": 66
        }
      ]
    },
    {
      "cell_type": "markdown",
      "source": [
        "✅ Summary of What You've Achieved So Far\n",
        "\n",
        "We now have:\n",
        "\n",
        "* A unified real-time + static GTFS integration\n",
        "\n",
        "* Detection of seven classes of anomalies:\n",
        "\n",
        " *  jump_or_gap\n",
        "\n",
        " *  stuck_vehicle\n",
        "\n",
        " *  impossible_speed\n",
        "\n",
        " *  backtracking\n",
        "\n",
        " *  repeated_points\n",
        "\n",
        " *  early_appearance\n",
        "\n",
        " *  off_route\n",
        "\n",
        "* Patched route-level metadata for every anomaly (via trip, shape, vehicle fallback)\n",
        "\n",
        "* A summary table by route_short_name and anomaly_type"
      ],
      "metadata": {
        "id": "CpArSFd_DAAX"
      }
    },
    {
      "cell_type": "markdown",
      "source": [
        "🔜 Next Step: Visualization with Folium\n",
        "\n",
        "We’re now ready to:\n",
        "\n",
        "* Plot all or specific types of anomalies\n",
        "\n",
        "* Color by route_short_name or shape_id\n",
        "\n",
        "* Optionally cluster, group, or time-segment anomalies for better diagnostics\n",
        "\n",
        "We need to decide:\n",
        "\n",
        "* Which anomaly types we'd like to plot first (e.g. only off_route or all types)?\n",
        "\n",
        "* Whether we'd prefer coloring by route or by anomaly type\n",
        "\n",
        "* Whether we'd like markers or lines between points (e.g. for jumps)\n",
        "\n",
        "---\n",
        "For now, we can visualize all anomalies together, while also giving the user control over:\n",
        "\n",
        "🔎 Route-level filtering (e.g., hide/show Route 66, Route 157, etc.)\n",
        "\n",
        "⚠️ Anomaly-type toggling (e.g., only show off_route, backtracking)\n",
        "\n",
        "🎨 Coloring by route, anomaly type, or severity\n",
        "\n",
        "🗺️ Layering GTFS shapes, stop locations, or vehicle paths underneath\n",
        "\n",
        "---\n",
        "Differentiating Routes with Static GTFS Data\n",
        "\n",
        "Here are effective strategies to visually distinguish routes:\n",
        "\n",
        "| Strategy                     | Data Source                   | Notes                                |\n",
        "| ---------------------------- | ----------------------------- | ------------------------------------ |\n",
        "| **Route short name or ID**   | `routes.txt`                  | Use in popup or marker color         |\n",
        "| **Route color / text color** | `routes.txt` columns          | Use for marker or path coloring      |\n",
        "| **Route path (shape\\_id)**   | `shapes.txt`                  | Overlay actual route shape as a line |\n",
        "| **Trip metadata**            | `trips.txt`                   | Use to connect shape\\_id ↔ route\\_id |\n",
        "| **Stops per route**          | `stop_times.txt`, `stops.txt` | Optional; more complex               |\n"
      ],
      "metadata": {
        "id": "KF5ZTnYLDkv_"
      }
    },
    {
      "cell_type": "markdown",
      "source": [
        "##Interactive Layering in Folium\n",
        "Folium supports this via FeatureGroup, LayerControl, and MarkerCluster.\n",
        "\n",
        "Here’s how you can achieve what you want:\n",
        "\n",
        "Option 1: Route-Based Layers (Recommended for Many Routes)"
      ],
      "metadata": {
        "id": "LTDsxbDFFiP1"
      }
    },
    {
      "cell_type": "code",
      "source": [
        "\n",
        "#Step 0: Define color_map for Route Colors\n",
        "from matplotlib import colors as mcolors\n",
        "import matplotlib.pyplot as plt\n",
        "import folium\n",
        "\n",
        "# Get all route names\n",
        "route_names = df_anomalies_full['route_short_name'].dropna().unique()\n",
        "\n",
        "# Generate distinct colors using matplotlib colormap\n",
        "cmap = plt.get_cmap(\"tab20\", len(route_names))\n",
        "color_map = {\n",
        "    route: mcolors.to_hex(cmap(i)) for i, route in enumerate(route_names)\n",
        "}\n",
        "\n",
        "\n",
        "# Step 1: Create base map\n",
        "mymap = folium.Map(location=[35.0844, -106.6504], zoom_start=12)\n",
        "\n",
        "for route_name in df_anomalies_full['route_short_name'].unique():\n",
        "    route_group = folium.FeatureGroup(name=f\"Route {route_name}\")\n",
        "    subset = df_anomalies_full[df_anomalies_full['route_short_name'] == route_name]\n",
        "\n",
        "    for _, row in subset.iterrows():\n",
        "      folium.CircleMarker(\n",
        "        location=[row[\"latitude\"], row[\"longitude\"]],\n",
        "        radius=4,\n",
        "        color=color_map[row[\"route_short_name\"]],\n",
        "        popup=f\"{row['anomaly_type']} | Route: {row['route_short_name']}\",\n",
        "      ).add_to(route_group)\n",
        "\n",
        "    route_group.add_to(mymap)\n",
        "\n",
        "# Step 3: Add LayerControl\n",
        "folium.LayerControl(collapsed=False).add_to(mymap)\n",
        "\n",
        "# Display the map\n",
        "mymap\n"
      ],
      "metadata": {
        "id": "kJxDkblOCoBy"
      },
      "execution_count": null,
      "outputs": []
    },
    {
      "cell_type": "markdown",
      "source": [
        "Let's add filters for anomalies and routes\n",
        "\n",
        "✅ 1. Toggling by Anomaly Type\n",
        "\n",
        "We’ll use folium.FeatureGroup per anomaly type (nested within route groups optionally — or flat if that’s simpler for your use).\n",
        "\n",
        "✅ 2. Drawing GTFS Route Shapes as Polylines\n",
        "\n",
        "You can draw route polylines using your GTFS shapes.txt, which you likely have in a DataFrame (shapes_df). These are drawn with folium.PolyLine and grouped under a FeatureGroup by route_short_name.\n",
        "\n",
        "✅ COMPLETE CODE STRUCTURE:\n",
        "\n",
        "Assumptions:\n",
        "\n",
        "You have df_anomalies_full (with latitude, longitude, anomaly_type, route_short_name)\n",
        "\n",
        "You have shapes_df with shape_id, shape_pt_lat, shape_pt_lon, and optionally shape_pt_sequence\n",
        "\n",
        "You want toggles for each anomaly type and for route polylines"
      ],
      "metadata": {
        "id": "sqkSTGPIIKnQ"
      }
    },
    {
      "cell_type": "code",
      "source": [
        "# Build a mapping: shape_id -> route_short_name\n",
        "shape_id_to_route_short_name = df_anomalies_full.dropna(subset=[\"shape_id\", \"route_short_name\"]) \\\n",
        "    .drop_duplicates(subset=[\"shape_id\"]) \\\n",
        "    .set_index(\"shape_id\")[\"route_short_name\"].to_dict()\n"
      ],
      "metadata": {
        "id": "6dr_rId2Id3z"
      },
      "execution_count": null,
      "outputs": []
    },
    {
      "cell_type": "code",
      "source": [
        "import folium\n",
        "from folium import FeatureGroup\n",
        "from matplotlib import colors as mcolors\n",
        "import matplotlib.pyplot as plt\n",
        "\n",
        "# Define color map for route colors\n",
        "route_names = df_anomalies_full['route_short_name'].dropna().unique()\n",
        "cmap = plt.get_cmap(\"tab20\", len(route_names))\n",
        "color_map = {\n",
        "    route: mcolors.to_hex(cmap(i)) for i, route in enumerate(route_names)\n",
        "}\n",
        "\n",
        "# Initialize the map\n",
        "mymap = folium.Map(location=[35.0844, -106.6504], zoom_start=12)\n",
        "\n",
        "# Create anomaly-type groups\n",
        "anomaly_types = df_anomalies_full['anomaly_type'].unique()\n",
        "anomaly_groups = {atype: FeatureGroup(name=f\"Anomaly: {atype}\") for atype in anomaly_types}\n",
        "\n",
        "# Add anomaly markers\n",
        "for _, row in df_anomalies_full.iterrows():\n",
        "    anomaly_type = row[\"anomaly_type\"]\n",
        "    route = row[\"route_short_name\"]\n",
        "    color = color_map.get(route, \"gray\")\n",
        "\n",
        "    folium.CircleMarker(\n",
        "        location=[row[\"latitude\"], row[\"longitude\"]],\n",
        "        radius=4,\n",
        "        color=color,\n",
        "        fill=True,\n",
        "        fill_opacity=0.8,\n",
        "        popup=f\"{anomaly_type} | Route: {route}\",\n",
        "    ).add_to(anomaly_groups[anomaly_type])\n",
        "\n",
        "# Add all anomaly groups to the map\n",
        "for group in anomaly_groups.values():\n",
        "    group.add_to(mymap)\n",
        "\n",
        "# Add route shape polylines (if shapes_df is available)\n",
        "route_shapes_group = FeatureGroup(name=\"Route Shapes\", show=False)\n",
        "\n",
        "for shape_id, shape_data in shapes_df.groupby(\"shape_id\"):\n",
        "    shape_data = shape_data.sort_values(\"shape_pt_sequence\")\n",
        "    latlons = list(zip(shape_data[\"shape_pt_lat\"], shape_data[\"shape_pt_lon\"]))\n",
        "\n",
        "    # Try to get associated route name from your mapping\n",
        "    route_name = shape_id_to_route_short_name.get(shape_id, \"Unknown\")\n",
        "    color = color_map.get(route_name, \"black\")\n",
        "\n",
        "    folium.PolyLine(\n",
        "        latlons,\n",
        "        color=color,\n",
        "        weight=4,\n",
        "        opacity=0.5,\n",
        "        tooltip=f\"Shape ID: {shape_id} | Route: {route_name}\"\n",
        "    ).add_to(route_shapes_group)\n",
        "\n",
        "route_shapes_group.add_to(mymap)\n",
        "\n",
        "# Add layer control\n",
        "folium.LayerControl(collapsed=False).add_to(mymap)\n",
        "\n",
        "# Display map\n",
        "mymap\n"
      ],
      "metadata": {
        "id": "cDtizaaLFkZt"
      },
      "execution_count": null,
      "outputs": []
    },
    {
      "cell_type": "markdown",
      "source": [
        "###But now we are not seeing the routes filter, only the anomalies and route shapes filters"
      ],
      "metadata": {
        "id": "TZVuUkZ9KBPO"
      }
    },
    {
      "cell_type": "code",
      "source": [
        "# Center map\n",
        "mymap = folium.Map(location=[35.0844, -106.6504], zoom_start=12)\n",
        "\n",
        "# Loop over each unique route\n",
        "for route_name in df_anomalies_full['route_short_name'].dropna().unique():\n",
        "    route_group = folium.FeatureGroup(name=f\"Route {route_name}\", show=False)\n",
        "    subset = df_anomalies_full[df_anomalies_full['route_short_name'] == route_name]\n",
        "\n",
        "    for _, row in subset.iterrows():\n",
        "        folium.CircleMarker(\n",
        "            location=[row[\"latitude\"], row[\"longitude\"]],\n",
        "            radius=4,\n",
        "            color=color_map.get(route_name, \"black\"),\n",
        "            popup=f\"{row['anomaly_type']} | Route: {route_name}\",\n",
        "        ).add_to(route_group)\n",
        "\n",
        "    route_group.add_to(mymap)\n",
        "# Add all anomaly groups to the map\n",
        "for group in anomaly_groups.values():\n",
        "    group.add_to(mymap)\n",
        "\n",
        "# Add route shape polylines (if shapes_df is available)\n",
        "route_shapes_group = FeatureGroup(name=\"Route Shapes\", show=False)\n",
        "\n",
        "for shape_id, shape_data in shapes_df.groupby(\"shape_id\"):\n",
        "    shape_data = shape_data.sort_values(\"shape_pt_sequence\")\n",
        "    latlons = list(zip(shape_data[\"shape_pt_lat\"], shape_data[\"shape_pt_lon\"]))\n",
        "\n",
        "    # Try to get associated route name from your mapping\n",
        "    route_name = shape_id_to_route_short_name.get(shape_id, \"Unknown\")\n",
        "    color = color_map.get(route_name, \"black\")\n",
        "\n",
        "    folium.PolyLine(\n",
        "        latlons,\n",
        "        color=color,\n",
        "        weight=4,\n",
        "        opacity=0.5,\n",
        "        tooltip=f\"Shape ID: {shape_id} | Route: {route_name}\"\n",
        "    ).add_to(route_shapes_group)\n",
        "\n",
        "route_shapes_group.add_to(mymap)\n",
        "\n",
        "# Add layer control\n",
        "folium.LayerControl(collapsed=False).add_to(mymap)\n",
        "\n",
        "route_group = folium.FeatureGroup(name=f\"Route {route_name}\", show=False)\n",
        "\n",
        "# Display map\n",
        "mymap\n"
      ],
      "metadata": {
        "id": "lqUk808nKFpT"
      },
      "execution_count": null,
      "outputs": []
    },
    {
      "cell_type": "markdown",
      "source": [
        "This is good, but the filters overlap and do not interact."
      ],
      "metadata": {
        "id": "grGwPPn6LMla"
      }
    },
    {
      "cell_type": "code",
      "source": [
        "from folium import Map, FeatureGroup, CircleMarker, LayerControl\n",
        "from matplotlib import colors as mcolors\n",
        "import matplotlib.pyplot as plt\n",
        "\n",
        "# Create map\n",
        "mymap = Map(location=[35.0844, -106.6504], zoom_start=12)\n",
        "\n",
        "# Setup distinct colors per route\n",
        "route_names = sorted(df_anomalies_full['route_short_name'].dropna().unique())\n",
        "cmap = plt.get_cmap(\"tab20\", len(route_names))\n",
        "color_map = {route: mcolors.to_hex(cmap(i)) for i, route in enumerate(route_names)}\n",
        "\n",
        "# Create (route, anomaly_type) groups\n",
        "for (route, anomaly), subset in df_anomalies_full.groupby([\"route_short_name\", \"anomaly_type\"]):\n",
        "    group_name = f\"{route} – {anomaly}\"\n",
        "    group = FeatureGroup(name=group_name, show=False)\n",
        "\n",
        "    for _, row in subset.iterrows():\n",
        "        CircleMarker(\n",
        "            location=[row[\"latitude\"], row[\"longitude\"]],\n",
        "            radius=4,\n",
        "            color=color_map.get(route, \"black\"),\n",
        "            popup=f\"{anomaly} | Route: {route}\",\n",
        "        ).add_to(group)\n",
        "\n",
        "    group.add_to(mymap)\n",
        "\n",
        "# Optional: Add route shapes as their own layer\n",
        "route_shapes_group.add_to(mymap)\n",
        "\n",
        "# Add controls\n",
        "LayerControl(collapsed=False).add_to(mymap)\n",
        "mymap\n"
      ],
      "metadata": {
        "id": "W8Xgoq3PKm0i"
      },
      "execution_count": null,
      "outputs": []
    },
    {
      "cell_type": "markdown",
      "source": [
        "This is good, but not a great UI, and we are lacking some of the original anomalies."
      ],
      "metadata": {
        "id": "iXE1B8QBMIcf"
      }
    },
    {
      "cell_type": "code",
      "source": [
        "#Some check before writing a larger Folium output\n",
        "#Step 1: Ensure route_short_name Exists in df_anomalies_full\n",
        "if 'route_short_name' not in df_anomalies_full.columns:\n",
        "    print(\"Missing route_short_name. Available columns:\", df_anomalies_full.columns)\n",
        "else:\n",
        "    print(\"route_short_name column exists and ready for plotting.\")\n"
      ],
      "metadata": {
        "colab": {
          "base_uri": "https://localhost:8080/"
        },
        "id": "PQMvqnFoLXZO",
        "outputId": "00579c7e-d623-498c-a756-4d1cb85a21e3"
      },
      "execution_count": null,
      "outputs": [
        {
          "output_type": "stream",
          "name": "stdout",
          "text": [
            "route_short_name column exists and ready for plotting.\n"
          ]
        }
      ]
    },
    {
      "cell_type": "code",
      "source": [
        "#Step 2: Clarify Where to Define color_map and Layer Grouping\n",
        "from matplotlib import colors as mcolors\n",
        "import matplotlib.pyplot as plt\n",
        "\n",
        "route_names = sorted(df_anomalies_full['route_short_name'].dropna().unique())\n",
        "cmap = plt.get_cmap(\"tab20\", len(route_names))\n",
        "color_map = {route: mcolors.to_hex(cmap(i)) for i, route in enumerate(route_names)}\n"
      ],
      "metadata": {
        "id": "_8HF5JSdNkT0"
      },
      "execution_count": null,
      "outputs": []
    },
    {
      "cell_type": "markdown",
      "source": [
        "Step 3: Add Your Anomaly Filters and Enhancements\n",
        "\n",
        "Once df_anomalies_full, jumps_df, disappear_df, and reappear_df are confirmed to contain:\n",
        "\n",
        "vehicle_id\n",
        "\n",
        "timestamp or timestamp_prev/timestamp_curr\n",
        "\n",
        "latitude / longitude (or lat_prev, lon_prev)\n",
        "\n",
        "route_short_name\n",
        "\n",
        "…then the Folium block (already composed in your last request) will render fully with:\n",
        "\n",
        "✅ Route + anomaly filters (e.g., \"66 – off_route\")\n",
        "\n",
        "✅ Jump start/end points\n",
        "\n",
        "✅ Jump lines\n",
        "\n",
        "✅ Disappearances (red icons)\n",
        "\n",
        "✅ Reappearances (green icons)\n",
        "\n",
        "✅ Timestamps and vehicle IDs in popups"
      ],
      "metadata": {
        "id": "42UFlY1ZNqz1"
      }
    },
    {
      "cell_type": "code",
      "source": [
        "from folium import Map, FeatureGroup, CircleMarker, PolyLine, Marker, Icon, LayerControl\n",
        "from matplotlib import colors as mcolors\n",
        "import matplotlib.pyplot as plt\n",
        "import folium\n",
        "\n",
        "# Initialize map\n",
        "mymap = Map(location=[35.0844, -106.6504], zoom_start=12)\n",
        "\n",
        "# --- Setup color map for route visualization ---\n",
        "route_names = sorted(df_anomalies_full['route_short_name'].dropna().unique())\n",
        "cmap = plt.get_cmap(\"tab20\", len(route_names))\n",
        "color_map = {route: mcolors.to_hex(cmap(i)) for i, route in enumerate(route_names)}\n",
        "\n",
        "# --- Create anomaly marker layers by (route, anomaly_type) ---\n",
        "for (route, anomaly), subset in df_anomalies_full.groupby([\"route_short_name\", \"anomaly_type\"]):\n",
        "    group = FeatureGroup(name=f\"{route} – {anomaly}\", show=False)\n",
        "    for _, row in subset.iterrows():\n",
        "        popup_text = (\n",
        "            f\"Anomaly: {anomaly}<br>\"\n",
        "            f\"Route: {route}<br>\"\n",
        "            f\"Vehicle: {row.get('vehicle_id', 'N/A')}<br>\"\n",
        "            f\"Timestamp: {row.get('timestamp', 'N/A')}\"\n",
        "        )\n",
        "        CircleMarker(\n",
        "            location=[row[\"latitude\"], row[\"longitude\"]],\n",
        "            radius=4,\n",
        "            color=color_map.get(route, \"black\"),\n",
        "            fill=True,\n",
        "            fill_opacity=0.9,\n",
        "            popup=popup_text\n",
        "        ).add_to(group)\n",
        "    group.add_to(mymap)\n",
        "\n",
        "# --- Jump lines and start/end markers ---\n",
        "if 'jumps_df' in globals():\n",
        "    jump_line_group = FeatureGroup(name=\"Jump Lines\", show=False)\n",
        "    jump_points_group = FeatureGroup(name=\"Jump Start/End Points\", show=False)\n",
        "\n",
        "    for _, row in jumps_df.iterrows():\n",
        "        start = [row[\"lat_prev\"], row[\"lon_prev\"]]\n",
        "        end = [row[\"latitude\"], row[\"longitude\"]]\n",
        "        vehicle = row.get(\"vehicle_id\", \"N/A\")\n",
        "        time_prev = row.get(\"timestamp_prev\", \"N/A\")\n",
        "        time_curr = row.get(\"timestamp_curr\", \"N/A\")\n",
        "\n",
        "        # Line\n",
        "        PolyLine(\n",
        "            locations=[start, end],\n",
        "            color=\"orange\", weight=2,\n",
        "            tooltip=f\"Vehicle {vehicle} jump\"\n",
        "        ).add_to(jump_line_group)\n",
        "\n",
        "        # Start marker\n",
        "        CircleMarker(\n",
        "            location=start,\n",
        "            radius=4, color=\"blue\", fill=True, fill_opacity=0.9,\n",
        "            popup=f\"Vehicle {vehicle} START<br>{time_prev}\"\n",
        "        ).add_to(jump_points_group)\n",
        "\n",
        "        # End marker\n",
        "        CircleMarker(\n",
        "            location=end,\n",
        "            radius=4, color=\"purple\", fill=True, fill_opacity=0.9,\n",
        "            popup=f\"Vehicle {vehicle} END<br>{time_curr}\"\n",
        "        ).add_to(jump_points_group)\n",
        "\n",
        "    jump_line_group.add_to(mymap)\n",
        "    jump_points_group.add_to(mymap)\n",
        "\n",
        "# --- Disappearances ---\n",
        "if 'disappear_df' in globals():\n",
        "    disappear_group = FeatureGroup(name=\"Disappearances\", show=False)\n",
        "    for _, row in disappear_df.iterrows():\n",
        "        Marker(\n",
        "            location=[row[\"latitude\"], row[\"longitude\"]],\n",
        "            icon=Icon(color=\"red\", icon=\"times-circle\", prefix=\"fa\"),\n",
        "            tooltip=f\"Vehicle {row.get('vehicle_id')} disappeared<br>{row.get('timestamp')}\"\n",
        "        ).add_to(disappear_group)\n",
        "    disappear_group.add_to(mymap)\n",
        "\n",
        "# --- Reappearances ---\n",
        "if 'reappear_df' in globals():\n",
        "    reappear_group = FeatureGroup(name=\"Reappearances\", show=False)\n",
        "    for _, row in reappear_df.iterrows():\n",
        "        Marker(\n",
        "            location=[row[\"latitude\"], row[\"longitude\"]],\n",
        "            icon=Icon(color=\"green\", icon=\"check-circle\", prefix=\"fa\"),\n",
        "            tooltip=f\"Vehicle {row.get('vehicle_id')} reappeared<br>{row.get('timestamp')}\"\n",
        "        ).add_to(reappear_group)\n",
        "    reappear_group.add_to(mymap)\n",
        "\n",
        "# --- Route shapes layer (optional) ---\n",
        "if 'route_shapes_group' in globals():\n",
        "    route_shapes_group.add_to(mymap)\n",
        "\n",
        "# --- Layer controls ---\n",
        "LayerControl(collapsed=False).add_to(mymap)\n",
        "mymap\n"
      ],
      "metadata": {
        "id": "gW8LI9lJNrtQ"
      },
      "execution_count": null,
      "outputs": []
    },
    {
      "cell_type": "markdown",
      "source": [
        "There is an error somewhere that is blocking the various teleports from displaying as anomalies"
      ],
      "metadata": {
        "id": "v9UZc1WBOueq"
      }
    },
    {
      "cell_type": "code",
      "execution_count": null,
      "metadata": {
        "id": "jO1cdfxqPPRK"
      },
      "outputs": [],
      "source": [
        "# #Calculate Jumps and Gaps (old version with sampling)\n",
        "\n",
        "# # Compute diffs for position and time\n",
        "# df_sample[\"lat_diff\"] = df_sample.groupby(\"vehicle_id\")[\"latitude\"].diff()\n",
        "# df_sample[\"lon_diff\"] = df_sample.groupby(\"vehicle_id\")[\"longitude\"].diff()\n",
        "# df_sample[\"jump_dist\"] = (df_sample[\"lat_diff\"]**2 + df_sample[\"lon_diff\"]**2)**0.5\n",
        "\n",
        "# df_sample[\"time_diff\"] = df_sample.groupby(\"vehicle_id\")[\"timestamp_collected\"].diff().dt.total_seconds()\n",
        "\n",
        "# # Label events\n",
        "# df_sample[\"is_jump\"] = df_sample[\"jump_dist\"] > JUMP_DISTANCE_THRESHOLD\n",
        "# df_sample[\"is_disappearance\"] = df_sample[\"time_diff\"] > DISAPPEARANCE_TIME_THRESHOLD\n"
      ]
    },
    {
      "cell_type": "code",
      "execution_count": null,
      "metadata": {
        "id": "uLB90NUePznj"
      },
      "outputs": [],
      "source": [
        "# #Filter and organize anomalies (old version with sampling)\n",
        "# # Get jump rows and enrich with previous position\n",
        "# jumps_df = df_sample[df_sample[\"is_jump\"]].copy()\n",
        "# jumps_df[\"lat_prev\"] = df_sample.groupby(\"vehicle_id\")[\"latitude\"].shift()\n",
        "# jumps_df[\"lon_prev\"] = df_sample.groupby(\"vehicle_id\")[\"longitude\"].shift()\n",
        "\n",
        "# # Filter for vehicles with sufficient jumps\n",
        "# jump_counts = jumps_df[\"vehicle_id\"].value_counts()\n",
        "# keep_jumpers = jump_counts[jump_counts >= MIN_JUMP_COUNT_PER_VEHICLE].index\n",
        "# jumps_df = jumps_df[jumps_df[\"vehicle_id\"].isin(keep_jumpers)]\n",
        "\n",
        "# # Recalculate filtered set for map\n",
        "# df_sample = df_sample[df_sample[\"vehicle_id\"].isin(keep_jumpers)].copy()\n",
        "\n",
        "# # Disappearances and reappearances\n",
        "# disappear_df = df_sample[df_sample[\"is_disappearance\"] == True].copy()\n",
        "# reappear_df = df_sample[df_sample[\"is_disappearance\"].shift(-1) == True].copy()\n"
      ]
    },
    {
      "cell_type": "code",
      "source": [
        "from folium import Map, FeatureGroup, CircleMarker, PolyLine, Marker, Icon, LayerControl\n",
        "from matplotlib import colors as mcolors\n",
        "import matplotlib.pyplot as plt\n",
        "import folium\n",
        "\n",
        "# --- Create map centered on Albuquerque ---\n",
        "mymap = Map(location=[35.0844, -106.6504], zoom_start=12)\n",
        "\n",
        "# --- Set up color map for route filtering ---\n",
        "route_names = sorted(df_anomalies_full['route_short_name'].dropna().unique())\n",
        "cmap = plt.get_cmap(\"tab20\", len(route_names))\n",
        "color_map = {route: mcolors.to_hex(cmap(i)) for i, route in enumerate(route_names)}\n",
        "\n",
        "# --- Add anomaly markers by (route, anomaly_type) ---\n",
        "for (route, anomaly), subset in df_anomalies_full.groupby([\"route_short_name\", \"anomaly_type\"]):\n",
        "    group = FeatureGroup(name=f\"{route} – {anomaly}\", show=False)\n",
        "    for _, row in subset.iterrows():\n",
        "        popup_text = (\n",
        "            f\"Anomaly: {anomaly}<br>\"\n",
        "            f\"Route: {route}<br>\"\n",
        "            f\"Vehicle: {row.get('vehicle_id', 'N/A')}<br>\"\n",
        "            f\"Timestamp: {row.get('timestamp', 'N/A')}\"\n",
        "        )\n",
        "        CircleMarker(\n",
        "            location=[row[\"latitude\"], row[\"longitude\"]],\n",
        "            radius=4,\n",
        "            color=color_map.get(route, \"black\"),\n",
        "            fill=True,\n",
        "            fill_opacity=0.9,\n",
        "            popup=popup_text\n",
        "        ).add_to(group)\n",
        "    group.add_to(mymap)\n",
        "\n",
        "# --- Jump anomalies: lines and start/end points ---\n",
        "jump_line_group = FeatureGroup(name=\"Jump Lines\", show=False)\n",
        "jump_points_group = FeatureGroup(name=\"Jump Start/End Points\", show=False)\n",
        "\n",
        "for _, row in jumps_df.iterrows():\n",
        "    start = [row[\"lat_prev\"], row[\"lon_prev\"]]\n",
        "    end = [row[\"latitude\"], row[\"longitude\"]]\n",
        "    vehicle = row.get(\"vehicle_id\", \"N/A\")\n",
        "    time_prev = row.get(\"timestamp_prev\", \"N/A\")\n",
        "    time_curr = row.get(\"timestamp_curr\", \"N/A\")\n",
        "\n",
        "    PolyLine(\n",
        "        locations=[start, end],\n",
        "        color=\"orange\", weight=2,\n",
        "        tooltip=f\"Vehicle {vehicle} jump\"\n",
        "    ).add_to(jump_line_group)\n",
        "\n",
        "    CircleMarker(\n",
        "        location=start,\n",
        "        radius=4, color=\"blue\", fill=True, fill_opacity=0.9,\n",
        "        popup=f\"Vehicle {vehicle} START<br>{time_prev}\"\n",
        "    ).add_to(jump_points_group)\n",
        "\n",
        "    CircleMarker(\n",
        "        location=end,\n",
        "        radius=4, color=\"purple\", fill=True, fill_opacity=0.9,\n",
        "        popup=f\"Vehicle {vehicle} END<br>{time_curr}\"\n",
        "    ).add_to(jump_points_group)\n",
        "\n",
        "jump_line_group.add_to(mymap)\n",
        "jump_points_group.add_to(mymap)\n",
        "\n",
        "# --- Disappearances (Red X) ---\n",
        "disappear_group = FeatureGroup(name=\"Disappearances\", show=False)\n",
        "for _, row in disappear_df.iterrows():\n",
        "    Marker(\n",
        "        location=[row[\"latitude\"], row[\"longitude\"]],\n",
        "        icon=Icon(color=\"red\", icon=\"times-circle\", prefix=\"fa\"),\n",
        "        tooltip=f\"Vehicle {row.get('vehicle_id')} disappeared<br>{row.get('timestamp')}\"\n",
        "    ).add_to(disappear_group)\n",
        "disappear_group.add_to(mymap)\n",
        "\n",
        "# --- Reappearances (Green Check) ---\n",
        "reappear_group = FeatureGroup(name=\"Reappearances\", show=False)\n",
        "for _, row in reappear_df.iterrows():\n",
        "    Marker(\n",
        "        location=[row[\"latitude\"], row[\"longitude\"]],\n",
        "        icon=Icon(color=\"green\", icon=\"check-circle\", prefix=\"fa\"),\n",
        "        tooltip=f\"Vehicle {row.get('vehicle_id')} reappeared<br>{row.get('timestamp')}\"\n",
        "    ).add_to(reappear_group)\n",
        "reappear_group.add_to(mymap)\n",
        "\n",
        "# --- Route Shapes ---\n",
        "route_shapes_group = FeatureGroup(name=\"Route Shapes\", show=False)\n",
        "for shape_id, shape_data in shapes_df.groupby(\"shape_id\"):\n",
        "    shape_data = shape_data.sort_values(\"shape_pt_sequence\")\n",
        "    latlons = list(zip(shape_data[\"shape_pt_lat\"], shape_data[\"shape_pt_lon\"]))\n",
        "    PolyLine(\n",
        "        locations=latlons,\n",
        "        color=\"gray\",\n",
        "        weight=2,\n",
        "        opacity=0.6,\n",
        "        popup=f\"Shape ID: {shape_id}\"\n",
        "    ).add_to(route_shapes_group)\n",
        "route_shapes_group.add_to(mymap)\n",
        "\n",
        "# --- Add Layer Controls ---\n",
        "LayerControl(collapsed=False).add_to(mymap)\n",
        "\n",
        "# Display the map\n",
        "mymap\n"
      ],
      "metadata": {
        "colab": {
          "base_uri": "https://localhost:8080/",
          "height": 211
        },
        "id": "FthZ1UjnODy-",
        "outputId": "738c126a-5ef3-4061-dec3-ed19ddb7ff20"
      },
      "execution_count": null,
      "outputs": [
        {
          "output_type": "error",
          "ename": "NameError",
          "evalue": "name 'jumps_df' is not defined",
          "traceback": [
            "\u001b[0;31m---------------------------------------------------------------------------\u001b[0m",
            "\u001b[0;31mNameError\u001b[0m                                 Traceback (most recent call last)",
            "\u001b[0;32m/tmp/ipython-input-93-3075783077.py\u001b[0m in \u001b[0;36m<cell line: 0>\u001b[0;34m()\u001b[0m\n\u001b[1;32m     36\u001b[0m \u001b[0mjump_points_group\u001b[0m \u001b[0;34m=\u001b[0m \u001b[0mFeatureGroup\u001b[0m\u001b[0;34m(\u001b[0m\u001b[0mname\u001b[0m\u001b[0;34m=\u001b[0m\u001b[0;34m\"Jump Start/End Points\"\u001b[0m\u001b[0;34m,\u001b[0m \u001b[0mshow\u001b[0m\u001b[0;34m=\u001b[0m\u001b[0;32mFalse\u001b[0m\u001b[0;34m)\u001b[0m\u001b[0;34m\u001b[0m\u001b[0;34m\u001b[0m\u001b[0m\n\u001b[1;32m     37\u001b[0m \u001b[0;34m\u001b[0m\u001b[0m\n\u001b[0;32m---> 38\u001b[0;31m \u001b[0;32mfor\u001b[0m \u001b[0m_\u001b[0m\u001b[0;34m,\u001b[0m \u001b[0mrow\u001b[0m \u001b[0;32min\u001b[0m \u001b[0mjumps_df\u001b[0m\u001b[0;34m.\u001b[0m\u001b[0miterrows\u001b[0m\u001b[0;34m(\u001b[0m\u001b[0;34m)\u001b[0m\u001b[0;34m:\u001b[0m\u001b[0;34m\u001b[0m\u001b[0;34m\u001b[0m\u001b[0m\n\u001b[0m\u001b[1;32m     39\u001b[0m     \u001b[0mstart\u001b[0m \u001b[0;34m=\u001b[0m \u001b[0;34m[\u001b[0m\u001b[0mrow\u001b[0m\u001b[0;34m[\u001b[0m\u001b[0;34m\"lat_prev\"\u001b[0m\u001b[0;34m]\u001b[0m\u001b[0;34m,\u001b[0m \u001b[0mrow\u001b[0m\u001b[0;34m[\u001b[0m\u001b[0;34m\"lon_prev\"\u001b[0m\u001b[0;34m]\u001b[0m\u001b[0;34m]\u001b[0m\u001b[0;34m\u001b[0m\u001b[0;34m\u001b[0m\u001b[0m\n\u001b[1;32m     40\u001b[0m     \u001b[0mend\u001b[0m \u001b[0;34m=\u001b[0m \u001b[0;34m[\u001b[0m\u001b[0mrow\u001b[0m\u001b[0;34m[\u001b[0m\u001b[0;34m\"latitude\"\u001b[0m\u001b[0;34m]\u001b[0m\u001b[0;34m,\u001b[0m \u001b[0mrow\u001b[0m\u001b[0;34m[\u001b[0m\u001b[0;34m\"longitude\"\u001b[0m\u001b[0;34m]\u001b[0m\u001b[0;34m]\u001b[0m\u001b[0;34m\u001b[0m\u001b[0;34m\u001b[0m\u001b[0m\n",
            "\u001b[0;31mNameError\u001b[0m: name 'jumps_df' is not defined"
          ]
        }
      ]
    },
    {
      "cell_type": "markdown",
      "source": [
        "#File summary:\n",
        "\n",
        "Snapshot CSV (cabq_gtfs_snapshots_20250722_1415.csv)\n",
        "- Rows: 40,460\n",
        "- Key columns: snapshot_id, timestamp_collected, vehicle_id, latitude, longitude, route_short_name, trip_id, etc.\n",
        "\n",
        "Static GTFS Data\n",
        "- trips.txt: 2,139 rows | includes trip_id, route_id, shape_id, etc.\n",
        "- routes.txt: 23 rows | includes route_id, route_short_name, route_long_name\n",
        "- shapes.txt: 17,005 rows | includes shape geometry via shape_id, shape_pt_lat, shape_pt_lon, and shape_pt_sequence"
      ],
      "metadata": {
        "id": "Yb53kT5PRdy3"
      }
    },
    {
      "cell_type": "code",
      "source": [
        "# Use the full cleaned dataframe\n",
        "df_full = df_valid.copy()\n",
        "\n",
        "# Compute diffs for position and time\n",
        "df_full[\"lat_diff\"] = df_full.groupby(\"vehicle_id\")[\"latitude\"].diff()\n",
        "df_full[\"lon_diff\"] = df_full.groupby(\"vehicle_id\")[\"longitude\"].diff()\n",
        "df_full[\"jump_dist\"] = (df_full[\"lat_diff\"]**2 + df_full[\"lon_diff\"]**2)**0.5\n",
        "\n",
        "df_full[\"time_diff\"] = df_full.groupby(\"vehicle_id\")[\"timestamp_collected\"].diff().dt.total_seconds()\n",
        "\n",
        "# Label events\n",
        "df_full[\"is_jump\"] = df_full[\"jump_dist\"] > JUMP_DISTANCE_THRESHOLD\n",
        "df_full[\"is_disappearance\"] = df_full[\"time_diff\"] > DISAPPEARANCE_TIME_THRESHOLD\n",
        "\n",
        "# Enrich jump rows with previous position\n",
        "jumps_df = df_full[df_full[\"is_jump\"]].copy()\n",
        "jumps_df[\"lat_prev\"] = df_full.groupby(\"vehicle_id\")[\"latitude\"].shift()\n",
        "jumps_df[\"lon_prev\"] = df_full.groupby(\"vehicle_id\")[\"longitude\"].shift()\n",
        "jumps_df[\"timestamp_prev\"] = df_full.groupby(\"vehicle_id\")[\"timestamp_collected\"].shift()\n",
        "jumps_df[\"timestamp_curr\"] = jumps_df[\"timestamp_collected\"]\n",
        "\n",
        "# Filter for vehicles with sufficient jumps\n",
        "jump_counts = jumps_df[\"vehicle_id\"].value_counts()\n",
        "keep_jumpers = jump_counts[jump_counts >= MIN_JUMP_COUNT_PER_VEHICLE].index\n",
        "jumps_df = jumps_df[jumps_df[\"vehicle_id\"].isin(keep_jumpers)]\n",
        "\n",
        "# Recalculate filtered set for map display\n",
        "df_jumpers_only = df_full[df_full[\"vehicle_id\"].isin(keep_jumpers)].copy()\n",
        "\n",
        "# Identify disappearance and reappearance points\n",
        "disappear_df = df_jumpers_only[df_jumpers_only[\"is_disappearance\"]].copy()\n",
        "reappear_df = df_jumpers_only[df_jumpers_only[\"is_disappearance\"].shift(-1)].copy()\n"
      ],
      "metadata": {
        "colab": {
          "base_uri": "https://localhost:8080/",
          "height": 426
        },
        "id": "DmLoC9QSUOYn",
        "outputId": "8428095d-16b8-4378-985a-c9fddfc3d541"
      },
      "execution_count": null,
      "outputs": [
        {
          "output_type": "error",
          "ename": "TypeError",
          "evalue": "unsupported operand type(s) for -: 'str' and 'str'",
          "traceback": [
            "\u001b[0;31m---------------------------------------------------------------------------\u001b[0m",
            "\u001b[0;31mTypeError\u001b[0m                                 Traceback (most recent call last)",
            "\u001b[0;32m/usr/local/lib/python3.11/dist-packages/pandas/core/ops/array_ops.py\u001b[0m in \u001b[0;36m_na_arithmetic_op\u001b[0;34m(left, right, op, is_cmp)\u001b[0m\n\u001b[1;32m    217\u001b[0m     \u001b[0;32mtry\u001b[0m\u001b[0;34m:\u001b[0m\u001b[0;34m\u001b[0m\u001b[0;34m\u001b[0m\u001b[0m\n\u001b[0;32m--> 218\u001b[0;31m         \u001b[0mresult\u001b[0m \u001b[0;34m=\u001b[0m \u001b[0mfunc\u001b[0m\u001b[0;34m(\u001b[0m\u001b[0mleft\u001b[0m\u001b[0;34m,\u001b[0m \u001b[0mright\u001b[0m\u001b[0;34m)\u001b[0m\u001b[0;34m\u001b[0m\u001b[0;34m\u001b[0m\u001b[0m\n\u001b[0m\u001b[1;32m    219\u001b[0m     \u001b[0;32mexcept\u001b[0m \u001b[0mTypeError\u001b[0m\u001b[0;34m:\u001b[0m\u001b[0;34m\u001b[0m\u001b[0;34m\u001b[0m\u001b[0m\n",
            "\u001b[0;32m/usr/local/lib/python3.11/dist-packages/pandas/core/computation/expressions.py\u001b[0m in \u001b[0;36mevaluate\u001b[0;34m(op, a, b, use_numexpr)\u001b[0m\n\u001b[1;32m    241\u001b[0m             \u001b[0;31m# error: \"None\" not callable\u001b[0m\u001b[0;34m\u001b[0m\u001b[0;34m\u001b[0m\u001b[0m\n\u001b[0;32m--> 242\u001b[0;31m             \u001b[0;32mreturn\u001b[0m \u001b[0m_evaluate\u001b[0m\u001b[0;34m(\u001b[0m\u001b[0mop\u001b[0m\u001b[0;34m,\u001b[0m \u001b[0mop_str\u001b[0m\u001b[0;34m,\u001b[0m \u001b[0ma\u001b[0m\u001b[0;34m,\u001b[0m \u001b[0mb\u001b[0m\u001b[0;34m)\u001b[0m  \u001b[0;31m# type: ignore[misc]\u001b[0m\u001b[0;34m\u001b[0m\u001b[0;34m\u001b[0m\u001b[0m\n\u001b[0m\u001b[1;32m    243\u001b[0m     \u001b[0;32mreturn\u001b[0m \u001b[0m_evaluate_standard\u001b[0m\u001b[0;34m(\u001b[0m\u001b[0mop\u001b[0m\u001b[0;34m,\u001b[0m \u001b[0mop_str\u001b[0m\u001b[0;34m,\u001b[0m \u001b[0ma\u001b[0m\u001b[0;34m,\u001b[0m \u001b[0mb\u001b[0m\u001b[0;34m)\u001b[0m\u001b[0;34m\u001b[0m\u001b[0;34m\u001b[0m\u001b[0m\n",
            "\u001b[0;32m/usr/local/lib/python3.11/dist-packages/pandas/core/computation/expressions.py\u001b[0m in \u001b[0;36m_evaluate_numexpr\u001b[0;34m(op, op_str, a, b)\u001b[0m\n\u001b[1;32m    130\u001b[0m     \u001b[0;32mif\u001b[0m \u001b[0mresult\u001b[0m \u001b[0;32mis\u001b[0m \u001b[0;32mNone\u001b[0m\u001b[0;34m:\u001b[0m\u001b[0;34m\u001b[0m\u001b[0;34m\u001b[0m\u001b[0m\n\u001b[0;32m--> 131\u001b[0;31m         \u001b[0mresult\u001b[0m \u001b[0;34m=\u001b[0m \u001b[0m_evaluate_standard\u001b[0m\u001b[0;34m(\u001b[0m\u001b[0mop\u001b[0m\u001b[0;34m,\u001b[0m \u001b[0mop_str\u001b[0m\u001b[0;34m,\u001b[0m \u001b[0ma\u001b[0m\u001b[0;34m,\u001b[0m \u001b[0mb\u001b[0m\u001b[0;34m)\u001b[0m\u001b[0;34m\u001b[0m\u001b[0;34m\u001b[0m\u001b[0m\n\u001b[0m\u001b[1;32m    132\u001b[0m \u001b[0;34m\u001b[0m\u001b[0m\n",
            "\u001b[0;32m/usr/local/lib/python3.11/dist-packages/pandas/core/computation/expressions.py\u001b[0m in \u001b[0;36m_evaluate_standard\u001b[0;34m(op, op_str, a, b)\u001b[0m\n\u001b[1;32m     72\u001b[0m         \u001b[0m_store_test_result\u001b[0m\u001b[0;34m(\u001b[0m\u001b[0;32mFalse\u001b[0m\u001b[0;34m)\u001b[0m\u001b[0;34m\u001b[0m\u001b[0;34m\u001b[0m\u001b[0m\n\u001b[0;32m---> 73\u001b[0;31m     \u001b[0;32mreturn\u001b[0m \u001b[0mop\u001b[0m\u001b[0;34m(\u001b[0m\u001b[0ma\u001b[0m\u001b[0;34m,\u001b[0m \u001b[0mb\u001b[0m\u001b[0;34m)\u001b[0m\u001b[0;34m\u001b[0m\u001b[0;34m\u001b[0m\u001b[0m\n\u001b[0m\u001b[1;32m     74\u001b[0m \u001b[0;34m\u001b[0m\u001b[0m\n",
            "\u001b[0;31mTypeError\u001b[0m: unsupported operand type(s) for -: 'str' and 'float'",
            "\nDuring handling of the above exception, another exception occurred:\n",
            "\u001b[0;31mTypeError\u001b[0m                                 Traceback (most recent call last)",
            "\u001b[0;32m/tmp/ipython-input-100-3838621397.py\u001b[0m in \u001b[0;36m<cell line: 0>\u001b[0;34m()\u001b[0m\n\u001b[1;32m      7\u001b[0m \u001b[0mdf_full\u001b[0m\u001b[0;34m[\u001b[0m\u001b[0;34m\"jump_dist\"\u001b[0m\u001b[0;34m]\u001b[0m \u001b[0;34m=\u001b[0m \u001b[0;34m(\u001b[0m\u001b[0mdf_full\u001b[0m\u001b[0;34m[\u001b[0m\u001b[0;34m\"lat_diff\"\u001b[0m\u001b[0;34m]\u001b[0m\u001b[0;34m**\u001b[0m\u001b[0;36m2\u001b[0m \u001b[0;34m+\u001b[0m \u001b[0mdf_full\u001b[0m\u001b[0;34m[\u001b[0m\u001b[0;34m\"lon_diff\"\u001b[0m\u001b[0;34m]\u001b[0m\u001b[0;34m**\u001b[0m\u001b[0;36m2\u001b[0m\u001b[0;34m)\u001b[0m\u001b[0;34m**\u001b[0m\u001b[0;36m0.5\u001b[0m\u001b[0;34m\u001b[0m\u001b[0;34m\u001b[0m\u001b[0m\n\u001b[1;32m      8\u001b[0m \u001b[0;34m\u001b[0m\u001b[0m\n\u001b[0;32m----> 9\u001b[0;31m \u001b[0mdf_full\u001b[0m\u001b[0;34m[\u001b[0m\u001b[0;34m\"time_diff\"\u001b[0m\u001b[0;34m]\u001b[0m \u001b[0;34m=\u001b[0m \u001b[0mdf_full\u001b[0m\u001b[0;34m.\u001b[0m\u001b[0mgroupby\u001b[0m\u001b[0;34m(\u001b[0m\u001b[0;34m\"vehicle_id\"\u001b[0m\u001b[0;34m)\u001b[0m\u001b[0;34m[\u001b[0m\u001b[0;34m\"timestamp_collected\"\u001b[0m\u001b[0;34m]\u001b[0m\u001b[0;34m.\u001b[0m\u001b[0mdiff\u001b[0m\u001b[0;34m(\u001b[0m\u001b[0;34m)\u001b[0m\u001b[0;34m.\u001b[0m\u001b[0mdt\u001b[0m\u001b[0;34m.\u001b[0m\u001b[0mtotal_seconds\u001b[0m\u001b[0;34m(\u001b[0m\u001b[0;34m)\u001b[0m\u001b[0;34m\u001b[0m\u001b[0;34m\u001b[0m\u001b[0m\n\u001b[0m\u001b[1;32m     10\u001b[0m \u001b[0;34m\u001b[0m\u001b[0m\n\u001b[1;32m     11\u001b[0m \u001b[0;31m# Label events\u001b[0m\u001b[0;34m\u001b[0m\u001b[0;34m\u001b[0m\u001b[0m\n",
            "\u001b[0;32m/usr/local/lib/python3.11/dist-packages/pandas/core/groupby/groupby.py\u001b[0m in \u001b[0;36mdiff\u001b[0;34m(self, periods, axis)\u001b[0m\n\u001b[1;32m   5341\u001b[0m                 \u001b[0mshifted\u001b[0m \u001b[0;34m=\u001b[0m \u001b[0mshifted\u001b[0m\u001b[0;34m.\u001b[0m\u001b[0mastype\u001b[0m\u001b[0;34m(\u001b[0m\u001b[0;34m{\u001b[0m\u001b[0mc\u001b[0m\u001b[0;34m:\u001b[0m \u001b[0;34m\"float32\"\u001b[0m \u001b[0;32mfor\u001b[0m \u001b[0mc\u001b[0m \u001b[0;32min\u001b[0m \u001b[0mto_coerce\u001b[0m\u001b[0;34m}\u001b[0m\u001b[0;34m)\u001b[0m\u001b[0;34m\u001b[0m\u001b[0;34m\u001b[0m\u001b[0m\n\u001b[1;32m   5342\u001b[0m \u001b[0;34m\u001b[0m\u001b[0m\n\u001b[0;32m-> 5343\u001b[0;31m         \u001b[0;32mreturn\u001b[0m \u001b[0mobj\u001b[0m \u001b[0;34m-\u001b[0m \u001b[0mshifted\u001b[0m\u001b[0;34m\u001b[0m\u001b[0;34m\u001b[0m\u001b[0m\n\u001b[0m\u001b[1;32m   5344\u001b[0m \u001b[0;34m\u001b[0m\u001b[0m\n\u001b[1;32m   5345\u001b[0m     \u001b[0;34m@\u001b[0m\u001b[0mfinal\u001b[0m\u001b[0;34m\u001b[0m\u001b[0;34m\u001b[0m\u001b[0m\n",
            "\u001b[0;32m/usr/local/lib/python3.11/dist-packages/pandas/core/ops/common.py\u001b[0m in \u001b[0;36mnew_method\u001b[0;34m(self, other)\u001b[0m\n\u001b[1;32m     74\u001b[0m         \u001b[0mother\u001b[0m \u001b[0;34m=\u001b[0m \u001b[0mitem_from_zerodim\u001b[0m\u001b[0;34m(\u001b[0m\u001b[0mother\u001b[0m\u001b[0;34m)\u001b[0m\u001b[0;34m\u001b[0m\u001b[0;34m\u001b[0m\u001b[0m\n\u001b[1;32m     75\u001b[0m \u001b[0;34m\u001b[0m\u001b[0m\n\u001b[0;32m---> 76\u001b[0;31m         \u001b[0;32mreturn\u001b[0m \u001b[0mmethod\u001b[0m\u001b[0;34m(\u001b[0m\u001b[0mself\u001b[0m\u001b[0;34m,\u001b[0m \u001b[0mother\u001b[0m\u001b[0;34m)\u001b[0m\u001b[0;34m\u001b[0m\u001b[0;34m\u001b[0m\u001b[0m\n\u001b[0m\u001b[1;32m     77\u001b[0m \u001b[0;34m\u001b[0m\u001b[0m\n\u001b[1;32m     78\u001b[0m     \u001b[0;32mreturn\u001b[0m \u001b[0mnew_method\u001b[0m\u001b[0;34m\u001b[0m\u001b[0;34m\u001b[0m\u001b[0m\n",
            "\u001b[0;32m/usr/local/lib/python3.11/dist-packages/pandas/core/arraylike.py\u001b[0m in \u001b[0;36m__sub__\u001b[0;34m(self, other)\u001b[0m\n\u001b[1;32m    192\u001b[0m     \u001b[0;34m@\u001b[0m\u001b[0munpack_zerodim_and_defer\u001b[0m\u001b[0;34m(\u001b[0m\u001b[0;34m\"__sub__\"\u001b[0m\u001b[0;34m)\u001b[0m\u001b[0;34m\u001b[0m\u001b[0;34m\u001b[0m\u001b[0m\n\u001b[1;32m    193\u001b[0m     \u001b[0;32mdef\u001b[0m \u001b[0m__sub__\u001b[0m\u001b[0;34m(\u001b[0m\u001b[0mself\u001b[0m\u001b[0;34m,\u001b[0m \u001b[0mother\u001b[0m\u001b[0;34m)\u001b[0m\u001b[0;34m:\u001b[0m\u001b[0;34m\u001b[0m\u001b[0;34m\u001b[0m\u001b[0m\n\u001b[0;32m--> 194\u001b[0;31m         \u001b[0;32mreturn\u001b[0m \u001b[0mself\u001b[0m\u001b[0;34m.\u001b[0m\u001b[0m_arith_method\u001b[0m\u001b[0;34m(\u001b[0m\u001b[0mother\u001b[0m\u001b[0;34m,\u001b[0m \u001b[0moperator\u001b[0m\u001b[0;34m.\u001b[0m\u001b[0msub\u001b[0m\u001b[0;34m)\u001b[0m\u001b[0;34m\u001b[0m\u001b[0;34m\u001b[0m\u001b[0m\n\u001b[0m\u001b[1;32m    195\u001b[0m \u001b[0;34m\u001b[0m\u001b[0m\n\u001b[1;32m    196\u001b[0m     \u001b[0;34m@\u001b[0m\u001b[0munpack_zerodim_and_defer\u001b[0m\u001b[0;34m(\u001b[0m\u001b[0;34m\"__rsub__\"\u001b[0m\u001b[0;34m)\u001b[0m\u001b[0;34m\u001b[0m\u001b[0;34m\u001b[0m\u001b[0m\n",
            "\u001b[0;32m/usr/local/lib/python3.11/dist-packages/pandas/core/series.py\u001b[0m in \u001b[0;36m_arith_method\u001b[0;34m(self, other, op)\u001b[0m\n\u001b[1;32m   6133\u001b[0m     \u001b[0;32mdef\u001b[0m \u001b[0m_arith_method\u001b[0m\u001b[0;34m(\u001b[0m\u001b[0mself\u001b[0m\u001b[0;34m,\u001b[0m \u001b[0mother\u001b[0m\u001b[0;34m,\u001b[0m \u001b[0mop\u001b[0m\u001b[0;34m)\u001b[0m\u001b[0;34m:\u001b[0m\u001b[0;34m\u001b[0m\u001b[0;34m\u001b[0m\u001b[0m\n\u001b[1;32m   6134\u001b[0m         \u001b[0mself\u001b[0m\u001b[0;34m,\u001b[0m \u001b[0mother\u001b[0m \u001b[0;34m=\u001b[0m \u001b[0mself\u001b[0m\u001b[0;34m.\u001b[0m\u001b[0m_align_for_op\u001b[0m\u001b[0;34m(\u001b[0m\u001b[0mother\u001b[0m\u001b[0;34m)\u001b[0m\u001b[0;34m\u001b[0m\u001b[0;34m\u001b[0m\u001b[0m\n\u001b[0;32m-> 6135\u001b[0;31m         \u001b[0;32mreturn\u001b[0m \u001b[0mbase\u001b[0m\u001b[0;34m.\u001b[0m\u001b[0mIndexOpsMixin\u001b[0m\u001b[0;34m.\u001b[0m\u001b[0m_arith_method\u001b[0m\u001b[0;34m(\u001b[0m\u001b[0mself\u001b[0m\u001b[0;34m,\u001b[0m \u001b[0mother\u001b[0m\u001b[0;34m,\u001b[0m \u001b[0mop\u001b[0m\u001b[0;34m)\u001b[0m\u001b[0;34m\u001b[0m\u001b[0;34m\u001b[0m\u001b[0m\n\u001b[0m\u001b[1;32m   6136\u001b[0m \u001b[0;34m\u001b[0m\u001b[0m\n\u001b[1;32m   6137\u001b[0m     \u001b[0;32mdef\u001b[0m \u001b[0m_align_for_op\u001b[0m\u001b[0;34m(\u001b[0m\u001b[0mself\u001b[0m\u001b[0;34m,\u001b[0m \u001b[0mright\u001b[0m\u001b[0;34m,\u001b[0m \u001b[0malign_asobject\u001b[0m\u001b[0;34m:\u001b[0m \u001b[0mbool\u001b[0m \u001b[0;34m=\u001b[0m \u001b[0;32mFalse\u001b[0m\u001b[0;34m)\u001b[0m\u001b[0;34m:\u001b[0m\u001b[0;34m\u001b[0m\u001b[0;34m\u001b[0m\u001b[0m\n",
            "\u001b[0;32m/usr/local/lib/python3.11/dist-packages/pandas/core/base.py\u001b[0m in \u001b[0;36m_arith_method\u001b[0;34m(self, other, op)\u001b[0m\n\u001b[1;32m   1380\u001b[0m \u001b[0;34m\u001b[0m\u001b[0m\n\u001b[1;32m   1381\u001b[0m         \u001b[0;32mwith\u001b[0m \u001b[0mnp\u001b[0m\u001b[0;34m.\u001b[0m\u001b[0merrstate\u001b[0m\u001b[0;34m(\u001b[0m\u001b[0mall\u001b[0m\u001b[0;34m=\u001b[0m\u001b[0;34m\"ignore\"\u001b[0m\u001b[0;34m)\u001b[0m\u001b[0;34m:\u001b[0m\u001b[0;34m\u001b[0m\u001b[0;34m\u001b[0m\u001b[0m\n\u001b[0;32m-> 1382\u001b[0;31m             \u001b[0mresult\u001b[0m \u001b[0;34m=\u001b[0m \u001b[0mops\u001b[0m\u001b[0;34m.\u001b[0m\u001b[0marithmetic_op\u001b[0m\u001b[0;34m(\u001b[0m\u001b[0mlvalues\u001b[0m\u001b[0;34m,\u001b[0m \u001b[0mrvalues\u001b[0m\u001b[0;34m,\u001b[0m \u001b[0mop\u001b[0m\u001b[0;34m)\u001b[0m\u001b[0;34m\u001b[0m\u001b[0;34m\u001b[0m\u001b[0m\n\u001b[0m\u001b[1;32m   1383\u001b[0m \u001b[0;34m\u001b[0m\u001b[0m\n\u001b[1;32m   1384\u001b[0m         \u001b[0;32mreturn\u001b[0m \u001b[0mself\u001b[0m\u001b[0;34m.\u001b[0m\u001b[0m_construct_result\u001b[0m\u001b[0;34m(\u001b[0m\u001b[0mresult\u001b[0m\u001b[0;34m,\u001b[0m \u001b[0mname\u001b[0m\u001b[0;34m=\u001b[0m\u001b[0mres_name\u001b[0m\u001b[0;34m)\u001b[0m\u001b[0;34m\u001b[0m\u001b[0;34m\u001b[0m\u001b[0m\n",
            "\u001b[0;32m/usr/local/lib/python3.11/dist-packages/pandas/core/ops/array_ops.py\u001b[0m in \u001b[0;36marithmetic_op\u001b[0;34m(left, right, op)\u001b[0m\n\u001b[1;32m    281\u001b[0m         \u001b[0;31m# error: Argument 1 to \"_na_arithmetic_op\" has incompatible type\u001b[0m\u001b[0;34m\u001b[0m\u001b[0;34m\u001b[0m\u001b[0m\n\u001b[1;32m    282\u001b[0m         \u001b[0;31m# \"Union[ExtensionArray, ndarray[Any, Any]]\"; expected \"ndarray[Any, Any]\"\u001b[0m\u001b[0;34m\u001b[0m\u001b[0;34m\u001b[0m\u001b[0m\n\u001b[0;32m--> 283\u001b[0;31m         \u001b[0mres_values\u001b[0m \u001b[0;34m=\u001b[0m \u001b[0m_na_arithmetic_op\u001b[0m\u001b[0;34m(\u001b[0m\u001b[0mleft\u001b[0m\u001b[0;34m,\u001b[0m \u001b[0mright\u001b[0m\u001b[0;34m,\u001b[0m \u001b[0mop\u001b[0m\u001b[0;34m)\u001b[0m  \u001b[0;31m# type: ignore[arg-type]\u001b[0m\u001b[0;34m\u001b[0m\u001b[0;34m\u001b[0m\u001b[0m\n\u001b[0m\u001b[1;32m    284\u001b[0m \u001b[0;34m\u001b[0m\u001b[0m\n\u001b[1;32m    285\u001b[0m     \u001b[0;32mreturn\u001b[0m \u001b[0mres_values\u001b[0m\u001b[0;34m\u001b[0m\u001b[0;34m\u001b[0m\u001b[0m\n",
            "\u001b[0;32m/usr/local/lib/python3.11/dist-packages/pandas/core/ops/array_ops.py\u001b[0m in \u001b[0;36m_na_arithmetic_op\u001b[0;34m(left, right, op, is_cmp)\u001b[0m\n\u001b[1;32m    225\u001b[0m             \u001b[0;31m# Don't do this for comparisons, as that will handle complex numbers\u001b[0m\u001b[0;34m\u001b[0m\u001b[0;34m\u001b[0m\u001b[0m\n\u001b[1;32m    226\u001b[0m             \u001b[0;31m#  incorrectly, see GH#32047\u001b[0m\u001b[0;34m\u001b[0m\u001b[0;34m\u001b[0m\u001b[0m\n\u001b[0;32m--> 227\u001b[0;31m             \u001b[0mresult\u001b[0m \u001b[0;34m=\u001b[0m \u001b[0m_masked_arith_op\u001b[0m\u001b[0;34m(\u001b[0m\u001b[0mleft\u001b[0m\u001b[0;34m,\u001b[0m \u001b[0mright\u001b[0m\u001b[0;34m,\u001b[0m \u001b[0mop\u001b[0m\u001b[0;34m)\u001b[0m\u001b[0;34m\u001b[0m\u001b[0;34m\u001b[0m\u001b[0m\n\u001b[0m\u001b[1;32m    228\u001b[0m         \u001b[0;32melse\u001b[0m\u001b[0;34m:\u001b[0m\u001b[0;34m\u001b[0m\u001b[0;34m\u001b[0m\u001b[0m\n\u001b[1;32m    229\u001b[0m             \u001b[0;32mraise\u001b[0m\u001b[0;34m\u001b[0m\u001b[0;34m\u001b[0m\u001b[0m\n",
            "\u001b[0;32m/usr/local/lib/python3.11/dist-packages/pandas/core/ops/array_ops.py\u001b[0m in \u001b[0;36m_masked_arith_op\u001b[0;34m(x, y, op)\u001b[0m\n\u001b[1;32m    161\u001b[0m         \u001b[0;31m# See GH#5284, GH#5035, GH#19448 for historical reference\u001b[0m\u001b[0;34m\u001b[0m\u001b[0;34m\u001b[0m\u001b[0m\n\u001b[1;32m    162\u001b[0m         \u001b[0;32mif\u001b[0m \u001b[0mmask\u001b[0m\u001b[0;34m.\u001b[0m\u001b[0many\u001b[0m\u001b[0;34m(\u001b[0m\u001b[0;34m)\u001b[0m\u001b[0;34m:\u001b[0m\u001b[0;34m\u001b[0m\u001b[0;34m\u001b[0m\u001b[0m\n\u001b[0;32m--> 163\u001b[0;31m             \u001b[0mresult\u001b[0m\u001b[0;34m[\u001b[0m\u001b[0mmask\u001b[0m\u001b[0;34m]\u001b[0m \u001b[0;34m=\u001b[0m \u001b[0mop\u001b[0m\u001b[0;34m(\u001b[0m\u001b[0mxrav\u001b[0m\u001b[0;34m[\u001b[0m\u001b[0mmask\u001b[0m\u001b[0;34m]\u001b[0m\u001b[0;34m,\u001b[0m \u001b[0myrav\u001b[0m\u001b[0;34m[\u001b[0m\u001b[0mmask\u001b[0m\u001b[0;34m]\u001b[0m\u001b[0;34m)\u001b[0m\u001b[0;34m\u001b[0m\u001b[0;34m\u001b[0m\u001b[0m\n\u001b[0m\u001b[1;32m    164\u001b[0m \u001b[0;34m\u001b[0m\u001b[0m\n\u001b[1;32m    165\u001b[0m     \u001b[0;32melse\u001b[0m\u001b[0;34m:\u001b[0m\u001b[0;34m\u001b[0m\u001b[0;34m\u001b[0m\u001b[0m\n",
            "\u001b[0;31mTypeError\u001b[0m: unsupported operand type(s) for -: 'str' and 'str'"
          ]
        }
      ]
    },
    {
      "cell_type": "code",
      "source": [
        "# ---------------------\n",
        "# Threshold parameters\n",
        "# ---------------------\n",
        "\n",
        "# Distance (in degrees) that counts as a GPS \"jump\" (this is greater than the average stop distance)\n",
        "JUMP_DISTANCE_THRESHOLD = 0.005  # ≈ 500 meters\n",
        "\n",
        "# Time gap (in seconds) that counts as a disappearance\n",
        "DISAPPEARANCE_TIME_THRESHOLD = 300  # 5 minutes\n",
        "\n",
        "# Only show vehicles with at least this many jumps\n",
        "MIN_JUMP_COUNT_PER_VEHICLE = 1\n",
        "\n",
        "# Number of vehicles to sample for map clarity\n",
        "NUM_VEHICLES_TO_SAMPLE = 200\n"
      ],
      "metadata": {
        "id": "o27D-DsbUwuw"
      },
      "execution_count": null,
      "outputs": []
    },
    {
      "cell_type": "code",
      "source": [
        "#Step 1: Ensure latitude and longitude are floats\n",
        "df_valid[\"latitude\"] = pd.to_numeric(df_valid[\"latitude\"], errors=\"coerce\")\n",
        "df_valid[\"longitude\"] = pd.to_numeric(df_valid[\"longitude\"], errors=\"coerce\")\n",
        "\n",
        "#Step 2: Ensure timestamp_collected is datetime\n",
        "df_valid[\"timestamp_collected\"] = pd.to_datetime(df_valid[\"timestamp_collected\"], errors=\"coerce\", utc=True)\n"
      ],
      "metadata": {
        "id": "AAU6MySkUamy"
      },
      "execution_count": null,
      "outputs": []
    },
    {
      "cell_type": "code",
      "source": [
        "# Use the full cleaned dataframe\n",
        "df_full = df_valid.copy()\n",
        "\n",
        "# Compute diffs for position and time\n",
        "df_full[\"lat_diff\"] = df_full.groupby(\"vehicle_id\")[\"latitude\"].diff()\n",
        "df_full[\"lon_diff\"] = df_full.groupby(\"vehicle_id\")[\"longitude\"].diff()\n",
        "df_full[\"jump_dist\"] = (df_full[\"lat_diff\"]**2 + df_full[\"lon_diff\"]**2)**0.5\n",
        "\n",
        "df_full[\"time_diff\"] = df_full.groupby(\"vehicle_id\")[\"timestamp_collected\"].diff().dt.total_seconds()\n",
        "\n",
        "# Label events\n",
        "df_full[\"is_jump\"] = df_full[\"jump_dist\"] > JUMP_DISTANCE_THRESHOLD\n",
        "df_full[\"is_disappearance\"] = df_full[\"time_diff\"] > DISAPPEARANCE_TIME_THRESHOLD\n",
        "\n",
        "# Enrich jump rows with previous position\n",
        "jumps_df = df_full[df_full[\"is_jump\"]].copy()\n",
        "jumps_df[\"lat_prev\"] = df_full.groupby(\"vehicle_id\")[\"latitude\"].shift()\n",
        "jumps_df[\"lon_prev\"] = df_full.groupby(\"vehicle_id\")[\"longitude\"].shift()\n",
        "jumps_df[\"timestamp_prev\"] = df_full.groupby(\"vehicle_id\")[\"timestamp_collected\"].shift()\n",
        "jumps_df[\"timestamp_curr\"] = jumps_df[\"timestamp_collected\"]\n",
        "\n",
        "# Filter for vehicles with sufficient jumps\n",
        "jump_counts = jumps_df[\"vehicle_id\"].value_counts()\n",
        "keep_jumpers = jump_counts[jump_counts >= MIN_JUMP_COUNT_PER_VEHICLE].index\n",
        "jumps_df = jumps_df[jumps_df[\"vehicle_id\"].isin(keep_jumpers)]\n",
        "\n",
        "# Recalculate filtered set for map display\n",
        "df_jumpers_only = df_full[df_full[\"vehicle_id\"].isin(keep_jumpers)].copy()\n",
        "\n",
        "# Identify disappearance and reappearance points\n",
        "disappear_df = df_jumpers_only[df_jumpers_only[\"is_disappearance\"]].copy()\n",
        "# Shift the is_disappearance column and fill any resulting NaNs with False\n",
        "is_reappear = df_jumpers_only[\"is_disappearance\"].shift(-1).fillna(False)\n",
        "reappear_df = df_jumpers_only[is_reappear].copy()\n"
      ],
      "metadata": {
        "colab": {
          "base_uri": "https://localhost:8080/"
        },
        "id": "2befHEepUgBs",
        "outputId": "2a243b7a-6512-468f-e454-fe195647c611"
      },
      "execution_count": null,
      "outputs": [
        {
          "output_type": "stream",
          "name": "stderr",
          "text": [
            "/tmp/ipython-input-106-981637515.py:33: FutureWarning: Downcasting object dtype arrays on .fillna, .ffill, .bfill is deprecated and will change in a future version. Call result.infer_objects(copy=False) instead. To opt-in to the future behavior, set `pd.set_option('future.no_silent_downcasting', True)`\n",
            "  is_reappear = df_jumpers_only[\"is_disappearance\"].shift(-1).fillna(False)\n"
          ]
        }
      ]
    },
    {
      "cell_type": "code",
      "source": [
        "from folium import Map, FeatureGroup, CircleMarker, PolyLine, Marker, Icon, LayerControl\n",
        "import folium\n",
        "from matplotlib import colors as mcolors\n",
        "import matplotlib.pyplot as plt\n",
        "\n",
        "# --- Create map centered on Albuquerque ---\n",
        "mymap = Map(location=[35.0844, -106.6504], zoom_start=12)\n",
        "\n",
        "# --- Set up color map for route filtering ---\n",
        "route_names = sorted(df_anomalies_full['route_short_name'].dropna().unique())\n",
        "cmap = plt.get_cmap(\"tab20\", len(route_names))\n",
        "color_map = {route: mcolors.to_hex(cmap(i)) for i, route in enumerate(route_names)}\n",
        "\n",
        "# --- Add Jump Lines ---\n",
        "jump_line_group = FeatureGroup(name=\"Jump Lines\", show=False)\n",
        "for _, row in jumps_df.iterrows():\n",
        "    start = [row[\"lat_prev\"], row[\"lon_prev\"]]\n",
        "    end = [row[\"latitude\"], row[\"longitude\"]]\n",
        "    vehicle = row.get(\"vehicle_id\", \"N/A\")\n",
        "    PolyLine(\n",
        "        locations=[start, end],\n",
        "        color=\"orange\", weight=2,\n",
        "        tooltip=f\"Vehicle {vehicle} jump\"\n",
        "    ).add_to(jump_line_group)\n",
        "jump_line_group.add_to(mymap)\n",
        "\n",
        "# --- Add Jump Points ---\n",
        "jump_points_group = FeatureGroup(name=\"Jump Start/End Points\", show=False)\n",
        "for _, row in jumps_df.iterrows():\n",
        "    start = [row[\"lat_prev\"], row[\"lon_prev\"]]\n",
        "    end = [row[\"latitude\"], row[\"longitude\"]]\n",
        "    vehicle = row.get(\"vehicle_id\", \"N/A\")\n",
        "    time_prev = row.get(\"timestamp_prev\", \"N/A\")\n",
        "    time_curr = row.get(\"timestamp_curr\", \"N/A\")\n",
        "\n",
        "    CircleMarker(\n",
        "        location=start, radius=4, color=\"blue\",\n",
        "        fill=True, fill_opacity=0.9,\n",
        "        popup=f\"Vehicle {vehicle} START<br>{time_prev}\"\n",
        "    ).add_to(jump_points_group)\n",
        "\n",
        "    CircleMarker(\n",
        "        location=end, radius=4, color=\"purple\",\n",
        "        fill=True, fill_opacity=0.9,\n",
        "        popup=f\"Vehicle {vehicle} END<br>{time_curr}\"\n",
        "    ).add_to(jump_points_group)\n",
        "jump_points_group.add_to(mymap)\n",
        "\n",
        "# --- Add Disappearances ---\n",
        "disappear_group = FeatureGroup(name=\"Disappearances\", show=False)\n",
        "for _, row in disappear_df.iterrows():\n",
        "    Marker(\n",
        "        location=[row[\"latitude\"], row[\"longitude\"]],\n",
        "        icon=Icon(color=\"red\", icon=\"times-circle\", prefix=\"fa\"),\n",
        "        tooltip=f\"Vehicle {row.get('vehicle_id')} disappeared<br>{row.get('timestamp_collected')}\"\n",
        "    ).add_to(disappear_group)\n",
        "disappear_group.add_to(mymap)\n",
        "\n",
        "# --- Add Reappearances ---\n",
        "reappear_group = FeatureGroup(name=\"Reappearances\", show=False)\n",
        "for _, row in reappear_df.iterrows():\n",
        "    Marker(\n",
        "        location=[row[\"latitude\"], row[\"longitude\"]],\n",
        "        icon=Icon(color=\"green\", icon=\"check-circle\", prefix=\"fa\"),\n",
        "        tooltip=f\"Vehicle {row.get('vehicle_id')} reappeared<br>{row.get('timestamp_collected')}\"\n",
        "    ).add_to(reappear_group)\n",
        "reappear_group.add_to(mymap)\n",
        "\n",
        "# --- Add Route Shapes from GTFS ---\n",
        "route_shapes_group = FeatureGroup(name=\"Route Shapes\", show=False)\n",
        "for shape_id, shape_data in shapes_df.groupby(\"shape_id\"):\n",
        "    shape_data = shape_data.sort_values(\"shape_pt_sequence\")\n",
        "    latlons = list(zip(shape_data[\"shape_pt_lat\"], shape_data[\"shape_pt_lon\"]))\n",
        "    PolyLine(\n",
        "        locations=latlons,\n",
        "        color=\"gray\",\n",
        "        weight=2,\n",
        "        opacity=0.6,\n",
        "        popup=f\"Shape ID: {shape_id}\"\n",
        "    ).add_to(route_shapes_group)\n",
        "route_shapes_group.add_to(mymap)\n",
        "\n",
        "# --- Add Layer Controls ---\n",
        "LayerControl(collapsed=False).add_to(mymap)\n",
        "\n",
        "# --- Display Map ---\n",
        "mymap\n"
      ],
      "metadata": {
        "id": "zvg0Bi5wRhF7"
      },
      "execution_count": null,
      "outputs": []
    },
    {
      "cell_type": "code",
      "source": [
        "from folium import Map, FeatureGroup, CircleMarker, PolyLine, Marker, Icon, LayerControl\n",
        "from matplotlib import colors as mcolors\n",
        "import matplotlib.pyplot as plt\n",
        "import folium\n",
        "\n",
        "# --- Initialize map centered on Albuquerque ---\n",
        "mymap = Map(location=[35.0844, -106.6504], zoom_start=12)\n",
        "\n",
        "# --- Generate distinct route colors ---\n",
        "route_names = sorted(df_anomalies_full['route_short_name'].dropna().unique())\n",
        "cmap = plt.get_cmap(\"tab20\", len(route_names))\n",
        "color_map = {route: mcolors.to_hex(cmap(i)) for i, route in enumerate(route_names)}\n",
        "\n",
        "# --- Add per-route per-anomaly-type FeatureGroups ---\n",
        "for (route, anomaly), subset in df_anomalies_full.groupby([\"route_short_name\", \"anomaly_type\"]):\n",
        "    group_name = f\"[Route {route}] {anomaly}\"\n",
        "    group = FeatureGroup(name=group_name, show=False)\n",
        "\n",
        "    for _, row in subset.iterrows():\n",
        "        popup_text = (\n",
        "            f\"Anomaly: {anomaly}<br>\"\n",
        "            f\"Route: {route}<br>\"\n",
        "            f\"Vehicle: {row.get('vehicle_id', 'N/A')}<br>\"\n",
        "            f\"Timestamp: {row.get('timestamp', 'N/A')}\"\n",
        "        )\n",
        "        CircleMarker(\n",
        "            location=[row[\"latitude\"], row[\"longitude\"]],\n",
        "            radius=4,\n",
        "            color=color_map.get(route, \"black\"),\n",
        "            fill=True,\n",
        "            fill_opacity=0.9,\n",
        "            popup=popup_text\n",
        "        ).add_to(group)\n",
        "\n",
        "    group.add_to(mymap)\n",
        "\n",
        "# --- Jump Line Group ---\n",
        "if 'jumps_df' in globals():\n",
        "    jump_line_group = FeatureGroup(name=\"Jump Lines\", show=False)\n",
        "    jump_points_group = FeatureGroup(name=\"Jump Start/End Points\", show=False)\n",
        "\n",
        "    for _, row in jumps_df.iterrows():\n",
        "        start = [row[\"lat_prev\"], row[\"lon_prev\"]]\n",
        "        end = [row[\"latitude\"], row[\"longitude\"]]\n",
        "        vehicle = row.get(\"vehicle_id\", \"N/A\")\n",
        "        time_prev = row.get(\"timestamp_prev\", \"N/A\")\n",
        "        time_curr = row.get(\"timestamp_curr\", \"N/A\")\n",
        "\n",
        "        PolyLine(\n",
        "            locations=[start, end],\n",
        "            color=\"orange\", weight=2,\n",
        "            tooltip=f\"Vehicle {vehicle} jump\"\n",
        "        ).add_to(jump_line_group)\n",
        "\n",
        "        CircleMarker(\n",
        "            location=start,\n",
        "            radius=4, color=\"blue\", fill=True, fill_opacity=0.9,\n",
        "            popup=f\"Vehicle {vehicle} START<br>{time_prev}\"\n",
        "        ).add_to(jump_points_group)\n",
        "\n",
        "        CircleMarker(\n",
        "            location=end,\n",
        "            radius=4, color=\"purple\", fill=True, fill_opacity=0.9,\n",
        "            popup=f\"Vehicle {vehicle} END<br>{time_curr}\"\n",
        "        ).add_to(jump_points_group)\n",
        "\n",
        "    jump_line_group.add_to(mymap)\n",
        "    jump_points_group.add_to(mymap)\n",
        "\n",
        "# --- Disappearances ---\n",
        "if 'disappear_df' in globals():\n",
        "    disappear_group = FeatureGroup(name=\"Disappearances\", show=False)\n",
        "    for _, row in disappear_df.iterrows():\n",
        "        Marker(\n",
        "            location=[row[\"latitude\"], row[\"longitude\"]],\n",
        "            icon=Icon(color=\"red\", icon=\"times-circle\", prefix=\"fa\"),\n",
        "            tooltip=f\"Vehicle {row.get('vehicle_id')} disappeared<br>{row.get('timestamp')}\"\n",
        "        ).add_to(disappear_group)\n",
        "    disappear_group.add_to(mymap)\n",
        "\n",
        "# --- Reappearances ---\n",
        "if 'reappear_df' in globals():\n",
        "    reappear_group = FeatureGroup(name=\"Reappearances\", show=False)\n",
        "    for _, row in reappear_df.iterrows():\n",
        "        Marker(\n",
        "            location=[row[\"latitude\"], row[\"longitude\"]],\n",
        "            icon=Icon(color=\"green\", icon=\"check-circle\", prefix=\"fa\"),\n",
        "            tooltip=f\"Vehicle {row.get('vehicle_id')} reappeared<br>{row.get('timestamp')}\"\n",
        "        ).add_to(reappear_group)\n",
        "    reappear_group.add_to(mymap)\n",
        "\n",
        "# --- Route shapes ---\n",
        "if 'shapes_df' in globals():\n",
        "    route_shapes_group = FeatureGroup(name=\"Route Shapes\", show=False)\n",
        "    for shape_id, shape_data in shapes_df.groupby(\"shape_id\"):\n",
        "        shape_data = shape_data.sort_values(\"shape_pt_sequence\")\n",
        "        latlons = list(zip(shape_data[\"shape_pt_lat\"], shape_data[\"shape_pt_lon\"]))\n",
        "        PolyLine(\n",
        "            locations=latlons,\n",
        "            color=\"gray\",\n",
        "            weight=2,\n",
        "            opacity=0.6,\n",
        "            popup=f\"Shape ID: {shape_id}\"\n",
        "        ).add_to(route_shapes_group)\n",
        "    route_shapes_group.add_to(mymap)\n",
        "\n",
        "# --- Final Layer Control ---\n",
        "LayerControl(collapsed=False).add_to(mymap)\n",
        "\n",
        "# Display map\n",
        "mymap\n"
      ],
      "metadata": {
        "id": "M5mGf_xkS9rG"
      },
      "execution_count": null,
      "outputs": []
    },
    {
      "cell_type": "code",
      "source": [
        "#Here is the full code to patch route_short_name into shapes_df, allowing each shape to be associated with its route for proper filtering in Folium:\n",
        "# Step 1: Extract shape_id to route_id mapping from trips_df\n",
        "shape_to_route = trips_df[[\"shape_id\", \"route_id\"]].drop_duplicates()\n",
        "\n",
        "# Step 2: Map route_id to route_short_name from routes_df\n",
        "route_id_to_name = routes_df[[\"route_id\", \"route_short_name\"]]\n",
        "\n",
        "# Step 3: Merge to associate shape_id with route_short_name\n",
        "shape_route_map = shape_to_route.merge(route_id_to_name, on=\"route_id\", how=\"left\")\n",
        "\n",
        "# Step 4: Merge back into shapes_df to add route_short_name column\n",
        "shapes_df = shapes_df.merge(shape_route_map, on=\"shape_id\", how=\"left\")\n",
        "\n",
        "# Step 5: Confirm result\n",
        "print(\"Sample of shapes_df with route_short_name:\")\n",
        "print(shapes_df[[\"shape_id\", \"route_id\", \"route_short_name\"]].drop_duplicates().head())\n",
        "\n",
        "#This ensures that each shape_id in your GTFS shapes.txt data now carries the corresponding route_short_name.\n",
        "#We can now group route shapes per route like this:\n",
        "#for route_name, group in shapes_df.groupby(\"route_short_name\"): ...\n",
        "\n"
      ],
      "metadata": {
        "colab": {
          "base_uri": "https://localhost:8080/"
        },
        "id": "gDUGM5chVxrH",
        "outputId": "2843eb71-31fb-4790-9471-b47dd8e0d14e"
      },
      "execution_count": null,
      "outputs": [
        {
          "output_type": "stream",
          "name": "stdout",
          "text": [
            "Sample of shapes_df with route_short_name:\n",
            "     shape_id  route_id  route_short_name\n",
            "0       17128      4300                 1\n",
            "251     17129      4300                 1\n",
            "441     17130      4301                10\n",
            "608     17131      4301                10\n",
            "685     17132      4301                10\n"
          ]
        }
      ]
    },
    {
      "cell_type": "code",
      "source": [
        "from folium import Map, FeatureGroup, CircleMarker, PolyLine, Marker, Icon, LayerControl\n",
        "from matplotlib import colors as mcolors\n",
        "import matplotlib.pyplot as plt\n",
        "import folium\n",
        "\n",
        "# --- Create base map ---\n",
        "mymap = Map(location=[35.0844, -106.6504], zoom_start=12)\n",
        "\n",
        "# --- Define color map for route-based layers ---\n",
        "route_names = sorted(df_anomalies_full['route_short_name'].dropna().unique())\n",
        "cmap = plt.get_cmap(\"tab20\", len(route_names))\n",
        "color_map = {route: mcolors.to_hex(cmap(i)) for i, route in enumerate(route_names)}\n",
        "\n",
        "# --- Add anomaly points by (route, anomaly_type) ---\n",
        "for (route, anomaly), subset in df_anomalies_full.groupby([\"route_short_name\", \"anomaly_type\"]):\n",
        "    group = FeatureGroup(name=f\"{route} – {anomaly}\", show=False)\n",
        "    for _, row in subset.iterrows():\n",
        "        popup_text = (\n",
        "            f\"Anomaly: {anomaly}<br>\"\n",
        "            f\"Route: {route}<br>\"\n",
        "            f\"Vehicle: {row.get('vehicle_id', 'N/A')}<br>\"\n",
        "            f\"Timestamp: {row.get('timestamp', 'N/A')}\"\n",
        "        )\n",
        "        CircleMarker(\n",
        "            location=[row[\"latitude\"], row[\"longitude\"]],\n",
        "            radius=4,\n",
        "            color=color_map.get(route, \"black\"),\n",
        "            fill=True,\n",
        "            fill_opacity=0.9,\n",
        "            popup=popup_text\n",
        "        ).add_to(group)\n",
        "    group.add_to(mymap)\n",
        "\n",
        "# --- Add jump markers and lines by route ---\n",
        "if 'jumps_df' in globals() and not jumps_df.empty:\n",
        "    for route, group_df in jumps_df.groupby(\"route_short_name\"):\n",
        "        jump_line_group = FeatureGroup(name=f\"{route} – Jump Lines\", show=False)\n",
        "        jump_point_group = FeatureGroup(name=f\"{route} – Jump Start/End\", show=False)\n",
        "\n",
        "        for _, row in group_df.iterrows():\n",
        "            start = [row[\"lat_prev\"], row[\"lon_prev\"]]\n",
        "            end = [row[\"latitude\"], row[\"longitude\"]]\n",
        "            vehicle = row.get(\"vehicle_id\", \"N/A\")\n",
        "            t_prev = row.get(\"timestamp_prev\", \"N/A\")\n",
        "            t_curr = row.get(\"timestamp_curr\", \"N/A\")\n",
        "\n",
        "            PolyLine(\n",
        "                locations=[start, end],\n",
        "                color=\"orange\", weight=2,\n",
        "                tooltip=f\"Vehicle {vehicle} jump\"\n",
        "            ).add_to(jump_line_group)\n",
        "\n",
        "            CircleMarker(\n",
        "                location=start, radius=4, color=\"blue\", fill=True,\n",
        "                fill_opacity=0.9,\n",
        "                popup=f\"Vehicle {vehicle} START<br>{t_prev}\"\n",
        "            ).add_to(jump_point_group)\n",
        "\n",
        "            CircleMarker(\n",
        "                location=end, radius=4, color=\"purple\", fill=True,\n",
        "                fill_opacity=0.9,\n",
        "                popup=f\"Vehicle {vehicle} END<br>{t_curr}\"\n",
        "            ).add_to(jump_point_group)\n",
        "\n",
        "        jump_line_group.add_to(mymap)\n",
        "        jump_point_group.add_to(mymap)\n",
        "\n",
        "# --- Add disappearances and reappearances by route ---\n",
        "if 'disappear_df' in globals() and not disappear_df.empty:\n",
        "    for route, group_df in disappear_df.groupby(\"route_short_name\"):\n",
        "        disappear_group = FeatureGroup(name=f\"{route} – Disappearances\", show=False)\n",
        "        for _, row in group_df.iterrows():\n",
        "            Marker(\n",
        "                location=[row[\"latitude\"], row[\"longitude\"]],\n",
        "                icon=Icon(color=\"red\", icon=\"times-circle\", prefix=\"fa\"),\n",
        "                tooltip=f\"Vehicle {row.get('vehicle_id')} disappeared<br>{row.get('timestamp')}\"\n",
        "            ).add_to(disappear_group)\n",
        "        disappear_group.add_to(mymap)\n",
        "\n",
        "if 'reappear_df' in globals() and not reappear_df.empty:\n",
        "    for route, group_df in reappear_df.groupby(\"route_short_name\"):\n",
        "        reappear_group = FeatureGroup(name=f\"{route} – Reappearances\", show=False)\n",
        "        for _, row in group_df.iterrows():\n",
        "            Marker(\n",
        "                location=[row[\"latitude\"], row[\"longitude\"]],\n",
        "                icon=Icon(color=\"green\", icon=\"check-circle\", prefix=\"fa\"),\n",
        "                tooltip=f\"Vehicle {row.get('vehicle_id')} reappeared<br>{row.get('timestamp')}\"\n",
        "            ).add_to(reappear_group)\n",
        "        reappear_group.add_to(mymap)\n",
        "\n",
        "# --- Add route shapes as toggleable layers by route ---\n",
        "if 'shapes_df' in globals() and not shapes_df.empty:\n",
        "    for route, shape_group in shapes_df.groupby(\"route_short_name\"):\n",
        "        route_group = FeatureGroup(name=f\"{route} – Route Shape\", show=False)\n",
        "        for shape_id, shape_data in shape_group.groupby(\"shape_id\"):\n",
        "            shape_data = shape_data.sort_values(\"shape_pt_sequence\")\n",
        "            latlons = list(zip(shape_data[\"shape_pt_lat\"], shape_data[\"shape_pt_lon\"]))\n",
        "            PolyLine(\n",
        "                locations=latlons,\n",
        "                color=color_map.get(route, \"gray\"),\n",
        "                weight=2,\n",
        "                opacity=0.6,\n",
        "                popup=f\"Route {route} | Shape {shape_id}\"\n",
        "            ).add_to(route_group)\n",
        "        route_group.add_to(mymap)\n",
        "\n",
        "# --- Add layer controls ---\n",
        "LayerControl(collapsed=False).add_to(mymap)\n",
        "\n",
        "# --- Display map ---\n",
        "mymap\n"
      ],
      "metadata": {
        "id": "B7zHH7uuW7R8"
      },
      "execution_count": null,
      "outputs": []
    },
    {
      "cell_type": "markdown",
      "source": [
        "This final version supports:\n",
        "* Route-level filters for every anomaly type.\n",
        "\n",
        "* Jump lines and points as separate layers per route.\n",
        "\n",
        "* Disappearances and reappearances per route.\n",
        "\n",
        "* Route shapes grouped by route with matching colors.\n",
        "\n",
        "We could also collapse these into route-level folders (using folium.plugins.GroupedLayerControl) or export to standalone HTML."
      ],
      "metadata": {
        "id": "LKujJ1s9XRBZ"
      }
    },
    {
      "cell_type": "code",
      "source": [],
      "metadata": {
        "id": "KoegJyzuXYMq"
      },
      "execution_count": null,
      "outputs": []
    }
  ],
  "metadata": {
    "colab": {
      "provenance": [],
      "authorship_tag": "ABX9TyNL/sh55vwG52loySsJR+8O",
      "include_colab_link": true
    },
    "kernelspec": {
      "display_name": "Python 3",
      "name": "python3"
    },
    "language_info": {
      "name": "python"
    }
  },
  "nbformat": 4,
  "nbformat_minor": 0
}