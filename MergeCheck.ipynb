{
  "nbformat": 4,
  "nbformat_minor": 0,
  "metadata": {
    "colab": {
      "provenance": [],
      "authorship_tag": "ABX9TyMbtl8iCKTYJ+Qs9Too1uKT",
      "include_colab_link": true
    },
    "kernelspec": {
      "name": "python3",
      "display_name": "Python 3"
    },
    "language_info": {
      "name": "python"
    }
  },
  "cells": [
    {
      "cell_type": "markdown",
      "metadata": {
        "id": "view-in-github",
        "colab_type": "text"
      },
      "source": [
        "<a href=\"https://colab.research.google.com/github/DDDS18-GTFS/ddds.18.capstone/blob/main/MergeCheck.ipynb\" target=\"_parent\"><img src=\"https://colab.research.google.com/assets/colab-badge.svg\" alt=\"Open In Colab\"/></a>"
      ]
    },
    {
      "cell_type": "code",
      "execution_count": null,
      "metadata": {
        "id": "8U3sCIEN0DGm"
      },
      "outputs": [],
      "source": [
        "def mcheck(left,right,overlap):\n",
        "  '''\n",
        "  Display descriptive statistics for each two dataframes as well as their possible inner and outer merges.\n",
        "  Display values from the join column as either showing up in the inner join, only showing up in the left\n",
        "  dataframe, or only showing up in the right dataframe.\n",
        "  '''\n",
        "  outest = left.merge(right, on=overlap, how=\"outer\")\n",
        "  intest = left.merge(right, on=overlap, how=\"inner\")\n",
        "  leftest = left.merge(right, on=overlap, how=\"left\")\n",
        "  rightest = left.merge(right, on=overlap, how=\"right\")\n",
        "\n",
        "  join_dict = {'outer merge':outest,'inner merge':intest,'left merge':leftest,'right merge':rightest,'left':left,'right':right}\n",
        "\n",
        "  for x,y in join_dict.items():\n",
        "    print(f\"------------------------------------{x} value counts-----------------------------------------\")\n",
        "    print(y[overlap].value_counts())\n",
        "    print(\"\\n\")\n",
        "\n",
        "  for x,y in join_dict.items():\n",
        "    print(f\"------------------------------------{x} describe-----------------------------------------\")\n",
        "    print(y.describe())\n",
        "    print(\"\\n\")\n",
        "\n",
        "  for x,y in join_dict.items():\n",
        "    print(f\"------------------------------------{x} info-----------------------------------------\")\n",
        "    print(y.info(verbose = True))\n",
        "    print(\"\\n\")\n",
        "\n",
        "  if type(intest[overlap]) == type(pd.Series()):\n",
        "    print(\"key values in inner join:\\n\")\n",
        "    shared = intest[overlap].unique()\n",
        "    print(shared)\n",
        "    print(\"\\n\")\n",
        "\n",
        "    print(\"left key values NOT in inner join:\\n\")\n",
        "    lunshared = left[overlap][~left[overlap].isin(shared)]\n",
        "    print(lunshared)\n",
        "    print(\"\\n\")\n",
        "\n",
        "    print(\"right key values NOT in inner join:\\n\")\n",
        "    runshared = right[overlap][~right[overlap].isin(shared)]\n",
        "    print(runshared)"
      ]
    }
  ]
}